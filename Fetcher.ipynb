{
 "cells": [
  {
   "cell_type": "code",
   "execution_count": 2,
   "metadata": {
    "collapsed": false
   },
   "outputs": [
    {
     "data": {
      "text/html": [
       "\n",
       "        <button type=\"button\" id=\"fetchButton116\">Fetch your notebooks</button>\n",
       "        <pre id=\"fetchMessages116\"></pre>\n",
       "        <script>\n",
       "        $('#fetchButton116').on('click', function() {\n",
       "            var $log = $('#fetchMessages116');\n",
       "            $log.empty();\n",
       "            $log.append('Login to fetch your notebooks<br>');\n",
       "            $.ajax({\n",
       "                url: 'https://wwwx.cs.unc.edu/Courses/comp116-001-f16/' + 'io/token/token.cgi',\n",
       "                dataType: 'jsonp'\n",
       "            }).done(function(data) {\n",
       "                $log.empty().append('Fetching notebooks for ' + data.userid + '<br>');\n",
       "                var notebook = IPython.notebook.notebook_name,\n",
       "                    uuid = data.token,\n",
       "                    command = \"import comp116; comp116.fetch2('\" + uuid + \"')\",\n",
       "                    kernel = IPython.notebook.kernel,\n",
       "                    handler = function (out) {\n",
       "                        if (out.msg_type == 'stream') {\n",
       "                            $log.append(out.content.text);\n",
       "                        } else if(out.msg_type == \"error\") {\n",
       "                            $log.append(out.content.ename + \": \" + out.content.evalue);\n",
       "                        } else { // if output is something we haven't thought of\n",
       "                            $log.append(\"[out type not implemented]\")\n",
       "                        }\n",
       "                    };\n",
       "                kernel.execute(command, { 'iopub' : {'output' : handler}}, {silent:false});\n",
       "            }).fail(function() {\n",
       "                $log.append('Login failed');\n",
       "            });\n",
       "        });\n",
       "        </script>\n",
       "    "
      ],
      "text/plain": [
       "<IPython.core.display.HTML object>"
      ]
     },
     "execution_count": 2,
     "metadata": {},
     "output_type": "execute_result"
    }
   ],
   "source": [
    "import comp116\n",
    "comp116.fetch()"
   ]
  },
  {
   "cell_type": "code",
   "execution_count": null,
   "metadata": {
    "collapsed": true
   },
   "outputs": [],
   "source": []
  }
 ],
 "metadata": {
  "kernelspec": {
   "display_name": "Python [Root]",
   "language": "python",
   "name": "Python [Root]"
  },
  "language_info": {
   "codemirror_mode": {
    "name": "ipython",
    "version": 3
   },
   "file_extension": ".py",
   "mimetype": "text/x-python",
   "name": "python",
   "nbconvert_exporter": "python",
   "pygments_lexer": "ipython3",
   "version": "3.5.2"
  }
 },
 "nbformat": 4,
 "nbformat_minor": 0
}
