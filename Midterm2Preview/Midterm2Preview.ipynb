{
 "cells": [
  {
   "cell_type": "markdown",
   "metadata": {},
   "source": [
    "# Midterm Exam 2 Preview\n",
    "\n",
    "This is a preview of the second midterm exam for Comp 116 in fall 2016. The dataset for the exam will have the same form as this one. It may have a different number of days (rows) but will have the same number of columns.\n",
    "\n",
    "You **may** use any Python features. Many questions will be easy to answer using Numpy functions. Feel free to use them. You don't have to write a loop for every question.\n",
    "\n",
    "The solution of every question **must** be a function. Simply computing the result is insufficient, you must write a function that depends only on the input arguments and produces the correct result.\n",
    "\n",
    "You **may not use the Internet** for anything except retrieving and submitting your exam. Any other use will be a violation of the Honor Code. \n",
    "\n",
    "You may use any resources that you have stored locally on your computer or any paper notes, books, etc.\n",
    "\n",
    "Of course you may **not** use any phones, friends, etc.\n",
    "\n",
    "Enter your onyen below."
   ]
  },
  {
   "cell_type": "code",
   "execution_count": 1,
   "metadata": {
    "collapsed": true
   },
   "outputs": [],
   "source": [
    "Author = 'zewalker' # not your pid, your onyen"
   ]
  },
  {
   "cell_type": "markdown",
   "metadata": {},
   "source": [
    "## Honor Pledge\n",
    "\n",
    "I certify that no unauthorized assistance has been received or given in the completion of this work. \n",
    "\n",
    "Enter your full name as the value of the Pledge variable below."
   ]
  },
  {
   "cell_type": "code",
   "execution_count": 2,
   "metadata": {
    "collapsed": true
   },
   "outputs": [],
   "source": [
    "Pledge = 'Zachary Walker' # type your full name between the quotes"
   ]
  },
  {
   "cell_type": "markdown",
   "metadata": {},
   "source": [
    "## Set up\n",
    "\n",
    "I will set up the environment for you here. Do not modify any of this."
   ]
  },
  {
   "cell_type": "code",
   "execution_count": 3,
   "metadata": {
    "collapsed": true
   },
   "outputs": [],
   "source": [
    "%matplotlib inline\n",
    "import numpy as np\n",
    "import pylab\n",
    "import comp116\n",
    "\n",
    "check, report = comp116.start('Midterm2Preview')"
   ]
  },
  {
   "cell_type": "markdown",
   "metadata": {},
   "source": [
    "## Data\n",
    "\n",
    "You are given a dataset describing of number of books read on [Tar Heel Reader](http://tarheelreader.org) during each hour in a recent year. \n",
    "\n",
    "The array has N rows of 5 columns which are: number of books read, month number (1-12), day of month (1-31), hour of day (0-23), weekday (0-6) Monday is 0. \n",
    "\n",
    "I'll load the data for you here. Don't change any of this."
   ]
  },
  {
   "cell_type": "code",
   "execution_count": 4,
   "metadata": {
    "collapsed": false
   },
   "outputs": [
    {
     "data": {
      "text/plain": [
       "array([[21,  1,  1,  0,  3],\n",
       "       [18,  1,  1,  1,  3],\n",
       "       [ 0,  1,  1,  2,  3],\n",
       "       [ 0,  1,  1,  3,  3],\n",
       "       [ 0,  1,  1,  4,  3],\n",
       "       [ 0,  1,  1,  5,  3],\n",
       "       [ 3,  1,  1,  6,  3],\n",
       "       [12,  1,  1,  7,  3],\n",
       "       [ 4,  1,  1,  8,  3],\n",
       "       [11,  1,  1,  9,  3]])"
      ]
     },
     "execution_count": 4,
     "metadata": {},
     "output_type": "execute_result"
    }
   ],
   "source": [
    "import pickle\n",
    "hourly = pickle.load(open('hourly.pkl', 'rb'))\n",
    "hourly[:10]"
   ]
  },
  {
   "cell_type": "markdown",
   "metadata": {},
   "source": [
    "You can see from the above that the data begins with 21 books being read between midnight and 1AM on January 1st which was a Thursday."
   ]
  },
  {
   "cell_type": "markdown",
   "metadata": {},
   "source": [
    "## Questions\n",
    "\n",
    "Think about the kinds of questions you might ask of these data? I've give you a few samples below but the exam questions will not be limited to these topics."
   ]
  },
  {
   "cell_type": "markdown",
   "metadata": {},
   "source": [
    "### 1. How many full days of data do we have?\n",
    "\n",
    "Your answer must be a function named `F1` that takes a single argument and returns the integer answer."
   ]
  },
  {
   "cell_type": "code",
   "execution_count": 5,
   "metadata": {
    "collapsed": false
   },
   "outputs": [
    {
     "name": "stdout",
     "output_type": "stream",
     "text": [
      "F1 returns 365\n",
      "Q1 function signature appears correct\n",
      "Q1-result appears correct\n"
     ]
    }
   ],
   "source": [
    "def F1(x):\n",
    "    a= int(len(x[:,1])/24)\n",
    "    return a\n",
    "# Write your function here\n",
    "\n",
    "\n",
    "# let's see what your function returns\n",
    "print('F1 returns', F1(hourly))\n",
    "\n",
    "check('Q1', F1, hourly, points=10)"
   ]
  },
  {
   "cell_type": "markdown",
   "metadata": {},
   "source": [
    "### 2. How many books were read Monday through Friday?\n",
    "\n",
    "Write a function named `F2` that takes a single argument and returns the integer answer."
   ]
  },
  {
   "cell_type": "code",
   "execution_count": 105,
   "metadata": {
    "collapsed": false
   },
   "outputs": [
    {
     "name": "stdout",
     "output_type": "stream",
     "text": [
      "F2 returns 1226412\n",
      "Q2 function signature appears correct\n",
      "Q2-result appears correct\n"
     ]
    }
   ],
   "source": [
    "def F2(a):\n",
    "    b= 0\n",
    "    for i in range(len(a[:,4])):\n",
    "        if a[i,4] < 5:\n",
    "            b= b + a[i,0]\n",
    "    return b# write your function here\n",
    "\n",
    "print('F2 returns', F2(hourly))\n",
    "check('Q2', F2, hourly, points=15)"
   ]
  },
  {
   "cell_type": "markdown",
   "metadata": {},
   "source": [
    "### 3. How many books were read in each month?\n",
    "\n",
    "Write a function named `F3` that takes the data array and return 12 element integer array of the total number of books read each month. "
   ]
  },
  {
   "cell_type": "code",
   "execution_count": 107,
   "metadata": {
    "collapsed": false
   },
   "outputs": [
    {
     "name": "stdout",
     "output_type": "stream",
     "text": [
      "F3 returns [120951 131836 157986 143006 106184  54838  44223  55686 127004 153947\n",
      " 140419  92533]\n",
      "Q3 function signature appears correct\n",
      "Q3-result appears correct\n"
     ]
    }
   ],
   "source": [
    "def F3(a):\n",
    "    b= np.zeros(12, dtype=int)\n",
    "    for x in range(12):\n",
    "        for y in range(len(a[:,0])):\n",
    "            if a[y,1] == x+1:\n",
    "                b[x]= int(int(b[x])+ int(a[y,0]))\n",
    "    return b\n",
    "                # Write your function here\n",
    "\n",
    "print('F3 returns', F3(hourly))\n",
    "check('Q3', F3, hourly, points=15)"
   ]
  },
  {
   "cell_type": "markdown",
   "metadata": {},
   "source": [
    "### 4. What is the average number of books read each day before the hour that has the maximum number of books that day?\n",
    "\n",
    "For example suppose the number of books read each hour for a day were:\n",
    "\n",
    "    21 18 0 0 0 0 3 12 4 11 11 22 42 15 17 49 18 26 57 90 35 23 65 15\n",
    "\n",
    "The maximum, 90, occurred in hour 19 so we want to accumulate the first 18 values for a total of 269 books for this day. Do a similar process for each day and average the result.\n",
    "\n",
    "Write a function `F4` that takes a single argument and returns the floating point average."
   ]
  },
  {
   "cell_type": "code",
   "execution_count": 110,
   "metadata": {
    "collapsed": false
   },
   "outputs": [
    {
     "name": "stdout",
     "output_type": "stream",
     "text": [
      "F4 returns 1279.85205479\n",
      "Q4 function signature appears correct\n",
      "Q4-result appears correct\n"
     ]
    }
   ],
   "source": [
    "def F4(A):\n",
    "    B = A[:,0]\n",
    "    Total = 0\n",
    "    C= np.reshape(B, (-1,24))\n",
    "    for i in range(len(C[:,0])):\n",
    "        for j in range(len(C[0,:])):\n",
    "            if j < np.argmax(C[i]):\n",
    "                Total= Total + C[i,j]\n",
    "    return Total/len(C[:,0])\n",
    "        \n",
    "    # write your code here\n",
    "print('F4 returns', F4(hourly))\n",
    "check('Q4', F4, hourly, points=20)"
   ]
  },
  {
   "cell_type": "markdown",
   "metadata": {},
   "source": [
    "### 5. How many books were read on the given month and day?\n",
    "\n",
    "Write a function named `F5` that takes three arguments, the data, the month, and the day and returns the total number of books read that day."
   ]
  },
  {
   "cell_type": "code",
   "execution_count": 111,
   "metadata": {
    "collapsed": false
   },
   "outputs": [
    {
     "name": "stdout",
     "output_type": "stream",
     "text": [
      "F5 returns 4921\n",
      "Q5 test 1 function signature appears correct\n",
      "Q5 test 1-result appears correct\n",
      "F5 returns 835\n",
      "Q5 test 2 function signature appears correct\n",
      "Q5 test 2-result appears correct\n"
     ]
    }
   ],
   "source": [
    "def F5(data, month, day):\n",
    "    A = data[data[:,1]==month]\n",
    "    B = A[A[:,2]==day, 0]\n",
    "    C = np.sum(B)\n",
    "    return C\n",
    "    # write your code here\n",
    "# test 1\n",
    "print('F5 returns', F5(hourly, 5, 1))\n",
    "check('Q5 test 1', F5, hourly, 5, 1, points=10)\n",
    "\n",
    "# test 2\n",
    "print('F5 returns', F5(hourly, 5, 2))\n",
    "check('Q5 test 2', F5, hourly, 5, 1, points=10)"
   ]
  },
  {
   "cell_type": "code",
   "execution_count": 10,
   "metadata": {
    "collapsed": false
   },
   "outputs": [
    {
     "data": {
      "text/plain": [
       "75"
      ]
     },
     "execution_count": 10,
     "metadata": {},
     "output_type": "execute_result"
    }
   ],
   "source": [
    "def F6(x): #How many days had less than 1000 books read\n",
    "    A= np.reshape(x[:,0], (-1,24))\n",
    "    count =0 \n",
    "    for i in range(len(A[:,0])):\n",
    "        if np.sum(A[i,:]) < 1000:\n",
    "            count= count + 1\n",
    "    return count\n",
    "F6(hourly)"
   ]
  },
  {
   "cell_type": "code",
   "execution_count": 16,
   "metadata": {
    "collapsed": false
   },
   "outputs": [
    {
     "data": {
      "text/plain": [
       "3716.1946286472148"
      ]
     },
     "execution_count": 16,
     "metadata": {},
     "output_type": "execute_result"
    }
   ],
   "source": [
    "def F7(x):#What is the difference between the average number of books read on a weekday and the average number of books read on a weekend day?\n",
    "    weekdays = x[x[:,4] <= 4, 0]\n",
    "    weekends = x[x[:,4] > 4, 0]\n",
    "    return (np.mean(weekdays) - np.mean(weekends))*24\n",
    "F7(hourly)"
   ]
  },
  {
   "cell_type": "code",
   "execution_count": 27,
   "metadata": {
    "collapsed": false
   },
   "outputs": [
    {
     "data": {
      "text/plain": [
       "717.0322580645161"
      ]
     },
     "execution_count": 27,
     "metadata": {},
     "output_type": "execute_result"
    }
   ],
   "source": [
    "def F8(x): #What is the average number of books read per day before noon in July?\n",
    "    data= x[x[:,1] ==7]\n",
    "    data = data[data[:,3] <12, 0]\n",
    "    return np.mean(data)*12\n",
    "F8(hourly)\n"
   ]
  },
  {
   "cell_type": "code",
   "execution_count": 36,
   "metadata": {
    "collapsed": false
   },
   "outputs": [
    {
     "data": {
      "text/plain": [
       "array([ 6166.,  1670.,  1672.,  8004.,  4290.,  1879.,  2021.,   394.,\n",
       "        6430.,  6373.,  2247.,  4745.])"
      ]
     },
     "execution_count": 36,
     "metadata": {},
     "output_type": "execute_result"
    }
   ],
   "source": [
    "def F9(day, data): #Write a function that takes in an integer representing a day of the month, and returns an array of the number of books read on that day for each month.\n",
    "    oneDay = data[data[:,2]==day]\n",
    "    return np.bincount(oneDay[:,1], oneDay[:,0])[1:]\n",
    "F9(15, hourly)"
   ]
  },
  {
   "cell_type": "code",
   "execution_count": 48,
   "metadata": {
    "collapsed": false
   },
   "outputs": [
    {
     "data": {
      "text/plain": [
       "(1, 274313)"
      ]
     },
     "execution_count": 48,
     "metadata": {},
     "output_type": "execute_result"
    }
   ],
   "source": [
    "def F10(x): #Which day of the week has the most number of books read and how many books were read on that day?\n",
    "    A =[]\n",
    "    for i in range(6):\n",
    "        S= (x[x[:,4] == i, 0])\n",
    "        T = np.sum(S)\n",
    "        A.append(T)\n",
    "    B = np.argmax(A)\n",
    "    C= np.max(A)\n",
    "    return B,C\n",
    "F10(hourly)"
   ]
  },
  {
   "cell_type": "code",
   "execution_count": 60,
   "metadata": {
    "collapsed": false
   },
   "outputs": [
    {
     "data": {
      "text/plain": [
       "871"
      ]
     },
     "execution_count": 60,
     "metadata": {},
     "output_type": "execute_result"
    }
   ],
   "source": [
    "def F11(data, month, day, starthour, endhour): #Write a function that takes in data, month, day, start hour and end hour and returns the total number of books read during that period of time.\n",
    "    A= data[data[:,1]==month]\n",
    "    B= A[A[:,2]==day]\n",
    "    C= B[B[:,3]<=endhour]\n",
    "    D= C[C[:,3]>= starthour, 0]\n",
    "    return np.sum(D)\n",
    "F11(hourly, 3, 21, 9, 21)"
   ]
  },
  {
   "cell_type": "code",
   "execution_count": 90,
   "metadata": {
    "collapsed": false
   },
   "outputs": [
    {
     "data": {
      "text/plain": [
       "array([ 162.56854839,  196.18452381,  212.34677419,  198.61944444,\n",
       "        142.72043011,   76.16388889,   59.43951613,   74.84677419,\n",
       "        176.39444444,  206.91801075,  195.02638889,  124.37231183])"
      ]
     },
     "execution_count": 90,
     "metadata": {},
     "output_type": "execute_result"
    }
   ],
   "source": [
    "def F12(data): #Write a function that returns an array containing the average number of books read per month.\n",
    "    means = np.zeros(12)\n",
    "    for i in range(1,13):\n",
    "        means[i-1]= np.mean(data[data[:,1]==i,0])\n",
    "    return means\n",
    "F12(hourly)"
   ]
  },
  {
   "cell_type": "code",
   "execution_count": 92,
   "metadata": {
    "collapsed": false
   },
   "outputs": [],
   "source": [
    "# could be useful 10-17 notes\n",
    "def CountInt3(A):\n",
    "    N = np.max(A) + 1\n",
    "    time = np.zeros(N)\n",
    "    for i in range(N):\n",
    "        time[i] = np.count_nonzero(A == i)\n",
    "    return time"
   ]
  },
  {
   "cell_type": "code",
   "execution_count": 96,
   "metadata": {
    "collapsed": true
   },
   "outputs": [],
   "source": [
    "def BooksOnDOW(data, dow): #We wrote a function to get the total number of books read on a given day of the week.\n",
    "    return np.sum(data[data[:,4] == dow, 0])"
   ]
  },
  {
   "cell_type": "code",
   "execution_count": 95,
   "metadata": {
    "collapsed": false
   },
   "outputs": [
    {
     "data": {
      "text/plain": [
       "13.117808219178082"
      ]
     },
     "execution_count": 95,
     "metadata": {},
     "output_type": "execute_result"
    }
   ],
   "source": [
    "def F3(A): #average daily time for the maxium\n",
    "    B = np.reshape(A[:,0], (-1, 24))\n",
    "    return np.mean(np.argmax(B, axis=1))\n",
    "F3(hourly)"
   ]
  },
  {
   "cell_type": "code",
   "execution_count": 98,
   "metadata": {
    "collapsed": false
   },
   "outputs": [
    {
     "data": {
      "text/plain": [
       "13"
      ]
     },
     "execution_count": 98,
     "metadata": {},
     "output_type": "execute_result"
    }
   ],
   "source": [
    "def F5(A): #longest run with no books read\n",
    "    C = A[:,0]\n",
    "    run = 0\n",
    "    maxrun = 0\n",
    "    for i in range(len(C)):\n",
    "        if C[i] == 0:\n",
    "            run = run + 1\n",
    "            if run > maxrun:\n",
    "                maxrun = run\n",
    "        else:\n",
    "            run = 0\n",
    "    return maxrun\n",
    "F5(hourly)"
   ]
  },
  {
   "cell_type": "code",
   "execution_count": 40,
   "metadata": {
    "collapsed": false
   },
   "outputs": [
    {
     "data": {
      "text/plain": [
       "9"
      ]
     },
     "execution_count": 40,
     "metadata": {},
     "output_type": "execute_result"
    }
   ],
   "source": [
    "def F1(A, N): #maxmium run with less than N books read\n",
    "    run = 0\n",
    "    maxrun = 0\n",
    "    for i in range(len(A)):\n",
    "        if A[i,0] < N:\n",
    "            if A[i, 4]>4:\n",
    "                run = run + 1\n",
    "                if run > maxrun:\n",
    "                    maxrun = run\n",
    "            #print(i, run)\n",
    "        else:\n",
    "            run = 0\n",
    "    return maxrun\n",
    "F1(hourly, 10)"
   ]
  },
  {
   "cell_type": "code",
   "execution_count": 101,
   "metadata": {
    "collapsed": false
   },
   "outputs": [],
   "source": [
    "def countVals(A): #couldbeuseful\n",
    "    R = np.zeros(np.max(A)+1, dtype=int)\n",
    "    for i in range(len(A)):\n",
    "        R[A[i]] = R[A[i]] + 1\n",
    "    return R"
   ]
  },
  {
   "cell_type": "code",
   "execution_count": 103,
   "metadata": {
    "collapsed": false
   },
   "outputs": [
    {
     "name": "stdout",
     "output_type": "stream",
     "text": [
      "9 7595\n"
     ]
    },
    {
     "data": {
      "text/plain": [
       "array([[  5,  11,  13,   2,   4],\n",
       "       [  7,  11,  13,   3,   4],\n",
       "       [ 10,  11,  13,   4,   4],\n",
       "       [ 14,  11,  13,   5,   4],\n",
       "       [ 74,  11,  13,   6,   4],\n",
       "       [224,  11,  13,   7,   4],\n",
       "       [348,  11,  13,   8,   4],\n",
       "       [604,  11,  13,   9,   4],\n",
       "       [697,  11,  13,  10,   4],\n",
       "       [862,  11,  13,  11,   4]])"
      ]
     },
     "execution_count": 103,
     "metadata": {},
     "output_type": "execute_result"
    }
   ],
   "source": [
    "def F2(A): #longest run of increasing numbers plus that run\n",
    "    run = 0\n",
    "    maxrun = 0\n",
    "    maxindex = 0\n",
    "    for i in range(1, len(A)):\n",
    "        if A[i,0] > A[i-1,0]:\n",
    "            run = run + 1\n",
    "            if run > maxrun:\n",
    "                maxrun = run\n",
    "                maxindex = i\n",
    "            #print(i, run)\n",
    "        else:\n",
    "            run = 0\n",
    "    print(maxrun, maxindex)\n",
    "    return A[maxindex-maxrun:maxindex+1]\n",
    "F2(hourly)   "
   ]
  },
  {
   "cell_type": "code",
   "execution_count": 5,
   "metadata": {
    "collapsed": false
   },
   "outputs": [
    {
     "data": {
      "text/plain": [
       "array([ 3044, 28092, 30541, 27979, 32988, 35831, 34573, 25592, 35704,\n",
       "       34470, 35353, 34146, 38508, 27995, 30548, 38526, 34695, 32161,\n",
       "       29401, 28084, 24372, 17360, 18111, 12998,  9811, 11358,  7531,\n",
       "       10582, 10681, 10625,  9114,  7370, 10847, 12032, 19606, 21650,\n",
       "       26106, 32173, 31209, 34325, 35292, 33094, 37412, 35281, 38756,\n",
       "       36615, 39155, 17178, 35940, 31131, 24751,  5341,  2575])"
      ]
     },
     "execution_count": 5,
     "metadata": {},
     "output_type": "execute_result"
    }
   ],
   "source": [
    "def week_sum(data):\n",
    "    daily = np.reshape(data[:,0], (-1,24))\n",
    "    daily_sums = np.sum(daily, axis=1)\n",
    "    days_of_week = data[::24,4]\n",
    "    week_sums = []\n",
    "    current_week = 0\n",
    "    for i in range(len(daily_sums)):\n",
    "        if days_of_week[i] == 0:\n",
    "            week_sums.append(current_week)\n",
    "            current_week = 0\n",
    "        current_week += daily_sums[i]\n",
    "    if current_week:\n",
    "        week_sums.append(current_week)\n",
    "    return np.array(week_sums)\n",
    "week_sum(hourly)"
   ]
  },
  {
   "cell_type": "code",
   "execution_count": 7,
   "metadata": {
    "collapsed": false
   },
   "outputs": [
    {
     "data": {
      "text/plain": [
       "211"
      ]
     },
     "execution_count": 7,
     "metadata": {},
     "output_type": "execute_result"
    }
   ],
   "source": [
    "def pairs(data): # number of pairs of code with same number of books read\n",
    "    counts = np.bincount(data[:,0])\n",
    "    return np.count_nonzero(counts == 2)\n",
    "pairs(hourly)"
   ]
  },
  {
   "cell_type": "code",
   "execution_count": 8,
   "metadata": {
    "collapsed": false
   },
   "outputs": [
    {
     "data": {
      "text/plain": [
       "128"
      ]
     },
     "execution_count": 8,
     "metadata": {},
     "output_type": "execute_result"
    }
   ],
   "source": [
    "def F18(A): #number of consecutive pairs \n",
    "    A = A[:,0]\n",
    "    pairs = 0\n",
    "    for i in range(1,len(A)):\n",
    "        if A[i] == A[i-1]:\n",
    "            if i+1==len(A) or A[i]!=A[i+1]:\n",
    "                pairs = pairs+1\n",
    "    return pairs\n",
    "F18(hourly)"
   ]
  },
  {
   "cell_type": "code",
   "execution_count": 13,
   "metadata": {
    "collapsed": false
   },
   "outputs": [
    {
     "data": {
      "text/plain": [
       "4275"
      ]
     },
     "execution_count": 13,
     "metadata": {},
     "output_type": "execute_result"
    }
   ],
   "source": [
    "def F20(A): #How many hours had more books read than the same hour the previous day?\n",
    "    count = 0\n",
    "    A = np.reshape(A[:,0],(-1,24))\n",
    "    for i in range(1,len(A)):\n",
    "        count = count + np.count_nonzero(A[i] > A[i-1])\n",
    "    return count\n",
    "F20(hourly)"
   ]
  },
  {
   "cell_type": "code",
   "execution_count": 39,
   "metadata": {
    "collapsed": false
   },
   "outputs": [
    {
     "ename": "UnboundLocalError",
     "evalue": "local variable 'end' referenced before assignment",
     "output_type": "error",
     "traceback": [
      "\u001b[0;31m---------------------------------------------------------------------------\u001b[0m",
      "\u001b[0;31mUnboundLocalError\u001b[0m                         Traceback (most recent call last)",
      "\u001b[0;32m<ipython-input-39-ab64fe2cf2f4>\u001b[0m in \u001b[0;36m<module>\u001b[0;34m()\u001b[0m\n\u001b[1;32m     13\u001b[0m     \u001b[0;32mreturn\u001b[0m \u001b[0mA\u001b[0m\u001b[0;34m[\u001b[0m\u001b[0mstart\u001b[0m\u001b[0;34m:\u001b[0m \u001b[0mend\u001b[0m\u001b[0;34m+\u001b[0m\u001b[0;36m1\u001b[0m\u001b[0;34m]\u001b[0m\u001b[0;34m\u001b[0m\u001b[0m\n\u001b[1;32m     14\u001b[0m \u001b[0mhourly\u001b[0m\u001b[0;34m[\u001b[0m\u001b[0;34m:\u001b[0m\u001b[0;36m10\u001b[0m\u001b[0;34m]\u001b[0m\u001b[0;34m\u001b[0m\u001b[0m\n\u001b[0;32m---> 15\u001b[0;31m \u001b[0mF3\u001b[0m\u001b[0;34m(\u001b[0m\u001b[0mhourly\u001b[0m\u001b[0;34m,\u001b[0m \u001b[0;36m1\u001b[0m\u001b[0;34m,\u001b[0m \u001b[0;36m1\u001b[0m\u001b[0;34m,\u001b[0m \u001b[0;36m1\u001b[0m\u001b[0;34m,\u001b[0m \u001b[0;36m0\u001b[0m\u001b[0;34m,\u001b[0m \u001b[0;36m1\u001b[0m\u001b[0;34m,\u001b[0m \u001b[0;36m9\u001b[0m\u001b[0;34m)\u001b[0m\u001b[0;34m\u001b[0m\u001b[0m\n\u001b[0m",
      "\u001b[0;32m<ipython-input-39-ab64fe2cf2f4>\u001b[0m in \u001b[0;36mF3\u001b[0;34m(data, begMon, begDay, begHour, endMon, endDay, endHour)\u001b[0m\n\u001b[1;32m     11\u001b[0m                 \u001b[0;32mif\u001b[0m \u001b[0mdata\u001b[0m\u001b[0;34m[\u001b[0m\u001b[0mi\u001b[0m\u001b[0;34m,\u001b[0m\u001b[0;36m3\u001b[0m\u001b[0;34m]\u001b[0m\u001b[0;34m==\u001b[0m \u001b[0mendHour\u001b[0m\u001b[0;34m:\u001b[0m\u001b[0;34m\u001b[0m\u001b[0m\n\u001b[1;32m     12\u001b[0m                     \u001b[0mend\u001b[0m \u001b[0;34m=\u001b[0m \u001b[0mj\u001b[0m\u001b[0;34m\u001b[0m\u001b[0m\n\u001b[0;32m---> 13\u001b[0;31m     \u001b[0;32mreturn\u001b[0m \u001b[0mA\u001b[0m\u001b[0;34m[\u001b[0m\u001b[0mstart\u001b[0m\u001b[0;34m:\u001b[0m \u001b[0mend\u001b[0m\u001b[0;34m+\u001b[0m\u001b[0;36m1\u001b[0m\u001b[0;34m]\u001b[0m\u001b[0;34m\u001b[0m\u001b[0m\n\u001b[0m\u001b[1;32m     14\u001b[0m \u001b[0mhourly\u001b[0m\u001b[0;34m[\u001b[0m\u001b[0;34m:\u001b[0m\u001b[0;36m10\u001b[0m\u001b[0;34m]\u001b[0m\u001b[0;34m\u001b[0m\u001b[0m\n\u001b[1;32m     15\u001b[0m \u001b[0mF3\u001b[0m\u001b[0;34m(\u001b[0m\u001b[0mhourly\u001b[0m\u001b[0;34m,\u001b[0m \u001b[0;36m1\u001b[0m\u001b[0;34m,\u001b[0m \u001b[0;36m1\u001b[0m\u001b[0;34m,\u001b[0m \u001b[0;36m1\u001b[0m\u001b[0;34m,\u001b[0m \u001b[0;36m0\u001b[0m\u001b[0;34m,\u001b[0m \u001b[0;36m1\u001b[0m\u001b[0;34m,\u001b[0m \u001b[0;36m9\u001b[0m\u001b[0;34m)\u001b[0m\u001b[0;34m\u001b[0m\u001b[0m\n",
      "\u001b[0;31mUnboundLocalError\u001b[0m: local variable 'end' referenced before assignment"
     ]
    }
   ],
   "source": [
    "\n",
    "hourly[:10]\n",
    "F3(hourly, 1, 1, 1, 0, 1, 9)"
   ]
  },
  {
   "cell_type": "raw",
   "metadata": {},
   "source": [
    "### Hints\n",
    "\n",
    "Functions you may useful include `np.argmax`, and `np.sum`. You can create a zero-filled array of integers with `np.zeros(size, dtype=int)`."
   ]
  },
  {
   "cell_type": "markdown",
   "metadata": {},
   "source": [
    "### And more...\n",
    "\n",
    "Your exam will have about 6 questions for a total of 100 points. Questions are not intended to be tricky. If there is a simple interpretation of the question, that is most likely what I expect from you. If you have any doubt, try it to see what the checker says."
   ]
  },
  {
   "cell_type": "code",
   "execution_count": 10,
   "metadata": {
    "collapsed": false
   },
   "outputs": [
    {
     "name": "stdout",
     "output_type": "stream",
     "text": [
      "Q1 appears correct\n",
      "Q1-result appears correct\n",
      "Q2 appears correct\n",
      "Q2-result appears correct\n",
      "Q3 appears correct\n",
      "Q3-result appears correct\n",
      "Q4 appears correct\n",
      "Q4-result appears correct\n",
      "Q5 test 1 appears correct\n",
      "Q5 test 1-result appears correct\n",
      "Q5 test 2 appears correct\n",
      "Q5 test 2-result appears correct\n",
      "Report for zewalker\n",
      "  Pledged on my honor: Zachary Walker\n",
      "    zewalker\n",
      "  12.0 of 12 possibly correct for up to 80.0 of 80 points\n"
     ]
    },
    {
     "data": {
      "text/html": [
       "\n",
       "<p>Click the button below to submit your notebook. Watch for a confirmation message\n",
       "that your notebook was successfully uploaded. You may submit as often as you wish,\n",
       "only the last submission will count.</p>\n",
       "<button id=\"submitButton116\">Submit this notebook</button>\n",
       "<p id=\"submitResponse116\"></p>\n",
       "<script>\n",
       "var site = 'https://wwwx.cs.unc.edu/Courses/comp116-001-f16/';\n",
       "$('#submitButton116').on('click', function() {\n",
       "    var site = 'https://wwwx.cs.unc.edu/Courses/comp116-001-f16/',\n",
       "        $sresp = $('#submitResponse116'),\n",
       "        button = $('#submitButton116');\n",
       "    button.prop('disabled', true);\n",
       "    // wait until save is complete before pushing the notebook\n",
       "    $([IPython.events]).one('notebook_saved.Notebook', function() {\n",
       "        // get the token by logging in\n",
       "        $sresp.html('logging in');\n",
       "        $.ajax({\n",
       "            url: site + 'io/token/token.cgi',\n",
       "            dataType: 'jsonp'\n",
       "        }).done(function(data) {\n",
       "            var notebook = IPython.notebook.notebook_name,\n",
       "                uuid = data.token,\n",
       "                command = \"comp116.pushNotebook('\" + notebook + \"', '\" + uuid + \"')\",\n",
       "                kernel = IPython.notebook.kernel,\n",
       "                handler = function (out) {\n",
       "                    $('#comp116-stop-message').show();\n",
       "                    if (out.content.status == \"ok\") {\n",
       "                        $sresp.html(\"Successfully submitted \" + notebook);\n",
       "                        $('#comp116-stop-message').hide();\n",
       "                    } else if(out.content.status == \"error\") {\n",
       "                        $sresp.html(out.content.ename + \": \" + out.content.evalue);\n",
       "                    } else { // if output is something we haven't thought of\n",
       "                        $sresp.html(\"[out type not implemented]\")\n",
       "                    }\n",
       "                    button.prop('disabled', false);\n",
       "                };\n",
       "            $sresp.html('Submitting');\n",
       "            kernel.execute(command, {shell: { reply: handler }});\n",
       "        }).fail(function() {\n",
       "            $sresp.html('Login failed');\n",
       "            button.prop('disabled', false);\n",
       "        });\n",
       "    });\n",
       "    // trigger the save\n",
       "    $sresp.html('Saving');\n",
       "    IPython.notebook.save_notebook();\n",
       "});"
      ],
      "text/plain": [
       "<IPython.core.display.HTML object>"
      ]
     },
     "execution_count": 10,
     "metadata": {},
     "output_type": "execute_result"
    }
   ],
   "source": [
    "report(Author, Pledge)"
   ]
  },
  {
   "cell_type": "code",
   "execution_count": null,
   "metadata": {
    "collapsed": true
   },
   "outputs": [],
   "source": []
  },
  {
   "cell_type": "code",
   "execution_count": null,
   "metadata": {
    "collapsed": true
   },
   "outputs": [],
   "source": []
  },
  {
   "cell_type": "code",
   "execution_count": null,
   "metadata": {
    "collapsed": true
   },
   "outputs": [],
   "source": []
  }
 ],
 "metadata": {
  "anaconda-cloud": {},
  "kernelspec": {
   "display_name": "Python [Root]",
   "language": "python",
   "name": "Python [Root]"
  },
  "language_info": {
   "codemirror_mode": {
    "name": "ipython",
    "version": 3
   },
   "file_extension": ".py",
   "mimetype": "text/x-python",
   "name": "python",
   "nbconvert_exporter": "python",
   "pygments_lexer": "ipython3",
   "version": "3.5.2"
  }
 },
 "nbformat": 4,
 "nbformat_minor": 1
}
