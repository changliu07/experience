{
 "cells": [
  {
   "cell_type": "markdown",
   "metadata": {},
   "source": [
    "# Midterm Exam 2\n",
    "\n",
    "**Don't Panic!**\n",
    "\n",
    "You **may** use any Python features. Many questions will be easy to answer using Numpy functions. Feel free to use them. You don't have to write a loop for every question.\n",
    "\n",
    "The solution of every question **must** be a function. Simply computing the result is insufficient, you must write a function that depends only on the input arguments and produces the correct result.\n",
    "\n",
    "You **may not use the Internet** for anything except retrieving and submitting your exam. Any other use will be a violation of the Honor Code. \n",
    "\n",
    "You may use any resources that you have stored locally on your computer or any paper notes, books, etc.\n",
    "\n",
    "Of course you may **not** use any phones, friends, etc.\n",
    "\n",
    "Enter your onyen below."
   ]
  },
  {
   "cell_type": "code",
   "execution_count": 1,
   "metadata": {
    "collapsed": true
   },
   "outputs": [],
   "source": [
    "Author = 'zewalker' # not your pid, your onyen"
   ]
  },
  {
   "cell_type": "markdown",
   "metadata": {},
   "source": [
    "## Honor Pledge\n",
    "\n",
    "I certify that no unauthorized assistance has been received or given in the completion of this work. \n",
    "\n",
    "Enter your full name as the value of the Pledge variable below."
   ]
  },
  {
   "cell_type": "code",
   "execution_count": 2,
   "metadata": {
    "collapsed": true
   },
   "outputs": [],
   "source": [
    "Pledge = 'Zachary Walker' # type your full name between the quotes"
   ]
  },
  {
   "cell_type": "markdown",
   "metadata": {},
   "source": [
    "## Set up\n",
    "\n",
    "I will set up the environment for you here. Do not modify any of this."
   ]
  },
  {
   "cell_type": "code",
   "execution_count": 3,
   "metadata": {
    "collapsed": true
   },
   "outputs": [],
   "source": [
    "%matplotlib inline\n",
    "import numpy as np\n",
    "import pylab\n",
    "import comp116\n",
    "\n",
    "check, report = comp116.start('Midterm2')"
   ]
  },
  {
   "cell_type": "markdown",
   "metadata": {},
   "source": [
    "## Data\n",
    "\n",
    "You are given a dataset describing of number of books read on [Tar Heel Reader](http://tarheelreader.org) during each hour in a recent year. \n",
    "\n",
    "The array has N rows of 5 columns which are: number of books read, month number (1-12), day of month (1-31), hour of day (0-23), weekday (0-6) Monday is 0. \n",
    "\n",
    "I'll load the data for you here. Don't change any of this."
   ]
  },
  {
   "cell_type": "code",
   "execution_count": 4,
   "metadata": {
    "collapsed": false
   },
   "outputs": [
    {
     "data": {
      "text/plain": [
       "array([[21,  1,  1,  0,  3],\n",
       "       [18,  1,  1,  1,  3],\n",
       "       [ 0,  1,  1,  2,  3],\n",
       "       [ 0,  1,  1,  3,  3],\n",
       "       [ 0,  1,  1,  4,  3],\n",
       "       [ 0,  1,  1,  5,  3],\n",
       "       [ 3,  1,  1,  6,  3],\n",
       "       [12,  1,  1,  7,  3],\n",
       "       [ 4,  1,  1,  8,  3],\n",
       "       [11,  1,  1,  9,  3]])"
      ]
     },
     "execution_count": 4,
     "metadata": {},
     "output_type": "execute_result"
    }
   ],
   "source": [
    "import pickle\n",
    "hourly1 = pickle.load(open('hourly1.pkl', 'rb'))\n",
    "hourly2 = pickle.load(open('hourly2.pkl', 'rb'))\n",
    "hourly1.flags.writeable = False\n",
    "hourly2.flags.writeable = False\n",
    "hourly1[:10]"
   ]
  },
  {
   "cell_type": "markdown",
   "metadata": {},
   "source": [
    "You can see from the above that the data begins with 21 books being read between midnight and 1AM on January 1st which was a Thursday."
   ]
  },
  {
   "cell_type": "markdown",
   "metadata": {},
   "source": [
    "## Questions"
   ]
  },
  {
   "cell_type": "markdown",
   "metadata": {},
   "source": [
    "### 1. What was the average number of books read per day?\n",
    "\n",
    "Your answer must be a function named `F1` that takes a single argument and returns the float answer.\n",
    "\n",
    "Hint: This is really simple if you know the average number of books read per hour."
   ]
  },
  {
   "cell_type": "code",
   "execution_count": 34,
   "metadata": {
    "collapsed": false
   },
   "outputs": [
    {
     "name": "stdout",
     "output_type": "stream",
     "text": [
      "F1 returns 3640.03561644\n",
      "Q1a function signature appears correct\n",
      "Q1a-result appears correct\n",
      "Q1b function signature appears correct\n",
      "Q1b-result appears correct\n"
     ]
    }
   ],
   "source": [
    "def F1(data): # Write your function here\n",
    "    A = data[:,0]\n",
    "    B = np.sum(A)\n",
    "    C= B / (len(A) /24)\n",
    "    return C \n",
    "\n",
    "# let's see what your function returns\n",
    "print('F1 returns', F1(hourly1))\n",
    "\n",
    "check('Q1a', F1, hourly1, points=10)\n",
    "\n",
    "# check with second dataset\n",
    "check('Q1b', F1, hourly2, points=10)"
   ]
  },
  {
   "cell_type": "markdown",
   "metadata": {},
   "source": [
    "### 2. How many books were read starting from 8am through 6pm Monday through Friday?\n",
    "\n",
    "The times specified are approximately the school day from east coast to west. Include books read in both the 8AM and 6PM hours and all the hours in between.\n",
    "\n",
    "Write a function named `F2` that takes a single argument and returns the integer answer."
   ]
  },
  {
   "cell_type": "code",
   "execution_count": 10,
   "metadata": {
    "collapsed": false
   },
   "outputs": [
    {
     "name": "stdout",
     "output_type": "stream",
     "text": [
      "F2 returns 1069095\n",
      "Q2a function signature appears correct\n",
      "Q2a-result appears correct\n",
      "Q2b function signature appears correct\n",
      "Q2b-result appears correct\n"
     ]
    }
   ],
   "source": [
    "# write your function here\n",
    "def F2(data):\n",
    "    A = data[data[:,4]<5]\n",
    "    B = A[A[:,3]>=8]\n",
    "    C= B[B[:,3]<=18, 0]\n",
    "    return np.sum(C)\n",
    "\n",
    "print('F2 returns', F2(hourly1))\n",
    "check('Q2a', F2, hourly1, points=10)\n",
    "                       \n",
    "# check with second dataset\n",
    "check('Q2b', F2, hourly2, points=10)"
   ]
  },
  {
   "cell_type": "markdown",
   "metadata": {},
   "source": [
    "### 3. How many books were read during the given interval?\n",
    "\n",
    "Write a function named `F3` that takes the data array, a beginning month, day, hour, and an ending month, day, hour. Your function will take 7 arguments. I might call it like:\n",
    "\n",
    "    F3(hourly, 5, 15, 8, 6, 1, 12)\n",
    "    \n",
    "This call is asking for how many books were read in the interval starting at 8AM on May 15 through noon on June 1 inclusive."
   ]
  },
  {
   "cell_type": "code",
   "execution_count": 73,
   "metadata": {
    "collapsed": false
   },
   "outputs": [
    {
     "name": "stdout",
     "output_type": "stream",
     "text": [
      "F3 returns 39\n",
      "Q3a function signature appears correct\n",
      "Q3a-result appears correct\n",
      "Q3b function signature appears correct\n",
      "Q3b-result appears correct\n"
     ]
    }
   ],
   "source": [
    "def F3(data, begMon, begDay, begHour, endMon, endDay, endHour):\n",
    "    A= data[:,0]\n",
    "    for i in range(len(A)):\n",
    "        if data[i,1]== begMon:\n",
    "            if data[i,2]== begDay:\n",
    "                if data[i,3]== begHour:\n",
    "                    start = i\n",
    "    for j in range(len(A)):\n",
    "        if data[j,1]== endMon:\n",
    "            if data[j,2]== endDay:\n",
    "                if data[j,3]== endHour:\n",
    "                    end= j+1\n",
    "    return np.sum(A[start:end])\n",
    "\n",
    "# Write your function here\n",
    "\n",
    "# This call should add the first two hours because the result should be inclusive\n",
    "print('F3 returns', F3(hourly1, 1, 1, 0, 1, 1, 1))\n",
    "check('Q3a', F3, hourly1, 1, 1, 0, 1, 1, 1, points=10)\n",
    "\n",
    "# check with second dataset\n",
    "check('Q3b', F3, hourly2, 5, 15, 8, 6, 1, 12, points=10)"
   ]
  },
  {
   "cell_type": "markdown",
   "metadata": {},
   "source": [
    "### 4. What is the longest run of weekend hours with no more than N books read?\n",
    "\n",
    "You are to count consecutive hours with less than or equal to N books read that are also Saturday or Sunday.\n",
    "\n",
    "Write a function `F4` that takes two arguments, the data and N, and returns the length of the longest run of hours satisfying the condition."
   ]
  },
  {
   "cell_type": "code",
   "execution_count": 12,
   "metadata": {
    "collapsed": false
   },
   "outputs": [
    {
     "name": "stdout",
     "output_type": "stream",
     "text": [
      "F4 returns 9\n",
      "Q4a function signature appears correct\n",
      "Q4a-result appears correct\n",
      "Q4b function signature appears correct\n",
      "Q4b-result appears correct\n"
     ]
    }
   ],
   "source": [
    "def F4(A, N):\n",
    "    run = 0\n",
    "    maxrun = 0\n",
    "    data = A[A[:,4]>=5, 0]\n",
    "    for i in range(len(data)):\n",
    "            if data[i] <= N:\n",
    "                run = run + 1\n",
    "                if run > maxrun:\n",
    "                    maxrun = run\n",
    "            else:\n",
    "                run = 0\n",
    "    return maxrun\n",
    "\n",
    "print('F4 returns', F4(hourly1, 10))\n",
    "check('Q4a', F4, hourly1, 10, points=10)\n",
    "\n",
    "check('Q4b', F4, hourly2, 12, points=10)"
   ]
  },
  {
   "cell_type": "markdown",
   "metadata": {},
   "source": [
    "### 5. How many hours had counts less than the previous and next hour?\n",
    "\n",
    "Write a function named `F5` that takes one argument, the data, and returns the count."
   ]
  },
  {
   "cell_type": "code",
   "execution_count": 71,
   "metadata": {
    "collapsed": false
   },
   "outputs": [
    {
     "name": "stdout",
     "output_type": "stream",
     "text": [
      "F5 returns 2253\n",
      "Q5a function signature appears correct\n",
      "Q5a-result appears correct\n",
      "Q5b function signature appears correct\n",
      "Q5b-result appears correct\n"
     ]
    }
   ],
   "source": [
    "def F5(data):\n",
    "    A = data[:,0]\n",
    "    count = 0\n",
    "    for i in range(len(A)):\n",
    "        if i > 0:\n",
    "            if A[i] < A[i-1]:\n",
    "                if i < len(A)-1:\n",
    "                    if A[i] < A[i+1]:\n",
    "                        count = count +1\n",
    "    return count\n",
    "\n",
    "# write your code here\n",
    "\n",
    "# test 1\n",
    "print('F5 returns', F5(hourly1))\n",
    "check('Q5a', F5, hourly1, points=10)\n",
    "\n",
    "# test 2\n",
    "check('Q5b', F5, hourly2, points=10)"
   ]
  },
  {
   "cell_type": "markdown",
   "metadata": {},
   "source": [
    "### Hints\n",
    "\n",
    "Functions you may find useful include `np.mean`, and `np.sum`."
   ]
  },
  {
   "cell_type": "code",
   "execution_count": 13,
   "metadata": {
    "collapsed": false
   },
   "outputs": [
    {
     "name": "stdout",
     "output_type": "stream",
     "text": [
      "Q1a incorrect\n",
      "Q1a-result incorrect\n",
      "Q1b incorrect\n",
      "Q1b-result incorrect\n",
      "Q2a incorrect\n",
      "Q2a-result incorrect\n",
      "Q2b incorrect\n",
      "Q2b-result incorrect\n",
      "Q3a incorrect\n",
      "Q3a-result incorrect\n",
      "Q3b incorrect\n",
      "Q3b-result incorrect\n",
      "Q4a appears correct\n",
      "Q4a-result appears correct\n",
      "Q4b appears correct\n",
      "Q4b-result appears correct\n",
      "Q5a incorrect\n",
      "Q5a-result incorrect\n",
      "Q5b incorrect\n",
      "Q5b-result incorrect\n",
      "Report for zewalker\n",
      "  Pledged on my honor: Zachary Walker\n",
      "    zewalker\n",
      "  4.0 of 20 possibly correct for up to 20.0 of 100 points\n"
     ]
    },
    {
     "data": {
      "text/html": [
       "\n",
       "<p>Click the button below to submit your notebook. Watch for a confirmation message\n",
       "that your notebook was successfully uploaded. You may submit as often as you wish,\n",
       "only the last submission will count.</p>\n",
       "<button id=\"submitButton116\">Submit this notebook</button>\n",
       "<p id=\"submitResponse116\"></p>\n",
       "<script>\n",
       "var site = 'https://wwwx.cs.unc.edu/Courses/comp116-001-f16/';\n",
       "$('#submitButton116').on('click', function() {\n",
       "    var site = 'https://wwwx.cs.unc.edu/Courses/comp116-001-f16/',\n",
       "        $sresp = $('#submitResponse116'),\n",
       "        button = $('#submitButton116');\n",
       "    button.prop('disabled', true);\n",
       "    // wait until save is complete before pushing the notebook\n",
       "    $([IPython.events]).one('notebook_saved.Notebook', function() {\n",
       "        // get the token by logging in\n",
       "        $sresp.html('logging in');\n",
       "        $.ajax({\n",
       "            url: site + 'io/token/token.cgi',\n",
       "            dataType: 'jsonp'\n",
       "        }).done(function(data) {\n",
       "            var notebook = IPython.notebook.notebook_name,\n",
       "                uuid = data.token,\n",
       "                command = \"comp116.pushNotebook('\" + notebook + \"', '\" + uuid + \"')\",\n",
       "                kernel = IPython.notebook.kernel,\n",
       "                handler = function (out) {\n",
       "                    $('#comp116-stop-message').show();\n",
       "                    if (out.content.status == \"ok\") {\n",
       "                        $sresp.html(\"Successfully submitted \" + notebook);\n",
       "                        $('#comp116-stop-message').hide();\n",
       "                    } else if(out.content.status == \"error\") {\n",
       "                        $sresp.html(out.content.ename + \": \" + out.content.evalue);\n",
       "                    } else { // if output is something we haven't thought of\n",
       "                        $sresp.html(\"[out type not implemented]\")\n",
       "                    }\n",
       "                    button.prop('disabled', false);\n",
       "                };\n",
       "            $sresp.html('Submitting');\n",
       "            kernel.execute(command, {shell: { reply: handler }});\n",
       "        }).fail(function() {\n",
       "            $sresp.html('Login failed');\n",
       "            button.prop('disabled', false);\n",
       "        });\n",
       "    });\n",
       "    // trigger the save\n",
       "    $sresp.html('Saving');\n",
       "    IPython.notebook.save_notebook();\n",
       "});"
      ],
      "text/plain": [
       "<IPython.core.display.HTML object>"
      ]
     },
     "execution_count": 13,
     "metadata": {},
     "output_type": "execute_result"
    }
   ],
   "source": [
    "report(Author, Pledge)"
   ]
  },
  {
   "cell_type": "code",
   "execution_count": null,
   "metadata": {
    "collapsed": true
   },
   "outputs": [],
   "source": []
  }
 ],
 "metadata": {
  "anaconda-cloud": {},
  "kernelspec": {
   "display_name": "Python [Root]",
   "language": "python",
   "name": "Python [Root]"
  },
  "language_info": {
   "codemirror_mode": {
    "name": "ipython",
    "version": 3
   },
   "file_extension": ".py",
   "mimetype": "text/x-python",
   "name": "python",
   "nbconvert_exporter": "python",
   "pygments_lexer": "ipython3",
   "version": "3.5.2"
  }
 },
 "nbformat": 4,
 "nbformat_minor": 1
}
