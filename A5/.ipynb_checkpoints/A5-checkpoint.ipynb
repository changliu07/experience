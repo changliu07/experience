{
 "cells": [
  {
   "cell_type": "code",
   "execution_count": 3,
   "metadata": {
    "collapsed": false
   },
   "outputs": [
    {
     "ename": "SyntaxError",
     "evalue": "invalid syntax (<ipython-input-3-5bd0d917ec2b>, line 3)",
     "output_type": "error",
     "traceback": [
      "\u001b[0;36m  File \u001b[0;32m\"<ipython-input-3-5bd0d917ec2b>\"\u001b[0;36m, line \u001b[0;32m3\u001b[0m\n\u001b[0;31m    **Due:** 30 November before 10pm\u001b[0m\n\u001b[0m     ^\u001b[0m\n\u001b[0;31mSyntaxError\u001b[0m\u001b[0;31m:\u001b[0m invalid syntax\n"
     ]
    }
   ],
   "source": [
    "# Assignment 5: 311 Database\n",
    "\n",
    "**Due:** 30 November before 10pm\n",
    "\n",
    "These data were scraped from the 311 Service Request data available from the [New York City Open Data site](https://nycopendata.socrata.com/Social-Services/311-Service-Requests-from-2010-to-Present/erm2-nwe9). The data are presented to you in four arrays each with **N** rows representing service requests over a period of about 4 weeks of full days.\n",
    " \n",
    "**Times:** N by 3 integer array of the _Day_ (counting from 0), _Hour_ (0 to 23), and _Day of the Week_ (Monday is 0) the request was created.\n",
    " \n",
    "**Requests:** N by 2 string array of the _Complaint_ and the _Descriptor_ for the request.\n",
    " \n",
    "**Locations:** N by 2 string array of the _City_ and _[Borough](https://en.wikipedia.org/wiki/Borough)_ for the request.\n",
    " \n",
    "**Coordinates:** N by 2 float array of the _X_ and _Y_ coordinates of the request in the [State Plane Coordinate system](https://en.wikipedia.org/wiki/State_Plane_Coordinate_System). You won't need to know anything about the coordinate system, just that they are two orthogonal coordinates in the plane. \n",
    " \n",
    "Think of the 4 arrays as representing one large table with the **N** rows and 9 columns. "
   ]
  },
  {
   "cell_type": "code",
   "execution_count": 4,
   "metadata": {
    "collapsed": false
   },
   "outputs": [],
   "source": [
    "Author = 'zewalker' # not your pid, your onyen\n",
    "Collaborators = []"
   ]
  },
  {
   "cell_type": "markdown",
   "metadata": {},
   "source": [
    "## Set up\n",
    "\n",
    "I will set up the environment for you here. Do not modify any of this."
   ]
  },
  {
   "cell_type": "code",
   "execution_count": 5,
   "metadata": {
    "collapsed": true
   },
   "outputs": [],
   "source": [
    "%matplotlib inline\n",
    "import numpy as np\n",
    "import pylab\n",
    "import comp116\n",
    "\n",
    "check, report = comp116.start('A5')\n",
    "\n",
    "# I'll load the data for you and make it unwriteable to protect you. \n",
    "# Don't change this!\n",
    "with np.load('311.npz') as data:\n",
    "    Times = data['Times']\n",
    "    Times.flags.writeable = False\n",
    "    Requests = data['Requests']\n",
    "    Requests.flags.writeable = False\n",
    "    Locations = data['Locations']\n",
    "    Locations.flags.writeable = False\n",
    "    Coordinates = data['Coordinates']\n",
    "    Coordinates.flags.writeable = False"
   ]
  },
  {
   "cell_type": "markdown",
   "metadata": {
    "collapsed": true
   },
   "source": [
    "## 1. How many requests do we have?\n",
    "\n",
    "I'm looking for **N** as in the description above."
   ]
  },
  {
   "cell_type": "code",
   "execution_count": 6,
   "metadata": {
    "collapsed": false
   },
   "outputs": [
    {
     "name": "stdout",
     "output_type": "stream",
     "text": [
      "Number of requests = 14204\n",
      "A1 appears correct\n"
     ]
    }
   ],
   "source": [
    "#Write your code here\n",
    "A1 = len(Times[:,0])\n",
    "\n",
    "print('Number of requests =', A1)\n",
    "\n",
    "check('A1', A1, points=4)"
   ]
  },
  {
   "cell_type": "markdown",
   "metadata": {},
   "source": [
    "## 2. What was the average number of requests per hour?"
   ]
  },
  {
   "cell_type": "code",
   "execution_count": 7,
   "metadata": {
    "collapsed": false
   },
   "outputs": [
    {
     "name": "stdout",
     "output_type": "stream",
     "text": [
      "Requests/hour = 22.7628205128\n",
      "A2 appears correct\n"
     ]
    }
   ],
   "source": [
    "#Write your code here\n",
    "A2 = A1/((np.max(Times[:,0]+1))*(Times[-1,1]+1))\n",
    "\n",
    "print('Requests/hour =', A2)\n",
    "check('A2', A2, points=4)"
   ]
  },
  {
   "cell_type": "markdown",
   "metadata": {},
   "source": [
    "## 3. Which cities are in the data?\n",
    "\n",
    "I want an alphabetized list of the different values in the city column of the locations. Each city name should be in the list only once."
   ]
  },
  {
   "cell_type": "code",
   "execution_count": 8,
   "metadata": {
    "collapsed": false
   },
   "outputs": [
    {
     "name": "stdout",
     "output_type": "stream",
     "text": [
      "Cities = ['Arverne', 'Astoria', 'Bayside', 'Bellerose', 'Bronx', 'Brooklyn', 'Cambria Heights', 'Central Park', 'College Point', 'Corona', 'East Elmhurst', 'Elmhurst', 'Far Rockaway', 'Floral Park', 'Flushing', 'Forest Hills', 'Fresh Meadows', 'Glen Oaks', 'Hollis', 'Howard Beach', 'Jackson Heights', 'Jamaica', 'Kew Gardens', 'Little Neck', 'Long Island City', 'Maspeth', 'Middle Village', 'New Hyde Park', 'New York', 'Oakland Gardens', 'Ozone Park', 'Queens', 'Queens Village', 'Rego Park', 'Richmond Hill', 'Ridgewood', 'Rockaway Park', 'Rosedale', 'Saint Albans', 'South Ozone Park', 'South Richmond Hill', 'Springfield Gardens', 'Staten Island', 'Sunnyside', 'Whitestone', 'Woodhaven', 'Woodside']\n",
      "A3 appears correct\n"
     ]
    }
   ],
   "source": [
    "#Write your code here\n",
    "pA3= sorted(Locations[:,0])\n",
    "A3= []\n",
    "for i in range(len(pA3)):\n",
    "    if i !=0:\n",
    "        if pA3[i] != pA3[i-1]:\n",
    "            A3.append(pA3[i])\n",
    "    else:\n",
    "        A3.append(pA3[0])\n",
    "           \n",
    "print('Cities =', A3)\n",
    "check('A3', A3, points=4)"
   ]
  },
  {
   "cell_type": "markdown",
   "metadata": {},
   "source": [
    "## 4. Which complaints happened every day?\n",
    "\n",
    "Your result should be an alphabetical list of complaints that occur every day in the data. In other words, if there is even a single day without a particular complaint, that complaint should not be in your list. Each complaint should only be in the list once."
   ]
  },
  {
   "cell_type": "code",
   "execution_count": 9,
   "metadata": {
    "collapsed": false
   },
   "outputs": [
    {
     "name": "stdout",
     "output_type": "stream",
     "text": [
      "Complaints that happened every day ['Blocked Driveway', 'Derelict Vehicle', 'Illegal Parking', 'Noise - Commercial', 'Noise - Street/Sidewalk', 'Noise - Vehicle', 'Traffic', 'Vending']\n",
      "A4 appears correct\n"
     ]
    }
   ],
   "source": [
    "A4 = []\n",
    "NDays = np.max(Times[:,0]) + 1\n",
    "day_comp = [ set() for i in range(NDays) ]\n",
    "for i in range(len(Times)):\n",
    "    day_comp[Times[i,0]].add(Requests[i,0])\n",
    "every_day = day_comp[0]\n",
    "for i in range(1, NDays):\n",
    "    every_day= every_day & day_comp[i]\n",
    "A4 = sorted(list(every_day))\n",
    "                   \n",
    "print('Complaints that happened every day', A4)\n",
    "check('A4', A4, points=8)"
   ]
  },
  {
   "cell_type": "markdown",
   "metadata": {},
   "source": [
    "## 5. Which time had the most requests?\n",
    "\n",
    "Your result should be a two-element array of the day and hour of the time that had the most requests."
   ]
  },
  {
   "cell_type": "code",
   "execution_count": 10,
   "metadata": {
    "collapsed": false
   },
   "outputs": [
    {
     "name": "stdout",
     "output_type": "stream",
     "text": [
      "Most requests [Day Hour] = [13 23]\n",
      "A5 appears correct\n"
     ]
    }
   ],
   "source": [
    "A5 = []\n",
    "kA5 = {}\n",
    "for i in range(len(Times[:,0])):\n",
    "    key1 = Times[i,0]\n",
    "    key2 = Times[i,1]\n",
    "    key = (key1, key2)\n",
    "    kA5[key] = kA5.get(key, 0) + 1\n",
    "pA5 = []\n",
    "for hi in kA5:\n",
    "    pA5.append(kA5.get(hi,0))\n",
    "ppA5 = np.max(pA5)\n",
    "for ho in kA5:\n",
    "    if kA5.get(ho,0) == ppA5:\n",
    "        A5.append(ho[0])\n",
    "        A5.append(ho[1])\n",
    "        A5= np.asarray(A5)\n",
    "print('Most requests [Day Hour] =', A5)\n",
    "check('A5', A5, points=8)"
   ]
  },
  {
   "cell_type": "markdown",
   "metadata": {},
   "source": [
    "## 6. Where are the parties?\n",
    "\n",
    "Which city has the most requests with descriptor 'Loud Music/Party'?"
   ]
  },
  {
   "cell_type": "code",
   "execution_count": 11,
   "metadata": {
    "collapsed": false
   },
   "outputs": [
    {
     "name": "stdout",
     "output_type": "stream",
     "text": [
      "Party City = New York\n",
      "A6 appears correct\n"
     ]
    }
   ],
   "source": [
    "Descriptor = 'Loud Music/Party'\n",
    "pA6 = {}\n",
    "A =0\n",
    "for oh in A3:\n",
    "    for i in range(A1):\n",
    "        if Locations[i,0] == oh:\n",
    "            if Requests[i,1] == Descriptor:\n",
    "                 pA6[oh] = pA6.get(oh, 0) + 1\n",
    "pA6_2 = []\n",
    "for hi in A3:\n",
    "    pA6_2.append(pA6.get(hi,0))\n",
    "pA6_3 = np.max(pA6_2)\n",
    "for ho in A3:\n",
    "    if pA6.get(ho,0) == pA6_3:\n",
    "        A6 = ho\n",
    "\n",
    "print('Party City =', A6)\n",
    "check('A6', A6, points=8)"
   ]
  },
  {
   "cell_type": "markdown",
   "metadata": {},
   "source": [
    "## 7. Where are they drinking in the Bronx?\n",
    "\n",
    "Plot points at the coordinates of the requests with borough 'Bronx' and complaint 'Drinking'.\n",
    "\n",
    "Do **not** augment the plot in any way. No titles, etc. "
   ]
  },
  {
   "cell_type": "code",
   "execution_count": 12,
   "metadata": {
    "collapsed": false
   },
   "outputs": [
    {
     "name": "stdout",
     "output_type": "stream",
     "text": [
      "A7 appears correct\n"
     ]
    },
    {
     "data": {
      "image/png": "[encoded data removed]",
      "text/plain": [
       "<matplotlib.figure.Figure at 0x10abeca58>"
      ]
     },
     "metadata": {},
     "output_type": "display_data"
    }
   ],
   "source": [
    "Borough = 'Bronx'\n",
    "Complaint = 'Drinking'\n",
    "x= []\n",
    "y= []\n",
    "for i in range(A1):\n",
    "    if Locations[i,1]== Borough:\n",
    "        if Requests[i,0] == Complaint:\n",
    "            x.append(Coordinates[i,0])\n",
    "            y.append(Coordinates[i,1])\n",
    "pylab.plot(x,y)\n",
    "    \n",
    "#Write your code here\n",
    "\n",
    "#These lines format the graph to make it look nicer, no need to change them\n",
    "pylab.axes().set_aspect('equal', 'datalim')\n",
    "pylab.grid()\n",
    "\n",
    "check('A7', pylab.gcf(), points=8)"
   ]
  },
  {
   "cell_type": "markdown",
   "metadata": {},
   "source": [
    "## 8. Where is the most blocked driveway?\n",
    "\n",
    "I want the coordinate that has the most requests with complaint 'Blocked Driveway'? I'm expecting a two-element float array with the X/Y coordinate of the driveway with the most complaints."
   ]
  },
  {
   "cell_type": "code",
   "execution_count": 13,
   "metadata": {
    "collapsed": false
   },
   "outputs": [
    {
     "name": "stdout",
     "output_type": "stream",
     "text": [
      "A8 appears correct\n"
     ]
    }
   ],
   "source": [
    "Complaint = 'Blocked Driveway'\n",
    "bA8 = []\n",
    "A8 = []\n",
    "aA8 = {}\n",
    "for i in range(len(Times[:,0])):\n",
    "    key1 = Coordinates[i,0]\n",
    "    key2 = Coordinates[i,1]\n",
    "    key = (key1, key2)\n",
    "    if Requests[i,0] ==Complaint:\n",
    "        aA8[key] = aA8.get(key, 0) + 1\n",
    "for hi in aA8:\n",
    "    bA8.append(aA8.get(hi,0))\n",
    "cA8 = np.max(bA8)\n",
    "for ho in aA8:\n",
    "    if aA8.get(ho,0) == cA8:\n",
    "        A8.append(ho[0])\n",
    "        A8.append(ho[1])\n",
    "        A8= np.asarray(A8)\n",
    "A8\n",
    "\n",
    "check('A8', A8, points=12)"
   ]
  },
  {
   "cell_type": "markdown",
   "metadata": {},
   "source": [
    "## 9. How long can I sleep?\n",
    "\n",
    "What is the length the longest run of hours with no requests having the string 'Noise' anywhere in the complaint?"
   ]
  },
  {
   "cell_type": "code",
   "execution_count": 31,
   "metadata": {
    "collapsed": false
   },
   "outputs": [
    {
     "name": "stdout",
     "output_type": "stream",
     "text": [
      "Longest run of quiet hours = 0\n",
      "A9 incorrect\n",
      "  expected 6\n"
     ]
    }
   ],
   "source": [
    "Word = 'Noise' # anywhere in the Complaint\n",
    "\n",
    "maxrun= 0\n",
    "run=0\n",
    "Ohno= np.zeros(24)     \n",
    "for i in range(24):\n",
    "    for j in range(A1):\n",
    "        if Times[j,1]==i:\n",
    "            if Word in Requests[j,0]:\n",
    "                Ohno[Times[j,1]] = 1\n",
    "    if np.max(Ohno)==0:\n",
    "        run = run+1\n",
    "        if run > maxrun:\n",
    "            maxrun = run\n",
    "    else:\n",
    "        run=0\n",
    "    Ohno= np.zeros(24)  \n",
    "            \n",
    "#longestrun = 0\n",
    "#run = 0\n",
    "#for i in range(A1):\n",
    "    #if Word not in Requests[i,0]:\n",
    "        #if (Times[i,1] != Times[i-1,1]) or (i==0):\n",
    "            #run = run +1\n",
    "            #if run >longestrun:\n",
    "                #longestrun = run\n",
    "    #else:\n",
    "        #run=0\n",
    "# Write your code here\n",
    "A9 = maxrun\n",
    "\n",
    "print('Longest run of quiet hours =', A9)\n",
    "check('A9', A9, points=12)"
   ]
  },
  {
   "cell_type": "markdown",
   "metadata": {
    "collapsed": true
   },
   "source": [
    "## 10. What was the average number of parties for each day of the week?\n",
    "\n",
    "I want an array with 7 entries giving the average number of requests with descriptor 'Loud Music/Party' for each day of the week (Monday through Sunday). \n",
    "\n",
    "Note that the number of days **may not** be a multiple of 7 which means the divisor for each day of the week may be different. For example, there may be 4 Saturdays but only 3 Thursdays. You can't simply add up the number of requests for each day of the week. You'll need to compute the divisor for each day of the week because the dataset I use for grading may be different."
   ]
  },
  {
   "cell_type": "code",
   "execution_count": 20,
   "metadata": {
    "collapsed": false
   },
   "outputs": [
    {
     "name": "stdout",
     "output_type": "stream",
     "text": [
      "Average parties each day of the week = [  70.     58.5    81.25   84.     90.    202.5   207.5 ]\n",
      "A10 appears correct\n"
     ]
    }
   ],
   "source": [
    "Descriptor = 'Loud Music/Party'\n",
    "dailyrequests = np.zeros(7)\n",
    "dailycounts = np.zeros(7)\n",
    "for j in range(7):\n",
    "    for i in range(A1):\n",
    "        if Times[i,2]==j:\n",
    "            if Times[i,2]!= Times[i-1,2]:\n",
    "                dailycounts[j] = dailycounts[j]+1\n",
    "            if Requests[i,1] == Descriptor:\n",
    "                dailyrequests[j] = dailyrequests[j]+1\n",
    "A10 = dailyrequests/dailycounts\n",
    "\n",
    "print('Average parties each day of the week =', A10)\n",
    "check('A10', A10, points=12)"
   ]
  },
  {
   "cell_type": "markdown",
   "metadata": {},
   "source": [
    "## 11. How far will an inspector have to travel?\n",
    "\n",
    "How far will an inspector have to travel to visit, in the order they occurred, all of the coordinates with complaint 'Derelict Vehicle' and city 'Astoria'? That is, compute the sum of the distances between consecutive coordinates of these requests. Your answer will have the same units as the coordinates."
   ]
  },
  {
   "cell_type": "code",
   "execution_count": 22,
   "metadata": {
    "collapsed": false
   },
   "outputs": [
    {
     "name": "stdout",
     "output_type": "stream",
     "text": [
      "Distance traveled = 76673.2982453\n",
      "A11 appears correct\n"
     ]
    }
   ],
   "source": [
    "City = 'Astoria'\n",
    "Complaint = 'Derelict Vehicle'\n",
    "\n",
    "inspector = [0,0,0,0]\n",
    "tester= 0\n",
    "distance = 0\n",
    "def dist(x1,y1,x2,y2):\n",
    "    return np.sqrt((x2-x1)**2+(y2-y1)**2)\n",
    "for i in range(A1):\n",
    "    if Locations[i,0] == City:\n",
    "        if Requests[i,0] == Complaint:\n",
    "            if tester != 0:\n",
    "                inspector[2] = Coordinates[i,0]\n",
    "                inspector[3] = Coordinates[i,1]\n",
    "                z = inspector[0]\n",
    "                a = inspector[1]\n",
    "                c = inspector[2]\n",
    "                h = inspector[3]\n",
    "                newdistance = dist(z,a,c,h)\n",
    "                distance = distance + newdistance\n",
    "                inspector[0] = Coordinates[i,0]\n",
    "                inspector[1] = Coordinates[i,1]\n",
    "            elif tester == 0:\n",
    "                inspector[0] = Coordinates[i,0]\n",
    "                inspector[1] = Coordinates[i,1]\n",
    "                tester = 1\n",
    "        \n",
    "# Write your code here\n",
    "A11 = distance\n",
    "\n",
    "print('Distance traveled =', A11)\n",
    "check('A11', A11, points=12)\n"
   ]
  },
  {
   "cell_type": "markdown",
   "metadata": {},
   "source": [
    "## 12. Which descriptors only occur after office hours?\n",
    "\n",
    "The office opens at 8am and closes precisely at 5pm (17 in 24 hour time we are using), Monday through Friday. The office is closed at all other times.\n",
    "\n",
    "Which request descriptors came in while the office was closed but never while it was open? I'm looking for a list of different descriptors in alphabetical order. Each descriptor should be in the list only once."
   ]
  },
  {
   "cell_type": "code",
   "execution_count": 18,
   "metadata": {
    "collapsed": false
   },
   "outputs": [
    {
     "name": "stdout",
     "output_type": "stream",
     "text": [
      "After hours requests = ['After Hours - Licensed Est', 'Building', 'Nuisance/Truant']\n",
      "A12 appears correct\n"
     ]
    }
   ],
   "source": [
    "# Write your code here\n",
    "A12 = []\n",
    "bA12 = {}\n",
    "for k in range(len(Times[:,0])):\n",
    "    if Times[k,2] >= 4 or 8 > Times[k,1] or Times[k,1] >= 17:\n",
    "        key = Requests[k,1]\n",
    "        bA12[key] = bA12.get(key,0) + 1\n",
    "for i in range(len(Times[:,0])):\n",
    "    if Times[i,2] <= 4 and 8 <= Times[i,1] < 17:\n",
    "        key = Requests[i,1]\n",
    "        bA12[key] = 0       \n",
    "for j in bA12:\n",
    "    if bA12[j] != 0:\n",
    "        A12.append(j)\n",
    "A12 = sorted(A12)\n",
    "\n",
    "\n",
    "print('After hours requests =', A12)\n",
    "check('A12', A12, points=12)"
   ]
  },
  {
   "cell_type": "code",
   "execution_count": 23,
   "metadata": {
    "collapsed": false
   },
   "outputs": [
    {
     "name": "stdout",
     "output_type": "stream",
     "text": [
      "A1 appears correct\n",
      "A2 appears correct\n",
      "A3 appears correct\n",
      "A4 appears correct\n",
      "A5 appears correct\n",
      "A6 appears correct\n",
      "A7 appears correct\n",
      "A8 appears correct\n",
      "A9 incorrect\n",
      "A10 appears correct\n",
      "A11 appears correct\n",
      "A12 appears correct\n",
      "Report for zewalker\n",
      "  Collaborators: []\n",
      "  11.0 of 12 possibly correct for up to 88.0 of 100 points\n"
     ]
    },
    {
     "data": {
      "text/html": [
       "\n",
       "<p>Click the button below to submit your notebook. Watch for a confirmation message\n",
       "that your notebook was successfully uploaded. You may submit as often as you wish,\n",
       "only the last submission will count.</p>\n",
       "<button id=\"submitButton116\">Submit this notebook</button>\n",
       "<p id=\"submitResponse116\"></p>\n",
       "<script>\n",
       "var site = 'https://wwwx.cs.unc.edu/Courses/comp116-001-f16/';\n",
       "$('#submitButton116').on('click', function() {\n",
       "    var site = 'https://wwwx.cs.unc.edu/Courses/comp116-001-f16/',\n",
       "        $sresp = $('#submitResponse116'),\n",
       "        button = $('#submitButton116');\n",
       "    button.prop('disabled', true);\n",
       "    // wait until save is complete before pushing the notebook\n",
       "    $([IPython.events]).one('notebook_saved.Notebook', function() {\n",
       "        // get the token by logging in\n",
       "        $sresp.html('logging in');\n",
       "        $.ajax({\n",
       "            url: site + 'io/token/token.cgi',\n",
       "            dataType: 'jsonp'\n",
       "        }).done(function(data) {\n",
       "            var notebook = IPython.notebook.notebook_name,\n",
       "                uuid = data.token,\n",
       "                command = \"comp116.pushNotebook('\" + notebook + \"', '\" + uuid + \"')\",\n",
       "                kernel = IPython.notebook.kernel,\n",
       "                handler = function (out) {\n",
       "                    $('#comp116-stop-message').show();\n",
       "                    if (out.content.status == \"ok\") {\n",
       "                        $sresp.html(\"Successfully submitted \" + notebook);\n",
       "                        $('#comp116-stop-message').hide();\n",
       "                    } else if(out.content.status == \"error\") {\n",
       "                        $sresp.html(out.content.ename + \": \" + out.content.evalue);\n",
       "                    } else { // if output is something we haven't thought of\n",
       "                        $sresp.html(\"[out type not implemented]\")\n",
       "                    }\n",
       "                    button.prop('disabled', false);\n",
       "                };\n",
       "            $sresp.html('Submitting');\n",
       "            kernel.execute(command, {shell: { reply: handler }});\n",
       "        }).fail(function() {\n",
       "            $sresp.html('Login failed');\n",
       "            button.prop('disabled', false);\n",
       "        });\n",
       "    });\n",
       "    // trigger the save\n",
       "    $sresp.html('Saving');\n",
       "    IPython.notebook.save_notebook();\n",
       "});"
      ],
      "text/plain": [
       "<IPython.core.display.HTML object>"
      ]
     },
     "execution_count": 23,
     "metadata": {},
     "output_type": "execute_result"
    }
   ],
   "source": [
    "report(Author, Collaborators)"
   ]
  },
  {
   "cell_type": "code",
   "execution_count": null,
   "metadata": {
    "collapsed": true
   },
   "outputs": [],
   "source": []
  }
 ],
 "metadata": {
  "anaconda-cloud": {},
  "kernelspec": {
   "display_name": "Python [Root]",
   "language": "python",
   "name": "Python [Root]"
  },
  "language_info": {
   "codemirror_mode": {
    "name": "ipython",
    "version": 3
   },
   "file_extension": ".py",
   "mimetype": "text/x-python",
   "name": "python",
   "nbconvert_exporter": "python",
   "pygments_lexer": "ipython3",
   "version": "3.5.2"
  }
 },
 "nbformat": 4,
 "nbformat_minor": 0
}
