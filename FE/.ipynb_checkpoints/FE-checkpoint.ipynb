{
 "cells": [
  {
   "cell_type": "markdown",
   "metadata": {},
   "source": [
    "# Comp 116 Final Exam Fall 2016\n",
    "\n",
    "**Don't Panic!**\n",
    "\n",
    "You may use any Python features. Many questions will be easy to answer using Numpy functions. Feel free to use them.\n",
    "\n",
    "**The solution for every question must be a function.** Simply computing the result is insufficient, you must write a function that depends only on the input arguments and produces the correct result.\n",
    "\n",
    "**You may not use the network** for anything except retrieving and submitting your exam. Any other use will be a violation of the Honor Code.\n",
    "\n",
    "**You must disable network access on your laptop while taking the exam.** You will lose points on the exam if my automatic tests detect that you have network access enabled.\n",
    "\n",
    "**You must submit your exam notebook before you leave the room.** I **will not** accept claims that you forgot to submit it. You will be marked absent if you do not submit the exam before you leave the room.\n",
    "\n",
    "**You must submit only once just before you leave.** Do **not** submit several times during the exam. I will grade your first submission.\n",
    "\n",
    "If you leave before 6:30 PM you must show your successful submission message to me or one of the LAs before you leave. \n",
    "\n",
    "You may use any resources that you have stored locally on your computer or any paper notes, books, etc.\n",
    "\n",
    "Of course you may not use any phones, friends, etc.\n",
    "\n",
    "Enter your onyen below."
   ]
  },
  {
   "cell_type": "code",
   "execution_count": 129,
   "metadata": {
    "collapsed": true
   },
   "outputs": [],
   "source": [
    "Author = 'zewalker' # not your pid, your onyen"
   ]
  },
  {
   "cell_type": "markdown",
   "metadata": {},
   "source": [
    "## Honor Pledge\n",
    "\n",
    "I certify that no unauthorized assistance has been received or given in the completion of this work. \n",
    "\n",
    "Enter your full name as the value of the Pledge variable below."
   ]
  },
  {
   "cell_type": "code",
   "execution_count": 130,
   "metadata": {
    "collapsed": true
   },
   "outputs": [],
   "source": [
    "Pledge = 'Zachary Walker' # type your full name between the quotes"
   ]
  },
  {
   "cell_type": "markdown",
   "metadata": {},
   "source": [
    "## Set up\n",
    "\n",
    "I will set up the environment for you here. Do not modify any of this."
   ]
  },
  {
   "cell_type": "code",
   "execution_count": 131,
   "metadata": {
    "collapsed": false
   },
   "outputs": [],
   "source": [
    "%matplotlib inline\n",
    "import numpy as np\n",
    "import pylab\n",
    "import comp116\n",
    "\n",
    "check, report = comp116.start('FE')\n",
    "\n",
    "with np.load('weather.npz') as data:\n",
    "    temp = data['temp']\n",
    "    temp.flags.writeable = False\n",
    "    dewp = data['dewp']\n",
    "    dewp.flags.writeable = False\n",
    "    prcp = data['prcp']\n",
    "    prcp.flags.writeable = False\n",
    "    coords = data['coords']\n",
    "    coords.flags.writeable = False"
   ]
  },
  {
   "cell_type": "markdown",
   "metadata": {},
   "source": [
    "# Data description\n",
    "\n",
    "These data represent hourly reports from several NC weather stations. The array `temp` is the temperature in Fahrenheit, `dewp` is the dew point in Fahrenheit, and `prcp` is the precipitation in inches.\n",
    "\n",
    "If NDays is the number of days and NStations is the number of stations, then these 3 arrays are each NStations by NDays by 24 in size. \n",
    "\n",
    "Finally, `coords` is a NStations by 2 array giving the latitude and longitude of each station."
   ]
  },
  {
   "cell_type": "markdown",
   "metadata": {},
   "source": [
    "## 1. How many stations and days are in the data?\n",
    "\n",
    "Write a function `F1` that returns a tuple with the number of stations and the number of days like: (NStations, NDays) given `temp` as its argument."
   ]
  },
  {
   "cell_type": "code",
   "execution_count": 132,
   "metadata": {
    "collapsed": false
   },
   "outputs": [
    {
     "name": "stdout",
     "output_type": "stream",
     "text": [
      "F1 returns (5, 360)\n",
      "Q1 function signature appears correct\n",
      "Q1-result appears correct\n"
     ]
    }
   ],
   "source": [
    "# write your function here\n",
    "def F1(temp):\n",
    "    return (temp.shape[0], temp.shape[1])\n",
    "\n",
    "# let's see what your function returns\n",
    "print('F1 returns', F1(temp))\n",
    "\n",
    "check('Q1', F1, temp, points=10)"
   ]
  },
  {
   "cell_type": "markdown",
   "metadata": {},
   "source": [
    "## 2. What was the maximum temperature recorded at any station?\n",
    "\n",
    "Write a function F2 that returns the maximum temperature for any station given the `temp` array. "
   ]
  },
  {
   "cell_type": "code",
   "execution_count": 133,
   "metadata": {
    "collapsed": false
   },
   "outputs": [
    {
     "name": "stdout",
     "output_type": "stream",
     "text": [
      "F2 returns 98.0\n",
      "Q2 function signature appears correct\n",
      "Q2-result appears correct\n"
     ]
    }
   ],
   "source": [
    "# write your function here\n",
    "def F2(temp):\n",
    "    return np.max(temp)\n",
    "\n",
    "# let's see what your function returns\n",
    "print('F2 returns', F2(temp))\n",
    "\n",
    "check('Q2', F2, temp, points=10)"
   ]
  },
  {
   "cell_type": "markdown",
   "metadata": {},
   "source": [
    "## 3. What was rainiest day at each station?\n",
    "\n",
    "Write a function `F3` that returns the day number (index of the 2nd dimension) of the day with the most rain for each station given the `prcp` array."
   ]
  },
  {
   "cell_type": "code",
   "execution_count": 134,
   "metadata": {
    "collapsed": false
   },
   "outputs": [
    {
     "name": "stdout",
     "output_type": "stream",
     "text": [
      "F3 returns [168 305 245 275 267]\n",
      "Q3 function signature appears correct\n",
      "Q3-result appears correct\n"
     ]
    }
   ],
   "source": [
    "# write your function here\n",
    "def F3(prcp):\n",
    "    daysum= np.sum(prcp, axis=2)\n",
    "    stationmax = np.argmax(daysum, axis=1)\n",
    "    return stationmax\n",
    "\n",
    "# let's see what your function returns\n",
    "print('F3 returns', F3(prcp))\n",
    "\n",
    "check('Q3', F3, prcp, points=10)"
   ]
  },
  {
   "cell_type": "markdown",
   "metadata": {},
   "source": [
    "## 4. Plot the daily mean temperature for each site.\n",
    "\n",
    "Write a function `F4` that takes `temp` as its only argument and plots one line for each site in the default colors.\n",
    "\n",
    "For the checking to work properly you have to `return pylab.gcf()` as shown below."
   ]
  },
  {
   "cell_type": "code",
   "execution_count": 135,
   "metadata": {
    "collapsed": false
   },
   "outputs": [
    {
     "name": "stdout",
     "output_type": "stream",
     "text": [
      "Q4 function signature appears correct\n",
      "Q4-result appears correct\n"
     ]
    },
    {
     "data": {
      "image/png": "[encoded data removed]",
      "text/plain": [
       "<matplotlib.figure.Figure at 0x10f290da0>"
      ]
     },
     "metadata": {},
     "output_type": "display_data"
    }
   ],
   "source": [
    "def F4(temp):\n",
    "    pylab.plot(np.mean(temp, axis=2).T)\n",
    "    return pylab.gcf()\n",
    "\n",
    "check('Q4', F4, temp, points=10)"
   ]
  },
  {
   "cell_type": "markdown",
   "metadata": {},
   "source": [
    "## 5. What was the highest temperature during hours where the precipitation exceeded 0.1 inch?\n",
    "\n",
    "Write a function `F5` that takes `temp` and `prcp` as arguments and returns the single highest temperature."
   ]
  },
  {
   "cell_type": "code",
   "execution_count": 136,
   "metadata": {
    "collapsed": false
   },
   "outputs": [
    {
     "name": "stdout",
     "output_type": "stream",
     "text": [
      "F5 returns 85.0\n",
      "Q5 function signature appears correct\n",
      "Q5-result appears correct\n"
     ]
    }
   ],
   "source": [
    "# Write your function here\n",
    "def F5(temp, prcp):\n",
    "    overInch = prcp > 0.1\n",
    "    return np.max(temp[overInch])\n",
    "\n",
    "# let's see what your function returns\n",
    "print('F5 returns', F5(temp, prcp))\n",
    "\n",
    "check('Q5', F5, temp, prcp, points=10)"
   ]
  },
  {
   "cell_type": "markdown",
   "metadata": {},
   "source": [
    "## 6. At each station, how many days did the temperature exceed 90 degrees for at least 3 hours?\n",
    "\n",
    "Write a function `F6` that takes temp as its only argument and returns the number of days for each station."
   ]
  },
  {
   "cell_type": "code",
   "execution_count": 137,
   "metadata": {
    "collapsed": false
   },
   "outputs": [
    {
     "name": "stdout",
     "output_type": "stream",
     "text": [
      "F6 returns [35 51 27  0 30]\n",
      "Q6 function signature appears correct\n",
      "Q6-result appears correct\n"
     ]
    }
   ],
   "source": [
    "# Write your function here\n",
    "def F6(temp):\n",
    "    over90 = temp >90\n",
    "    daysWithOver90 = np.sum(over90, axis=2)\n",
    "    atLeast3Hours = daysWithOver90 >=3\n",
    "    atLeast3HoursPerStation = np.sum(atLeast3Hours, axis=1)\n",
    "    return atLeast3HoursPerStation\n",
    "\n",
    "# let's see what your function returns\n",
    "print('F6 returns', F6(temp))\n",
    "\n",
    "check('Q6', F6, temp, points=10)"
   ]
  },
  {
   "cell_type": "markdown",
   "metadata": {},
   "source": [
    "## 7. What is the difference in total rainfall between the two stations that are farthest apart?\n",
    "\n",
    "Write a function `F7` that takes `prcp` and `coords` as arguments and returns a single floating point number representing the absolute difference in total rainfall between the two stations that are farthest apart. Simply treat the coordinates as points in a planar coordinate system for this problem."
   ]
  },
  {
   "cell_type": "code",
   "execution_count": 138,
   "metadata": {
    "collapsed": false
   },
   "outputs": [
    {
     "name": "stdout",
     "output_type": "stream",
     "text": [
      "F7 returns 22.45\n",
      "Q7 function signature appears correct\n",
      "Q7-result appears correct\n"
     ]
    }
   ],
   "source": [
    "#Write your function here\n",
    "def F7(prcp, coords):\n",
    "    def dist(x1,y1,x2,y2):\n",
    "        return np.sqrt((x1-x2)**2+(y1-y2)**2)\n",
    "    distances = []\n",
    "    for i in range(coords.shape[0]):\n",
    "        for j in range(coords.shape[0]):\n",
    "            distances.append([i,j])\n",
    "    coordsDistance = [0,0,0,0]\n",
    "    currentmax= 0\n",
    "    for k in distances:\n",
    "        coordsDistance[0]= coords[k[0],0]\n",
    "        coordsDistance[1]= coords[k[0],1]\n",
    "        coordsDistance[2]= coords[k[1],0]\n",
    "        coordsDistance[3]= coords[k[1],1]\n",
    "        total= dist(coordsDistance[0],coordsDistance[1],coordsDistance[2],coordsDistance[3])\n",
    "        if total > currentmax:\n",
    "            currentmax = total\n",
    "            currentmax2 = k\n",
    "    finaldifference = np.abs(np.sum(prcp[currentmax2[0]])-np.sum(prcp[currentmax2[1]]))\n",
    "    return finaldifference\n",
    "\n",
    "# let's see what your function returns\n",
    "print('F7 returns', F7(prcp, coords))\n",
    "\n",
    "check('Q7', F7, prcp, coords, points=10)"
   ]
  },
  {
   "cell_type": "markdown",
   "metadata": {},
   "source": [
    "## 8. At each station, how many days did the temperature not rise at all.\n",
    "\n",
    "That is, how many days did the temperature only stay the same or drop from hour to hour. \n",
    "\n",
    "Write a function `F8` that takes `temp` as an argument and returns the number of days for each station."
   ]
  },
  {
   "cell_type": "code",
   "execution_count": 139,
   "metadata": {
    "collapsed": false
   },
   "outputs": [
    {
     "name": "stdout",
     "output_type": "stream",
     "text": [
      "F8 returns [1 2 0 1 2]\n",
      "Q8 function signature appears correct\n",
      "Q8-result appears correct\n"
     ]
    }
   ],
   "source": [
    "def F8(temp):\n",
    "    noRise= []\n",
    "    for i in range(temp.shape[0]):\n",
    "        counter=0 \n",
    "        for j in range(temp.shape[1]):\n",
    "            differences = np.diff(temp[i], axis=1)\n",
    "            noChange = differences <=0\n",
    "            if np.all(noChange[j]):\n",
    "                counter +=1\n",
    "        noRise.append(counter)\n",
    "    return np.asarray(noRise)\n",
    "\n",
    "# let's see what your function returns\n",
    "print('F8 returns', F8(temp))\n",
    "\n",
    "check('Q8', F8, temp, points=10)"
   ]
  },
  {
   "cell_type": "markdown",
   "metadata": {},
   "source": [
    "## 9. What was the longest run of days where the high temperature exceeded 90 degrees?\n",
    "\n",
    "Write a function `F9` that takes `temp` as its only argument and returns the length of the longest run for any station. Note I want a single result and not per station."
   ]
  },
  {
   "cell_type": "code",
   "execution_count": 140,
   "metadata": {
    "collapsed": false
   },
   "outputs": [
    {
     "name": "stdout",
     "output_type": "stream",
     "text": [
      "F9 returns 16\n",
      "Q9 function signature appears correct\n",
      "Q9-result appears correct\n"
     ]
    }
   ],
   "source": [
    "# Write your function here\n",
    "def F9(temp):\n",
    "    longeststreak = []\n",
    "    temps= np.max(temp, axis=2)\n",
    "    for i in range(temps.shape[0]):\n",
    "        run = 0\n",
    "        longestrun = 0\n",
    "        for j in range(temps.shape[1]):\n",
    "            if temps[i,j]> 90:\n",
    "                run+=1\n",
    "                if run > longestrun:\n",
    "                    longestrun = run\n",
    "            else:\n",
    "                run = 0\n",
    "        longeststreak.append(longestrun)\n",
    "    return np.max(longeststreak)\n",
    "\n",
    "# let's see what your function returns\n",
    "print('F9 returns', F9(temp))\n",
    "\n",
    "check('Q9', F9, temp, points=10)"
   ]
  },
  {
   "cell_type": "markdown",
   "metadata": {},
   "source": [
    "## 10. At each station, how many days had at least 6 consecutive  _beautiful_ hours?\n",
    "\n",
    "Where _beautiful_ is defined to be rain free with temperature no less than 60 degrees and dew point no greater than 60 degrees between the hours of 7am and 7pm inclusive. \n",
    "\n",
    "This is a more relaxed definition than in the preview where all of the hours had to be _beautiful_; now the requirement is for a run of at least 6 hours that are _beautiful_.\n",
    "\n",
    "Write a function `F10` that takes `temp`, `dewp`, and `prcp` and returns an array containing the number of days satisfying the conditions for each station."
   ]
  },
  {
   "cell_type": "code",
   "execution_count": 141,
   "metadata": {
    "collapsed": false
   },
   "outputs": [
    {
     "name": "stdout",
     "output_type": "stream",
     "text": [
      "F10 returns [111 131 101 203 121]\n",
      "Q10 function signature appears correct\n",
      "Q10-result appears correct\n"
     ]
    }
   ],
   "source": [
    "# Write your function here\n",
    "def F10(temp, dewp, prcp):\n",
    "    finalbeaut = []\n",
    "    beauttemp = temp[:,:,:] >= 60\n",
    "    beautdewp = dewp[:,:,:] <= 60\n",
    "    beautprcp = prcp[:,:,:] == 0\n",
    "    beautday = beauttemp & beautdewp & beautprcp\n",
    "    for i in range(temp.shape[0]):\n",
    "        counter = 0\n",
    "        for j in range(temp.shape[1]):\n",
    "            run=0\n",
    "            for k in range(temp.shape[2]):\n",
    "                if 7<= k <=19:\n",
    "                    if beautday[i,j,k]:\n",
    "                        run +=1\n",
    "                        if run >=6:\n",
    "                            counter +=1\n",
    "                            break\n",
    "                    else:\n",
    "                        run =0\n",
    "        finalbeaut.append(counter)\n",
    "    return np.asarray(finalbeaut)\n",
    "                    \n",
    "# let's see what your function returns\n",
    "print('F10 returns', F10(temp, dewp, prcp))\n",
    "\n",
    "check('Q10', F10, temp, dewp, prcp, points=10)"
   ]
  },
  {
   "cell_type": "code",
   "execution_count": 143,
   "metadata": {
    "collapsed": false
   },
   "outputs": [
    {
     "name": "stdout",
     "output_type": "stream",
     "text": [
      "Q1 appears correct\n",
      "Q1-result appears correct\n",
      "Q2 appears correct\n",
      "Q2-result appears correct\n",
      "Q3 appears correct\n",
      "Q3-result appears correct\n",
      "Q4 appears correct\n",
      "Q4-result appears correct\n",
      "Q5 appears correct\n",
      "Q5-result appears correct\n",
      "Q6 appears correct\n",
      "Q6-result appears correct\n",
      "Q7 appears correct\n",
      "Q7-result appears correct\n",
      "Q8 appears correct\n",
      "Q8-result appears correct\n",
      "Q9 appears correct\n",
      "Q9-result appears correct\n",
      "Q10 appears correct\n",
      "Q10-result appears correct\n",
      "Report for zewalker\n",
      "  Pledged on my honor: Zachary Walker\n",
      "    zewalker\n",
      "  20.0 of 20 possibly correct for up to 100.0 of 100 points\n"
     ]
    },
    {
     "data": {
      "text/html": [
       "\n",
       "<p>Click the button below to submit your notebook. Watch for a confirmation message\n",
       "that your notebook was successfully uploaded. You may submit as often as you wish,\n",
       "only the last submission will count.</p>\n",
       "<button id=\"submitButton116\">Submit this notebook</button>\n",
       "<p id=\"submitResponse116\"></p>\n",
       "<script>\n",
       "var site = 'https://wwwx.cs.unc.edu/Courses/comp116-001-f16/';\n",
       "$('#submitButton116').on('click', function() {\n",
       "    var site = 'https://wwwx.cs.unc.edu/Courses/comp116-001-f16/',\n",
       "        $sresp = $('#submitResponse116'),\n",
       "        button = $('#submitButton116');\n",
       "    button.prop('disabled', true);\n",
       "    // wait until save is complete before pushing the notebook\n",
       "    $([IPython.events]).one('notebook_saved.Notebook', function() {\n",
       "        // get the token by logging in\n",
       "        $sresp.html('logging in');\n",
       "        $.ajax({\n",
       "            url: site + 'io/token/token.cgi',\n",
       "            dataType: 'jsonp'\n",
       "        }).done(function(data) {\n",
       "            var notebook = IPython.notebook.notebook_name,\n",
       "                uuid = data.token,\n",
       "                command = \"comp116.pushNotebook('\" + notebook + \"', '\" + uuid + \"')\",\n",
       "                kernel = IPython.notebook.kernel,\n",
       "                handler = function (out) {\n",
       "                    $('#comp116-stop-message').show();\n",
       "                    if (out.content.status == \"ok\") {\n",
       "                        $sresp.html(\"Successfully submitted \" + notebook);\n",
       "                        $('#comp116-stop-message').hide();\n",
       "                    } else if(out.content.status == \"error\") {\n",
       "                        $sresp.html(out.content.ename + \": \" + out.content.evalue);\n",
       "                    } else { // if output is something we haven't thought of\n",
       "                        $sresp.html(\"[out type not implemented]\")\n",
       "                    }\n",
       "                    button.prop('disabled', false);\n",
       "                };\n",
       "            $sresp.html('Submitting');\n",
       "            kernel.execute(command, {shell: { reply: handler }});\n",
       "        }).fail(function() {\n",
       "            $sresp.html('Login failed');\n",
       "            button.prop('disabled', false);\n",
       "        });\n",
       "    });\n",
       "    // trigger the save\n",
       "    $sresp.html('Saving');\n",
       "    IPython.notebook.save_notebook();\n",
       "});"
      ],
      "text/plain": [
       "<IPython.core.display.HTML object>"
      ]
     },
     "execution_count": 143,
     "metadata": {},
     "output_type": "execute_result"
    }
   ],
   "source": [
    "report(Author, Pledge)"
   ]
  },
  {
   "cell_type": "code",
   "execution_count": null,
   "metadata": {
    "collapsed": true
   },
   "outputs": [],
   "source": []
  }
 ],
 "metadata": {
  "kernelspec": {
   "display_name": "Python [Root]",
   "language": "python",
   "name": "Python [Root]"
  },
  "language_info": {
   "codemirror_mode": {
    "name": "ipython",
    "version": 3
   },
   "file_extension": ".py",
   "mimetype": "text/x-python",
   "name": "python",
   "nbconvert_exporter": "python",
   "pygments_lexer": "ipython3",
   "version": "3.5.2"
  }
 },
 "nbformat": 4,
 "nbformat_minor": 1
}
