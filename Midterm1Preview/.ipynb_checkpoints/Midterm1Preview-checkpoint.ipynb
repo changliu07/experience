{
 "cells": [
  {
   "cell_type": "markdown",
   "metadata": {},
   "source": [
    "# Midterm Exam 1 Preview\n",
    "\n",
    "This is a preview of the first midterm exam for Comp 116 in fall 2016. The dataset for the exam will have the same form as this one. It will likely have a different number of days (rows) and stations (columns).\n",
    "\n",
    "You **may not use** _loops_, _list comprehensions_, or any other fancy pants python features we haven't covered yet.\n",
    "\n",
    "You **may not use the Internet** for anything except retrieving and submitting your exam. Any other use will be a violation of the Honor Code. \n",
    "\n",
    "You must put your laptop in **airplane mode** while you take the exam.\n",
    "\n",
    "You may use any resources that you have stored locally on your computer or any paper notes, books, etc.\n",
    "\n",
    "Of course you may **not** use any phones, friends, etc.\n",
    "\n",
    "Enter your onyen below."
   ]
  },
  {
   "cell_type": "code",
   "execution_count": 10,
   "metadata": {
    "collapsed": true
   },
   "outputs": [],
   "source": [
    "Author = 'zewalker' # not your pid, your onyen"
   ]
  },
  {
   "cell_type": "markdown",
   "metadata": {},
   "source": [
    "## Honor Pledge\n",
    "\n",
    "I certify that no unauthorized assistance has been received or given in the completion of this work. \n",
    "\n",
    "Enter your full name as the value of the Pledge variable below."
   ]
  },
  {
   "cell_type": "code",
   "execution_count": 11,
   "metadata": {
    "collapsed": true
   },
   "outputs": [],
   "source": [
    "Pledge = 'Zachary Walker' # type your full name between the quotes"
   ]
  },
  {
   "cell_type": "markdown",
   "metadata": {},
   "source": [
    "## Set up\n",
    "\n",
    "I will set up the environment for you here. Do not modify any of this."
   ]
  },
  {
   "cell_type": "code",
   "execution_count": 12,
   "metadata": {
    "collapsed": false
   },
   "outputs": [],
   "source": [
    "%matplotlib inline\n",
    "import numpy as np\n",
    "import pylab\n",
    "import comp116\n",
    "\n",
    "check, report = comp116.start('Midterm1Preview')"
   ]
  },
  {
   "cell_type": "markdown",
   "metadata": {
    "collapsed": true
   },
   "source": [
    "## Data\n",
    "\n",
    "You are given a dataset consisting of measured rainfall in inches at several station scattered across North Carolina for many consecutive days. There is a column for each station and a row for each day. That is, a 10 by 4 array represents 10 days with data at 4 stations for each day.\n",
    "\n",
    "I am **not** telling you the number of stations or the number of days. You'll have to work those things out. Most importantly, you may **not assume** the dataset will be the same size when I do the grading. Your answer must work for any reasonable number of stations and days.\n",
    "\n",
    "I'll load the data for you here. Don't change any of this."
   ]
  },
  {
   "cell_type": "code",
   "execution_count": 13,
   "metadata": {
    "collapsed": false
   },
   "outputs": [],
   "source": [
    "rain = np.loadtxt('rain.txt')\n",
    "rain.setflags(write=False) # don't allow writing the array"
   ]
  },
  {
   "cell_type": "markdown",
   "metadata": {},
   "source": [
    "## Questions\n",
    "\n",
    "Think about the kinds of questions you might ask of these data? I've give you a few samples below but the exam questions will not be limited to these topics. "
   ]
  },
  {
   "cell_type": "markdown",
   "metadata": {},
   "source": [
    "### 1. How many days of data do we have?\n",
    "\n",
    "Note the first line of the cell below each question. I'm telling you there both **where** to leave your answer and **what kind** of answer I expect. The question below expects the integer answer to be computed into a variable named `days`."
   ]
  },
  {
   "cell_type": "code",
   "execution_count": 16,
   "metadata": {
    "collapsed": false
   },
   "outputs": [
    {
     "name": "stdout",
     "output_type": "stream",
     "text": [
      "days = 84\n",
      "Q1. Days appears correct\n"
     ]
    }
   ],
   "source": [
    "days = np.shape(rain)[0] # expecting a single integer\n",
    "\n",
    "print('days =', days)\n",
    "check('Q1. Days', days, points=5)"
   ]
  },
  {
   "cell_type": "markdown",
   "metadata": {},
   "source": [
    "### 2. How many stations are included?"
   ]
  },
  {
   "cell_type": "code",
   "execution_count": 17,
   "metadata": {
    "collapsed": false
   },
   "outputs": [
    {
     "name": "stdout",
     "output_type": "stream",
     "text": [
      "stations = 4\n",
      "Q2. Stations appears correct\n"
     ]
    }
   ],
   "source": [
    "stations = np.shape(rain)[1] # expecting a single integer\n",
    "\n",
    "print('stations =', stations)\n",
    "check('Q2. Stations', stations, points=5)"
   ]
  },
  {
   "cell_type": "markdown",
   "metadata": {},
   "source": [
    "### 3. What was the average rainfall across all the stations and days?\n",
    "\n",
    "Note the 0.0 below. That is a hint that I expect a float answer."
   ]
  },
  {
   "cell_type": "code",
   "execution_count": 20,
   "metadata": {
    "collapsed": false
   },
   "outputs": [
    {
     "name": "stdout",
     "output_type": "stream",
     "text": [
      "avg_rainfall = 0.14318452381\n",
      "Q3. Average Rainfall appears correct\n"
     ]
    }
   ],
   "source": [
    "avg_rainfall = np.mean(rain) # expecting a single float\n",
    "print('avg_rainfall =', avg_rainfall)\n",
    "check('Q3. Average Rainfall', avg_rainfall, points=5)"
   ]
  },
  {
   "cell_type": "markdown",
   "metadata": {},
   "source": [
    "### 4. What was the maximum rainfall measured at each station?\n",
    "\n",
    "Note the array in the first line below. I'm telling you there that you should produce an array of answers."
   ]
  },
  {
   "cell_type": "code",
   "execution_count": 21,
   "metadata": {
    "collapsed": false
   },
   "outputs": [
    {
     "name": "stdout",
     "output_type": "stream",
     "text": [
      "station_max [ 1.34  0.96  1.88  1.71]\n",
      "Q4. Station Max appears correct\n"
     ]
    }
   ],
   "source": [
    "station_max = np.max(rain, axis=0) # expecting an array of floats\n",
    "\n",
    "print('station_max', station_max)\n",
    "check('Q4. Station Max', station_max, points=5)"
   ]
  },
  {
   "cell_type": "markdown",
   "metadata": {},
   "source": [
    "### And more...\n",
    "\n",
    "Your exam will have about 8 questions for a total of 100 points. Questions are not intended to be tricky. If there is a simple interpretation of the question, that is most likely what I expect from you. If you have any doubt, try it to see what the checker says. \n"
   ]
  },
  {
   "cell_type": "markdown",
   "metadata": {},
   "source": [
    "On your exam, the report function would go here to allow you to submit. Don't submit this preview."
   ]
  },
  {
   "cell_type": "code",
   "execution_count": 9,
   "metadata": {
    "collapsed": false
   },
   "outputs": [],
   "source": [
    "report(Author, Pledge)"
   ]
  }
 ],
 "metadata": {
  "kernelspec": {
   "display_name": "Python [Root]",
   "language": "python",
   "name": "Python [Root]"
  },
  "language_info": {
   "codemirror_mode": {
    "name": "ipython",
    "version": 3
   },
   "file_extension": ".py",
   "mimetype": "text/x-python",
   "name": "python",
   "nbconvert_exporter": "python",
   "pygments_lexer": "ipython3",
   "version": "3.5.2"
  }
 },
 "nbformat": 4,
 "nbformat_minor": 1
}
