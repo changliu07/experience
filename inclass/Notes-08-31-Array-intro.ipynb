{
 "cells": [
  {
   "cell_type": "markdown",
   "metadata": {},
   "source": [
    "# Notes for 31 August on Arrays\n",
    "\n",
    "Today we will begin to look at the array objects that will be our primary tool for banging on data. \n",
    "\n",
    "You can read more in this [Numpy Tutorial](http://www.python-course.eu/numpy.php). Don't worry about the parts of the tutorial that we haven't seen yet. Just plow past those. At this point we're just using Numpy; no loops, or other statements. We'll get there later in the semester."
   ]
  },
  {
   "cell_type": "markdown",
   "metadata": {},
   "source": [
    "Copy and paste the next cell contents into your notebook. They are boilerplate to get things setup for today. Copy them from the [today.html](https://wwwx.cs.unc.edu/Courses/comp116-001-f16/) link."
   ]
  },
  {
   "cell_type": "code",
   "execution_count": 1,
   "metadata": {
    "collapsed": true
   },
   "outputs": [],
   "source": [
    "%matplotlib inline\n",
    "import numpy as np\n",
    "import pylab"
   ]
  },
  {
   "cell_type": "markdown",
   "metadata": {},
   "source": [
    "Let's start out with something fancy and then we'll back up and look at the basics."
   ]
  },
  {
   "cell_type": "markdown",
   "metadata": {},
   "source": [
    "Below I am creating two arrays and assigning them to variables x and y. x is uniformly spaced values between 0 and 1. y is a function of x."
   ]
  },
  {
   "cell_type": "code",
   "execution_count": 4,
   "metadata": {
    "collapsed": false
   },
   "outputs": [
    {
     "data": {
      "image/png": "[encoded data removed]",
      "text/plain": [
       "<matplotlib.figure.Figure at 0x10a703208>"
      ]
     },
     "metadata": {},
     "output_type": "display_data"
    }
   ],
   "source": [
    "x = np.linspace(0, 1, 101)  # step from 0 to 1 in 101 steps\n",
    "y = np.sin(4 * np.pi * x) * np.exp(-5 * x) # a damped sine\n",
    "\n",
    "pylab.plot(x, y)\n",
    "pylab.grid(True)"
   ]
  },
  {
   "cell_type": "markdown",
   "metadata": {},
   "source": [
    "We can look at the values in x."
   ]
  },
  {
   "cell_type": "code",
   "execution_count": 3,
   "metadata": {
    "collapsed": false
   },
   "outputs": [
    {
     "name": "stdout",
     "output_type": "stream",
     "text": [
      "[ 0.    0.01  0.02  0.03  0.04  0.05  0.06  0.07  0.08  0.09  0.1   0.11\n",
      "  0.12  0.13  0.14  0.15  0.16  0.17  0.18  0.19  0.2   0.21  0.22  0.23\n",
      "  0.24  0.25  0.26  0.27  0.28  0.29  0.3   0.31  0.32  0.33  0.34  0.35\n",
      "  0.36  0.37  0.38  0.39  0.4   0.41  0.42  0.43  0.44  0.45  0.46  0.47\n",
      "  0.48  0.49  0.5   0.51  0.52  0.53  0.54  0.55  0.56  0.57  0.58  0.59\n",
      "  0.6   0.61  0.62  0.63  0.64  0.65  0.66  0.67  0.68  0.69  0.7   0.71\n",
      "  0.72  0.73  0.74  0.75  0.76  0.77  0.78  0.79  0.8   0.81  0.82  0.83\n",
      "  0.84  0.85  0.86  0.87  0.88  0.89  0.9   0.91  0.92  0.93  0.94  0.95\n",
      "  0.96  0.97  0.98  0.99  1.  ]\n"
     ]
    }
   ],
   "source": [
    "print(x)"
   ]
  },
  {
   "cell_type": "markdown",
   "metadata": {},
   "source": [
    "And those in y."
   ]
  },
  {
   "cell_type": "code",
   "execution_count": 4,
   "metadata": {
    "collapsed": false
   },
   "outputs": [
    {
     "name": "stdout",
     "output_type": "stream",
     "text": [
      "[  0.00000000e+00   1.19220660e-01   2.25023915e-01   3.16847739e-01\n",
      "   3.94426548e-01   4.57767615e-01   5.07124969e-01   5.42971505e-01\n",
      "   5.65969934e-01   5.76943201e-01   5.76844936e-01   5.66730443e-01\n",
      "   5.47728682e-01   5.21015639e-01   4.87789413e-01   4.49247288e-01\n",
      "   4.06565002e-01   3.60878363e-01   3.13267307e-01   2.64742448e-01\n",
      "   2.16234110e-01   1.68583796e-01   1.22538019e-01   7.87443624e-02\n",
      "   3.77496445e-02   3.50867182e-17  -3.41572909e-02  -6.44704312e-02\n",
      "  -9.07783970e-02  -1.13005098e-01  -1.31152617e-01  -1.45293736e-01\n",
      "  -1.55563941e-01  -1.62153101e-01  -1.65296995e-01  -1.65268841e-01\n",
      "  -1.62370990e-01  -1.56926895e-01  -1.49273480e-01  -1.39754007e-01\n",
      "  -1.28711503e-01  -1.16482823e-01  -1.03393382e-01  -8.97525861e-02\n",
      "  -7.58499814e-02  -6.19521098e-02  -4.83000663e-02  -3.51077302e-02\n",
      "  -2.25606376e-02  -1.08154542e-02  -2.01050262e-17   9.78622768e-03\n",
      "   1.84710878e-02   2.60084462e-02   3.23765027e-02   3.75758540e-02\n",
      "   4.16273524e-02   4.45698153e-02   4.64576412e-02   4.73583819e-02\n",
      "   4.73503158e-02   4.65200676e-02   4.49603081e-02   4.27675680e-02\n",
      "   4.00401933e-02   3.68764630e-02   3.33728876e-02   2.96226999e-02\n",
      "   2.57145465e-02   2.17313835e-02   1.77495766e-02   1.38382007e-02\n",
      "   1.00585331e-02   6.46373088e-03   3.09867952e-03   8.64027966e-18\n",
      "  -2.80380117e-03  -5.29205525e-03  -7.45154460e-03  -9.27602332e-03\n",
      "  -1.07656624e-02  -1.19264361e-02  -1.27694659e-02  -1.33103371e-02\n",
      "  -1.35684036e-02  -1.35660926e-02  -1.33282225e-02  -1.28813439e-02\n",
      "  -1.22531134e-02  -1.14717074e-02  -1.05652835e-02  -9.56149240e-03\n",
      "  -8.48704562e-03  -7.36734091e-03  -6.22614562e-03  -5.08533885e-03\n",
      "  -3.96471088e-03  -2.88181798e-03  -1.85188990e-03  -8.87786546e-04\n",
      "  -3.30064209e-18]\n"
     ]
    }
   ],
   "source": [
    "print(y)"
   ]
  },
  {
   "cell_type": "markdown",
   "metadata": {},
   "source": [
    "We can ask questions like \"What is the maximum value in y?\""
   ]
  },
  {
   "cell_type": "code",
   "execution_count": 5,
   "metadata": {
    "collapsed": false
   },
   "outputs": [
    {
     "data": {
      "text/plain": [
       "0.57694320100128538"
      ]
     },
     "execution_count": 5,
     "metadata": {},
     "output_type": "execute_result"
    }
   ],
   "source": [
    "np.max(y)"
   ]
  },
  {
   "cell_type": "markdown",
   "metadata": {},
   "source": [
    "What is the minimum?"
   ]
  },
  {
   "cell_type": "code",
   "execution_count": 6,
   "metadata": {
    "collapsed": false
   },
   "outputs": [
    {
     "data": {
      "text/plain": [
       "-0.16529699460274108"
      ]
     },
     "execution_count": 6,
     "metadata": {},
     "output_type": "execute_result"
    }
   ],
   "source": [
    "np.min(y)"
   ]
  },
  {
   "cell_type": "markdown",
   "metadata": {},
   "source": [
    "In response to a question we showed how you can make higher dimensional arrays (in this case two-dimensional) from lower-dimensional arrays. The new array xy has two rows of 101 columns each."
   ]
  },
  {
   "cell_type": "code",
   "execution_count": 7,
   "metadata": {
    "collapsed": false
   },
   "outputs": [
    {
     "name": "stdout",
     "output_type": "stream",
     "text": [
      "[[  0.00000000e+00   1.00000000e-02   2.00000000e-02   3.00000000e-02\n",
      "    4.00000000e-02   5.00000000e-02   6.00000000e-02   7.00000000e-02\n",
      "    8.00000000e-02   9.00000000e-02   1.00000000e-01   1.10000000e-01\n",
      "    1.20000000e-01   1.30000000e-01   1.40000000e-01   1.50000000e-01\n",
      "    1.60000000e-01   1.70000000e-01   1.80000000e-01   1.90000000e-01\n",
      "    2.00000000e-01   2.10000000e-01   2.20000000e-01   2.30000000e-01\n",
      "    2.40000000e-01   2.50000000e-01   2.60000000e-01   2.70000000e-01\n",
      "    2.80000000e-01   2.90000000e-01   3.00000000e-01   3.10000000e-01\n",
      "    3.20000000e-01   3.30000000e-01   3.40000000e-01   3.50000000e-01\n",
      "    3.60000000e-01   3.70000000e-01   3.80000000e-01   3.90000000e-01\n",
      "    4.00000000e-01   4.10000000e-01   4.20000000e-01   4.30000000e-01\n",
      "    4.40000000e-01   4.50000000e-01   4.60000000e-01   4.70000000e-01\n",
      "    4.80000000e-01   4.90000000e-01   5.00000000e-01   5.10000000e-01\n",
      "    5.20000000e-01   5.30000000e-01   5.40000000e-01   5.50000000e-01\n",
      "    5.60000000e-01   5.70000000e-01   5.80000000e-01   5.90000000e-01\n",
      "    6.00000000e-01   6.10000000e-01   6.20000000e-01   6.30000000e-01\n",
      "    6.40000000e-01   6.50000000e-01   6.60000000e-01   6.70000000e-01\n",
      "    6.80000000e-01   6.90000000e-01   7.00000000e-01   7.10000000e-01\n",
      "    7.20000000e-01   7.30000000e-01   7.40000000e-01   7.50000000e-01\n",
      "    7.60000000e-01   7.70000000e-01   7.80000000e-01   7.90000000e-01\n",
      "    8.00000000e-01   8.10000000e-01   8.20000000e-01   8.30000000e-01\n",
      "    8.40000000e-01   8.50000000e-01   8.60000000e-01   8.70000000e-01\n",
      "    8.80000000e-01   8.90000000e-01   9.00000000e-01   9.10000000e-01\n",
      "    9.20000000e-01   9.30000000e-01   9.40000000e-01   9.50000000e-01\n",
      "    9.60000000e-01   9.70000000e-01   9.80000000e-01   9.90000000e-01\n",
      "    1.00000000e+00]\n",
      " [  0.00000000e+00   1.19220660e-01   2.25023915e-01   3.16847739e-01\n",
      "    3.94426548e-01   4.57767615e-01   5.07124969e-01   5.42971505e-01\n",
      "    5.65969934e-01   5.76943201e-01   5.76844936e-01   5.66730443e-01\n",
      "    5.47728682e-01   5.21015639e-01   4.87789413e-01   4.49247288e-01\n",
      "    4.06565002e-01   3.60878363e-01   3.13267307e-01   2.64742448e-01\n",
      "    2.16234110e-01   1.68583796e-01   1.22538019e-01   7.87443624e-02\n",
      "    3.77496445e-02   3.50867182e-17  -3.41572909e-02  -6.44704312e-02\n",
      "   -9.07783970e-02  -1.13005098e-01  -1.31152617e-01  -1.45293736e-01\n",
      "   -1.55563941e-01  -1.62153101e-01  -1.65296995e-01  -1.65268841e-01\n",
      "   -1.62370990e-01  -1.56926895e-01  -1.49273480e-01  -1.39754007e-01\n",
      "   -1.28711503e-01  -1.16482823e-01  -1.03393382e-01  -8.97525861e-02\n",
      "   -7.58499814e-02  -6.19521098e-02  -4.83000663e-02  -3.51077302e-02\n",
      "   -2.25606376e-02  -1.08154542e-02  -2.01050262e-17   9.78622768e-03\n",
      "    1.84710878e-02   2.60084462e-02   3.23765027e-02   3.75758540e-02\n",
      "    4.16273524e-02   4.45698153e-02   4.64576412e-02   4.73583819e-02\n",
      "    4.73503158e-02   4.65200676e-02   4.49603081e-02   4.27675680e-02\n",
      "    4.00401933e-02   3.68764630e-02   3.33728876e-02   2.96226999e-02\n",
      "    2.57145465e-02   2.17313835e-02   1.77495766e-02   1.38382007e-02\n",
      "    1.00585331e-02   6.46373088e-03   3.09867952e-03   8.64027966e-18\n",
      "   -2.80380117e-03  -5.29205525e-03  -7.45154460e-03  -9.27602332e-03\n",
      "   -1.07656624e-02  -1.19264361e-02  -1.27694659e-02  -1.33103371e-02\n",
      "   -1.35684036e-02  -1.35660926e-02  -1.33282225e-02  -1.28813439e-02\n",
      "   -1.22531134e-02  -1.14717074e-02  -1.05652835e-02  -9.56149240e-03\n",
      "   -8.48704562e-03  -7.36734091e-03  -6.22614562e-03  -5.08533885e-03\n",
      "   -3.96471088e-03  -2.88181798e-03  -1.85188990e-03  -8.87786546e-04\n",
      "   -3.30064209e-18]]\n"
     ]
    }
   ],
   "source": [
    "xy = np.array([x,y])\n",
    "print(xy)"
   ]
  },
  {
   "cell_type": "markdown",
   "metadata": {},
   "source": [
    "If we transpose it, we get an array with 101 rows of 2 columns."
   ]
  },
  {
   "cell_type": "code",
   "execution_count": 8,
   "metadata": {
    "collapsed": false
   },
   "outputs": [
    {
     "data": {
      "text/plain": [
       "array([[  0.00000000e+00,   0.00000000e+00],\n",
       "       [  1.00000000e-02,   1.19220660e-01],\n",
       "       [  2.00000000e-02,   2.25023915e-01],\n",
       "       [  3.00000000e-02,   3.16847739e-01],\n",
       "       [  4.00000000e-02,   3.94426548e-01],\n",
       "       [  5.00000000e-02,   4.57767615e-01],\n",
       "       [  6.00000000e-02,   5.07124969e-01],\n",
       "       [  7.00000000e-02,   5.42971505e-01],\n",
       "       [  8.00000000e-02,   5.65969934e-01],\n",
       "       [  9.00000000e-02,   5.76943201e-01],\n",
       "       [  1.00000000e-01,   5.76844936e-01],\n",
       "       [  1.10000000e-01,   5.66730443e-01],\n",
       "       [  1.20000000e-01,   5.47728682e-01],\n",
       "       [  1.30000000e-01,   5.21015639e-01],\n",
       "       [  1.40000000e-01,   4.87789413e-01],\n",
       "       [  1.50000000e-01,   4.49247288e-01],\n",
       "       [  1.60000000e-01,   4.06565002e-01],\n",
       "       [  1.70000000e-01,   3.60878363e-01],\n",
       "       [  1.80000000e-01,   3.13267307e-01],\n",
       "       [  1.90000000e-01,   2.64742448e-01],\n",
       "       [  2.00000000e-01,   2.16234110e-01],\n",
       "       [  2.10000000e-01,   1.68583796e-01],\n",
       "       [  2.20000000e-01,   1.22538019e-01],\n",
       "       [  2.30000000e-01,   7.87443624e-02],\n",
       "       [  2.40000000e-01,   3.77496445e-02],\n",
       "       [  2.50000000e-01,   3.50867182e-17],\n",
       "       [  2.60000000e-01,  -3.41572909e-02],\n",
       "       [  2.70000000e-01,  -6.44704312e-02],\n",
       "       [  2.80000000e-01,  -9.07783970e-02],\n",
       "       [  2.90000000e-01,  -1.13005098e-01],\n",
       "       [  3.00000000e-01,  -1.31152617e-01],\n",
       "       [  3.10000000e-01,  -1.45293736e-01],\n",
       "       [  3.20000000e-01,  -1.55563941e-01],\n",
       "       [  3.30000000e-01,  -1.62153101e-01],\n",
       "       [  3.40000000e-01,  -1.65296995e-01],\n",
       "       [  3.50000000e-01,  -1.65268841e-01],\n",
       "       [  3.60000000e-01,  -1.62370990e-01],\n",
       "       [  3.70000000e-01,  -1.56926895e-01],\n",
       "       [  3.80000000e-01,  -1.49273480e-01],\n",
       "       [  3.90000000e-01,  -1.39754007e-01],\n",
       "       [  4.00000000e-01,  -1.28711503e-01],\n",
       "       [  4.10000000e-01,  -1.16482823e-01],\n",
       "       [  4.20000000e-01,  -1.03393382e-01],\n",
       "       [  4.30000000e-01,  -8.97525861e-02],\n",
       "       [  4.40000000e-01,  -7.58499814e-02],\n",
       "       [  4.50000000e-01,  -6.19521098e-02],\n",
       "       [  4.60000000e-01,  -4.83000663e-02],\n",
       "       [  4.70000000e-01,  -3.51077302e-02],\n",
       "       [  4.80000000e-01,  -2.25606376e-02],\n",
       "       [  4.90000000e-01,  -1.08154542e-02],\n",
       "       [  5.00000000e-01,  -2.01050262e-17],\n",
       "       [  5.10000000e-01,   9.78622768e-03],\n",
       "       [  5.20000000e-01,   1.84710878e-02],\n",
       "       [  5.30000000e-01,   2.60084462e-02],\n",
       "       [  5.40000000e-01,   3.23765027e-02],\n",
       "       [  5.50000000e-01,   3.75758540e-02],\n",
       "       [  5.60000000e-01,   4.16273524e-02],\n",
       "       [  5.70000000e-01,   4.45698153e-02],\n",
       "       [  5.80000000e-01,   4.64576412e-02],\n",
       "       [  5.90000000e-01,   4.73583819e-02],\n",
       "       [  6.00000000e-01,   4.73503158e-02],\n",
       "       [  6.10000000e-01,   4.65200676e-02],\n",
       "       [  6.20000000e-01,   4.49603081e-02],\n",
       "       [  6.30000000e-01,   4.27675680e-02],\n",
       "       [  6.40000000e-01,   4.00401933e-02],\n",
       "       [  6.50000000e-01,   3.68764630e-02],\n",
       "       [  6.60000000e-01,   3.33728876e-02],\n",
       "       [  6.70000000e-01,   2.96226999e-02],\n",
       "       [  6.80000000e-01,   2.57145465e-02],\n",
       "       [  6.90000000e-01,   2.17313835e-02],\n",
       "       [  7.00000000e-01,   1.77495766e-02],\n",
       "       [  7.10000000e-01,   1.38382007e-02],\n",
       "       [  7.20000000e-01,   1.00585331e-02],\n",
       "       [  7.30000000e-01,   6.46373088e-03],\n",
       "       [  7.40000000e-01,   3.09867952e-03],\n",
       "       [  7.50000000e-01,   8.64027966e-18],\n",
       "       [  7.60000000e-01,  -2.80380117e-03],\n",
       "       [  7.70000000e-01,  -5.29205525e-03],\n",
       "       [  7.80000000e-01,  -7.45154460e-03],\n",
       "       [  7.90000000e-01,  -9.27602332e-03],\n",
       "       [  8.00000000e-01,  -1.07656624e-02],\n",
       "       [  8.10000000e-01,  -1.19264361e-02],\n",
       "       [  8.20000000e-01,  -1.27694659e-02],\n",
       "       [  8.30000000e-01,  -1.33103371e-02],\n",
       "       [  8.40000000e-01,  -1.35684036e-02],\n",
       "       [  8.50000000e-01,  -1.35660926e-02],\n",
       "       [  8.60000000e-01,  -1.33282225e-02],\n",
       "       [  8.70000000e-01,  -1.28813439e-02],\n",
       "       [  8.80000000e-01,  -1.22531134e-02],\n",
       "       [  8.90000000e-01,  -1.14717074e-02],\n",
       "       [  9.00000000e-01,  -1.05652835e-02],\n",
       "       [  9.10000000e-01,  -9.56149240e-03],\n",
       "       [  9.20000000e-01,  -8.48704562e-03],\n",
       "       [  9.30000000e-01,  -7.36734091e-03],\n",
       "       [  9.40000000e-01,  -6.22614562e-03],\n",
       "       [  9.50000000e-01,  -5.08533885e-03],\n",
       "       [  9.60000000e-01,  -3.96471088e-03],\n",
       "       [  9.70000000e-01,  -2.88181798e-03],\n",
       "       [  9.80000000e-01,  -1.85188990e-03],\n",
       "       [  9.90000000e-01,  -8.87786546e-04],\n",
       "       [  1.00000000e+00,  -3.30064209e-18]])"
      ]
     },
     "execution_count": 8,
     "metadata": {},
     "output_type": "execute_result"
    }
   ],
   "source": [
    "xy.T"
   ]
  },
  {
   "cell_type": "markdown",
   "metadata": {},
   "source": [
    "We can ask for the **shape** of an array and as expected xy has 2 rows of 101 columns."
   ]
  },
  {
   "cell_type": "code",
   "execution_count": 18,
   "metadata": {
    "collapsed": false
   },
   "outputs": [
    {
     "data": {
      "text/plain": [
       "(101, 2)"
      ]
     },
     "execution_count": 18,
     "metadata": {},
     "output_type": "execute_result"
    }
   ],
   "source": [
    "xy.T.shape"
   ]
  },
  {
   "cell_type": "markdown",
   "metadata": {},
   "source": [
    "We can do all the same indexing we did lists."
   ]
  },
  {
   "cell_type": "code",
   "execution_count": 10,
   "metadata": {
    "collapsed": false
   },
   "outputs": [
    {
     "data": {
      "text/plain": [
       "0.0"
      ]
     },
     "execution_count": 10,
     "metadata": {},
     "output_type": "execute_result"
    }
   ],
   "source": [
    "x[0]"
   ]
  },
  {
   "cell_type": "markdown",
   "metadata": {},
   "source": [
    "If we give a 2-D array a single index we get back a 1-D array. In this case the first row of xy."
   ]
  },
  {
   "cell_type": "code",
   "execution_count": 12,
   "metadata": {
    "collapsed": false
   },
   "outputs": [
    {
     "data": {
      "text/plain": [
       "array([ 0.  ,  0.01,  0.02,  0.03,  0.04,  0.05,  0.06,  0.07,  0.08,\n",
       "        0.09,  0.1 ,  0.11,  0.12,  0.13,  0.14,  0.15,  0.16,  0.17,\n",
       "        0.18,  0.19,  0.2 ,  0.21,  0.22,  0.23,  0.24,  0.25,  0.26,\n",
       "        0.27,  0.28,  0.29,  0.3 ,  0.31,  0.32,  0.33,  0.34,  0.35,\n",
       "        0.36,  0.37,  0.38,  0.39,  0.4 ,  0.41,  0.42,  0.43,  0.44,\n",
       "        0.45,  0.46,  0.47,  0.48,  0.49,  0.5 ,  0.51,  0.52,  0.53,\n",
       "        0.54,  0.55,  0.56,  0.57,  0.58,  0.59,  0.6 ,  0.61,  0.62,\n",
       "        0.63,  0.64,  0.65,  0.66,  0.67,  0.68,  0.69,  0.7 ,  0.71,\n",
       "        0.72,  0.73,  0.74,  0.75,  0.76,  0.77,  0.78,  0.79,  0.8 ,\n",
       "        0.81,  0.82,  0.83,  0.84,  0.85,  0.86,  0.87,  0.88,  0.89,\n",
       "        0.9 ,  0.91,  0.92,  0.93,  0.94,  0.95,  0.96,  0.97,  0.98,\n",
       "        0.99,  1.  ])"
      ]
     },
     "execution_count": 12,
     "metadata": {},
     "output_type": "execute_result"
    }
   ],
   "source": [
    "xy[0]"
   ]
  },
  {
   "cell_type": "markdown",
   "metadata": {},
   "source": [
    "If we give two indexes then we get back a number because are specifying a particular element. "
   ]
  },
  {
   "cell_type": "code",
   "execution_count": 12,
   "metadata": {
    "collapsed": false
   },
   "outputs": [
    {
     "data": {
      "text/plain": [
       "0.31684773881360873"
      ]
     },
     "execution_count": 12,
     "metadata": {},
     "output_type": "execute_result"
    }
   ],
   "source": [
    "xy[1,3]"
   ]
  },
  {
   "cell_type": "markdown",
   "metadata": {},
   "source": [
    "Since we constructed xy from x and y it shouldn't be too surprising that xy[1,3] is the same value as y[3]."
   ]
  },
  {
   "cell_type": "code",
   "execution_count": 13,
   "metadata": {
    "collapsed": false
   },
   "outputs": [
    {
     "data": {
      "text/plain": [
       "0.31684773881360873"
      ]
     },
     "execution_count": 13,
     "metadata": {},
     "output_type": "execute_result"
    }
   ],
   "source": [
    "y[3]"
   ]
  },
  {
   "cell_type": "markdown",
   "metadata": {},
   "source": [
    "We can construct an array from numbers we type in to a list. Notice this is a 2-D array because we are giving it a list of lists. "
   ]
  },
  {
   "cell_type": "code",
   "execution_count": 2,
   "metadata": {
    "collapsed": false
   },
   "outputs": [],
   "source": [
    "a = np.array([[42, 17, 6],[3, 4, 5]])"
   ]
  },
  {
   "cell_type": "code",
   "execution_count": 6,
   "metadata": {
    "collapsed": false
   },
   "outputs": [
    {
     "name": "stdout",
     "output_type": "stream",
     "text": [
      "[[42 17  6]\n",
      " [ 3  4  5]]\n"
     ]
    },
    {
     "data": {
      "text/plain": [
       "(2, 3)"
      ]
     },
     "execution_count": 6,
     "metadata": {},
     "output_type": "execute_result"
    }
   ],
   "source": [
    "print(a)\n",
    "a.shape"
   ]
  },
  {
   "cell_type": "markdown",
   "metadata": {},
   "source": [
    "As before a single index specifies the row."
   ]
  },
  {
   "cell_type": "code",
   "execution_count": 17,
   "metadata": {
    "collapsed": false
   },
   "outputs": [
    {
     "data": {
      "text/plain": [
       "array([42, 17,  6])"
      ]
     },
     "execution_count": 17,
     "metadata": {},
     "output_type": "execute_result"
    }
   ],
   "source": [
    "a.T\n",
    "a[0]"
   ]
  },
  {
   "cell_type": "markdown",
   "metadata": {},
   "source": [
    "We can slice in either dimension. Here I am selecting column 0."
   ]
  },
  {
   "cell_type": "code",
   "execution_count": 1,
   "metadata": {
    "collapsed": false
   },
   "outputs": [
    {
     "ename": "NameError",
     "evalue": "name 'a' is not defined",
     "output_type": "error",
     "traceback": [
      "\u001b[0;31m---------------------------------------------------------------------------\u001b[0m",
      "\u001b[0;31mNameError\u001b[0m                                 Traceback (most recent call last)",
      "\u001b[0;32m<ipython-input-1-ed371621c46c>\u001b[0m in \u001b[0;36m<module>\u001b[0;34m()\u001b[0m\n\u001b[0;32m----> 1\u001b[0;31m \u001b[0ma\u001b[0m\u001b[0;34m[\u001b[0m\u001b[0;34m:\u001b[0m\u001b[0;34m,\u001b[0m\u001b[0;36m0\u001b[0m\u001b[0;34m]\u001b[0m\u001b[0;34m\u001b[0m\u001b[0m\n\u001b[0m",
      "\u001b[0;31mNameError\u001b[0m: name 'a' is not defined"
     ]
    }
   ],
   "source": [
    "a[:,0]"
   ]
  },
  {
   "cell_type": "markdown",
   "metadata": {},
   "source": [
    "In answer to a question we can create arrays directly from expressions that produce arrays."
   ]
  },
  {
   "cell_type": "code",
   "execution_count": 18,
   "metadata": {
    "collapsed": false
   },
   "outputs": [
    {
     "name": "stdout",
     "output_type": "stream",
     "text": [
      "[[  0.00000000e+00   1.00000000e-02   2.00000000e-02   3.00000000e-02\n",
      "    4.00000000e-02   5.00000000e-02   6.00000000e-02   7.00000000e-02\n",
      "    8.00000000e-02   9.00000000e-02   1.00000000e-01   1.10000000e-01\n",
      "    1.20000000e-01   1.30000000e-01   1.40000000e-01   1.50000000e-01\n",
      "    1.60000000e-01   1.70000000e-01   1.80000000e-01   1.90000000e-01\n",
      "    2.00000000e-01   2.10000000e-01   2.20000000e-01   2.30000000e-01\n",
      "    2.40000000e-01   2.50000000e-01   2.60000000e-01   2.70000000e-01\n",
      "    2.80000000e-01   2.90000000e-01   3.00000000e-01   3.10000000e-01\n",
      "    3.20000000e-01   3.30000000e-01   3.40000000e-01   3.50000000e-01\n",
      "    3.60000000e-01   3.70000000e-01   3.80000000e-01   3.90000000e-01\n",
      "    4.00000000e-01   4.10000000e-01   4.20000000e-01   4.30000000e-01\n",
      "    4.40000000e-01   4.50000000e-01   4.60000000e-01   4.70000000e-01\n",
      "    4.80000000e-01   4.90000000e-01   5.00000000e-01   5.10000000e-01\n",
      "    5.20000000e-01   5.30000000e-01   5.40000000e-01   5.50000000e-01\n",
      "    5.60000000e-01   5.70000000e-01   5.80000000e-01   5.90000000e-01\n",
      "    6.00000000e-01   6.10000000e-01   6.20000000e-01   6.30000000e-01\n",
      "    6.40000000e-01   6.50000000e-01   6.60000000e-01   6.70000000e-01\n",
      "    6.80000000e-01   6.90000000e-01   7.00000000e-01   7.10000000e-01\n",
      "    7.20000000e-01   7.30000000e-01   7.40000000e-01   7.50000000e-01\n",
      "    7.60000000e-01   7.70000000e-01   7.80000000e-01   7.90000000e-01\n",
      "    8.00000000e-01   8.10000000e-01   8.20000000e-01   8.30000000e-01\n",
      "    8.40000000e-01   8.50000000e-01   8.60000000e-01   8.70000000e-01\n",
      "    8.80000000e-01   8.90000000e-01   9.00000000e-01   9.10000000e-01\n",
      "    9.20000000e-01   9.30000000e-01   9.40000000e-01   9.50000000e-01\n",
      "    9.60000000e-01   9.70000000e-01   9.80000000e-01   9.90000000e-01\n",
      "    1.00000000e+00]\n",
      " [  0.00000000e+00   1.00000000e-04   4.00000000e-04   9.00000000e-04\n",
      "    1.60000000e-03   2.50000000e-03   3.60000000e-03   4.90000000e-03\n",
      "    6.40000000e-03   8.10000000e-03   1.00000000e-02   1.21000000e-02\n",
      "    1.44000000e-02   1.69000000e-02   1.96000000e-02   2.25000000e-02\n",
      "    2.56000000e-02   2.89000000e-02   3.24000000e-02   3.61000000e-02\n",
      "    4.00000000e-02   4.41000000e-02   4.84000000e-02   5.29000000e-02\n",
      "    5.76000000e-02   6.25000000e-02   6.76000000e-02   7.29000000e-02\n",
      "    7.84000000e-02   8.41000000e-02   9.00000000e-02   9.61000000e-02\n",
      "    1.02400000e-01   1.08900000e-01   1.15600000e-01   1.22500000e-01\n",
      "    1.29600000e-01   1.36900000e-01   1.44400000e-01   1.52100000e-01\n",
      "    1.60000000e-01   1.68100000e-01   1.76400000e-01   1.84900000e-01\n",
      "    1.93600000e-01   2.02500000e-01   2.11600000e-01   2.20900000e-01\n",
      "    2.30400000e-01   2.40100000e-01   2.50000000e-01   2.60100000e-01\n",
      "    2.70400000e-01   2.80900000e-01   2.91600000e-01   3.02500000e-01\n",
      "    3.13600000e-01   3.24900000e-01   3.36400000e-01   3.48100000e-01\n",
      "    3.60000000e-01   3.72100000e-01   3.84400000e-01   3.96900000e-01\n",
      "    4.09600000e-01   4.22500000e-01   4.35600000e-01   4.48900000e-01\n",
      "    4.62400000e-01   4.76100000e-01   4.90000000e-01   5.04100000e-01\n",
      "    5.18400000e-01   5.32900000e-01   5.47600000e-01   5.62500000e-01\n",
      "    5.77600000e-01   5.92900000e-01   6.08400000e-01   6.24100000e-01\n",
      "    6.40000000e-01   6.56100000e-01   6.72400000e-01   6.88900000e-01\n",
      "    7.05600000e-01   7.22500000e-01   7.39600000e-01   7.56900000e-01\n",
      "    7.74400000e-01   7.92100000e-01   8.10000000e-01   8.28100000e-01\n",
      "    8.46400000e-01   8.64900000e-01   8.83600000e-01   9.02500000e-01\n",
      "    9.21600000e-01   9.40900000e-01   9.60400000e-01   9.80100000e-01\n",
      "    1.00000000e+00]\n",
      " [  0.00000000e+00   1.00000000e-06   8.00000000e-06   2.70000000e-05\n",
      "    6.40000000e-05   1.25000000e-04   2.16000000e-04   3.43000000e-04\n",
      "    5.12000000e-04   7.29000000e-04   1.00000000e-03   1.33100000e-03\n",
      "    1.72800000e-03   2.19700000e-03   2.74400000e-03   3.37500000e-03\n",
      "    4.09600000e-03   4.91300000e-03   5.83200000e-03   6.85900000e-03\n",
      "    8.00000000e-03   9.26100000e-03   1.06480000e-02   1.21670000e-02\n",
      "    1.38240000e-02   1.56250000e-02   1.75760000e-02   1.96830000e-02\n",
      "    2.19520000e-02   2.43890000e-02   2.70000000e-02   2.97910000e-02\n",
      "    3.27680000e-02   3.59370000e-02   3.93040000e-02   4.28750000e-02\n",
      "    4.66560000e-02   5.06530000e-02   5.48720000e-02   5.93190000e-02\n",
      "    6.40000000e-02   6.89210000e-02   7.40880000e-02   7.95070000e-02\n",
      "    8.51840000e-02   9.11250000e-02   9.73360000e-02   1.03823000e-01\n",
      "    1.10592000e-01   1.17649000e-01   1.25000000e-01   1.32651000e-01\n",
      "    1.40608000e-01   1.48877000e-01   1.57464000e-01   1.66375000e-01\n",
      "    1.75616000e-01   1.85193000e-01   1.95112000e-01   2.05379000e-01\n",
      "    2.16000000e-01   2.26981000e-01   2.38328000e-01   2.50047000e-01\n",
      "    2.62144000e-01   2.74625000e-01   2.87496000e-01   3.00763000e-01\n",
      "    3.14432000e-01   3.28509000e-01   3.43000000e-01   3.57911000e-01\n",
      "    3.73248000e-01   3.89017000e-01   4.05224000e-01   4.21875000e-01\n",
      "    4.38976000e-01   4.56533000e-01   4.74552000e-01   4.93039000e-01\n",
      "    5.12000000e-01   5.31441000e-01   5.51368000e-01   5.71787000e-01\n",
      "    5.92704000e-01   6.14125000e-01   6.36056000e-01   6.58503000e-01\n",
      "    6.81472000e-01   7.04969000e-01   7.29000000e-01   7.53571000e-01\n",
      "    7.78688000e-01   8.04357000e-01   8.30584000e-01   8.57375000e-01\n",
      "    8.84736000e-01   9.12673000e-01   9.41192000e-01   9.70299000e-01\n",
      "    1.00000000e+00]]\n"
     ]
    }
   ],
   "source": [
    "m = np.array([x, x**2, x**3])\n",
    "print(m)\n",
    "             "
   ]
  },
  {
   "cell_type": "markdown",
   "metadata": {},
   "source": [
    "We can plot x, x squared, and x cubed. We need the transpose because it expects the first dimension to be the same."
   ]
  },
  {
   "cell_type": "code",
   "execution_count": 20,
   "metadata": {
    "collapsed": false
   },
   "outputs": [
    {
     "data": {
      "text/plain": [
       "[<matplotlib.lines.Line2D at 0x7ff198a7cf60>,\n",
       " <matplotlib.lines.Line2D at 0x7ff198d48128>,\n",
       " <matplotlib.lines.Line2D at 0x7ff198d483c8>]"
      ]
     },
     "execution_count": 20,
     "metadata": {},
     "output_type": "execute_result"
    },
    {
     "data": {
      "image/png": "[encoded data removed]",
      "text/plain": [
       "<matplotlib.figure.Figure at 0x7ff198cdeb00>"
      ]
     },
     "metadata": {},
     "output_type": "display_data"
    }
   ],
   "source": [
    "pylab.plot(x, m.T)"
   ]
  },
  {
   "cell_type": "code",
   "execution_count": 21,
   "metadata": {
    "collapsed": false
   },
   "outputs": [
    {
     "name": "stdout",
     "output_type": "stream",
     "text": [
      "[[42 17  6]\n",
      " [ 3  4  5]]\n"
     ]
    }
   ],
   "source": [
    "print(a)"
   ]
  },
  {
   "cell_type": "code",
   "execution_count": 22,
   "metadata": {
    "collapsed": false
   },
   "outputs": [
    {
     "name": "stdout",
     "output_type": "stream",
     "text": [
      "[[42  3]\n",
      " [17  4]\n",
      " [ 6  5]]\n"
     ]
    }
   ],
   "source": [
    "print(a.T)"
   ]
  },
  {
   "cell_type": "code",
   "execution_count": null,
   "metadata": {
    "collapsed": true
   },
   "outputs": [],
   "source": []
  }
 ],
 "metadata": {
  "anaconda-cloud": {},
  "kernelspec": {
   "display_name": "Python [Root]",
   "language": "python",
   "name": "Python [Root]"
  },
  "language_info": {
   "codemirror_mode": {
    "name": "ipython",
    "version": 3
   },
   "file_extension": ".py",
   "mimetype": "text/x-python",
   "name": "python",
   "nbconvert_exporter": "python",
   "pygments_lexer": "ipython3",
   "version": "3.5.2"
  }
 },
 "nbformat": 4,
 "nbformat_minor": 1
}
