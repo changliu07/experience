{
 "cells": [
  {
   "cell_type": "markdown",
   "metadata": {},
   "source": [
    "# Notes for 02 September \n",
    "\n",
    "Today we will work more with arrays.\n",
    "\n",
    "First our usual boilerplate."
   ]
  },
  {
   "cell_type": "code",
   "execution_count": 1,
   "metadata": {
    "collapsed": true
   },
   "outputs": [],
   "source": [
    "%matplotlib inline\n",
    "import numpy as np\n",
    "import pylab"
   ]
  },
  {
   "cell_type": "markdown",
   "metadata": {},
   "source": [
    "Now let's load some data to use. Remember you can copy and paste from the [today.html](http://gb.cs.unc.edu/today.html) page linked from the class page."
   ]
  },
  {
   "cell_type": "code",
   "execution_count": 2,
   "metadata": {
    "collapsed": false
   },
   "outputs": [],
   "source": [
    "babies = np.genfromtxt('http://goo.gl/BRgpl1')"
   ]
  },
  {
   "cell_type": "markdown",
   "metadata": {},
   "source": [
    "We can look at the shape to see how much we've got."
   ]
  },
  {
   "cell_type": "code",
   "execution_count": 3,
   "metadata": {
    "collapsed": false
   },
   "outputs": [
    {
     "data": {
      "text/plain": [
       "(439, 2)"
      ]
     },
     "execution_count": 3,
     "metadata": {},
     "output_type": "execute_result"
    }
   ],
   "source": [
    "babies.shape"
   ]
  },
  {
   "cell_type": "markdown",
   "metadata": {},
   "source": [
    "439 rows is too much to easily see so I'll create a new array with only the first few rows. I'm slicing the array below to create a new array with only 12 rows. All the operations below will work the same with the full array."
   ]
  },
  {
   "cell_type": "code",
   "execution_count": 4,
   "metadata": {
    "collapsed": false
   },
   "outputs": [
    {
     "name": "stdout",
     "output_type": "stream",
     "text": [
      "[[ 5.34  0.  ]\n",
      " [ 3.1   1.  ]\n",
      " [ 7.5   1.  ]\n",
      " [ 8.56  1.  ]\n",
      " [ 6.03  0.  ]\n",
      " [ 3.51  0.  ]\n",
      " [ 8.25  1.  ]\n",
      " [ 3.98  0.  ]\n",
      " [ 4.54  0.  ]\n",
      " [ 5.85  1.  ]\n",
      " [ 5.9   0.  ]\n",
      " [ 6.17  0.  ]]\n"
     ]
    }
   ],
   "source": [
    "fewbabies = babies[0:12, :]\n",
    "print(fewbabies)"
   ]
  },
  {
   "cell_type": "markdown",
   "metadata": {},
   "source": [
    "The first column is the birth weight of the baby in pounds and the second column is 0 if the baby is a boy and 1 for a girl. \n",
    "\n",
    "When confronted with such data I like to take it apart so I can more easily remember what is what. "
   ]
  },
  {
   "cell_type": "code",
   "execution_count": 5,
   "metadata": {
    "collapsed": true
   },
   "outputs": [],
   "source": [
    "weight = fewbabies[:,0]\n",
    "isagirl = fewbabies[:,1]"
   ]
  },
  {
   "cell_type": "code",
   "execution_count": 6,
   "metadata": {
    "collapsed": false
   },
   "outputs": [
    {
     "name": "stdout",
     "output_type": "stream",
     "text": [
      "[ 5.34  3.1   7.5   8.56  6.03  3.51  8.25  3.98  4.54  5.85  5.9   6.17]\n"
     ]
    }
   ],
   "source": [
    "print(weight)"
   ]
  },
  {
   "cell_type": "markdown",
   "metadata": {},
   "source": [
    "How much did the heaviest baby weigh?"
   ]
  },
  {
   "cell_type": "code",
   "execution_count": 7,
   "metadata": {
    "collapsed": false
   },
   "outputs": [
    {
     "name": "stdout",
     "output_type": "stream",
     "text": [
      "8.56\n"
     ]
    }
   ],
   "source": [
    "heaviestBaby = np.max(weight)\n",
    "print(heaviestBaby)"
   ]
  },
  {
   "cell_type": "markdown",
   "metadata": {},
   "source": [
    "Below we see a new type, **bool**. The operator **==** means compare for equality. You get True for values that are equal and False otherwise. You can see we get an array of True, False values. In this case, True corresponds to entries for girls."
   ]
  },
  {
   "cell_type": "code",
   "execution_count": 8,
   "metadata": {
    "collapsed": false
   },
   "outputs": [
    {
     "data": {
      "text/plain": [
       "array([False,  True,  True,  True, False, False,  True, False, False,\n",
       "        True, False, False], dtype=bool)"
      ]
     },
     "execution_count": 8,
     "metadata": {},
     "output_type": "execute_result"
    }
   ],
   "source": [
    "isagirl == 1"
   ]
  },
  {
   "cell_type": "markdown",
   "metadata": {},
   "source": [
    "Now check this out. I can use a bool array to select entries from another array of the same size. Here I am creating a new variable **girlweight** that has the weights of only the girl babies."
   ]
  },
  {
   "cell_type": "code",
   "execution_count": 9,
   "metadata": {
    "collapsed": false
   },
   "outputs": [
    {
     "name": "stdout",
     "output_type": "stream",
     "text": [
      "[ 3.1   7.5   8.56  8.25  5.85]\n"
     ]
    }
   ],
   "source": [
    "girlweight = weight[isagirl == 1]\n",
    "print(girlweight)"
   ]
  },
  {
   "cell_type": "markdown",
   "metadata": {},
   "source": [
    "In answer to a question I demonstrated that I can do this all in one terrible expression. I wouldn't recommend this but it is important to see that there is no magic in the assignment of these things to temporary variables. This produces the same value as in **girlweight** above.\n",
    "\n",
    "That trailing **, 0** is there because I'm indexing the original 2-D array and I need to tell it that I want the weights in the column with index 0."
   ]
  },
  {
   "cell_type": "code",
   "execution_count": 10,
   "metadata": {
    "collapsed": false
   },
   "outputs": [
    {
     "data": {
      "text/plain": [
       "array([ 3.1 ,  7.5 ,  8.56,  8.25,  5.85])"
      ]
     },
     "execution_count": 10,
     "metadata": {},
     "output_type": "execute_result"
    }
   ],
   "source": [
    "fewbabies[fewbabies[:,1]==1, 0]"
   ]
  },
  {
   "cell_type": "markdown",
   "metadata": {},
   "source": [
    "And so does this."
   ]
  },
  {
   "cell_type": "code",
   "execution_count": 11,
   "metadata": {
    "collapsed": false
   },
   "outputs": [
    {
     "data": {
      "text/plain": [
       "array([ 3.1 ,  7.5 ,  8.56,  8.25,  5.85])"
      ]
     },
     "execution_count": 11,
     "metadata": {},
     "output_type": "execute_result"
    }
   ],
   "source": [
    "fewbabies[isagirl == 1, 0]"
   ]
  },
  {
   "cell_type": "markdown",
   "metadata": {},
   "source": [
    "I can get the weights of the boys by choosing the items that are not girls. The **!=** operator means **not equal**."
   ]
  },
  {
   "cell_type": "code",
   "execution_count": 12,
   "metadata": {
    "collapsed": true
   },
   "outputs": [],
   "source": [
    "boyweight = weight[isagirl != 1]"
   ]
  },
  {
   "cell_type": "code",
   "execution_count": 13,
   "metadata": {
    "collapsed": false
   },
   "outputs": [
    {
     "name": "stdout",
     "output_type": "stream",
     "text": [
      "[ 5.34  6.03  3.51  3.98  4.54  5.9   6.17]\n"
     ]
    }
   ],
   "source": [
    "print(boyweight)"
   ]
  },
  {
   "cell_type": "markdown",
   "metadata": {},
   "source": [
    "I can select a particular weight. This next line chooses the weight that is equal to 5.34."
   ]
  },
  {
   "cell_type": "code",
   "execution_count": 14,
   "metadata": {
    "collapsed": false
   },
   "outputs": [
    {
     "data": {
      "text/plain": [
       "array([ 5.34])"
      ]
     },
     "execution_count": 14,
     "metadata": {},
     "output_type": "execute_result"
    }
   ],
   "source": [
    "weight[weight == 5.34]"
   ]
  },
  {
   "cell_type": "markdown",
   "metadata": {},
   "source": [
    "And this one chooses the weights that are **not equal** to 5.34."
   ]
  },
  {
   "cell_type": "code",
   "execution_count": 15,
   "metadata": {
    "collapsed": false
   },
   "outputs": [
    {
     "data": {
      "text/plain": [
       "array([ 3.1 ,  7.5 ,  8.56,  6.03,  3.51,  8.25,  3.98,  4.54,  5.85,\n",
       "        5.9 ,  6.17])"
      ]
     },
     "execution_count": 15,
     "metadata": {},
     "output_type": "execute_result"
    }
   ],
   "source": [
    "weight[weight != 5.34]"
   ]
  },
  {
   "cell_type": "markdown",
   "metadata": {},
   "source": [
    "I can ask for the mean of all the weights."
   ]
  },
  {
   "cell_type": "code",
   "execution_count": 20,
   "metadata": {
    "collapsed": false
   },
   "outputs": [
    {
     "name": "stdout",
     "output_type": "stream",
     "text": [
      "5.7275\n"
     ]
    }
   ],
   "source": [
    "meanweight = np.mean(weight)\n",
    "print(meanweight)"
   ]
  },
  {
   "cell_type": "markdown",
   "metadata": {},
   "source": [
    "And I can get all the weights that are greater than the mean."
   ]
  },
  {
   "cell_type": "code",
   "execution_count": 21,
   "metadata": {
    "collapsed": false
   },
   "outputs": [
    {
     "data": {
      "text/plain": [
       "array([ 7.5 ,  8.56,  6.03,  8.25,  5.85,  5.9 ,  6.17])"
      ]
     },
     "execution_count": 21,
     "metadata": {},
     "output_type": "execute_result"
    }
   ],
   "source": [
    "weight[weight > meanweight]"
   ]
  },
  {
   "cell_type": "code",
   "execution_count": null,
   "metadata": {
    "collapsed": true
   },
   "outputs": [],
   "source": []
  }
 ],
 "metadata": {
  "anaconda-cloud": {},
  "kernelspec": {
   "display_name": "Python [Root]",
   "language": "python",
   "name": "Python [Root]"
  },
  "language_info": {
   "codemirror_mode": {
    "name": "ipython",
    "version": 3
   },
   "file_extension": ".py",
   "mimetype": "text/x-python",
   "name": "python",
   "nbconvert_exporter": "python",
   "pygments_lexer": "ipython3",
   "version": "3.5.2"
  }
 },
 "nbformat": 4,
 "nbformat_minor": 1
}
