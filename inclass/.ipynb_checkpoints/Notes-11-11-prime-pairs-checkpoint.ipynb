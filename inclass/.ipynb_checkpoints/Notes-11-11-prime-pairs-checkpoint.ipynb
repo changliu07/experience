{
 "cells": [
  {
   "cell_type": "markdown",
   "metadata": {},
   "source": [
    "# Notes for 11 November - prime pairs\n",
    "\n",
    "Prime numbers have been studied for centuries but a strange property of their last digits has just been noticed. You can read the paper on [arxiv](http://arxiv.org/abs/1603.03720) or a more approachable account in [Scientific American](http://www.scientificamerican.com/article/peculiar-pattern-found-in-random-prime-numbers/) or [Quanta](https://www.quantamagazine.org/20160313-mathematicians-discover-prime-conspiracy/).\n",
    "\n",
    "Today we will attempt to confirm this amazing finding that the last digits of consecutive prime numbers are more likely to be different than the same.\n",
    "\n",
    "I found a [list of the first million primes online](https://primes.utm.edu/lists/small/millions/) and reformatted it to make it easy for you to download. "
   ]
  },
  {
   "cell_type": "code",
   "execution_count": 1,
   "metadata": {
    "collapsed": true
   },
   "outputs": [],
   "source": [
    "import numpy as np\n",
    "\n",
    "#load the list of the first million primes\n",
    "primes = np.genfromtxt(\"http://wwwx.cs.unc.edu/Courses/comp116-001-f16/media/primes.txt\",\n",
    "                      dtype=int)"
   ]
  },
  {
   "cell_type": "code",
   "execution_count": 2,
   "metadata": {
    "collapsed": false
   },
   "outputs": [
    {
     "data": {
      "text/plain": [
       "1000000"
      ]
     },
     "execution_count": 2,
     "metadata": {},
     "output_type": "execute_result"
    }
   ],
   "source": [
    "len(primes)"
   ]
  },
  {
   "cell_type": "code",
   "execution_count": 3,
   "metadata": {
    "collapsed": false
   },
   "outputs": [
    {
     "data": {
      "text/plain": [
       "array([ 2,  3,  5,  7, 11, 13, 17, 19, 23, 29, 31, 37, 41, 43, 47, 53, 59,\n",
       "       61, 67, 71])"
      ]
     },
     "execution_count": 3,
     "metadata": {},
     "output_type": "execute_result"
    }
   ],
   "source": [
    "primes[:20]"
   ]
  },
  {
   "cell_type": "code",
   "execution_count": 4,
   "metadata": {
    "collapsed": false
   },
   "outputs": [
    {
     "data": {
      "text/plain": [
       "array([15485837, 15485843, 15485849, 15485857, 15485863])"
      ]
     },
     "execution_count": 4,
     "metadata": {},
     "output_type": "execute_result"
    }
   ],
   "source": [
    "primes[-5:]"
   ]
  },
  {
   "cell_type": "markdown",
   "metadata": {},
   "source": [
    "How do we get the last digit of a number?\n",
    "\n",
    "Easy, we simply use the mod operator to get the remainder after division by the base. So in base 10 the last digit of 37 is:"
   ]
  },
  {
   "cell_type": "code",
   "execution_count": 12,
   "metadata": {
    "collapsed": false
   },
   "outputs": [
    {
     "data": {
      "text/plain": [
       "7"
      ]
     },
     "execution_count": 12,
     "metadata": {},
     "output_type": "execute_result"
    }
   ],
   "source": [
    "37 % 10"
   ]
  },
  {
   "cell_type": "markdown",
   "metadata": {},
   "source": [
    "Write code that will count the number of times each different last digit of the prime numbers occurs in base B."
   ]
  },
  {
   "cell_type": "code",
   "execution_count": 5,
   "metadata": {
    "collapsed": false
   },
   "outputs": [
    {
     "data": {
      "text/plain": [
       "{1: 249934, 2: 1, 3: 250110, 5: 1, 7: 250014, 9: 249940}"
      ]
     },
     "execution_count": 5,
     "metadata": {},
     "output_type": "execute_result"
    }
   ],
   "source": [
    "B = 10\n",
    "DC = {}\n",
    "for i in range(len(primes)):\n",
    "    ld = primes[i] % B\n",
    "    DC[ld] = DC.get(ld, 0) + 1\n",
    "DC"
   ]
  },
  {
   "cell_type": "code",
   "execution_count": 6,
   "metadata": {
    "collapsed": false
   },
   "outputs": [
    {
     "data": {
      "text/plain": [
       "array([     0, 249934,      1, 250110,      0,      1,      0, 250014,\n",
       "            0, 249940])"
      ]
     },
     "execution_count": 6,
     "metadata": {},
     "output_type": "execute_result"
    }
   ],
   "source": [
    "np.bincount(primes % B)"
   ]
  },
  {
   "cell_type": "code",
   "execution_count": 7,
   "metadata": {
    "collapsed": false
   },
   "outputs": [
    {
     "data": {
      "text/plain": [
       "{(1, 1): 42853,\n",
       " (1, 3): 77475,\n",
       " (1, 7): 79453,\n",
       " (1, 9): 50153,\n",
       " (2, 3): 1,\n",
       " (3, 1): 58255,\n",
       " (3, 3): 39668,\n",
       " (3, 5): 1,\n",
       " (3, 7): 72827,\n",
       " (3, 9): 79358,\n",
       " (5, 7): 1,\n",
       " (7, 1): 64230,\n",
       " (7, 3): 68595,\n",
       " (7, 7): 39603,\n",
       " (7, 9): 77586,\n",
       " (9, 1): 84596,\n",
       " (9, 3): 64371,\n",
       " (9, 7): 58130,\n",
       " (9, 9): 42843}"
      ]
     },
     "execution_count": 7,
     "metadata": {},
     "output_type": "execute_result"
    }
   ],
   "source": [
    "PC = {}\n",
    "for i in range(1, len(primes)):\n",
    "    ld1 = primes[i-1] % B\n",
    "    ld2 = primes[i] % B\n",
    "    key = (ld1, ld2)\n",
    "    PC[key] = PC.get(key, 0) + 1\n",
    "    \n",
    "PC"
   ]
  },
  {
   "cell_type": "code",
   "execution_count": 8,
   "metadata": {
    "collapsed": false
   },
   "outputs": [
    {
     "data": {
      "text/plain": [
       "{11: 42853,\n",
       " 13: 77475,\n",
       " 17: 79453,\n",
       " 19: 50153,\n",
       " 23: 1,\n",
       " 31: 58255,\n",
       " 33: 39668,\n",
       " 35: 1,\n",
       " 37: 72827,\n",
       " 39: 79358,\n",
       " 57: 1,\n",
       " 71: 64230,\n",
       " 73: 68595,\n",
       " 77: 39603,\n",
       " 79: 77586,\n",
       " 91: 84596,\n",
       " 93: 64371,\n",
       " 97: 58130,\n",
       " 99: 42843}"
      ]
     },
     "execution_count": 8,
     "metadata": {},
     "output_type": "execute_result"
    }
   ],
   "source": [
    "PC = {}\n",
    "for i in range(1, len(primes)):\n",
    "    ld1 = primes[i-1] % B\n",
    "    ld2 = primes[i] % B\n",
    "    key = ld1*B + ld2\n",
    "    PC[key] = PC.get(key, 0) + 1\n",
    "    \n",
    "PC"
   ]
  },
  {
   "cell_type": "code",
   "execution_count": 19,
   "metadata": {
    "collapsed": false
   },
   "outputs": [
    {
     "data": {
      "text/plain": [
       "{(0, 4): 1,\n",
       " (1, 1): 15164,\n",
       " (1, 2): 24356,\n",
       " (1, 3): 34044,\n",
       " (1, 4): 29947,\n",
       " (1, 5): 34516,\n",
       " (1, 6): 28643,\n",
       " (2, 1): 38288,\n",
       " (2, 2): 15039,\n",
       " (2, 3): 21375,\n",
       " (2, 4): 32827,\n",
       " (2, 5): 24541,\n",
       " (2, 6): 34581,\n",
       " (3, 1): 24858,\n",
       " (3, 2): 42117,\n",
       " (3, 3): 14276,\n",
       " (3, 4): 22398,\n",
       " (3, 5): 33066,\n",
       " (3, 6): 29993,\n",
       " (4, 1): 33111,\n",
       " (4, 2): 25881,\n",
       " (4, 3): 37720,\n",
       " (4, 4): 14129,\n",
       " (4, 5): 21444,\n",
       " (4, 6): 34351,\n",
       " (5, 0): 1,\n",
       " (5, 1): 24613,\n",
       " (5, 2): 34535,\n",
       " (5, 3): 26034,\n",
       " (5, 4): 42361,\n",
       " (5, 5): 14907,\n",
       " (5, 6): 24232,\n",
       " (6, 1): 30637,\n",
       " (6, 2): 24722,\n",
       " (6, 3): 33259,\n",
       " (6, 4): 24973,\n",
       " (6, 5): 38209,\n",
       " (6, 6): 14850}"
      ]
     },
     "execution_count": 19,
     "metadata": {},
     "output_type": "execute_result"
    }
   ],
   "source": [
    "B = 7\n",
    "PC = {}\n",
    "for i in range(1, len(primes)):\n",
    "    ld1 = primes[i-1] % B\n",
    "    ld2 = primes[i] % B\n",
    "    key = (ld1, ld2)\n",
    "    PC[key] = PC.get(key, 0) + 1\n",
    "    \n",
    "PC"
   ]
  },
  {
   "cell_type": "code",
   "execution_count": 13,
   "metadata": {
    "collapsed": false
   },
   "outputs": [
    {
     "data": {
      "text/plain": [
       "42361"
      ]
     },
     "execution_count": 13,
     "metadata": {},
     "output_type": "execute_result"
    }
   ],
   "source": [
    "np.max(list(PC.values()))"
   ]
  },
  {
   "cell_type": "code",
   "execution_count": 18,
   "metadata": {
    "collapsed": false
   },
   "outputs": [
    {
     "data": {
      "text/plain": [
       "array([[     0,      0,      0,      0,      0,      0],\n",
       "       [     0, 215873,      0,      0,      0, 283955],\n",
       "       [     0,      0,      0,      1,      0,      0],\n",
       "       [     0,      0,      0,      0,      0,      1],\n",
       "       [     0,      0,      0,      0,      0,      0],\n",
       "       [     0, 283956,      0,      0,      0, 216213]])"
      ]
     },
     "execution_count": 18,
     "metadata": {},
     "output_type": "execute_result"
    }
   ],
   "source": [
    "B = 6\n",
    "PC = np.zeros((B, B), dtype=int)\n",
    "for i in range(1, len(primes)):\n",
    "    ld1 = primes[i-1] % B\n",
    "    ld2 = primes[i] % B\n",
    "    PC[ld1, ld2] += 1\n",
    "    \n",
    "PC"
   ]
  },
  {
   "cell_type": "code",
   "execution_count": 20,
   "metadata": {
    "collapsed": false
   },
   "outputs": [
    {
     "name": "stdout",
     "output_type": "stream",
     "text": [
      "(5, 0)\n",
      "(0, 4)\n"
     ]
    }
   ],
   "source": [
    "for k in PC:\n",
    "    if PC[k] == 1:\n",
    "        print(k)"
   ]
  },
  {
   "cell_type": "code",
   "execution_count": null,
   "metadata": {
    "collapsed": true
   },
   "outputs": [],
   "source": []
  }
 ],
 "metadata": {
  "kernelspec": {
   "display_name": "Python [Root]",
   "language": "python",
   "name": "Python [Root]"
  },
  "language_info": {
   "codemirror_mode": {
    "name": "ipython",
    "version": 3
   },
   "file_extension": ".py",
   "mimetype": "text/x-python",
   "name": "python",
   "nbconvert_exporter": "python",
   "pygments_lexer": "ipython3",
   "version": "3.5.2"
  }
 },
 "nbformat": 4,
 "nbformat_minor": 1
}
