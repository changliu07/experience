{
 "cells": [
  {
   "cell_type": "markdown",
   "metadata": {},
   "source": [
    "# Final Exam Preview\n",
    "\n",
    "This is a preview of the final exam for Comp 116 in fall 2016. The dataset for the exam will have the same form as this one. It may have a different number of stations (planes) and days (rows) but will have the same number of hours (columns).\n",
    "\n",
    "You may use any Python features. Many questions will be easy to answer using Numpy functions. Feel free to use them. You don't have to write a loop for every question.\n",
    "\n",
    "The solution of every question must be a function. Simply computing the result is insufficient, you must write a function that depends only on the input arguments and produces the correct result.\n",
    "\n",
    "You may not use the Internet for anything except retrieving and submitting your exam. Any other use will be a violation of the Honor Code.\n",
    "\n",
    "You must disable network access on your laptop while taking the exam. You will lose points on the exam if my automatic tests detect that you have network access enabled.\n",
    "\n",
    "You may use any resources that you have stored locally on your computer or any paper notes, books, etc.\n",
    "\n",
    "Of course you may not use any phones, friends, etc.\n"
   ]
  },
  {
   "cell_type": "code",
   "execution_count": 1,
   "metadata": {
    "collapsed": true
   },
   "outputs": [],
   "source": [
    "Author = 'youronyen' # not your pid, your onyen\n",
    "Pledge = ''"
   ]
  },
  {
   "cell_type": "markdown",
   "metadata": {},
   "source": [
    "## Set up\n",
    "\n",
    "I will set up the environment for you here. Do not modify any of this."
   ]
  },
  {
   "cell_type": "code",
   "execution_count": 2,
   "metadata": {
    "collapsed": false
   },
   "outputs": [],
   "source": [
    "%matplotlib inline\n",
    "import numpy as np\n",
    "import pylab\n",
    "import comp116\n",
    "\n",
    "check, report = comp116.start('FEPreview')\n",
    "\n",
    "with np.load('weather.npz') as data:\n",
    "    temp = data['temp']\n",
    "    temp.flags.writeable = False\n",
    "    dewp = data['dewp']\n",
    "    dewp.flags.writeable = False\n",
    "    prcp = data['prcp']\n",
    "    prcp.flags.writeable = False\n",
    "    coords = data['coords']\n",
    "    coords.flags.writeable = False"
   ]
  },
  {
   "cell_type": "markdown",
   "metadata": {},
   "source": [
    "# Data description\n",
    "\n",
    "These data represent hourly reports from several NC weather stations. The array `temp` is the temperature in Fahrenheit, `dewp` is the dew point in Fahrenheit, and `prcp` is the precipitation in inches.\n",
    "\n",
    "If NDays is the number of days and NStations is the number of stations, then these 3 arrays are each NStations by NDays by 24 in size. \n",
    "\n",
    "Finally, `coords` is a NStations by 2 array giving the latitude and longitude of each station. \n",
    "\n",
    "Now, think about the kinds of questions you could answer with these data. Below are a few examples but they are not intended to cover the entire range of possibilities.\n",
    "\n",
    "Of course, I'll start the exam with some easy stuff but in order to get you to take preparation seriously, I'll give a few complicated examples here."
   ]
  },
  {
   "cell_type": "markdown",
   "metadata": {},
   "source": [
    "## 1. How many days were _beautiful_ at each station?\n",
    "\n",
    "Where _beautiful_ is defined to be rain free with temperature no less than 60 degrees and dew point no greater than 60 degrees from 7am through 7pm inclusive.\n",
    "\n",
    "Write a function `F1` that returns the number of beautiful days at each station given `temp`, `dewp`, and `prcp` as arguments."
   ]
  },
  {
   "cell_type": "code",
   "execution_count": 3,
   "metadata": {
    "collapsed": false
   },
   "outputs": [
    {
     "data": {
      "text/plain": [
       "array([ 28.,  29.,  28.,  27.,  27.,  25.,  24.,  26.,  30.,  36.,  42.,\n",
       "        45.,  49.,  50.,  51.,  50.,  49.,  43.,  41.,  43.,  41.,  42.,\n",
       "        42.,  42.])"
      ]
     },
     "execution_count": 3,
     "metadata": {},
     "output_type": "execute_result"
    }
   ],
   "source": [
    "D = temp[0, 0, :]\n",
    "D"
   ]
  },
  {
   "cell_type": "code",
   "execution_count": 4,
   "metadata": {
    "collapsed": false
   },
   "outputs": [
    {
     "data": {
      "text/plain": [
       "array([False, False, False, False, False, False, False, False, False,\n",
       "        True,  True,  True,  True,  True,  True,  True,  True,  True,\n",
       "        True,  True,  True,  True,  True,  True], dtype=bool)"
      ]
     },
     "execution_count": 4,
     "metadata": {},
     "output_type": "execute_result"
    }
   ],
   "source": [
    "D > 30"
   ]
  },
  {
   "cell_type": "code",
   "execution_count": 5,
   "metadata": {
    "collapsed": false
   },
   "outputs": [
    {
     "data": {
      "text/plain": [
       "False"
      ]
     },
     "execution_count": 5,
     "metadata": {},
     "output_type": "execute_result"
    }
   ],
   "source": [
    "np.all(D > 30)"
   ]
  },
  {
   "cell_type": "code",
   "execution_count": 6,
   "metadata": {
    "collapsed": false
   },
   "outputs": [
    {
     "data": {
      "text/plain": [
       "True"
      ]
     },
     "execution_count": 6,
     "metadata": {},
     "output_type": "execute_result"
    }
   ],
   "source": [
    "np.any(D > 30)"
   ]
  },
  {
   "cell_type": "code",
   "execution_count": 2,
   "metadata": {
    "collapsed": false
   },
   "outputs": [
    {
     "data": {
      "text/plain": [
       "(5, 365, 24)"
      ]
     },
     "execution_count": 2,
     "metadata": {},
     "output_type": "execute_result"
    }
   ],
   "source": [
    "temp.shape"
   ]
  },
  {
   "cell_type": "code",
   "execution_count": 7,
   "metadata": {
    "collapsed": false
   },
   "outputs": [
    {
     "data": {
      "text/plain": [
       "275.03999999999797"
      ]
     },
     "execution_count": 7,
     "metadata": {},
     "output_type": "execute_result"
    }
   ],
   "source": [
    "total_rain = 0\n",
    "for s in range(prcp.shape[0]):\n",
    "    for d in range(prcp.shape[1]):\n",
    "        for h in range(prcp.shape[2]):\n",
    "            total_rain = total_rain + prcp[s, d, h]\n",
    "total_rain"
   ]
  },
  {
   "cell_type": "code",
   "execution_count": 8,
   "metadata": {
    "collapsed": false
   },
   "outputs": [
    {
     "data": {
      "text/plain": [
       "275.04000000000002"
      ]
     },
     "execution_count": 8,
     "metadata": {},
     "output_type": "execute_result"
    }
   ],
   "source": [
    "np.sum(prcp)"
   ]
  },
  {
   "cell_type": "code",
   "execution_count": 9,
   "metadata": {
    "collapsed": false
   },
   "outputs": [
    {
     "name": "stdout",
     "output_type": "stream",
     "text": [
      "0 0\n",
      "0 1\n",
      "0 2\n",
      "1 0\n",
      "1 1\n",
      "1 2\n"
     ]
    }
   ],
   "source": [
    "for i in range(2):\n",
    "    for j in range(3):\n",
    "        print(i, j)"
   ]
  },
  {
   "cell_type": "code",
   "execution_count": null,
   "metadata": {
    "collapsed": true
   },
   "outputs": [],
   "source": [
    "total_rain = 0\n",
    "for s in range(prcp.shape[0]):\n",
    "    for d in range(prcp.shape[1]):\n",
    "        if d % 2 == 0:\n",
    "            for h in range(prcp.shape[2]):\n",
    "                if prcp[s, d, h] > 0.1:\n",
    "                    total_rain = total_rain + prcp[s, d, h]\n",
    "total_rain"
   ]
  },
  {
   "cell_type": "code",
   "execution_count": 4,
   "metadata": {
    "collapsed": false
   },
   "outputs": [
    {
     "name": "stdout",
     "output_type": "stream",
     "text": [
      "0\n",
      "1\n",
      "2\n",
      "3\n",
      "4\n"
     ]
    }
   ],
   "source": [
    "NStations = temp.shape[0]\n",
    "NDays = temp.shape[1]\n",
    "NHours = temp.shape[2]\n",
    "for s in range(NStations):\n",
    "    print(s)"
   ]
  },
  {
   "cell_type": "code",
   "execution_count": 9,
   "metadata": {
    "collapsed": false
   },
   "outputs": [
    {
     "data": {
      "text/plain": [
       "array([[[ 28.,  29.,  28.],\n",
       "        [ 44.,  43.,  43.],\n",
       "        [ 48.,  48.,  49.],\n",
       "        [ 49.,  49.,  50.]],\n",
       "\n",
       "       [[ 33.,  35.,  30.],\n",
       "        [ 48.,  47.,  46.],\n",
       "        [ 47.,  48.,  48.],\n",
       "        [ 49.,  48.,  48.]]])"
      ]
     },
     "execution_count": 9,
     "metadata": {},
     "output_type": "execute_result"
    }
   ],
   "source": [
    "ttemp = temp[:2,:4,:3]\n",
    "ttemp"
   ]
  },
  {
   "cell_type": "code",
   "execution_count": 11,
   "metadata": {
    "collapsed": false
   },
   "outputs": [
    {
     "data": {
      "text/plain": [
       "array([ 28.,  29.,  28.])"
      ]
     },
     "execution_count": 11,
     "metadata": {},
     "output_type": "execute_result"
    }
   ],
   "source": [
    "ttemp[0,0]"
   ]
  },
  {
   "cell_type": "code",
   "execution_count": 8,
   "metadata": {
    "collapsed": false
   },
   "outputs": [
    {
     "name": "stdout",
     "output_type": "stream",
     "text": [
      "F1 returns [15 36 17 91 39]\n",
      "Q1 function signature appears correct\n",
      "Q1-result appears correct\n"
     ]
    }
   ],
   "source": [
    "# write your function here\n",
    "\n",
    "def F1(temp, dewp, prcp):\n",
    "    NStations = temp.shape[0]\n",
    "    NDays = temp.shape[1]\n",
    "    NHours = temp.shape[2]\n",
    "    stationbdays = []\n",
    "    for s in range(NStations):\n",
    "        # do something to determine how many days were beautiful\n",
    "        bdays = 0\n",
    "        for d in range(NDays):\n",
    "            isWarm = np.all(temp[s,d,7:20] >= 60)\n",
    "            isComfy = np.all(dewp[s,d,7:20] <= 60)\n",
    "            isDry = np.all(prcp[s,d,7:20] == 0)\n",
    "            if isWarm and isComfy and isDry:\n",
    "                bdays = bdays + 1\n",
    "\n",
    "        stationbdays.append(bdays)\n",
    "    return np.array(stationbdays)\n",
    "\n",
    "# let's see what your function returns\n",
    "print('F1 returns', F1(temp, dewp, prcp))\n",
    "\n",
    "check('Q1', F1, temp, dewp, prcp, points=10)"
   ]
  },
  {
   "cell_type": "code",
   "execution_count": null,
   "metadata": {
    "collapsed": true
   },
   "outputs": [],
   "source": []
  },
  {
   "cell_type": "markdown",
   "metadata": {},
   "source": [
    "## 2. What was the maximum temperature range in a single day for each station?\n",
    "\n",
    "Write a function F2 that returns the maximum temperature range for each station given the `temp` array. That is, you want to find the difference between the max and min temperatures for each day and return the max of those differences."
   ]
  },
  {
   "cell_type": "code",
   "execution_count": 4,
   "metadata": {
    "collapsed": false
   },
   "outputs": [],
   "source": [
    "# write your function here\n",
    "\n",
    "\n",
    "# let's see what your function returns\n",
    "print('F2 returns', F2(temp))\n",
    "\n",
    "check('Q2', F2, temp, points=10)"
   ]
  },
  {
   "cell_type": "markdown",
   "metadata": {},
   "source": [
    "## 3. What was the total precipitation for each station?\n",
    "\n",
    "Write a function F3 that returns total precipitation for each station given the `prcp` array."
   ]
  },
  {
   "cell_type": "code",
   "execution_count": 5,
   "metadata": {
    "collapsed": false
   },
   "outputs": [],
   "source": [
    "# write your function here\n",
    "\n",
    "\n",
    "# let's see what your function returns\n",
    "print('F3 returns', F3(prcp))\n",
    "\n",
    "check('Q3', F3, prcp, points=10)"
   ]
  },
  {
   "cell_type": "markdown",
   "metadata": {},
   "source": [
    "## 4. Plot the daily minimum temperature for each site.\n",
    "\n",
    "Write a function `F4` that takes `temp` as its only argument and plots one line for each site in the default colors.\n",
    "\n",
    "For the checking to work properly you have to `return pylab.gcf()` as shown below."
   ]
  },
  {
   "cell_type": "code",
   "execution_count": 11,
   "metadata": {
    "collapsed": false
   },
   "outputs": [],
   "source": [
    "def F4(temp):\n",
    "    # write your code here\n",
    "    return pylab.gcf()\n",
    "\n",
    "check('Q4', F4, temp, points=10)"
   ]
  },
  {
   "cell_type": "code",
   "execution_count": 7,
   "metadata": {
    "collapsed": false
   },
   "outputs": [],
   "source": [
    "report(Author, Pledge)"
   ]
  }
 ],
 "metadata": {
  "kernelspec": {
   "display_name": "Python [Root]",
   "language": "python",
   "name": "Python [Root]"
  },
  "language_info": {
   "codemirror_mode": {
    "name": "ipython",
    "version": 3
   },
   "file_extension": ".py",
   "mimetype": "text/x-python",
   "name": "python",
   "nbconvert_exporter": "python",
   "pygments_lexer": "ipython3",
   "version": "3.5.2"
  }
 },
 "nbformat": 4,
 "nbformat_minor": 1
}
