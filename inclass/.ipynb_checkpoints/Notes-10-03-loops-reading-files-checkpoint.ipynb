{
 "cells": [
  {
   "cell_type": "markdown",
   "metadata": {},
   "source": [
    "# Notes for 03 October\n",
    "\n",
    "Reading files with loops\n",
    "\n",
    "First we'll fetch a file from the network."
   ]
  },
  {
   "cell_type": "code",
   "execution_count": 1,
   "metadata": {
    "collapsed": false
   },
   "outputs": [
    {
     "data": {
      "text/plain": [
       "('sometext.txt', <http.client.HTTPMessage at 0x7f66580ac198>)"
      ]
     },
     "execution_count": 1,
     "metadata": {},
     "output_type": "execute_result"
    }
   ],
   "source": [
    "import urllib.request\n",
    "url = 'http://goo.gl/UG0JBi'\n",
    "urllib.request.urlretrieve(url, 'sometext.txt')"
   ]
  },
  {
   "cell_type": "markdown",
   "metadata": {},
   "source": [
    "We can open the file with the open function. The object we get back is a file, I'll call it fp."
   ]
  },
  {
   "cell_type": "code",
   "execution_count": 2,
   "metadata": {
    "collapsed": true
   },
   "outputs": [],
   "source": [
    "fp = open('sometext.txt', 'r')"
   ]
  },
  {
   "cell_type": "code",
   "execution_count": 3,
   "metadata": {
    "collapsed": false
   },
   "outputs": [
    {
     "data": {
      "text/plain": [
       "<_io.TextIOWrapper name='sometext.txt' mode='r' encoding='UTF-8'>"
      ]
     },
     "execution_count": 3,
     "metadata": {},
     "output_type": "execute_result"
    }
   ],
   "source": [
    "fp"
   ]
  },
  {
   "cell_type": "markdown",
   "metadata": {},
   "source": [
    "I can read a line from the file with its `readline` method."
   ]
  },
  {
   "cell_type": "code",
   "execution_count": 4,
   "metadata": {
    "collapsed": false
   },
   "outputs": [
    {
     "data": {
      "text/plain": [
       "'This is a file\\n'"
      ]
     },
     "execution_count": 4,
     "metadata": {},
     "output_type": "execute_result"
    }
   ],
   "source": [
    "fp.readline()"
   ]
  },
  {
   "cell_type": "markdown",
   "metadata": {},
   "source": [
    "Calling it again produces the next line. This implies that the object is keeping track of how far we have advanced into the file."
   ]
  },
  {
   "cell_type": "code",
   "execution_count": 5,
   "metadata": {
    "collapsed": false
   },
   "outputs": [
    {
     "data": {
      "text/plain": [
       "'with several lines\\n'"
      ]
     },
     "execution_count": 5,
     "metadata": {},
     "output_type": "execute_result"
    }
   ],
   "source": [
    "fp.readline()"
   ]
  },
  {
   "cell_type": "code",
   "execution_count": 6,
   "metadata": {
    "collapsed": false
   },
   "outputs": [
    {
     "data": {
      "text/plain": [
       "'of text.\\n'"
      ]
     },
     "execution_count": 6,
     "metadata": {},
     "output_type": "execute_result"
    }
   ],
   "source": [
    "fp.readline()"
   ]
  },
  {
   "cell_type": "code",
   "execution_count": 7,
   "metadata": {
    "collapsed": false
   },
   "outputs": [
    {
     "data": {
      "text/plain": [
       "'In Python we can access\\n'"
      ]
     },
     "execution_count": 7,
     "metadata": {},
     "output_type": "execute_result"
    }
   ],
   "source": [
    "fp.readline()"
   ]
  },
  {
   "cell_type": "code",
   "execution_count": 8,
   "metadata": {
    "collapsed": false
   },
   "outputs": [
    {
     "data": {
      "text/plain": [
       "'it as a sequence of lines\\n'"
      ]
     },
     "execution_count": 8,
     "metadata": {},
     "output_type": "execute_result"
    }
   ],
   "source": [
    "fp.readline()"
   ]
  },
  {
   "cell_type": "code",
   "execution_count": 9,
   "metadata": {
    "collapsed": false
   },
   "outputs": [
    {
     "data": {
      "text/plain": [
       "'using the open function.\\n'"
      ]
     },
     "execution_count": 9,
     "metadata": {},
     "output_type": "execute_result"
    }
   ],
   "source": [
    "fp.readline()"
   ]
  },
  {
   "cell_type": "markdown",
   "metadata": {},
   "source": [
    "When we get to the end of the file it will return an empty string."
   ]
  },
  {
   "cell_type": "code",
   "execution_count": 10,
   "metadata": {
    "collapsed": false
   },
   "outputs": [
    {
     "data": {
      "text/plain": [
       "''"
      ]
     },
     "execution_count": 10,
     "metadata": {},
     "output_type": "execute_result"
    }
   ],
   "source": [
    "fp.readline()"
   ]
  },
  {
   "cell_type": "code",
   "execution_count": 11,
   "metadata": {
    "collapsed": false
   },
   "outputs": [
    {
     "data": {
      "text/plain": [
       "''"
      ]
     },
     "execution_count": 11,
     "metadata": {},
     "output_type": "execute_result"
    }
   ],
   "source": [
    "fp.readline()"
   ]
  },
  {
   "cell_type": "markdown",
   "metadata": {},
   "source": [
    "I could try to read all the lines using several statements. But this is a waste of typing."
   ]
  },
  {
   "cell_type": "code",
   "execution_count": 12,
   "metadata": {
    "collapsed": true
   },
   "outputs": [],
   "source": [
    "fp = open('sometext.txt', 'r')\n",
    "line0 = fp.readline()\n",
    "line1 = fp.readline()\n",
    "line2 = fp.readline()\n",
    "line3 = fp.readline()\n",
    "line4 = fp.readline()\n",
    "line5 = fp.readline()"
   ]
  },
  {
   "cell_type": "code",
   "execution_count": 13,
   "metadata": {
    "collapsed": false
   },
   "outputs": [
    {
     "name": "stdout",
     "output_type": "stream",
     "text": [
      "This is a file\n",
      " with several lines\n",
      " of text.\n",
      " In Python we can access\n",
      " it as a sequence of lines\n",
      " using the open function.\n",
      "\n"
     ]
    }
   ],
   "source": [
    "print(line0,line1,line2,line3,line4,line5)"
   ]
  },
  {
   "cell_type": "markdown",
   "metadata": {},
   "source": [
    "Instead, I'll read them in a loop. The `for` statement will iterate over any kind of sequence. The statements indented under it will execute once for each line in the file."
   ]
  },
  {
   "cell_type": "code",
   "execution_count": 14,
   "metadata": {
    "collapsed": false
   },
   "outputs": [
    {
     "name": "stdout",
     "output_type": "stream",
     "text": [
      "['This is a file\\n', 'with several lines\\n', 'of text.\\n', 'In Python we can access\\n', 'it as a sequence of lines\\n', 'using the open function.\\n']\n"
     ]
    }
   ],
   "source": [
    "lines = []\n",
    "for line in open('sometext.txt', 'r'):\n",
    "    lines.append(line)\n",
    "print(lines)"
   ]
  },
  {
   "cell_type": "code",
   "execution_count": null,
   "metadata": {
    "collapsed": true
   },
   "outputs": [],
   "source": [
    "We talked briefly about lists to remind ourselves how they work."
   ]
  },
  {
   "cell_type": "code",
   "execution_count": 15,
   "metadata": {
    "collapsed": false
   },
   "outputs": [
    {
     "name": "stdout",
     "output_type": "stream",
     "text": [
      "['foo']\n"
     ]
    }
   ],
   "source": [
    "L = []\n",
    "L.append('foo')\n",
    "print(L)"
   ]
  },
  {
   "cell_type": "code",
   "execution_count": 16,
   "metadata": {
    "collapsed": false
   },
   "outputs": [
    {
     "name": "stdout",
     "output_type": "stream",
     "text": [
      "['foo', 'bar']\n"
     ]
    }
   ],
   "source": [
    "L.append('bar')\n",
    "print(L)"
   ]
  },
  {
   "cell_type": "markdown",
   "metadata": {},
   "source": [
    "I'll read the lines again, this time, `strip`ing the newlines off of them. Now now the list of strings don't have that '\\n' character at the end."
   ]
  },
  {
   "cell_type": "code",
   "execution_count": 17,
   "metadata": {
    "collapsed": false
   },
   "outputs": [
    {
     "name": "stdout",
     "output_type": "stream",
     "text": [
      "['This is a file', 'with several lines', 'of text.', 'In Python we can access', 'it as a sequence of lines', 'using the open function.']\n"
     ]
    }
   ],
   "source": [
    "lines = []\n",
    "for line in open('sometext.txt', 'r'):\n",
    "    lines.append(line.strip())\n",
    "print(lines)"
   ]
  },
  {
   "cell_type": "markdown",
   "metadata": {},
   "source": [
    "We talked about split and how it can divide a string in a list of strings. The default is to divide at spaces."
   ]
  },
  {
   "cell_type": "code",
   "execution_count": 18,
   "metadata": {
    "collapsed": false
   },
   "outputs": [
    {
     "data": {
      "text/plain": [
       "['this', 'is', 'a', 'string']"
      ]
     },
     "execution_count": 18,
     "metadata": {},
     "output_type": "execute_result"
    }
   ],
   "source": [
    "'this is a string'.split()"
   ]
  },
  {
   "cell_type": "markdown",
   "metadata": {},
   "source": [
    "We can bust each line into words and now we've got two nested loops! The outer loop reads the lines, strips, and splits them. The inner loop takes the words and adds them to the list of words."
   ]
  },
  {
   "cell_type": "code",
   "execution_count": 19,
   "metadata": {
    "collapsed": false
   },
   "outputs": [
    {
     "name": "stdout",
     "output_type": "stream",
     "text": [
      "['This', 'is', 'a', 'file', 'with', 'several', 'lines', 'of', 'text.', 'In', 'Python', 'we', 'can', 'access', 'it', 'as', 'a', 'sequence', 'of', 'lines', 'using', 'the', 'open', 'function.']\n"
     ]
    }
   ],
   "source": [
    "words = []\n",
    "for line in open('sometext.txt', 'r'):\n",
    "    linewords = line.strip().split()\n",
    "    for word in linewords:\n",
    "        words.append(word)\n",
    "print(words)"
   ]
  },
  {
   "cell_type": "markdown",
   "metadata": {},
   "source": [
    "We can decorate our code with some print calls so we can see what is happening."
   ]
  },
  {
   "cell_type": "code",
   "execution_count": 20,
   "metadata": {
    "collapsed": false
   },
   "outputs": [
    {
     "name": "stdout",
     "output_type": "stream",
     "text": [
      "line= This is a file\n",
      "\n",
      "linewords= ['This', 'is', 'a', 'file']\n",
      "word= This\n",
      "word= is\n",
      "word= a\n",
      "word= file\n",
      "line= with several lines\n",
      "\n",
      "linewords= ['with', 'several', 'lines']\n",
      "word= with\n",
      "word= several\n",
      "word= lines\n",
      "line= of text.\n",
      "\n",
      "linewords= ['of', 'text.']\n",
      "word= of\n",
      "word= text.\n",
      "line= In Python we can access\n",
      "\n",
      "linewords= ['In', 'Python', 'we', 'can', 'access']\n",
      "word= In\n",
      "word= Python\n",
      "word= we\n",
      "word= can\n",
      "word= access\n",
      "line= it as a sequence of lines\n",
      "\n",
      "linewords= ['it', 'as', 'a', 'sequence', 'of', 'lines']\n",
      "word= it\n",
      "word= as\n",
      "word= a\n",
      "word= sequence\n",
      "word= of\n",
      "word= lines\n",
      "line= using the open function.\n",
      "\n",
      "linewords= ['using', 'the', 'open', 'function.']\n",
      "word= using\n",
      "word= the\n",
      "word= open\n",
      "word= function.\n",
      "['This', 'is', 'a', 'file', 'with', 'several', 'lines', 'of', 'text.', 'In', 'Python', 'we', 'can', 'access', 'it', 'as', 'a', 'sequence', 'of', 'lines', 'using', 'the', 'open', 'function.']\n"
     ]
    }
   ],
   "source": [
    "words = []\n",
    "for line in open('sometext.txt', 'r'):\n",
    "    print('line=', line)\n",
    "    linewords = line.strip().split()\n",
    "    print('linewords=', linewords)\n",
    "    for word in linewords:\n",
    "        print('word=', word)\n",
    "        words.append(word)\n",
    "print(words)"
   ]
  },
  {
   "cell_type": "code",
   "execution_count": 21,
   "metadata": {
    "collapsed": false
   },
   "outputs": [
    {
     "name": "stdout",
     "output_type": "stream",
     "text": [
      "line= This is a file\n",
      "\n",
      "linewords= ['This', 'is', 'a', 'file']\n",
      "word= This\n",
      "words= ['This']\n",
      "word= is\n",
      "words= ['This', 'is']\n",
      "word= a\n",
      "words= ['This', 'is', 'a']\n",
      "word= file\n",
      "words= ['This', 'is', 'a', 'file']\n",
      "line= with several lines\n",
      "\n",
      "linewords= ['with', 'several', 'lines']\n",
      "word= with\n",
      "words= ['This', 'is', 'a', 'file', 'with']\n",
      "word= several\n",
      "words= ['This', 'is', 'a', 'file', 'with', 'several']\n",
      "word= lines\n",
      "words= ['This', 'is', 'a', 'file', 'with', 'several', 'lines']\n",
      "line= of text.\n",
      "\n",
      "linewords= ['of', 'text.']\n",
      "word= of\n",
      "words= ['This', 'is', 'a', 'file', 'with', 'several', 'lines', 'of']\n",
      "word= text.\n",
      "words= ['This', 'is', 'a', 'file', 'with', 'several', 'lines', 'of', 'text.']\n",
      "line= In Python we can access\n",
      "\n",
      "linewords= ['In', 'Python', 'we', 'can', 'access']\n",
      "word= In\n",
      "words= ['This', 'is', 'a', 'file', 'with', 'several', 'lines', 'of', 'text.', 'In']\n",
      "word= Python\n",
      "words= ['This', 'is', 'a', 'file', 'with', 'several', 'lines', 'of', 'text.', 'In', 'Python']\n",
      "word= we\n",
      "words= ['This', 'is', 'a', 'file', 'with', 'several', 'lines', 'of', 'text.', 'In', 'Python', 'we']\n",
      "word= can\n",
      "words= ['This', 'is', 'a', 'file', 'with', 'several', 'lines', 'of', 'text.', 'In', 'Python', 'we', 'can']\n",
      "word= access\n",
      "words= ['This', 'is', 'a', 'file', 'with', 'several', 'lines', 'of', 'text.', 'In', 'Python', 'we', 'can', 'access']\n",
      "line= it as a sequence of lines\n",
      "\n",
      "linewords= ['it', 'as', 'a', 'sequence', 'of', 'lines']\n",
      "word= it\n",
      "words= ['This', 'is', 'a', 'file', 'with', 'several', 'lines', 'of', 'text.', 'In', 'Python', 'we', 'can', 'access', 'it']\n",
      "word= as\n",
      "words= ['This', 'is', 'a', 'file', 'with', 'several', 'lines', 'of', 'text.', 'In', 'Python', 'we', 'can', 'access', 'it', 'as']\n",
      "word= a\n",
      "words= ['This', 'is', 'a', 'file', 'with', 'several', 'lines', 'of', 'text.', 'In', 'Python', 'we', 'can', 'access', 'it', 'as', 'a']\n",
      "word= sequence\n",
      "words= ['This', 'is', 'a', 'file', 'with', 'several', 'lines', 'of', 'text.', 'In', 'Python', 'we', 'can', 'access', 'it', 'as', 'a', 'sequence']\n",
      "word= of\n",
      "words= ['This', 'is', 'a', 'file', 'with', 'several', 'lines', 'of', 'text.', 'In', 'Python', 'we', 'can', 'access', 'it', 'as', 'a', 'sequence', 'of']\n",
      "word= lines\n",
      "words= ['This', 'is', 'a', 'file', 'with', 'several', 'lines', 'of', 'text.', 'In', 'Python', 'we', 'can', 'access', 'it', 'as', 'a', 'sequence', 'of', 'lines']\n",
      "line= using the open function.\n",
      "\n",
      "linewords= ['using', 'the', 'open', 'function.']\n",
      "word= using\n",
      "words= ['This', 'is', 'a', 'file', 'with', 'several', 'lines', 'of', 'text.', 'In', 'Python', 'we', 'can', 'access', 'it', 'as', 'a', 'sequence', 'of', 'lines', 'using']\n",
      "word= the\n",
      "words= ['This', 'is', 'a', 'file', 'with', 'several', 'lines', 'of', 'text.', 'In', 'Python', 'we', 'can', 'access', 'it', 'as', 'a', 'sequence', 'of', 'lines', 'using', 'the']\n",
      "word= open\n",
      "words= ['This', 'is', 'a', 'file', 'with', 'several', 'lines', 'of', 'text.', 'In', 'Python', 'we', 'can', 'access', 'it', 'as', 'a', 'sequence', 'of', 'lines', 'using', 'the', 'open']\n",
      "word= function.\n",
      "words= ['This', 'is', 'a', 'file', 'with', 'several', 'lines', 'of', 'text.', 'In', 'Python', 'we', 'can', 'access', 'it', 'as', 'a', 'sequence', 'of', 'lines', 'using', 'the', 'open', 'function.']\n",
      "['This', 'is', 'a', 'file', 'with', 'several', 'lines', 'of', 'text.', 'In', 'Python', 'we', 'can', 'access', 'it', 'as', 'a', 'sequence', 'of', 'lines', 'using', 'the', 'open', 'function.']\n"
     ]
    }
   ],
   "source": [
    "words = []\n",
    "for line in open('sometext.txt', 'r'):\n",
    "    print('line=', line)\n",
    "    linewords = line.strip().split()\n",
    "    print('linewords=', linewords)\n",
    "    for word in linewords:\n",
    "        print('word=', word)\n",
    "        words.append(word)\n",
    "        print('words=', words)\n",
    "print(words)"
   ]
  },
  {
   "cell_type": "markdown",
   "metadata": {},
   "source": [
    "Suppose we want a list of only the capitalized words? We can use the `if` statement to select only those. The `isupper` method returns True if the string it is given consists only of uppercase letters."
   ]
  },
  {
   "cell_type": "code",
   "execution_count": 22,
   "metadata": {
    "collapsed": false
   },
   "outputs": [
    {
     "name": "stdout",
     "output_type": "stream",
     "text": [
      "['This', 'In', 'Python']\n"
     ]
    }
   ],
   "source": [
    "words = []\n",
    "for line in open('sometext.txt', 'r'):\n",
    "    linewords = line.strip().split()\n",
    "    for word in linewords:\n",
    "        if word[0].isupper():\n",
    "            words.append(word)\n",
    "print(words)"
   ]
  },
  {
   "cell_type": "markdown",
   "metadata": {},
   "source": [
    "Then we modified our code to get only words of length 4 or greater."
   ]
  },
  {
   "cell_type": "code",
   "execution_count": 23,
   "metadata": {
    "collapsed": false
   },
   "outputs": [
    {
     "name": "stdout",
     "output_type": "stream",
     "text": [
      "['This', 'file', 'with', 'several', 'lines', 'text.', 'Python', 'access', 'sequence', 'lines', 'using', 'open', 'function.']\n"
     ]
    }
   ],
   "source": [
    "words = []\n",
    "for line in open('sometext.txt', 'r'):\n",
    "    linewords = line.strip().split()\n",
    "    for word in linewords:\n",
    "        if len(word) >= 4:\n",
    "            words.append(word)\n",
    "print(words)"
   ]
  },
  {
   "cell_type": "code",
   "execution_count": null,
   "metadata": {
    "collapsed": true
   },
   "outputs": [],
   "source": []
  }
 ],
 "metadata": {
  "anaconda-cloud": {},
  "kernelspec": {
   "display_name": "Python [Root]",
   "language": "python",
   "name": "Python [Root]"
  },
  "language_info": {
   "codemirror_mode": {
    "name": "ipython",
    "version": 3
   },
   "file_extension": ".py",
   "mimetype": "text/x-python",
   "name": "python",
   "nbconvert_exporter": "python",
   "pygments_lexer": "ipython3",
   "version": "3.5.2"
  }
 },
 "nbformat": 4,
 "nbformat_minor": 1
}
