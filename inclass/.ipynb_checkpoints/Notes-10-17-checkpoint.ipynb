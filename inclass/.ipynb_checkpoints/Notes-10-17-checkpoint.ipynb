{
 "cells": [
  {
   "cell_type": "markdown",
   "metadata": {},
   "source": [
    "# Notes for 17 October\n",
    "\n",
    "Counting values.\n",
    "\n",
    "Write a function that counts the number of occurrences of different integer values in its array argument. So 'CountInt(np.array([3, 2, 4, 5, 2]))' should return '[ 0, 0, 2, 1, 1, 1 ]' because 0 and 1 don't occur at all, 2 occurs twice, 3, 4, and 5 occur once.\n",
    "\n",
    "To start you may assume the values in the array are in the range 0 through 5."
   ]
  },
  {
   "cell_type": "code",
   "execution_count": 1,
   "metadata": {
    "collapsed": true
   },
   "outputs": [],
   "source": [
    "import numpy as np"
   ]
  },
  {
   "cell_type": "markdown",
   "metadata": {},
   "source": [
    "First a functional but terrible solution. **Don't do this!**"
   ]
  },
  {
   "cell_type": "code",
   "execution_count": 2,
   "metadata": {
    "collapsed": false
   },
   "outputs": [
    {
     "data": {
      "text/plain": [
       "array([0, 0, 2, 1, 1, 1])"
      ]
     },
     "execution_count": 2,
     "metadata": {},
     "output_type": "execute_result"
    }
   ],
   "source": [
    "def CountInt(A):\n",
    "    '''Count how many times each int occurs in A'''\n",
    "    time0 = np.count_nonzero(A == 0)\n",
    "    time1 = np.count_nonzero(A == 1)\n",
    "    time2 = np.count_nonzero(A == 2)\n",
    "    time3 = np.count_nonzero(A == 3)\n",
    "    time4 = np.count_nonzero(A == 4)\n",
    "    time5 = np.count_nonzero(A == 5)\n",
    "    answer = np.array([time0,time1,time2,time3,time4,time5])\n",
    "    return answer\n",
    "\n",
    "CountInt(np.array([3, 2, 4, 5, 2]))"
   ]
  },
  {
   "cell_type": "markdown",
   "metadata": {},
   "source": [
    "We could make a better version using a loop."
   ]
  },
  {
   "cell_type": "code",
   "execution_count": 3,
   "metadata": {
    "collapsed": false
   },
   "outputs": [
    {
     "data": {
      "text/plain": [
       "array([0, 0, 2, 1, 1, 1])"
      ]
     },
     "execution_count": 3,
     "metadata": {},
     "output_type": "execute_result"
    }
   ],
   "source": [
    "def CountInt1(A):\n",
    "    '''Count how many times each int occors in A'''\n",
    "    result = []\n",
    "    for i in range(6):\n",
    "        result.append(np.count_nonzero(A == i))\n",
    "    return np.array(result)\n",
    "CountInt1(np.array([3, 2, 4, 5, 2]))"
   ]
  },
  {
   "cell_type": "markdown",
   "metadata": {},
   "source": [
    "This version is almost exactly the same as the original but using an array rather than numerous similarly named variables."
   ]
  },
  {
   "cell_type": "code",
   "execution_count": 4,
   "metadata": {
    "collapsed": false
   },
   "outputs": [
    {
     "data": {
      "text/plain": [
       "array([ 0.,  0.,  2.,  1.,  1.,  1.])"
      ]
     },
     "execution_count": 4,
     "metadata": {},
     "output_type": "execute_result"
    }
   ],
   "source": [
    "def CountInt2(A):\n",
    "    time = np.zeros(6)\n",
    "    for i in range(6):\n",
    "        time[i] = np.count_nonzero(A == i)\n",
    "    return time\n",
    "CountInt2(np.array([3, 2, 4, 5, 2]))"
   ]
  },
  {
   "cell_type": "markdown",
   "metadata": {},
   "source": [
    "We can easily make it work for any range of inputs rather than just 0 through 5."
   ]
  },
  {
   "cell_type": "code",
   "execution_count": 5,
   "metadata": {
    "collapsed": false
   },
   "outputs": [
    {
     "data": {
      "text/plain": [
       "array([ 0.,  0.,  2.,  1.,  1.,  1.])"
      ]
     },
     "execution_count": 5,
     "metadata": {},
     "output_type": "execute_result"
    }
   ],
   "source": [
    "def CountInt3(A):\n",
    "    N = np.max(A) + 1\n",
    "    time = np.zeros(N)\n",
    "    for i in range(N):\n",
    "        time[i] = np.count_nonzero(A == i)\n",
    "    return time\n",
    "CountInt3(np.array([3, 2, 4, 5, 2]))    "
   ]
  },
  {
   "cell_type": "markdown",
   "metadata": {},
   "source": [
    "We can now count ints over a larger range."
   ]
  },
  {
   "cell_type": "code",
   "execution_count": 6,
   "metadata": {
    "collapsed": false
   },
   "outputs": [
    {
     "data": {
      "text/plain": [
       "array([ 0.,  0.,  1.,  0.,  0.,  0.,  1.,  1.,  1.,  2.,  2.,  3.,  0.,\n",
       "        0.,  1.,  1.,  3.,  1.,  1.,  0.,  0.,  3.,  0.,  3.,  3.,  3.,\n",
       "        0.,  1.,  2.,  1.,  2.,  3.,  0.,  0.,  0.,  0.,  1.,  3.,  0.,\n",
       "        2.,  1.,  2.,  0.,  1.,  0.,  1.,  2.,  0.,  3.,  0.,  0.,  2.,\n",
       "        0.,  0.,  0.,  0.,  0.,  0.,  3.,  1.,  0.,  0.,  2.,  2.,  1.,\n",
       "        1.,  3.,  1.,  0.,  1.,  1.,  0.,  0.,  0.,  1.,  1.,  1.,  1.,\n",
       "        2.,  1.,  1.,  1.,  0.,  1.,  2.,  0.,  1.,  2.,  0.,  1.,  0.,\n",
       "        2.,  1.,  2.,  0.,  1.,  1.,  2.,  2.])"
      ]
     },
     "execution_count": 6,
     "metadata": {},
     "output_type": "execute_result"
    }
   ],
   "source": [
    "CountInt3(np.random.randint(0,100,100))"
   ]
  },
  {
   "cell_type": "markdown",
   "metadata": {},
   "source": [
    "The previous versions step through the input range. We could also step through the input values."
   ]
  },
  {
   "cell_type": "code",
   "execution_count": 7,
   "metadata": {
    "collapsed": false
   },
   "outputs": [
    {
     "data": {
      "text/plain": [
       "array([ 0.,  0.,  2.,  1.,  1.,  1.])"
      ]
     },
     "execution_count": 7,
     "metadata": {},
     "output_type": "execute_result"
    }
   ],
   "source": [
    "def CountInt4(A):\n",
    "    N = np.max(A) + 1\n",
    "    time = np.zeros(N)\n",
    "    for i in range(len(A)):\n",
    "        v = A[i]\n",
    "        time[v] = time[v] + 1\n",
    "    return time\n",
    "CountInt4(np.array([3, 2, 4, 5, 2]))  "
   ]
  },
  {
   "cell_type": "code",
   "execution_count": 8,
   "metadata": {
    "collapsed": false
   },
   "outputs": [
    {
     "data": {
      "text/plain": [
       "array([ 3.,  0.,  1.,  0.,  0.,  1.,  1.,  0.,  1.,  1.,  0.,  0.,  1.,\n",
       "        1.,  0.,  0.,  0.,  1.,  0.,  2.,  1.,  1.,  1.,  4.,  1.,  1.,\n",
       "        1.,  0.,  2.,  0.,  0.,  2.,  3.,  0.,  1.,  0.,  3.,  4.,  1.,\n",
       "        0.,  3.,  1.,  2.,  0.,  0.,  0.,  2.,  1.,  1.,  4.,  0.,  0.,\n",
       "        1.,  1.,  1.,  1.,  0.,  1.,  1.,  0.,  1.,  2.,  1.,  2.,  1.,\n",
       "        0.,  1.,  0.,  0.,  0.,  1.,  0.,  1.,  0.,  2.,  1.,  1.,  0.,\n",
       "        0.,  1.,  2.,  0.,  2.,  1.,  0.,  1.,  3.,  2.,  2.,  0.,  0.,\n",
       "        3.,  0.,  0.,  3.,  0.,  2.,  2.,  0.,  3.])"
      ]
     },
     "execution_count": 8,
     "metadata": {},
     "output_type": "execute_result"
    }
   ],
   "source": [
    "CountInt4(np.random.randint(0,100,100))"
   ]
  },
  {
   "cell_type": "code",
   "execution_count": 9,
   "metadata": {
    "collapsed": false
   },
   "outputs": [
    {
     "name": "stdout",
     "output_type": "stream",
     "text": [
      "[ 0.  0.  0.  1.  0.  0.]\n",
      "[ 0.  0.  1.  1.  0.  0.]\n",
      "[ 0.  0.  1.  1.  1.  0.]\n",
      "[ 0.  0.  1.  1.  1.  1.]\n",
      "[ 0.  0.  2.  1.  1.  1.]\n"
     ]
    },
    {
     "data": {
      "text/plain": [
       "array([ 0.,  0.,  2.,  1.,  1.,  1.])"
      ]
     },
     "execution_count": 9,
     "metadata": {},
     "output_type": "execute_result"
    }
   ],
   "source": [
    "def CountInt4p(A):\n",
    "    N = np.max(A) + 1\n",
    "    time = np.zeros(N)\n",
    "    for i in range(len(A)):\n",
    "        v = A[i]\n",
    "        time[v] = time[v] + 1\n",
    "        print(time)\n",
    "    return time\n",
    "CountInt4p(np.array([3, 2, 4, 5, 2]))  "
   ]
  },
  {
   "cell_type": "code",
   "execution_count": 10,
   "metadata": {
    "collapsed": false
   },
   "outputs": [
    {
     "data": {
      "text/plain": [
       "array([ 0.,  0.,  2.,  1.,  1.,  1.])"
      ]
     },
     "execution_count": 10,
     "metadata": {},
     "output_type": "execute_result"
    }
   ],
   "source": [
    "def CountInt5(A):\n",
    "    N = np.max(A) + 1\n",
    "    time = np.zeros(N)\n",
    "    for v in A:\n",
    "        time[v] = time[v] + 1\n",
    "    return time\n",
    "CountInt5(np.array([3, 2, 4, 5, 2]))  "
   ]
  },
  {
   "cell_type": "code",
   "execution_count": null,
   "metadata": {
    "collapsed": true
   },
   "outputs": [],
   "source": []
  }
 ],
 "metadata": {
  "kernelspec": {
   "display_name": "Python [Root]",
   "language": "python",
   "name": "Python [Root]"
  },
  "language_info": {
   "codemirror_mode": {
    "name": "ipython",
    "version": 3
   },
   "file_extension": ".py",
   "mimetype": "text/x-python",
   "name": "python",
   "nbconvert_exporter": "python",
   "pygments_lexer": "ipython3",
   "version": "3.5.2"
  }
 },
 "nbformat": 4,
 "nbformat_minor": 1
}
