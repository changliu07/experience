{
 "cells": [
  {
   "cell_type": "markdown",
   "metadata": {},
   "source": [
    "# Notes for 10 October\n",
    "\n",
    "Loops and distances\n",
    "\n",
    "Today we'll look at a problem that is closely related to assignment 3. We're going to create a list of coordinates and divide them into two groups. Then we'll draw lines between points that meet some criteria. "
   ]
  },
  {
   "cell_type": "code",
   "execution_count": 2,
   "metadata": {
    "collapsed": false
   },
   "outputs": [
    {
     "name": "stdout",
     "output_type": "stream",
     "text": [
      "[[-0.16595599  0.44064899]\n",
      " [-0.99977125 -0.39533485]\n",
      " [-0.70648822 -0.81532281]\n",
      " [-0.62747958 -0.30887855]\n",
      " [-0.20646505  0.07763347]\n",
      " [-0.16161097  0.370439  ]\n",
      " [-0.5910955   0.75623487]\n",
      " [-0.94522481  0.34093502]\n",
      " [-0.1653904   0.11737966]\n",
      " [-0.71922612 -0.60379702]\n",
      " [ 0.60148914  0.93652315]\n",
      " [-0.37315164  0.38464523]\n",
      " [ 0.7527783   0.78921333]\n",
      " [-0.82991158 -0.92189043]\n",
      " [-0.66033916  0.75628501]\n",
      " [-0.80330633 -0.15778475]\n",
      " [ 0.91577906  0.06633057]\n",
      " [ 0.38375423 -0.36896874]\n",
      " [ 0.37300186  0.66925134]\n",
      " [-0.96342345  0.50028863]]\n"
     ]
    },
    {
     "data": {
      "text/plain": [
       "(-1.0, 1.0, -1.0, 1.0)"
      ]
     },
     "execution_count": 2,
     "metadata": {},
     "output_type": "execute_result"
    },
    {
     "data": {
      "image/png": "[encoded data removed]",
      "text/plain": [
       "<matplotlib.figure.Figure at 0x7f768a0beb00>"
      ]
     },
     "metadata": {},
     "output_type": "display_data"
    }
   ],
   "source": [
    "%matplotlib inline\n",
    "import numpy as np\n",
    "import pylab\n",
    "\n",
    "N = 20  # the number of points\n",
    "\n",
    "np.random.seed(1) # so we get the same results\n",
    "\n",
    "# create random points over the range -1 to 1\n",
    "A = np.random.sample((N,2)) * 2 - 1\n",
    "\n",
    "print(A)\n",
    "\n",
    "pylab.plot(A[:,0], A[:,1], 'o')\n",
    "pylab.axis('equal')"
   ]
  },
  {
   "cell_type": "markdown",
   "metadata": {},
   "source": [
    "Let's define a distance function."
   ]
  },
  {
   "cell_type": "code",
   "execution_count": null,
   "metadata": {
    "collapsed": true
   },
   "outputs": [],
   "source": [
    "def dist(p1, p2):\n",
    "    return np.sqrt(np.sum((p1 - p2)**2))"
   ]
  },
  {
   "cell_type": "markdown",
   "metadata": {},
   "source": [
    "And find the pairs such that a point in the left side is some distance away from one in the right side."
   ]
  },
  {
   "cell_type": "code",
   "execution_count": 8,
   "metadata": {
    "collapsed": false
   },
   "outputs": [
    {
     "name": "stdout",
     "output_type": "stream",
     "text": [
      "[(0, 18), (4, 17), (5, 18), (8, 17)]\n"
     ]
    }
   ],
   "source": [
    "pairs = []\n",
    "for i in range(len(A)): # for every index in A\n",
    "    if A[i,0] < 0: # if on the left\n",
    "        for j in range(len(A)): # for every index in A\n",
    "            if A[j,0] > 0: # if on the right\n",
    "                if dist(A[i], A[j]) < 0.75: # check the distance\n",
    "                    pairs.append((i, j)) # make a pair\n",
    "print(pairs)"
   ]
  },
  {
   "cell_type": "markdown",
   "metadata": {},
   "source": [
    "Let's draw a picture with the pairs connected."
   ]
  },
  {
   "cell_type": "code",
   "execution_count": 13,
   "metadata": {
    "collapsed": false
   },
   "outputs": [
    {
     "data": {
      "image/png": "[encoded data removed]",
      "text/plain": [
       "<matplotlib.figure.Figure at 0x7f76659e9cc0>"
      ]
     },
     "metadata": {},
     "output_type": "display_data"
    }
   ],
   "source": [
    "pylab.plot(A[:,0], A[:,1], 'o')\n",
    "pylab.axis('equal')\n",
    "\n",
    "for i in range(len(A)):\n",
    "    if A[i,0] < 0:\n",
    "        for j in range(len(A)):\n",
    "            if A[j,0] > 0:\n",
    "                if 0.5 < dist(A[i], A[j]) < 1:\n",
    "                    # this is tricky, we're getting the two X's and the two Y's into lists\n",
    "                    pylab.plot([A[i,0],A[j,0]], [A[i,1],A[j,1]], 'r-')"
   ]
  },
  {
   "cell_type": "code",
   "execution_count": null,
   "metadata": {
    "collapsed": true
   },
   "outputs": [],
   "source": []
  }
 ],
 "metadata": {
  "kernelspec": {
   "display_name": "Python [Root]",
   "language": "python",
   "name": "Python [Root]"
  },
  "language_info": {
   "codemirror_mode": {
    "name": "ipython",
    "version": 3
   },
   "file_extension": ".py",
   "mimetype": "text/x-python",
   "name": "python",
   "nbconvert_exporter": "python",
   "pygments_lexer": "ipython3",
   "version": "3.5.2"
  }
 },
 "nbformat": 4,
 "nbformat_minor": 1
}
