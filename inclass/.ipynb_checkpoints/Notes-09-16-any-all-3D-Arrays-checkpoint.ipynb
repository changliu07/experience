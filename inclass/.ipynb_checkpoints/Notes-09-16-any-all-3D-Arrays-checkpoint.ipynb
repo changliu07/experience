{
 "cells": [
  {
   "cell_type": "markdown",
   "metadata": {},
   "source": [
    "# Notes for 16 September\n",
    "\n",
    "Today we'll look at ways to determine if **any** element satisfies a condition, or if **all** do and we'll look at arrays\n",
    "with more dimensions. \n",
    "\n",
    "First let's setup and get the data.\n",
    "\n",
    "The array has the number of books read on our website Tar Heel Reader each hour during 3 weeks in March 2016."
   ]
  },
  {
   "cell_type": "code",
   "execution_count": 1,
   "metadata": {
    "collapsed": false
   },
   "outputs": [
    {
     "data": {
      "text/plain": [
       "(504,)"
      ]
     },
     "execution_count": 1,
     "metadata": {},
     "output_type": "execute_result"
    }
   ],
   "source": [
    "%matplotlib inline\n",
    "import numpy as np\n",
    "import pylab\n",
    "\n",
    "reads_by_hour = np.genfromtxt('https://goo.gl/sOR0ls', dtype=int)\n",
    "reads_by_hour.shape"
   ]
  },
  {
   "cell_type": "code",
   "execution_count": 3,
   "metadata": {
    "collapsed": false
   },
   "outputs": [
    {
     "data": {
      "text/plain": [
       "[<matplotlib.lines.Line2D at 0x7fec63659320>]"
      ]
     },
     "execution_count": 3,
     "metadata": {},
     "output_type": "execute_result"
    },
    {
     "data": {
      "image/png": "[encoded data removed]",
      "text/plain": [
       "<matplotlib.figure.Figure at 0x7fec80cc6438>"
      ]
     },
     "metadata": {},
     "output_type": "display_data"
    }
   ],
   "source": [
    "pylab.plot(reads_by_hour)"
   ]
  },
  {
   "cell_type": "markdown",
   "metadata": {},
   "source": [
    "By reshaping the array with the number of columns set to 24 we can get the data organized so that we can easily answer questions about daily activity."
   ]
  },
  {
   "cell_type": "code",
   "execution_count": 4,
   "metadata": {
    "collapsed": false
   },
   "outputs": [
    {
     "data": {
      "text/plain": [
       "(21, 24)"
      ]
     },
     "execution_count": 4,
     "metadata": {},
     "output_type": "execute_result"
    }
   ],
   "source": [
    "reads_by_day_hour = np.reshape(reads_by_hour, (-1, 24))\n",
    "reads_by_day_hour.shape"
   ]
  },
  {
   "cell_type": "markdown",
   "metadata": {},
   "source": [
    "Below, I'm accessing the day with index 2 and the hour with index 8. That is, 8AM on the 3rd day in the dataset."
   ]
  },
  {
   "cell_type": "code",
   "execution_count": 4,
   "metadata": {
    "collapsed": false
   },
   "outputs": [
    {
     "data": {
      "text/plain": [
       "167"
      ]
     },
     "execution_count": 4,
     "metadata": {},
     "output_type": "execute_result"
    }
   ],
   "source": [
    "reads_by_day_hour[2, 8]"
   ]
  },
  {
   "cell_type": "markdown",
   "metadata": {},
   "source": [
    "If I only had the 1D array, I could do the same thing by working out which hour I needed. The access below demonstrates that. I simply multiple the first index by the number of hours per day and add the hour offset."
   ]
  },
  {
   "cell_type": "code",
   "execution_count": 5,
   "metadata": {
    "collapsed": false
   },
   "outputs": [
    {
     "data": {
      "text/plain": [
       "167"
      ]
     },
     "execution_count": 5,
     "metadata": {},
     "output_type": "execute_result"
    }
   ],
   "source": [
    "reads_by_hour[24 * 2 + 8]"
   ]
  },
  {
   "cell_type": "markdown",
   "metadata": {},
   "source": [
    "We can look at the first few days."
   ]
  },
  {
   "cell_type": "code",
   "execution_count": 6,
   "metadata": {
    "collapsed": false
   },
   "outputs": [
    {
     "data": {
      "text/plain": [
       "array([[ 313,   27,   15,   54,    4,   17,   16,   38,   52,   20,   83,\n",
       "          22,   71,   48,   43,   90,   94,   30,   90,  134,   76,   64,\n",
       "          62,   50],\n",
       "       [  32,   28,   25,   19,   47,   55,   52,   77,  366,  592,  797,\n",
       "         629,  819,  766,  773,  438,  455,  204,  131,  120,   95,  148,\n",
       "         128,   40],\n",
       "       [  21,    4,   29,   20,   53,   18,   35,  105,  167,  520,  574,\n",
       "         607,  499,  853,  566,  244,  300,  189,  124,   92,   79,   63,\n",
       "          74,   24],\n",
       "       [  56,   52,   13,   33,   31,   31,   12,   62,  246,  674,  875,\n",
       "        1004,  690,  969,  736,  771,  331,  204,  126,  164,  151,  143,\n",
       "          92,   31]])"
      ]
     },
     "execution_count": 6,
     "metadata": {},
     "output_type": "execute_result"
    }
   ],
   "source": [
    "reads_by_day_hour[:4, :]"
   ]
  },
  {
   "cell_type": "markdown",
   "metadata": {},
   "source": [
    "We can get the total number of books read per day by summing across the columns."
   ]
  },
  {
   "cell_type": "code",
   "execution_count": 7,
   "metadata": {
    "collapsed": false
   },
   "outputs": [
    {
     "data": {
      "text/plain": [
       "array([1513, 6836, 5260, 7497, 6619, 4851,  720, 1253, 6305, 5315, 5665,\n",
       "       4672, 4404,  882, 1438, 6451, 6105, 5095, 3286, 1556,  630])"
      ]
     },
     "execution_count": 7,
     "metadata": {},
     "output_type": "execute_result"
    }
   ],
   "source": [
    "np.sum(reads_by_day_hour, axis=1)"
   ]
  },
  {
   "cell_type": "markdown",
   "metadata": {},
   "source": [
    "We can see how many days had any hours with zero books read."
   ]
  },
  {
   "cell_type": "code",
   "execution_count": 8,
   "metadata": {
    "collapsed": false
   },
   "outputs": [
    {
     "data": {
      "text/plain": [
       "array([False, False, False, False, False, False,  True,  True, False,\n",
       "       False, False, False, False, False, False, False, False, False,\n",
       "       False,  True,  True], dtype=bool)"
      ]
     },
     "execution_count": 8,
     "metadata": {},
     "output_type": "execute_result"
    }
   ],
   "source": [
    "np.any(reads_by_day_hour == 0, axis=1)"
   ]
  },
  {
   "cell_type": "markdown",
   "metadata": {},
   "source": [
    "Note we can get the same result using np.sum as a surrogate for np.any. If there are **any** True values in the column their **sum** will be greater than zero."
   ]
  },
  {
   "cell_type": "code",
   "execution_count": 9,
   "metadata": {
    "collapsed": false
   },
   "outputs": [
    {
     "data": {
      "text/plain": [
       "array([False, False, False, False, False, False,  True,  True, False,\n",
       "       False, False, False, False, False, False, False, False, False,\n",
       "       False,  True,  True], dtype=bool)"
      ]
     },
     "execution_count": 9,
     "metadata": {},
     "output_type": "execute_result"
    }
   ],
   "source": [
    "np.sum(reads_by_day_hour == 0, axis=1) > 0"
   ]
  },
  {
   "cell_type": "markdown",
   "metadata": {},
   "source": [
    "We can get the actual counts using sum. This implies we could ask questions like _How many days had at least 2 hours with 0 books read?_"
   ]
  },
  {
   "cell_type": "code",
   "execution_count": 10,
   "metadata": {
    "collapsed": false
   },
   "outputs": [
    {
     "data": {
      "text/plain": [
       "array([0, 0, 0, 0, 0, 0, 1, 2, 0, 0, 0, 0, 0, 0, 0, 0, 0, 0, 0, 1, 3])"
      ]
     },
     "execution_count": 10,
     "metadata": {},
     "output_type": "execute_result"
    }
   ],
   "source": [
    "np.sum(reads_by_day_hour == 0, axis=1) "
   ]
  },
  {
   "cell_type": "markdown",
   "metadata": {},
   "source": [
    "We can reshape again to introduce a dimension for weeks. Below I'm asking to reorganize that data by weeks, days, and hours. We see have 3 weeks of data."
   ]
  },
  {
   "cell_type": "code",
   "execution_count": 11,
   "metadata": {
    "collapsed": false
   },
   "outputs": [
    {
     "data": {
      "text/plain": [
       "(3, 7, 24)"
      ]
     },
     "execution_count": 11,
     "metadata": {},
     "output_type": "execute_result"
    }
   ],
   "source": [
    "reads_by_week_day_hour = np.reshape(reads_by_hour, (-1, 7, 24))\n",
    "reads_by_week_day_hour.shape"
   ]
  },
  {
   "cell_type": "markdown",
   "metadata": {},
   "source": [
    "It is pretty terrible to look at but if you examine it carefully you'll see that it has 3 open square brackets."
   ]
  },
  {
   "cell_type": "code",
   "execution_count": 12,
   "metadata": {
    "collapsed": false
   },
   "outputs": [
    {
     "data": {
      "text/plain": [
       "array([[[ 313,   27,   15,   54,    4,   17,   16,   38,   52,   20,   83,\n",
       "           22,   71,   48,   43,   90,   94,   30,   90,  134,   76,   64,\n",
       "           62,   50],\n",
       "        [  32,   28,   25,   19,   47,   55,   52,   77,  366,  592,  797,\n",
       "          629,  819,  766,  773,  438,  455,  204,  131,  120,   95,  148,\n",
       "          128,   40],\n",
       "        [  21,    4,   29,   20,   53,   18,   35,  105,  167,  520,  574,\n",
       "          607,  499,  853,  566,  244,  300,  189,  124,   92,   79,   63,\n",
       "           74,   24],\n",
       "        [  56,   52,   13,   33,   31,   31,   12,   62,  246,  674,  875,\n",
       "         1004,  690,  969,  736,  771,  331,  204,  126,  164,  151,  143,\n",
       "           92,   31],\n",
       "        [  26,   16,   45,   15,   25,   13,   27,   65,  218,  530,  954,\n",
       "          863,  713,  910,  655,  294,  424,  157,  138,  117,  169,   63,\n",
       "           96,   86],\n",
       "        [  36,   11,   13,   21,   11,   11,   29,  119,  359,  577,  556,\n",
       "          561,  586,  680,  456,  269,  168,  108,   50,   35,   21,   33,\n",
       "           57,   84],\n",
       "        [  12,    8,    5,    0,    9,   35,    2,    6,   17,   23,   37,\n",
       "           62,   36,   21,   29,   50,   56,   70,   95,   23,   62,   27,\n",
       "            9,   26]],\n",
       "\n",
       "       [[  16,   23,    0,    3,   45,   15,   26,    0,   50,   29,   57,\n",
       "           36,   19,   43,   41,   59,  110,   91,   94,  148,   86,  155,\n",
       "           40,   67],\n",
       "        [  33,   27,   28,   22,   23,   48,   10,   74,  314,  459,  715,\n",
       "          595,  842,  783,  728,  356,  417,  141,  138,  107,  150,  106,\n",
       "          115,   74],\n",
       "        [  27,   25,   67,   20,   33,   17,   23,   27,  250,  451,  831,\n",
       "          617,  491,  448,  558,  357,  278,  160,   68,  107,  166,  108,\n",
       "           87,   99],\n",
       "        [  21,    7,   31,   51,    8,   11,   89,   99,  234,  427,  589,\n",
       "          632,  540,  724,  802,  299,  291,  167,  167,   97,   72,  177,\n",
       "           43,   87],\n",
       "        [  59,   12,   17,   13,   17,   23,   14,   38,  216,  471,  723,\n",
       "          408,  512,  595,  491,  242,  220,  129,   93,   76,  116,   66,\n",
       "           75,   46],\n",
       "        [  44,   11,   14,    3,    9,    1,    4,   92,  411,  588,  718,\n",
       "          482,  451,  464,  467,  140,  119,   38,   82,   43,   71,   92,\n",
       "           50,   10],\n",
       "        [   7,   32,   18,   12,   52,   30,    3,   10,   34,   20,   42,\n",
       "           51,   24,   56,   12,   66,   42,   59,   43,   67,   52,   56,\n",
       "           47,   47]],\n",
       "\n",
       "       [[  29,   65,   41,   17,    5,   23,    9,   10,    9,   13,   12,\n",
       "           46,   48,   75,   47,   52,  109,  134,  114,  105,  125,  178,\n",
       "          101,   71],\n",
       "        [  34,   21,   28,   40,   53,   53,  110,  126,  147,  538,  973,\n",
       "          690,  568,  640,  764,  468,  272,  184,   63,  155,  143,  203,\n",
       "           75,  103],\n",
       "        [  14,   20,   15,    8,    8,    2,   24,  118,  322,  472,  771,\n",
       "          616,  819,  826,  700,  356,  260,  168,  100,  122,   89,  126,\n",
       "           69,   80],\n",
       "        [  28,   16,   23,   18,   18,   56,   50,   64,  149,  520,  438,\n",
       "          689,  639,  482,  722,  465,  132,  101,  120,   71,   63,   77,\n",
       "           25,  129],\n",
       "        [  21,   33,    1,    1,    4,    2,   56,   35,  211,  333,  348,\n",
       "          386,  310,  349,  360,  184,  194,  110,   66,   46,   56,   87,\n",
       "           43,   50],\n",
       "        [  16,   11,    5,    8,    6,    3,    0,   10,   58,  126,  131,\n",
       "           96,  162,  130,  125,  123,   87,   78,   43,  138,   25,   70,\n",
       "           53,   52],\n",
       "        [  26,    0,    2,    0,   29,    0,    7,    8,   22,   10,   63,\n",
       "           23,   58,   21,   26,   23,   46,   22,   33,   89,   59,   28,\n",
       "           28,    7]]])"
      ]
     },
     "execution_count": 12,
     "metadata": {},
     "output_type": "execute_result"
    }
   ],
   "source": [
    "reads_by_week_day_hour"
   ]
  },
  {
   "cell_type": "markdown",
   "metadata": {},
   "source": [
    "Now we can ask questions about reads on days of the week. Below I'm aggregating over the hours to get a 2D array with number of books read for each day in the 3 weeks."
   ]
  },
  {
   "cell_type": "code",
   "execution_count": 13,
   "metadata": {
    "collapsed": false
   },
   "outputs": [
    {
     "data": {
      "text/plain": [
       "array([[1513, 6836, 5260, 7497, 6619, 4851,  720],\n",
       "       [1253, 6305, 5315, 5665, 4672, 4404,  882],\n",
       "       [1438, 6451, 6105, 5095, 3286, 1556,  630]])"
      ]
     },
     "execution_count": 13,
     "metadata": {},
     "output_type": "execute_result"
    }
   ],
   "source": [
    "reads_by_week_day = np.sum(reads_by_week_day_hour, axis=2)\n",
    "reads_by_week_day"
   ]
  },
  {
   "cell_type": "markdown",
   "metadata": {},
   "source": [
    "We can eliminate the weekends by appropriate slicing."
   ]
  },
  {
   "cell_type": "code",
   "execution_count": 14,
   "metadata": {
    "collapsed": false
   },
   "outputs": [
    {
     "data": {
      "text/plain": [
       "array([[6836, 5260, 7497, 6619, 4851],\n",
       "       [6305, 5315, 5665, 4672, 4404],\n",
       "       [6451, 6105, 5095, 3286, 1556]])"
      ]
     },
     "execution_count": 14,
     "metadata": {},
     "output_type": "execute_result"
    }
   ],
   "source": [
    "reads_by_week_day[:, 1:6]"
   ]
  },
  {
   "cell_type": "markdown",
   "metadata": {},
   "source": [
    "Of course we can do that to the 3D array as well."
   ]
  },
  {
   "cell_type": "code",
   "execution_count": 15,
   "metadata": {
    "collapsed": false
   },
   "outputs": [
    {
     "data": {
      "text/plain": [
       "array([[[  32,   28,   25,   19,   47,   55,   52,   77,  366,  592,  797,\n",
       "          629,  819,  766,  773,  438,  455,  204,  131,  120,   95,  148,\n",
       "          128,   40],\n",
       "        [  21,    4,   29,   20,   53,   18,   35,  105,  167,  520,  574,\n",
       "          607,  499,  853,  566,  244,  300,  189,  124,   92,   79,   63,\n",
       "           74,   24],\n",
       "        [  56,   52,   13,   33,   31,   31,   12,   62,  246,  674,  875,\n",
       "         1004,  690,  969,  736,  771,  331,  204,  126,  164,  151,  143,\n",
       "           92,   31],\n",
       "        [  26,   16,   45,   15,   25,   13,   27,   65,  218,  530,  954,\n",
       "          863,  713,  910,  655,  294,  424,  157,  138,  117,  169,   63,\n",
       "           96,   86],\n",
       "        [  36,   11,   13,   21,   11,   11,   29,  119,  359,  577,  556,\n",
       "          561,  586,  680,  456,  269,  168,  108,   50,   35,   21,   33,\n",
       "           57,   84]],\n",
       "\n",
       "       [[  33,   27,   28,   22,   23,   48,   10,   74,  314,  459,  715,\n",
       "          595,  842,  783,  728,  356,  417,  141,  138,  107,  150,  106,\n",
       "          115,   74],\n",
       "        [  27,   25,   67,   20,   33,   17,   23,   27,  250,  451,  831,\n",
       "          617,  491,  448,  558,  357,  278,  160,   68,  107,  166,  108,\n",
       "           87,   99],\n",
       "        [  21,    7,   31,   51,    8,   11,   89,   99,  234,  427,  589,\n",
       "          632,  540,  724,  802,  299,  291,  167,  167,   97,   72,  177,\n",
       "           43,   87],\n",
       "        [  59,   12,   17,   13,   17,   23,   14,   38,  216,  471,  723,\n",
       "          408,  512,  595,  491,  242,  220,  129,   93,   76,  116,   66,\n",
       "           75,   46],\n",
       "        [  44,   11,   14,    3,    9,    1,    4,   92,  411,  588,  718,\n",
       "          482,  451,  464,  467,  140,  119,   38,   82,   43,   71,   92,\n",
       "           50,   10]],\n",
       "\n",
       "       [[  34,   21,   28,   40,   53,   53,  110,  126,  147,  538,  973,\n",
       "          690,  568,  640,  764,  468,  272,  184,   63,  155,  143,  203,\n",
       "           75,  103],\n",
       "        [  14,   20,   15,    8,    8,    2,   24,  118,  322,  472,  771,\n",
       "          616,  819,  826,  700,  356,  260,  168,  100,  122,   89,  126,\n",
       "           69,   80],\n",
       "        [  28,   16,   23,   18,   18,   56,   50,   64,  149,  520,  438,\n",
       "          689,  639,  482,  722,  465,  132,  101,  120,   71,   63,   77,\n",
       "           25,  129],\n",
       "        [  21,   33,    1,    1,    4,    2,   56,   35,  211,  333,  348,\n",
       "          386,  310,  349,  360,  184,  194,  110,   66,   46,   56,   87,\n",
       "           43,   50],\n",
       "        [  16,   11,    5,    8,    6,    3,    0,   10,   58,  126,  131,\n",
       "           96,  162,  130,  125,  123,   87,   78,   43,  138,   25,   70,\n",
       "           53,   52]]])"
      ]
     },
     "execution_count": 15,
     "metadata": {},
     "output_type": "execute_result"
    }
   ],
   "source": [
    "reads_by_week_day_hour[:, 1:6, :]"
   ]
  },
  {
   "cell_type": "code",
   "execution_count": null,
   "metadata": {
    "collapsed": true
   },
   "outputs": [],
   "source": []
  }
 ],
 "metadata": {
  "anaconda-cloud": {},
  "kernelspec": {
   "display_name": "Python [Root]",
   "language": "python",
   "name": "Python [Root]"
  },
  "language_info": {
   "codemirror_mode": {
    "name": "ipython",
    "version": 3
   },
   "file_extension": ".py",
   "mimetype": "text/x-python",
   "name": "python",
   "nbconvert_exporter": "python",
   "pygments_lexer": "ipython3",
   "version": "3.5.2"
  }
 },
 "nbformat": 4,
 "nbformat_minor": 1
}
