{
 "cells": [
  {
   "cell_type": "markdown",
   "metadata": {},
   "source": [
    "# Notes for 9 November\n",
    "\n",
    "Today we will talk about dictionaries and sets. Two more basic Python types. \n",
    "\n",
    "Dictionaries are a little like Lists but with more flexible keys."
   ]
  },
  {
   "cell_type": "code",
   "execution_count": 1,
   "metadata": {
    "collapsed": false
   },
   "outputs": [
    {
     "name": "stdout",
     "output_type": "stream",
     "text": [
      "0 1\n"
     ]
    }
   ],
   "source": [
    "D = {} # an empty dictionary\n",
    "\n",
    "# a dictionary with one key and one value\n",
    "D2 = { \"hello\": \"world\" }\n",
    "\n",
    "print(len(D), len(D2))\n"
   ]
  },
  {
   "cell_type": "markdown",
   "metadata": {},
   "source": [
    "The dictionary associates a **key** with a **value**. We use the **key** like a subscript and we get back the **value**."
   ]
  },
  {
   "cell_type": "code",
   "execution_count": 4,
   "metadata": {
    "collapsed": false
   },
   "outputs": [
    {
     "name": "stdout",
     "output_type": "stream",
     "text": [
      "world\n"
     ]
    }
   ],
   "source": [
    "print(D2['hello'])"
   ]
  },
  {
   "cell_type": "code",
   "execution_count": 5,
   "metadata": {
    "collapsed": false
   },
   "outputs": [
    {
     "data": {
      "text/plain": [
       "{'foo': [1, 2, 3], 'hello': 'world'}"
      ]
     },
     "execution_count": 5,
     "metadata": {},
     "output_type": "execute_result"
    }
   ],
   "source": [
    "D2['foo'] = [1, 2, 3]\n",
    "D2"
   ]
  },
  {
   "cell_type": "code",
   "execution_count": 6,
   "metadata": {
    "collapsed": false
   },
   "outputs": [
    {
     "data": {
      "text/plain": [
       "{'foo': [1, 2, 3], 'hello': 'World!'}"
      ]
     },
     "execution_count": 6,
     "metadata": {},
     "output_type": "execute_result"
    }
   ],
   "source": [
    "D2['hello'] = 'World!'\n",
    "D2"
   ]
  },
  {
   "cell_type": "code",
   "execution_count": 7,
   "metadata": {
    "collapsed": false
   },
   "outputs": [
    {
     "data": {
      "text/plain": [
       "True"
      ]
     },
     "execution_count": 7,
     "metadata": {},
     "output_type": "execute_result"
    }
   ],
   "source": [
    "'foo' in D2"
   ]
  },
  {
   "cell_type": "code",
   "execution_count": 8,
   "metadata": {
    "collapsed": false
   },
   "outputs": [
    {
     "data": {
      "text/plain": [
       "False"
      ]
     },
     "execution_count": 8,
     "metadata": {},
     "output_type": "execute_result"
    }
   ],
   "source": [
    "'bar' in D2"
   ]
  },
  {
   "cell_type": "code",
   "execution_count": 9,
   "metadata": {
    "collapsed": false
   },
   "outputs": [
    {
     "data": {
      "text/plain": [
       "False"
      ]
     },
     "execution_count": 9,
     "metadata": {},
     "output_type": "execute_result"
    }
   ],
   "source": [
    "'World!' in D2"
   ]
  },
  {
   "cell_type": "code",
   "execution_count": 10,
   "metadata": {
    "collapsed": false
   },
   "outputs": [
    {
     "name": "stdout",
     "output_type": "stream",
     "text": [
      "hello\n",
      "foo\n"
     ]
    }
   ],
   "source": [
    "for k in D2:\n",
    "    print(k)"
   ]
  },
  {
   "cell_type": "code",
   "execution_count": 11,
   "metadata": {
    "collapsed": false
   },
   "outputs": [
    {
     "name": "stdout",
     "output_type": "stream",
     "text": [
      "hello World!\n",
      "foo [1, 2, 3]\n"
     ]
    }
   ],
   "source": [
    "for k in D2:\n",
    "    print(k, D2[k])"
   ]
  },
  {
   "cell_type": "code",
   "execution_count": 12,
   "metadata": {
    "collapsed": false
   },
   "outputs": [
    {
     "data": {
      "text/plain": [
       "[1, 2, 3]"
      ]
     },
     "execution_count": 12,
     "metadata": {},
     "output_type": "execute_result"
    }
   ],
   "source": [
    "D2.get('foo')"
   ]
  },
  {
   "cell_type": "code",
   "execution_count": 13,
   "metadata": {
    "collapsed": false
   },
   "outputs": [
    {
     "data": {
      "text/plain": [
       "True"
      ]
     },
     "execution_count": 13,
     "metadata": {},
     "output_type": "execute_result"
    }
   ],
   "source": [
    "D2['foo'] == D2.get('foo')"
   ]
  },
  {
   "cell_type": "code",
   "execution_count": 14,
   "metadata": {
    "collapsed": false
   },
   "outputs": [
    {
     "ename": "KeyError",
     "evalue": "'abc'",
     "output_type": "error",
     "traceback": [
      "\u001b[0;31m---------------------------------------------------------------------------\u001b[0m",
      "\u001b[0;31mKeyError\u001b[0m                                  Traceback (most recent call last)",
      "\u001b[0;32m<ipython-input-14-746cd10c1289>\u001b[0m in \u001b[0;36m<module>\u001b[0;34m()\u001b[0m\n\u001b[0;32m----> 1\u001b[0;31m \u001b[0mD2\u001b[0m\u001b[0;34m[\u001b[0m\u001b[0;34m'abc'\u001b[0m\u001b[0;34m]\u001b[0m\u001b[0;34m\u001b[0m\u001b[0m\n\u001b[0m",
      "\u001b[0;31mKeyError\u001b[0m: 'abc'"
     ]
    }
   ],
   "source": [
    "D2['abc']"
   ]
  },
  {
   "cell_type": "code",
   "execution_count": 15,
   "metadata": {
    "collapsed": true
   },
   "outputs": [],
   "source": [
    "D2.get('abc')"
   ]
  },
  {
   "cell_type": "code",
   "execution_count": 16,
   "metadata": {
    "collapsed": false
   },
   "outputs": [
    {
     "data": {
      "text/plain": [
       "0"
      ]
     },
     "execution_count": 16,
     "metadata": {},
     "output_type": "execute_result"
    }
   ],
   "source": [
    "D2.get('abc', 0)"
   ]
  },
  {
   "cell_type": "code",
   "execution_count": 2,
   "metadata": {
    "collapsed": false
   },
   "outputs": [
    {
     "name": "stdout",
     "output_type": "stream",
     "text": [
      "Four score and seven years ago our fathers brought forth on this continent, a new nation, conceived in Liberty, and dedicated to the proposition that all men are created equal.\n",
      "\n",
      "Now we are engaged in a great civil war, testing whether that nation, or any nation so conceived and so dedicated, can long endure. We are met on a great battle-field of that war. We have come to dedicate a portion of that field, as a final resting place for those who here gave their lives that that nation might live. It is altogether fitting and proper that we should do this.\n",
      "\n",
      "But, in a larger sense, we can not dedicate -- we can not consecrate -- we can not hallow -- this ground. The brave men, living and dead, who struggled here, have consecrated it, far above our poor power to add or detract. The world will little note, nor long remember what we say here, but it can never forget what they did here. It is for us the living, rather, to be dedicated here to the unfinished work which they who fought here have thus far so nobly advanced. It is rather for us to be here dedicated to the great task remaining before us -- that from these honored dead we take increased devotion to that cause for which they gave the last full measure of devotion -- that we here highly resolve that these dead shall not have died in vain -- that this nation, under God, shall have a new birth of freedom -- and that government of the people, by the people, for the people, shall not perish from the earth.\n"
     ]
    }
   ],
   "source": [
    "address = '''Four score and seven years ago our fathers brought forth on this continent, a new nation, conceived in Liberty, and dedicated to the proposition that all men are created equal.\n",
    "\n",
    "Now we are engaged in a great civil war, testing whether that nation, or any nation so conceived and so dedicated, can long endure. We are met on a great battle-field of that war. We have come to dedicate a portion of that field, as a final resting place for those who here gave their lives that that nation might live. It is altogether fitting and proper that we should do this.\n",
    "\n",
    "But, in a larger sense, we can not dedicate -- we can not consecrate -- we can not hallow -- this ground. The brave men, living and dead, who struggled here, have consecrated it, far above our poor power to add or detract. The world will little note, nor long remember what we say here, but it can never forget what they did here. It is for us the living, rather, to be dedicated here to the unfinished work which they who fought here have thus far so nobly advanced. It is rather for us to be here dedicated to the great task remaining before us -- that from these honored dead we take increased devotion to that cause for which they gave the last full measure of devotion -- that we here highly resolve that these dead shall not have died in vain -- that this nation, under God, shall have a new birth of freedom -- and that government of the people, by the people, for the people, shall not perish from the earth.'''\n",
    "print(address)"
   ]
  },
  {
   "cell_type": "code",
   "execution_count": 3,
   "metadata": {
    "collapsed": true
   },
   "outputs": [],
   "source": [
    "words = address.split()"
   ]
  },
  {
   "cell_type": "code",
   "execution_count": 7,
   "metadata": {
    "collapsed": false
   },
   "outputs": [
    {
     "data": {
      "text/plain": [
       "{'--': 7,\n",
       " 'But,': 1,\n",
       " 'Four': 1,\n",
       " 'God,': 1,\n",
       " 'It': 3,\n",
       " 'Liberty,': 1,\n",
       " 'Now': 1,\n",
       " 'The': 2,\n",
       " 'We': 2,\n",
       " 'a': 7,\n",
       " 'above': 1,\n",
       " 'add': 1,\n",
       " 'advanced.': 1,\n",
       " 'ago': 1,\n",
       " 'all': 1,\n",
       " 'altogether': 1,\n",
       " 'and': 6,\n",
       " 'any': 1,\n",
       " 'are': 3,\n",
       " 'as': 1,\n",
       " 'battle-field': 1,\n",
       " 'be': 2,\n",
       " 'before': 1,\n",
       " 'birth': 1,\n",
       " 'brave': 1,\n",
       " 'brought': 1,\n",
       " 'but': 1,\n",
       " 'by': 1,\n",
       " 'can': 5,\n",
       " 'cause': 1,\n",
       " 'civil': 1,\n",
       " 'come': 1,\n",
       " 'conceived': 2,\n",
       " 'consecrate': 1,\n",
       " 'consecrated': 1,\n",
       " 'continent,': 1,\n",
       " 'created': 1,\n",
       " 'dead': 2,\n",
       " 'dead,': 1,\n",
       " 'dedicate': 2,\n",
       " 'dedicated': 3,\n",
       " 'dedicated,': 1,\n",
       " 'detract.': 1,\n",
       " 'devotion': 2,\n",
       " 'did': 1,\n",
       " 'died': 1,\n",
       " 'do': 1,\n",
       " 'earth.': 1,\n",
       " 'endure.': 1,\n",
       " 'engaged': 1,\n",
       " 'equal.': 1,\n",
       " 'far': 2,\n",
       " 'fathers': 1,\n",
       " 'field,': 1,\n",
       " 'final': 1,\n",
       " 'fitting': 1,\n",
       " 'for': 5,\n",
       " 'forget': 1,\n",
       " 'forth': 1,\n",
       " 'fought': 1,\n",
       " 'freedom': 1,\n",
       " 'from': 2,\n",
       " 'full': 1,\n",
       " 'gave': 2,\n",
       " 'government': 1,\n",
       " 'great': 3,\n",
       " 'ground.': 1,\n",
       " 'hallow': 1,\n",
       " 'have': 5,\n",
       " 'here': 5,\n",
       " 'here,': 2,\n",
       " 'here.': 1,\n",
       " 'highly': 1,\n",
       " 'honored': 1,\n",
       " 'in': 4,\n",
       " 'increased': 1,\n",
       " 'is': 3,\n",
       " 'it': 1,\n",
       " 'it,': 1,\n",
       " 'larger': 1,\n",
       " 'last': 1,\n",
       " 'little': 1,\n",
       " 'live.': 1,\n",
       " 'lives': 1,\n",
       " 'living': 1,\n",
       " 'living,': 1,\n",
       " 'long': 2,\n",
       " 'measure': 1,\n",
       " 'men': 1,\n",
       " 'men,': 1,\n",
       " 'met': 1,\n",
       " 'might': 1,\n",
       " 'nation': 2,\n",
       " 'nation,': 3,\n",
       " 'never': 1,\n",
       " 'new': 2,\n",
       " 'nobly': 1,\n",
       " 'nor': 1,\n",
       " 'not': 5,\n",
       " 'note,': 1,\n",
       " 'of': 5,\n",
       " 'on': 2,\n",
       " 'or': 2,\n",
       " 'our': 2,\n",
       " 'people,': 3,\n",
       " 'perish': 1,\n",
       " 'place': 1,\n",
       " 'poor': 1,\n",
       " 'portion': 1,\n",
       " 'power': 1,\n",
       " 'proper': 1,\n",
       " 'proposition': 1,\n",
       " 'rather': 1,\n",
       " 'rather,': 1,\n",
       " 'remaining': 1,\n",
       " 'remember': 1,\n",
       " 'resolve': 1,\n",
       " 'resting': 1,\n",
       " 'say': 1,\n",
       " 'score': 1,\n",
       " 'sense,': 1,\n",
       " 'seven': 1,\n",
       " 'shall': 3,\n",
       " 'should': 1,\n",
       " 'so': 3,\n",
       " 'struggled': 1,\n",
       " 'take': 1,\n",
       " 'task': 1,\n",
       " 'testing': 1,\n",
       " 'that': 13,\n",
       " 'the': 9,\n",
       " 'their': 1,\n",
       " 'these': 2,\n",
       " 'they': 3,\n",
       " 'this': 3,\n",
       " 'this.': 1,\n",
       " 'those': 1,\n",
       " 'thus': 1,\n",
       " 'to': 8,\n",
       " 'under': 1,\n",
       " 'unfinished': 1,\n",
       " 'us': 3,\n",
       " 'vain': 1,\n",
       " 'war,': 1,\n",
       " 'war.': 1,\n",
       " 'we': 8,\n",
       " 'what': 2,\n",
       " 'whether': 1,\n",
       " 'which': 2,\n",
       " 'who': 3,\n",
       " 'will': 1,\n",
       " 'work': 1,\n",
       " 'world': 1,\n",
       " 'years': 1}"
      ]
     },
     "execution_count": 7,
     "metadata": {},
     "output_type": "execute_result"
    }
   ],
   "source": [
    "counts = {}\n",
    "for word in words:\n",
    "    counts[word] = counts.get(word, 0) + 1\n",
    "counts"
   ]
  },
  {
   "cell_type": "code",
   "execution_count": 6,
   "metadata": {
    "collapsed": false
   },
   "outputs": [
    {
     "data": {
      "text/plain": [
       "{'--': 7,\n",
       " 'a': 7,\n",
       " 'above': 1,\n",
       " 'add': 1,\n",
       " 'advanced.': 1,\n",
       " 'ago': 1,\n",
       " 'all': 1,\n",
       " 'altogether': 1,\n",
       " 'and': 6,\n",
       " 'any': 1,\n",
       " 'are': 3,\n",
       " 'as': 1,\n",
       " 'battle-field': 1,\n",
       " 'be': 2,\n",
       " 'before': 1,\n",
       " 'birth': 1,\n",
       " 'brave': 1,\n",
       " 'brought': 1,\n",
       " 'but': 1,\n",
       " 'but,': 1,\n",
       " 'by': 1,\n",
       " 'can': 5,\n",
       " 'cause': 1,\n",
       " 'civil': 1,\n",
       " 'come': 1,\n",
       " 'conceived': 2,\n",
       " 'consecrate': 1,\n",
       " 'consecrated': 1,\n",
       " 'continent,': 1,\n",
       " 'created': 1,\n",
       " 'dead': 2,\n",
       " 'dead,': 1,\n",
       " 'dedicate': 2,\n",
       " 'dedicated': 3,\n",
       " 'dedicated,': 1,\n",
       " 'detract.': 1,\n",
       " 'devotion': 2,\n",
       " 'did': 1,\n",
       " 'died': 1,\n",
       " 'do': 1,\n",
       " 'earth.': 1,\n",
       " 'endure.': 1,\n",
       " 'engaged': 1,\n",
       " 'equal.': 1,\n",
       " 'far': 2,\n",
       " 'fathers': 1,\n",
       " 'field,': 1,\n",
       " 'final': 1,\n",
       " 'fitting': 1,\n",
       " 'for': 5,\n",
       " 'forget': 1,\n",
       " 'forth': 1,\n",
       " 'fought': 1,\n",
       " 'four': 1,\n",
       " 'freedom': 1,\n",
       " 'from': 2,\n",
       " 'full': 1,\n",
       " 'gave': 2,\n",
       " 'god,': 1,\n",
       " 'government': 1,\n",
       " 'great': 3,\n",
       " 'ground.': 1,\n",
       " 'hallow': 1,\n",
       " 'have': 5,\n",
       " 'here': 5,\n",
       " 'here,': 2,\n",
       " 'here.': 1,\n",
       " 'highly': 1,\n",
       " 'honored': 1,\n",
       " 'in': 4,\n",
       " 'increased': 1,\n",
       " 'is': 3,\n",
       " 'it': 4,\n",
       " 'it,': 1,\n",
       " 'larger': 1,\n",
       " 'last': 1,\n",
       " 'liberty,': 1,\n",
       " 'little': 1,\n",
       " 'live.': 1,\n",
       " 'lives': 1,\n",
       " 'living': 1,\n",
       " 'living,': 1,\n",
       " 'long': 2,\n",
       " 'measure': 1,\n",
       " 'men': 1,\n",
       " 'men,': 1,\n",
       " 'met': 1,\n",
       " 'might': 1,\n",
       " 'nation': 2,\n",
       " 'nation,': 3,\n",
       " 'never': 1,\n",
       " 'new': 2,\n",
       " 'nobly': 1,\n",
       " 'nor': 1,\n",
       " 'not': 5,\n",
       " 'note,': 1,\n",
       " 'now': 1,\n",
       " 'of': 5,\n",
       " 'on': 2,\n",
       " 'or': 2,\n",
       " 'our': 2,\n",
       " 'people,': 3,\n",
       " 'perish': 1,\n",
       " 'place': 1,\n",
       " 'poor': 1,\n",
       " 'portion': 1,\n",
       " 'power': 1,\n",
       " 'proper': 1,\n",
       " 'proposition': 1,\n",
       " 'rather': 1,\n",
       " 'rather,': 1,\n",
       " 'remaining': 1,\n",
       " 'remember': 1,\n",
       " 'resolve': 1,\n",
       " 'resting': 1,\n",
       " 'say': 1,\n",
       " 'score': 1,\n",
       " 'sense,': 1,\n",
       " 'seven': 1,\n",
       " 'shall': 3,\n",
       " 'should': 1,\n",
       " 'so': 3,\n",
       " 'struggled': 1,\n",
       " 'take': 1,\n",
       " 'task': 1,\n",
       " 'testing': 1,\n",
       " 'that': 13,\n",
       " 'the': 11,\n",
       " 'their': 1,\n",
       " 'these': 2,\n",
       " 'they': 3,\n",
       " 'this': 3,\n",
       " 'this.': 1,\n",
       " 'those': 1,\n",
       " 'thus': 1,\n",
       " 'to': 8,\n",
       " 'under': 1,\n",
       " 'unfinished': 1,\n",
       " 'us': 3,\n",
       " 'vain': 1,\n",
       " 'war,': 1,\n",
       " 'war.': 1,\n",
       " 'we': 10,\n",
       " 'what': 2,\n",
       " 'whether': 1,\n",
       " 'which': 2,\n",
       " 'who': 3,\n",
       " 'will': 1,\n",
       " 'work': 1,\n",
       " 'world': 1,\n",
       " 'years': 1}"
      ]
     },
     "execution_count": 6,
     "metadata": {},
     "output_type": "execute_result"
    }
   ],
   "source": [
    "counts = {}\n",
    "for word in words:\n",
    "    word = word.lower()\n",
    "    counts[word] = counts.get(word, 0) + 1\n",
    "counts"
   ]
  },
  {
   "cell_type": "code",
   "execution_count": 8,
   "metadata": {
    "collapsed": false
   },
   "outputs": [
    {
     "data": {
      "text/plain": [
       "dict_keys(['proposition', 'dedicated', 'new', 'Now', 'power', 'lives', 'But,', 'not', 'live.', 'it,', 'we', 'have', 'a', 'poor', 'Four', 'men,', 'place', 'and', 'The', 'increased', 'as', 'of', 'ground.', 'fitting', 'advanced.', 'add', 'those', 'created', 'conceived', 'these', 'God,', 'equal.', 'sense,', 'final', 'living', 'engaged', 'so', 'field,', 'detract.', 'score', 'rather', 'they', 'ago', 'on', 'which', 'struggled', 'from', 'here.', 'proper', 'nor', 'cause', 'that', 'We', 'devotion', 'note,', '--', 'are', 'remember', 'continent,', 'larger', 'world', 'resting', 'nobly', 'is', 'forget', 'rather,', 'people,', 'any', 'above', 'nation', 'remaining', 'full', 'highly', 'but', 'us', 'here', 'living,', 'never', 'unfinished', 'civil', 'gave', 'testing', 'who', 'consecrate', 'this', 'brought', 'forth', 'here,', 'fathers', 'can', 'say', 'before', 'long', 'endure.', 'honored', 'shall', 'their', 'brave', 'war.', 'dedicated,', 'by', 'freedom', 'in', 'died', 'work', 'birth', 'come', 'all', 'Liberty,', 'the', 'consecrated', 'our', 'vain', 'met', 'nation,', 'task', 'earth.', 'should', 'altogether', 'little', 'years', 'last', 'war,', 'great', 'take', 'this.', 'do', 'whether', 'under', 'government', 'dead', 'It', 'fought', 'or', 'thus', 'dedicate', 'what', 'to', 'far', 'resolve', 'will', 'measure', 'seven', 'might', 'perish', 'did', 'men', 'it', 'dead,', 'portion', 'battle-field', 'be', 'for', 'hallow'])"
      ]
     },
     "execution_count": 8,
     "metadata": {},
     "output_type": "execute_result"
    }
   ],
   "source": [
    "counts.keys()"
   ]
  },
  {
   "cell_type": "code",
   "execution_count": 23,
   "metadata": {
    "collapsed": false
   },
   "outputs": [
    {
     "data": {
      "text/plain": [
       "['--',\n",
       " 'a',\n",
       " 'above',\n",
       " 'add',\n",
       " 'advanced.',\n",
       " 'ago',\n",
       " 'all',\n",
       " 'altogether',\n",
       " 'and',\n",
       " 'any',\n",
       " 'are',\n",
       " 'as',\n",
       " 'battle-field',\n",
       " 'be',\n",
       " 'before',\n",
       " 'birth',\n",
       " 'brave',\n",
       " 'brought',\n",
       " 'but',\n",
       " 'but,',\n",
       " 'by',\n",
       " 'can',\n",
       " 'cause',\n",
       " 'civil',\n",
       " 'come',\n",
       " 'conceived',\n",
       " 'consecrate',\n",
       " 'consecrated',\n",
       " 'continent,',\n",
       " 'created',\n",
       " 'dead',\n",
       " 'dead,',\n",
       " 'dedicate',\n",
       " 'dedicated',\n",
       " 'dedicated,',\n",
       " 'detract.',\n",
       " 'devotion',\n",
       " 'did',\n",
       " 'died',\n",
       " 'do',\n",
       " 'earth.',\n",
       " 'endure.',\n",
       " 'engaged',\n",
       " 'equal.',\n",
       " 'far',\n",
       " 'fathers',\n",
       " 'field,',\n",
       " 'final',\n",
       " 'fitting',\n",
       " 'for',\n",
       " 'forget',\n",
       " 'forth',\n",
       " 'fought',\n",
       " 'four',\n",
       " 'freedom',\n",
       " 'from',\n",
       " 'full',\n",
       " 'gave',\n",
       " 'god,',\n",
       " 'government',\n",
       " 'great',\n",
       " 'ground.',\n",
       " 'hallow',\n",
       " 'have',\n",
       " 'here',\n",
       " 'here,',\n",
       " 'here.',\n",
       " 'highly',\n",
       " 'honored',\n",
       " 'in',\n",
       " 'increased',\n",
       " 'is',\n",
       " 'it',\n",
       " 'it,',\n",
       " 'larger',\n",
       " 'last',\n",
       " 'liberty,',\n",
       " 'little',\n",
       " 'live.',\n",
       " 'lives',\n",
       " 'living',\n",
       " 'living,',\n",
       " 'long',\n",
       " 'measure',\n",
       " 'men',\n",
       " 'men,',\n",
       " 'met',\n",
       " 'might',\n",
       " 'nation',\n",
       " 'nation,',\n",
       " 'never',\n",
       " 'new',\n",
       " 'nobly',\n",
       " 'nor',\n",
       " 'not',\n",
       " 'note,',\n",
       " 'now',\n",
       " 'of',\n",
       " 'on',\n",
       " 'or',\n",
       " 'our',\n",
       " 'people,',\n",
       " 'perish',\n",
       " 'place',\n",
       " 'poor',\n",
       " 'portion',\n",
       " 'power',\n",
       " 'proper',\n",
       " 'proposition',\n",
       " 'rather',\n",
       " 'rather,',\n",
       " 'remaining',\n",
       " 'remember',\n",
       " 'resolve',\n",
       " 'resting',\n",
       " 'say',\n",
       " 'score',\n",
       " 'sense,',\n",
       " 'seven',\n",
       " 'shall',\n",
       " 'should',\n",
       " 'so',\n",
       " 'struggled',\n",
       " 'take',\n",
       " 'task',\n",
       " 'testing',\n",
       " 'that',\n",
       " 'the',\n",
       " 'their',\n",
       " 'these',\n",
       " 'they',\n",
       " 'this',\n",
       " 'this.',\n",
       " 'those',\n",
       " 'thus',\n",
       " 'to',\n",
       " 'under',\n",
       " 'unfinished',\n",
       " 'us',\n",
       " 'vain',\n",
       " 'war,',\n",
       " 'war.',\n",
       " 'we',\n",
       " 'what',\n",
       " 'whether',\n",
       " 'which',\n",
       " 'who',\n",
       " 'will',\n",
       " 'work',\n",
       " 'world',\n",
       " 'years']"
      ]
     },
     "execution_count": 23,
     "metadata": {},
     "output_type": "execute_result"
    }
   ],
   "source": [
    "sorted(counts.keys())"
   ]
  },
  {
   "cell_type": "code",
   "execution_count": 24,
   "metadata": {
    "collapsed": false
   },
   "outputs": [
    {
     "data": {
      "text/plain": [
       "dict_values([1, 1, 2, 5, 1, 1, 10, 4, 1, 6, 1, 1, 2, 1, 1, 1, 1, 1, 1, 2, 2, 1, 1, 1, 1, 1, 1, 1, 1, 1, 1, 1, 1, 1, 2, 1, 3, 1, 1, 1, 3, 1, 2, 1, 1, 1, 1, 1, 3, 1, 1, 1, 1, 1, 1, 1, 1, 11, 1, 1, 1, 1, 5, 1, 1, 1, 1, 5, 1, 1, 3, 1, 2, 2, 1, 1, 2, 1, 1, 1, 1, 2, 1, 1, 1, 1, 1, 1, 1, 4, 3, 2, 3, 1, 1, 3, 2, 1, 3, 5, 7, 1, 1, 1, 2, 1, 3, 1, 1, 1, 1, 1, 1, 3, 2, 2, 5, 2, 7, 1, 5, 1, 1, 1, 1, 1, 2, 1, 1, 8, 1, 2, 1, 3, 1, 1, 1, 1, 1, 13, 1, 1, 1, 1, 1, 1, 1, 1, 1, 1, 3])"
      ]
     },
     "execution_count": 24,
     "metadata": {},
     "output_type": "execute_result"
    }
   ],
   "source": [
    "counts.values()"
   ]
  },
  {
   "cell_type": "code",
   "execution_count": 25,
   "metadata": {
    "collapsed": false
   },
   "outputs": [
    {
     "data": {
      "text/plain": [
       "dict_items([('nor', 1), ('altogether', 1), ('new', 2), ('of', 5), ('will', 1), ('continent,', 1), ('we', 10), ('it', 4), ('ago', 1), ('and', 6), ('portion', 1), ('perish', 1), ('nation', 2), ('struggled', 1), ('any', 1), ('work', 1), ('consecrate', 1), ('here.', 1), ('hallow', 1), ('long', 2), ('on', 2), ('might', 1), ('battle-field', 1), ('forget', 1), ('fought', 1), ('sense,', 1), ('proposition', 1), ('it,', 1), ('vain', 1), ('living', 1), ('war,', 1), ('as', 1), ('resting', 1), ('fathers', 1), ('or', 2), ('world', 1), ('so', 3), ('little', 1), ('honored', 1), ('civil', 1), ('us', 3), ('under', 1), ('these', 2), ('lives', 1), ('proper', 1), ('engaged', 1), ('by', 1), ('freedom', 1), ('nation,', 3), ('increased', 1), ('say', 1), ('thus', 1), ('birth', 1), ('highly', 1), ('above', 1), ('remember', 1), ('larger', 1), ('the', 11), ('before', 1), ('created', 1), ('ground.', 1), ('living,', 1), ('have', 5), ('fitting', 1), ('consecrated', 1), ('last', 1), ('but', 1), ('not', 5), ('whether', 1), ('note,', 1), ('are', 3), ('years', 1), ('what', 2), ('dead', 2), ('score', 1), ('never', 1), ('our', 2), ('field,', 1), ('earth.', 1), ('forth', 1), ('task', 1), ('gave', 2), ('god,', 1), ('met', 1), ('power', 1), ('rather', 1), ('unfinished', 1), ('advanced.', 1), ('testing', 1), ('in', 4), ('who', 3), ('here,', 2), ('dedicated', 3), ('dedicated,', 1), ('now', 1), ('shall', 3), ('which', 2), ('live.', 1), ('they', 3), ('can', 5), ('--', 7), ('nobly', 1), ('measure', 1), ('rather,', 1), ('dedicate', 2), ('men', 1), ('is', 3), ('all', 1), ('government', 1), ('place', 1), ('endure.', 1), ('full', 1), ('this.', 1), ('great', 3), ('conceived', 2), ('devotion', 2), ('here', 5), ('from', 2), ('a', 7), ('detract.', 1), ('for', 5), ('war.', 1), ('do', 1), ('remaining', 1), ('men,', 1), ('those', 1), ('be', 2), ('final', 1), ('four', 1), ('to', 8), ('poor', 1), ('far', 2), ('brave', 1), ('this', 3), ('equal.', 1), ('dead,', 1), ('brought', 1), ('seven', 1), ('their', 1), ('that', 13), ('come', 1), ('cause', 1), ('should', 1), ('did', 1), ('but,', 1), ('liberty,', 1), ('add', 1), ('died', 1), ('resolve', 1), ('take', 1), ('people,', 3)])"
      ]
     },
     "execution_count": 25,
     "metadata": {},
     "output_type": "execute_result"
    }
   ],
   "source": [
    "counts.items()"
   ]
  },
  {
   "cell_type": "code",
   "execution_count": 26,
   "metadata": {
    "collapsed": false
   },
   "outputs": [
    {
     "data": {
      "text/plain": [
       "{'a', 'b', 'c'}"
      ]
     },
     "execution_count": 26,
     "metadata": {},
     "output_type": "execute_result"
    }
   ],
   "source": [
    "set(['a', 'b', 'c'])"
   ]
  },
  {
   "cell_type": "code",
   "execution_count": 10,
   "metadata": {
    "collapsed": false
   },
   "outputs": [
    {
     "name": "stdout",
     "output_type": "stream",
     "text": [
      "{'a', 'b', 'c'} {'a', 'b', 'd'}\n"
     ]
    }
   ],
   "source": [
    "S1 = set('abc')\n",
    "S2 = set('abd')\n",
    "print(S1, S2)"
   ]
  },
  {
   "cell_type": "code",
   "execution_count": 28,
   "metadata": {
    "collapsed": false
   },
   "outputs": [
    {
     "data": {
      "text/plain": [
       "{'a', 'c'}"
      ]
     },
     "execution_count": 28,
     "metadata": {},
     "output_type": "execute_result"
    }
   ],
   "source": [
    "S1 & S2"
   ]
  },
  {
   "cell_type": "code",
   "execution_count": 29,
   "metadata": {
    "collapsed": false
   },
   "outputs": [
    {
     "data": {
      "text/plain": [
       "{'a', 'b', 'c', 'd'}"
      ]
     },
     "execution_count": 29,
     "metadata": {},
     "output_type": "execute_result"
    }
   ],
   "source": [
    "S1 | S2"
   ]
  },
  {
   "cell_type": "code",
   "execution_count": null,
   "metadata": {
    "collapsed": true
   },
   "outputs": [],
   "source": []
  }
 ],
 "metadata": {
  "anaconda-cloud": {},
  "kernelspec": {
   "display_name": "Python [Root]",
   "language": "python",
   "name": "Python [Root]"
  },
  "language_info": {
   "codemirror_mode": {
    "name": "ipython",
    "version": 3
   },
   "file_extension": ".py",
   "mimetype": "text/x-python",
   "name": "python",
   "nbconvert_exporter": "python",
   "pygments_lexer": "ipython3",
   "version": "3.5.2"
  }
 },
 "nbformat": 4,
 "nbformat_minor": 1
}
