{
 "cells": [
  {
   "cell_type": "markdown",
   "metadata": {},
   "source": [
    "# Notes for 2 November\n",
    "\n",
    "Fun with Midterm2 data"
   ]
  },
  {
   "cell_type": "code",
   "execution_count": 1,
   "metadata": {
    "collapsed": false
   },
   "outputs": [
    {
     "data": {
      "text/plain": [
       "array([[21,  1,  1,  0,  3],\n",
       "       [18,  1,  1,  1,  3],\n",
       "       [ 0,  1,  1,  2,  3],\n",
       "       [ 0,  1,  1,  3,  3],\n",
       "       [ 0,  1,  1,  4,  3],\n",
       "       [ 0,  1,  1,  5,  3],\n",
       "       [ 3,  1,  1,  6,  3],\n",
       "       [12,  1,  1,  7,  3],\n",
       "       [ 4,  1,  1,  8,  3],\n",
       "       [11,  1,  1,  9,  3]])"
      ]
     },
     "execution_count": 1,
     "metadata": {},
     "output_type": "execute_result"
    }
   ],
   "source": [
    "%matplotlib inline\n",
    "import numpy as np\n",
    "import pylab\n",
    "import urllib\n",
    "\n",
    "# let's fetch the data\n",
    "urllib.request.urlretrieve('https://goo.gl/mjDtMB', 'hourly.pkl')\n",
    "\n",
    "import pickle\n",
    "hourly = pickle.load(open('hourly.pkl', 'rb'))\n",
    "hourly[:10]"
   ]
  },
  {
   "cell_type": "markdown",
   "metadata": {},
   "source": [
    "Now we can ask questions of these data. "
   ]
  },
  {
   "cell_type": "markdown",
   "metadata": {
    "collapsed": true
   },
   "source": [
    "What is the index of the given month, day, and hour?"
   ]
  },
  {
   "cell_type": "code",
   "execution_count": null,
   "metadata": {
    "collapsed": true
   },
   "outputs": [],
   "source": []
  },
  {
   "cell_type": "code",
   "execution_count": 11,
   "metadata": {
    "collapsed": false
   },
   "outputs": [
    {
     "data": {
      "text/plain": [
       "0"
      ]
     },
     "execution_count": 11,
     "metadata": {},
     "output_type": "execute_result"
    }
   ],
   "source": [
    "def F1(A, m, d, h):\n",
    "    # code here\n",
    "    for i in range(len(A)):\n",
    "        if A[i, 1] == m and A[i, 2] == d and A[i, 3] == h:\n",
    "            return i\n",
    "\n",
    "F1(hourly, 1, 1, 0)\n"
   ]
  },
  {
   "cell_type": "code",
   "execution_count": 13,
   "metadata": {
    "collapsed": false
   },
   "outputs": [
    {
     "data": {
      "text/plain": [
       "8736"
      ]
     },
     "execution_count": 13,
     "metadata": {},
     "output_type": "execute_result"
    }
   ],
   "source": [
    "def F1(A, m, d, h):\n",
    "    # code here\n",
    "    result = 0\n",
    "    for i in range(len(A)):\n",
    "        if A[i, 1] == m and A[i, 2] == d and A[i, 3] == h:\n",
    "            result = i\n",
    "    return result\n",
    "\n",
    "F1(hourly, 12, 31, 0)"
   ]
  },
  {
   "cell_type": "markdown",
   "metadata": {
    "collapsed": true
   },
   "source": [
    "Answer #4 on the preview without reshaping"
   ]
  },
  {
   "cell_type": "code",
   "execution_count": 5,
   "metadata": {
    "collapsed": false
   },
   "outputs": [
    {
     "name": "stdout",
     "output_type": "stream",
     "text": [
      "here\n"
     ]
    },
    {
     "data": {
      "text/plain": [
       "1279.8520547945207"
      ]
     },
     "execution_count": 5,
     "metadata": {},
     "output_type": "execute_result"
    }
   ],
   "source": [
    "def F4(data):\n",
    "    print('here')\n",
    "    tsum = 0\n",
    "    tcnt = 0\n",
    "    for i in range(0, len(data), 24):\n",
    "        day = data[i:i+24, 0]\n",
    "        m = np.argmax(day)\n",
    "        dsum = np.sum(day[0:m])\n",
    "        tsum = tsum + dsum\n",
    "        tcnt = tcnt + 1\n",
    "    return tsum / tcnt\n",
    "F4(hourly)\n",
    "        "
   ]
  },
  {
   "cell_type": "code",
   "execution_count": 6,
   "metadata": {
    "collapsed": false
   },
   "outputs": [
    {
     "name": "stdout",
     "output_type": "stream",
     "text": [
      "here\n"
     ]
    },
    {
     "data": {
      "text/plain": [
       "1279.8520547945207"
      ]
     },
     "execution_count": 6,
     "metadata": {},
     "output_type": "execute_result"
    }
   ],
   "source": [
    "def F4(data):\n",
    "    print('here')\n",
    "    dsums = []\n",
    "    for i in range(0, len(data), 24):\n",
    "        day = data[i:i+24, 0]\n",
    "        m = np.argmax(day)\n",
    "        dsum = np.sum(day[0:m])\n",
    "        dsums.append(dsum)\n",
    "    return np.mean(dsums)\n",
    "F4(hourly)\n",
    "        "
   ]
  },
  {
   "cell_type": "code",
   "execution_count": 7,
   "metadata": {
    "collapsed": false
   },
   "outputs": [
    {
     "data": {
      "text/plain": [
       "1279.8520547945207"
      ]
     },
     "execution_count": 7,
     "metadata": {},
     "output_type": "execute_result"
    }
   ],
   "source": [
    "def F4(data):\n",
    "    daily = np.reshape(data[:,0], (-1, 24))\n",
    "    dsums = []\n",
    "    for i in range(len(daily)):\n",
    "        day = daily[i]\n",
    "        m = np.argmax(day)\n",
    "        dsum = np.sum(day[0:m])\n",
    "        dsums.append(dsum)\n",
    "    return np.mean(dsums)\n",
    "F4(hourly)"
   ]
  },
  {
   "cell_type": "code",
   "execution_count": 8,
   "metadata": {
    "collapsed": false
   },
   "outputs": [
    {
     "name": "stdout",
     "output_type": "stream",
     "text": [
      "0 19\n",
      "1 17\n",
      "2 17\n",
      "3 18\n",
      "4 12\n",
      "5 11\n",
      "6 10\n",
      "7 12\n",
      "8 10\n",
      "9 14\n",
      "10 20\n",
      "11 11\n",
      "12 11\n",
      "13 10\n",
      "14 10\n",
      "15 10\n",
      "16 19\n",
      "17 15\n",
      "18 9\n",
      "19 12\n",
      "20 12\n",
      "21 13\n",
      "22 14\n",
      "23 20\n",
      "24 16\n",
      "25 11\n",
      "26 13\n",
      "27 10\n",
      "28 10\n",
      "29 13\n",
      "30 23\n",
      "31 14\n",
      "32 10\n",
      "33 11\n",
      "34 10\n",
      "35 13\n",
      "36 10\n",
      "37 18\n",
      "38 19\n",
      "39 10\n",
      "40 11\n",
      "41 13\n",
      "42 9\n",
      "43 10\n",
      "44 15\n",
      "45 20\n",
      "46 11\n",
      "47 11\n",
      "48 10\n",
      "49 10\n",
      "50 11\n",
      "51 19\n",
      "52 20\n",
      "53 13\n",
      "54 11\n",
      "55 13\n",
      "56 10\n",
      "57 11\n",
      "58 15\n",
      "59 18\n",
      "60 10\n",
      "61 11\n",
      "62 11\n",
      "63 10\n",
      "64 11\n",
      "65 14\n",
      "66 20\n",
      "67 11\n",
      "68 10\n",
      "69 12\n",
      "70 11\n",
      "71 12\n",
      "72 21\n",
      "73 23\n",
      "74 11\n",
      "75 10\n",
      "76 10\n",
      "77 10\n",
      "78 10\n",
      "79 11\n",
      "80 18\n",
      "81 10\n",
      "82 12\n",
      "83 10\n",
      "84 13\n",
      "85 10\n",
      "86 15\n",
      "87 19\n",
      "88 12\n",
      "89 11\n",
      "90 9\n",
      "91 11\n",
      "92 11\n",
      "93 21\n",
      "94 14\n",
      "95 14\n",
      "96 11\n",
      "97 11\n",
      "98 11\n",
      "99 11\n",
      "100 16\n",
      "101 13\n",
      "102 11\n",
      "103 12\n",
      "104 10\n",
      "105 13\n",
      "106 10\n",
      "107 11\n",
      "108 19\n",
      "109 11\n",
      "110 12\n",
      "111 10\n",
      "112 10\n",
      "113 10\n",
      "114 22\n",
      "115 21\n",
      "116 11\n",
      "117 11\n",
      "118 12\n",
      "119 13\n",
      "120 13\n",
      "121 10\n",
      "122 21\n",
      "123 10\n",
      "124 11\n",
      "125 12\n",
      "126 13\n",
      "127 11\n",
      "128 9\n",
      "129 22\n",
      "130 13\n",
      "131 13\n",
      "132 11\n",
      "133 12\n",
      "134 12\n",
      "135 15\n",
      "136 20\n",
      "137 13\n",
      "138 12\n",
      "139 12\n",
      "140 12\n",
      "141 10\n",
      "142 19\n",
      "143 19\n",
      "144 12\n",
      "145 10\n",
      "146 12\n",
      "147 12\n",
      "148 13\n",
      "149 15\n",
      "150 20\n",
      "151 12\n",
      "152 11\n",
      "153 9\n",
      "154 10\n",
      "155 11\n",
      "156 15\n",
      "157 20\n",
      "158 12\n",
      "159 9\n",
      "160 10\n",
      "161 11\n",
      "162 10\n",
      "163 10\n",
      "164 19\n",
      "165 11\n",
      "166 10\n",
      "167 10\n",
      "168 9\n",
      "169 9\n",
      "170 20\n",
      "171 20\n",
      "172 11\n",
      "173 14\n",
      "174 10\n",
      "175 14\n",
      "176 12\n",
      "177 20\n",
      "178 18\n",
      "179 10\n",
      "180 10\n",
      "181 10\n",
      "182 17\n",
      "183 11\n",
      "184 8\n",
      "185 9\n",
      "186 10\n",
      "187 10\n",
      "188 10\n",
      "189 9\n",
      "190 15\n",
      "191 11\n",
      "192 17\n",
      "193 10\n",
      "194 10\n",
      "195 10\n",
      "196 10\n",
      "197 15\n",
      "198 5\n",
      "199 13\n",
      "200 10\n",
      "201 10\n",
      "202 9\n",
      "203 22\n",
      "204 15\n",
      "205 3\n",
      "206 20\n",
      "207 9\n",
      "208 9\n",
      "209 9\n",
      "210 22\n",
      "211 9\n",
      "212 16\n",
      "213 19\n",
      "214 9\n",
      "215 10\n",
      "216 9\n",
      "217 22\n",
      "218 12\n",
      "219 20\n",
      "220 18\n",
      "221 19\n",
      "222 9\n",
      "223 19\n",
      "224 13\n",
      "225 9\n",
      "226 12\n",
      "227 11\n",
      "228 19\n",
      "229 9\n",
      "230 10\n",
      "231 11\n",
      "232 14\n",
      "233 6\n",
      "234 19\n",
      "235 10\n",
      "236 10\n",
      "237 10\n",
      "238 14\n",
      "239 10\n",
      "240 19\n",
      "241 21\n",
      "242 11\n",
      "243 13\n",
      "244 12\n",
      "245 10\n",
      "246 11\n",
      "247 20\n",
      "248 22\n",
      "249 21\n",
      "250 13\n",
      "251 13\n",
      "252 13\n",
      "253 13\n",
      "254 18\n",
      "255 16\n",
      "256 10\n",
      "257 11\n",
      "258 11\n",
      "259 13\n",
      "260 13\n",
      "261 20\n",
      "262 19\n",
      "263 13\n",
      "264 10\n",
      "265 11\n",
      "266 14\n",
      "267 11\n",
      "268 13\n",
      "269 18\n",
      "270 11\n",
      "271 13\n",
      "272 11\n",
      "273 10\n",
      "274 10\n",
      "275 8\n",
      "276 16\n",
      "277 11\n",
      "278 11\n",
      "279 15\n",
      "280 10\n",
      "281 11\n",
      "282 13\n",
      "283 21\n",
      "284 13\n",
      "285 11\n",
      "286 10\n",
      "287 13\n",
      "288 14\n",
      "289 18\n",
      "290 21\n",
      "291 10\n",
      "292 14\n",
      "293 15\n",
      "294 11\n",
      "295 11\n",
      "296 22\n",
      "297 17\n",
      "298 11\n",
      "299 11\n",
      "300 12\n",
      "301 13\n",
      "302 10\n",
      "303 11\n",
      "304 20\n",
      "305 11\n",
      "306 11\n",
      "307 11\n",
      "308 10\n",
      "309 11\n",
      "310 14\n",
      "311 21\n",
      "312 11\n",
      "313 11\n",
      "314 15\n",
      "315 11\n",
      "316 11\n",
      "317 15\n",
      "318 16\n",
      "319 10\n",
      "320 13\n",
      "321 11\n",
      "322 11\n",
      "323 11\n",
      "324 12\n",
      "325 18\n",
      "326 13\n",
      "327 12\n",
      "328 10\n",
      "329 20\n",
      "330 8\n",
      "331 20\n",
      "332 21\n",
      "333 10\n",
      "334 14\n",
      "335 12\n",
      "336 11\n",
      "337 11\n",
      "338 21\n",
      "339 20\n",
      "340 12\n",
      "341 11\n",
      "342 12\n",
      "343 11\n",
      "344 11\n",
      "345 23\n",
      "346 19\n",
      "347 10\n",
      "348 11\n",
      "349 13\n",
      "350 11\n",
      "351 11\n",
      "352 22\n",
      "353 19\n",
      "354 9\n",
      "355 9\n",
      "356 11\n",
      "357 11\n",
      "358 17\n",
      "359 15\n",
      "360 22\n",
      "361 9\n",
      "362 20\n",
      "363 18\n",
      "364 10\n"
     ]
    },
    {
     "data": {
      "text/plain": [
       "1279.8520547945207"
      ]
     },
     "execution_count": 8,
     "metadata": {},
     "output_type": "execute_result"
    }
   ],
   "source": [
    "def F4p(data):\n",
    "    daily = np.reshape(data[:,0], (-1, 24))\n",
    "    dsums = []\n",
    "    for i in range(len(daily)):\n",
    "        day = daily[i]\n",
    "        m = np.argmax(day)\n",
    "        print(i, m)\n",
    "        dsum = np.sum(day[0:m])\n",
    "        dsums.append(dsum)\n",
    "    return np.mean(dsums)\n",
    "F4p(hourly)"
   ]
  },
  {
   "cell_type": "code",
   "execution_count": null,
   "metadata": {
    "collapsed": true
   },
   "outputs": [],
   "source": []
  }
 ],
 "metadata": {
  "kernelspec": {
   "display_name": "Python 3",
   "language": "python",
   "name": "python3"
  },
  "language_info": {
   "codemirror_mode": {
    "name": "ipython",
    "version": 3
   },
   "file_extension": ".py",
   "mimetype": "text/x-python",
   "name": "python",
   "nbconvert_exporter": "python",
   "pygments_lexer": "ipython3",
   "version": "3.5.2"
  }
 },
 "nbformat": 4,
 "nbformat_minor": 1
}
