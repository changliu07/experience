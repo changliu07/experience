{
 "cells": [
  {
   "cell_type": "markdown",
   "metadata": {},
   "source": [
    "# Notes for 14 September - Scorched Earth!"
   ]
  },
  {
   "cell_type": "markdown",
   "metadata": {},
   "source": [
    "First we answered some questions about reshape and using axis="
   ]
  },
  {
   "cell_type": "code",
   "execution_count": 1,
   "metadata": {
    "collapsed": false
   },
   "outputs": [
    {
     "data": {
      "text/plain": [
       "array([ 0,  1,  2,  3,  4,  5,  6,  7,  8,  9, 10, 11])"
      ]
     },
     "execution_count": 1,
     "metadata": {},
     "output_type": "execute_result"
    }
   ],
   "source": [
    "import numpy as np\n",
    "\n",
    "A = np.arange(12)\n",
    "A"
   ]
  },
  {
   "cell_type": "code",
   "execution_count": 3,
   "metadata": {
    "collapsed": false
   },
   "outputs": [
    {
     "data": {
      "text/plain": [
       "array([[ 0,  1,  2,  3],\n",
       "       [ 4,  5,  6,  7],\n",
       "       [ 8,  9, 10, 11]])"
      ]
     },
     "execution_count": 3,
     "metadata": {},
     "output_type": "execute_result"
    }
   ],
   "source": [
    "B = np.reshape(A, (-1, 4))\n",
    "B"
   ]
  },
  {
   "cell_type": "code",
   "execution_count": 4,
   "metadata": {
    "collapsed": false
   },
   "outputs": [
    {
     "data": {
      "text/plain": [
       "array([ 4.,  5.,  6.,  7.])"
      ]
     },
     "execution_count": 4,
     "metadata": {},
     "output_type": "execute_result"
    }
   ],
   "source": [
    "np.mean(B, axis=0)"
   ]
  },
  {
   "cell_type": "markdown",
   "metadata": {},
   "source": [
    "## On to the game!"
   ]
  },
  {
   "cell_type": "markdown",
   "metadata": {},
   "source": [
    "We will talk through the code for a simple version of [**Scorched Earth**](http://en.wikipedia.org/wiki/Scorched_Earth_%28video_game%29).\n",
    "\n",
    "In the game, you are given the position of your cannon and the position of a target. You have to determine the direction and speed of your rocket to hit the target. We'll do this in two dimensions.\n",
    "\n",
    "We will need a little simple calculus to determine the position as a function of time given the initial position and velocity.\n",
    "\n",
    "$A(t) = A $\n",
    "\n",
    "$V(t) = \\int_0^t A(t) dt = A t + V_0$\n",
    "\n",
    "$P(t) = \\int_0^t V(t) dt = {1 \\over 2} A t^2 + V_0 t + P_0$\n",
    "\n",
    "So, we can set up some variables."
   ]
  },
  {
   "cell_type": "markdown",
   "metadata": {},
   "source": [
    "The variables below are 1-D with 2 values. The first value (with index 0) is the component in the X coordinate system direction and the second value is the component in the Y coordinate direction. These are mathematical vectors."
   ]
  },
  {
   "cell_type": "code",
   "execution_count": 5,
   "metadata": {
    "collapsed": true
   },
   "outputs": [],
   "source": [
    "%matplotlib inline\n",
    "import numpy as np\n",
    "import pylab\n",
    "\n",
    "# A[0] is zero because gravity doesn't pull in the X axis direction\n",
    "# A[1] is -9.8 because I'm assuming the acceleration due to gravity is 9.8 meters per second square in the negative Y direction\n",
    "A = np.array([0.0, -9.8]) # acceleration due to gravity\n",
    "# I pulled these velocities out of my ear\n",
    "# V0[0] is 90 meters per second in the positive X direction (that is to the right).\n",
    "# V0[1] is 50 meters per second up.\n",
    "V0 = np.array([90, 50.0]) # initial velocity\n",
    "# We are launching from 2 meters above the origin.\n",
    "P0 = np.array([0.0, 2.0]) # initial position"
   ]
  },
  {
   "cell_type": "code",
   "execution_count": 5,
   "metadata": {
    "collapsed": true
   },
   "outputs": [],
   "source": [
    "# time in steps of 0.01 seconds starting at 0 and going to 15 seconds.\n",
    "t = np.arange(0, 15, 0.01)\n",
    "\n",
    "# I want a column vector. By that I mean a 2D object with N rows and 1 column. The function above gave me a 1D object with N elements.\n",
    "# I'll use reshape. Note the use of -1. That is a signal for the function to figure out the number of rows given that there is 1 column.\n",
    "\n",
    "t = np.reshape(t, (-1,1)) # I have to reshape t into a column vector"
   ]
  },
  {
   "cell_type": "markdown",
   "metadata": {},
   "source": [
    "The expression below produces a 2-D array with 2 columns and as many rows as we have time samples. The first column is the X coordinate and the second column is the Y coordinate."
   ]
  },
  {
   "cell_type": "code",
   "execution_count": 6,
   "metadata": {
    "collapsed": false
   },
   "outputs": [],
   "source": [
    "# now I can evaluate the position over time by writing out the last equation above.\n",
    "p = 0.5*A*t**2 + V0*t + P0"
   ]
  },
  {
   "cell_type": "markdown",
   "metadata": {},
   "source": [
    "We can look at a few of the numbers. See the rocket is moving downrange in X and up in Y."
   ]
  },
  {
   "cell_type": "code",
   "execution_count": 7,
   "metadata": {
    "collapsed": false
   },
   "outputs": [
    {
     "data": {
      "text/plain": [
       "array([[ 0.     ,  2.     ],\n",
       "       [ 0.9    ,  2.49951],\n",
       "       [ 1.8    ,  2.99804],\n",
       "       [ 2.7    ,  3.49559],\n",
       "       [ 3.6    ,  3.99216]])"
      ]
     },
     "execution_count": 7,
     "metadata": {},
     "output_type": "execute_result"
    }
   ],
   "source": [
    "p[:5,:]"
   ]
  },
  {
   "cell_type": "markdown",
   "metadata": {},
   "source": [
    "Let's plot the position versus time."
   ]
  },
  {
   "cell_type": "code",
   "execution_count": 8,
   "metadata": {
    "collapsed": false
   },
   "outputs": [
    {
     "data": {
      "text/plain": [
       "[<matplotlib.lines.Line2D at 0x7fc844ee73c8>]"
      ]
     },
     "execution_count": 8,
     "metadata": {},
     "output_type": "execute_result"
    },
    {
     "data": {
      "image/png": "[encoded data removed]",
      "text/plain": [
       "<matplotlib.figure.Figure at 0x7fc85435a710>"
      ]
     },
     "metadata": {},
     "output_type": "display_data"
    }
   ],
   "source": [
    "pylab.plot(p[:,0], p[:, 1])"
   ]
  },
  {
   "cell_type": "markdown",
   "metadata": {},
   "source": [
    "But that doesn't look too great. Problem is our graph is showing lots of time after the rocket hits the ground.\n",
    "\n",
    "Now we need to figure out how long the rocket will fly before hitting the ground. We can do that by solving that quadratic equation for the time when the `y` component of the position is 0.\n",
    "\n",
    "The good old quadratic formula will do the trick.\n",
    "\n",
    "$x = \\frac {-b \\pm \\sqrt {b^2 - 4ac}}{2a}$\n",
    "\n",
    "Let's write a function to solve the quadratic formula given arguments a, b, and c."
   ]
  },
  {
   "cell_type": "markdown",
   "metadata": {},
   "source": [
    "So we wrote a function to solve the quadratic equation and return the max."
   ]
  },
  {
   "cell_type": "code",
   "execution_count": 11,
   "metadata": {
    "collapsed": true
   },
   "outputs": [],
   "source": [
    "def solve_quadratic(a, b, c):\n",
    "    disc = b**2 - 4*a*c\n",
    "    sqr_disc = np.sqrt(disc)\n",
    "    plus = (-b + sqr_disc) / (2 * a)\n",
    "    minus = (-b - sqr_disc) / (2 * a)\n",
    "    return max(plus, minus)\n"
   ]
  },
  {
   "cell_type": "markdown",
   "metadata": {},
   "source": [
    "Now we can get the time at which our missile will hit the ground by solving for Y = 0. I'm handing in the Y components of the coefficients because that is the dimension that will hit 0."
   ]
  },
  {
   "cell_type": "markdown",
   "metadata": {},
   "source": [
    "Below I see that with the given parameters, it will hit the ground at 10.24 seconds."
   ]
  },
  {
   "cell_type": "code",
   "execution_count": 11,
   "metadata": {
    "collapsed": false
   },
   "outputs": [
    {
     "name": "stdout",
     "output_type": "stream",
     "text": [
      "10.24392605\n"
     ]
    }
   ],
   "source": [
    "max_t = solve_quadratic(0.5 * A[1], V0[1], P0[1])\n",
    "print(max_t)"
   ]
  },
  {
   "cell_type": "markdown",
   "metadata": {},
   "source": [
    "Now copying and pasting from above but replacing the 15 seconds with max_t we get a better graph."
   ]
  },
  {
   "cell_type": "code",
   "execution_count": 12,
   "metadata": {
    "collapsed": false
   },
   "outputs": [],
   "source": [
    "# time in steps of 0.01 seconds starting at 0 and going to max_t seconds.\n",
    "t = np.arange(0, max_t, 0.01)\n",
    "\n",
    "# I want a column vector. By that I mean a 2D object with N rows and 1 column. The function above gave me a 1D object with N elements.\n",
    "# I'll use reshape. Note the use of -1. That is a signal for the function to figure out the number of rows given that there is 1 column.\n",
    "\n",
    "t = np.reshape(t, (-1,1)) # I have to reshape t into a column vector"
   ]
  },
  {
   "cell_type": "code",
   "execution_count": 13,
   "metadata": {
    "collapsed": true
   },
   "outputs": [],
   "source": [
    "p = 0.5*A*t**2 + V0*t + P0"
   ]
  },
  {
   "cell_type": "code",
   "execution_count": 14,
   "metadata": {
    "collapsed": false
   },
   "outputs": [
    {
     "data": {
      "text/plain": [
       "[<matplotlib.lines.Line2D at 0x7fc844f3d128>]"
      ]
     },
     "execution_count": 14,
     "metadata": {},
     "output_type": "execute_result"
    },
    {
     "data": {
      "image/png": "[encoded data removed]",
      "text/plain": [
       "<matplotlib.figure.Figure at 0x7fc844f2d748>"
      ]
     },
     "metadata": {},
     "output_type": "display_data"
    }
   ],
   "source": [
    "pylab.plot(p[:,0], p[:, 1])"
   ]
  },
  {
   "cell_type": "markdown",
   "metadata": {},
   "source": [
    "Let's put it in a function so we don't have to cut and paste."
   ]
  },
  {
   "cell_type": "code",
   "execution_count": 13,
   "metadata": {
    "collapsed": true
   },
   "outputs": [],
   "source": [
    "def shoot(A, V0, P0):\n",
    "    max_t = solve_quadratic(0.5 * A[1], V0[1], P0[1])\n",
    "    t = np.arange(0, max_t, 0.01)\n",
    "    t = np.reshape(t, (-1,1))\n",
    "    p = 0.5*A*t**2 + V0*t + P0\n",
    "    return pylab.plot(p[:,0], p[:, 1])"
   ]
  },
  {
   "cell_type": "code",
   "execution_count": 14,
   "metadata": {
    "collapsed": false
   },
   "outputs": [
    {
     "data": {
      "text/plain": [
       "[<matplotlib.lines.Line2D at 0x10cb54358>]"
      ]
     },
     "execution_count": 14,
     "metadata": {},
     "output_type": "execute_result"
    },
    {
     "data": {
      "image/png": "[encoded data removed]",
      "text/plain": [
       "<matplotlib.figure.Figure at 0x10a719550>"
      ]
     },
     "metadata": {},
     "output_type": "display_data"
    }
   ],
   "source": [
    "shoot(A, np.array([90, 50]), P0)"
   ]
  },
  {
   "cell_type": "code",
   "execution_count": 17,
   "metadata": {
    "collapsed": false
   },
   "outputs": [
    {
     "data": {
      "image/png": "[encoded data removed]",
      "text/plain": [
       "<matplotlib.figure.Figure at 0x7fc844db7a90>"
      ]
     },
     "metadata": {},
     "output_type": "display_data"
    }
   ],
   "source": [
    "shoot(A, np.array([80, 50]), P0)"
   ]
  },
  {
   "cell_type": "code",
   "execution_count": 18,
   "metadata": {
    "collapsed": false
   },
   "outputs": [
    {
     "data": {
      "image/png": "[encoded data removed]",
      "text/plain": [
       "<matplotlib.figure.Figure at 0x7fc844d1e2e8>"
      ]
     },
     "metadata": {},
     "output_type": "display_data"
    }
   ],
   "source": [
    "shoot(A, np.array([78, 50]), P0)"
   ]
  },
  {
   "cell_type": "markdown",
   "metadata": {},
   "source": [
    "I can adjust all of the parameters."
   ]
  },
  {
   "cell_type": "code",
   "execution_count": 20,
   "metadata": {
    "collapsed": false
   },
   "outputs": [
    {
     "data": {
      "image/png": "[encoded data removed]",
      "text/plain": [
       "<matplotlib.figure.Figure at 0x7fc844c6e748>"
      ]
     },
     "metadata": {},
     "output_type": "display_data"
    }
   ],
   "source": [
    "shoot(np.array([0, -20]), np.array([90, 50]), P0)"
   ]
  },
  {
   "cell_type": "code",
   "execution_count": null,
   "metadata": {
    "collapsed": true
   },
   "outputs": [],
   "source": []
  }
 ],
 "metadata": {
  "anaconda-cloud": {},
  "kernelspec": {
   "display_name": "Python [Root]",
   "language": "python",
   "name": "Python [Root]"
  },
  "language_info": {
   "codemirror_mode": {
    "name": "ipython",
    "version": 3
   },
   "file_extension": ".py",
   "mimetype": "text/x-python",
   "name": "python",
   "nbconvert_exporter": "python",
   "pygments_lexer": "ipython3",
   "version": "3.5.2"
  }
 },
 "nbformat": 4,
 "nbformat_minor": 1
}
