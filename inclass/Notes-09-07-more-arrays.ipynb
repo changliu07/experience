{
 "cells": [
  {
   "cell_type": "markdown",
   "metadata": {},
   "source": [
    "# Notes for 7 September - More Operations on Arrays\n",
    "\n",
    "Today we'll go all aggie with data on milk production per cow for each month from January 1962 through December 1974.\n",
    "\n",
    "First our usual boilerplate."
   ]
  },
  {
   "cell_type": "code",
   "execution_count": 1,
   "metadata": {
    "collapsed": true
   },
   "outputs": [],
   "source": [
    "%matplotlib inline\n",
    "import numpy as np\n",
    "import pylab"
   ]
  },
  {
   "cell_type": "markdown",
   "metadata": {},
   "source": [
    "Now let's grab the data from the class web page. I used the Google link shortener to make it more reasonable to type. The full URL is https://wwwx.cs.unc.edu/Courses/comp116-001-f16/media/monthly-milk-62-75.txt. Of course, you should copy and paste from the today.html page linked from the class homepage."
   ]
  },
  {
   "cell_type": "code",
   "execution_count": 2,
   "metadata": {
    "collapsed": false
   },
   "outputs": [],
   "source": [
    "milk = np.genfromtxt('http://goo.gl/0LcCWj')"
   ]
  },
  {
   "cell_type": "markdown",
   "metadata": {},
   "source": [
    "We can look to see how many we have with the **shape** property of the array object. The object returned by **shape** is a **tuple**. Think of it as just like a **list** except it is **immutable**."
   ]
  },
  {
   "cell_type": "code",
   "execution_count": 3,
   "metadata": {
    "collapsed": false
   },
   "outputs": [
    {
     "data": {
      "text/plain": [
       "(156,)"
      ]
     },
     "execution_count": 3,
     "metadata": {},
     "output_type": "execute_result"
    }
   ],
   "source": [
    "milk.shape"
   ]
  },
  {
   "cell_type": "markdown",
   "metadata": {},
   "source": [
    "I can find the dimensionality of the array by applying the **len** function to the shape. Below we can see that milk is a 1-D array because the length of its shape is 1."
   ]
  },
  {
   "cell_type": "code",
   "execution_count": 4,
   "metadata": {
    "collapsed": false
   },
   "outputs": [
    {
     "data": {
      "text/plain": [
       "1"
      ]
     },
     "execution_count": 4,
     "metadata": {},
     "output_type": "execute_result"
    }
   ],
   "source": [
    "len(milk.shape)"
   ]
  },
  {
   "cell_type": "markdown",
   "metadata": {},
   "source": [
    "Or we can get the number of elements with the **len** function. Len applied to an array gives the length of the first dimension. "
   ]
  },
  {
   "cell_type": "code",
   "execution_count": 5,
   "metadata": {
    "collapsed": false
   },
   "outputs": [
    {
     "data": {
      "text/plain": [
       "156"
      ]
     },
     "execution_count": 5,
     "metadata": {},
     "output_type": "execute_result"
    }
   ],
   "source": [
    "len(milk)"
   ]
  },
  {
   "cell_type": "markdown",
   "metadata": {},
   "source": [
    "Since the number isn't too large, let's look at them."
   ]
  },
  {
   "cell_type": "code",
   "execution_count": 6,
   "metadata": {
    "collapsed": false
   },
   "outputs": [
    {
     "name": "stdout",
     "output_type": "stream",
     "text": [
      "[ 578.  609.  628.  665.  713.  707.  628.  588.  576.  566.  561.  571.\n",
      "  589.  615.  641.  682.  728.  726.  648.  605.  591.  576.  573.  587.\n",
      "  616.  648.  675.  715.  756.  746.  665.  627.  612.  599.  602.  622.\n",
      "  646.  676.  696.  732.  767.  767.  689.  641.  624.  609.  610.  623.\n",
      "  664.  690.  722.  766.  796.  809.  721.  684.  670.  654.  654.  675.\n",
      "  700.  725.  748.  795.  821.  828.  753.  708.  690.  674.  669.  685.\n",
      "  704.  730.  760.  807.  842.  838.  768.  726.  711.  693.  686.  698.\n",
      "  720.  750.  770.  816.  855.  857.  786.  750.  735.  709.  700.  720.\n",
      "  736.  768.  792.  836.  869.  871.  804.  768.  750.  733.  721.  737.\n",
      "  789.  821.  844.  890.  924.  926.  853.  818.  801.  785.  774.  785.\n",
      "  811.  838.  873.  913.  943.  948.  877.  839.  820.  795.  777.  790.\n",
      "  806.  840.  867.  911.  939.  937.  865.  821.  795.  776.  771.  787.\n",
      "  813.  845.  872.  915.  951.  960.  891.  851.  826.  797.  784.  798.]\n"
     ]
    }
   ],
   "source": [
    "print(milk)"
   ]
  },
  {
   "cell_type": "markdown",
   "metadata": {},
   "source": [
    "A graph might be more informative."
   ]
  },
  {
   "cell_type": "code",
   "execution_count": 6,
   "metadata": {
    "collapsed": false
   },
   "outputs": [
    {
     "data": {
      "image/png": "[encoded data removed]",
      "text/plain": [
       "<matplotlib.figure.Figure at 0x10a5e8da0>"
      ]
     },
     "metadata": {},
     "output_type": "display_data"
    }
   ],
   "source": [
    "pylab.plot(milk)\n",
    "pylab.grid(True)"
   ]
  },
  {
   "cell_type": "markdown",
   "metadata": {},
   "source": [
    "Looking at the graph we learned that milk production is apparently seasonal and increased from year to year over the period."
   ]
  },
  {
   "cell_type": "markdown",
   "metadata": {},
   "source": [
    "We can get the average milk production over all the data."
   ]
  },
  {
   "cell_type": "code",
   "execution_count": 8,
   "metadata": {
    "collapsed": false
   },
   "outputs": [
    {
     "data": {
      "text/plain": [
       "746.04487179487182"
      ]
     },
     "execution_count": 8,
     "metadata": {},
     "output_type": "execute_result"
    }
   ],
   "source": [
    "np.mean(milk)"
   ]
  },
  {
   "cell_type": "markdown",
   "metadata": {},
   "source": [
    "And any other function such as the standard deviation."
   ]
  },
  {
   "cell_type": "code",
   "execution_count": 8,
   "metadata": {
    "collapsed": false
   },
   "outputs": [
    {
     "data": {
      "text/plain": [
       "98.260077642534441"
      ]
     },
     "execution_count": 8,
     "metadata": {},
     "output_type": "execute_result"
    }
   ],
   "source": [
    "np.std(milk)"
   ]
  },
  {
   "cell_type": "markdown",
   "metadata": {},
   "source": [
    "We can do all the comparison things we did last time. Here I see which months had greater than average milk production."
   ]
  },
  {
   "cell_type": "code",
   "execution_count": 5,
   "metadata": {
    "collapsed": false
   },
   "outputs": [
    {
     "name": "stdout",
     "output_type": "stream",
     "text": [
      "[False False False False False False False False False False False False\n",
      " False False False False False False False False False False False False\n",
      " False False False False  True False False False False False False False\n",
      " False False False False  True  True False False False False False False\n",
      " False False False  True  True  True False False False False False False\n",
      " False False  True  True  True  True  True False False False False False\n",
      " False False  True  True  True  True  True False False False False False\n",
      " False  True  True  True  True  True  True  True False False False False\n",
      " False  True  True  True  True  True  True  True  True False False False\n",
      "  True  True  True  True  True  True  True  True  True  True  True  True\n",
      "  True  True  True  True  True  True  True  True  True  True  True  True\n",
      "  True  True  True  True  True  True  True  True  True  True  True  True\n",
      "  True  True  True  True  True  True  True  True  True  True  True  True]\n"
     ]
    }
   ],
   "source": [
    "biggerThanAverage = milk > np.mean(milk)\n",
    "print(biggerThanAverage)"
   ]
  },
  {
   "cell_type": "markdown",
   "metadata": {},
   "source": [
    "If I wanted to know how many months had greater than average production I could use **selection** to create a new array with only the elements corresponding to True in the biggerThanAverage array and then get its length."
   ]
  },
  {
   "cell_type": "code",
   "execution_count": 10,
   "metadata": {
    "collapsed": false
   },
   "outputs": [
    {
     "data": {
      "text/plain": [
       "79"
      ]
     },
     "execution_count": 10,
     "metadata": {},
     "output_type": "execute_result"
    }
   ],
   "source": [
    "len(milk[biggerThanAverage])"
   ]
  },
  {
   "cell_type": "markdown",
   "metadata": {},
   "source": [
    "This is common enough that numpy provides a function to count values that are not zero. A computer science secret is True is typically 1 and False is 0."
   ]
  },
  {
   "cell_type": "code",
   "execution_count": 8,
   "metadata": {
    "collapsed": false
   },
   "outputs": [
    {
     "data": {
      "text/plain": [
       "79"
      ]
     },
     "execution_count": 8,
     "metadata": {},
     "output_type": "execute_result"
    }
   ],
   "source": [
    "np.count_nonzero(biggerThanAverage)"
   ]
  },
  {
   "cell_type": "markdown",
   "metadata": {},
   "source": [
    "Give the knowledge that True is 1 and False is 0 we can use a hack to get the number of True values by adding them up. This is a terrible hack but it works and we'll need it later because of a bug in count_nonzero."
   ]
  },
  {
   "cell_type": "code",
   "execution_count": 12,
   "metadata": {
    "collapsed": false
   },
   "outputs": [
    {
     "data": {
      "text/plain": [
       "79"
      ]
     },
     "execution_count": 12,
     "metadata": {},
     "output_type": "execute_result"
    }
   ],
   "source": [
    "np.sum(biggerThanAverage)"
   ]
  },
  {
   "cell_type": "markdown",
   "metadata": {},
   "source": [
    "Now, I'd like to think about milk production in terms of years and months instead of just months. The cyclic nature of the data is just begging for analysis by months and years. I can **reshape** the data into a 2-D array with 13 rows and 12 columns.\n",
    "\n",
    "Note the result will look very similar to what we printed above but this is a 2-D array. Notice all those extra square brackets. They are setting off the individual rows."
   ]
  },
  {
   "cell_type": "code",
   "execution_count": 13,
   "metadata": {
    "collapsed": false
   },
   "outputs": [
    {
     "name": "stdout",
     "output_type": "stream",
     "text": [
      "[[ 578.  609.  628.  665.  713.  707.  628.  588.  576.  566.  561.  571.]\n",
      " [ 589.  615.  641.  682.  728.  726.  648.  605.  591.  576.  573.  587.]\n",
      " [ 616.  648.  675.  715.  756.  746.  665.  627.  612.  599.  602.  622.]\n",
      " [ 646.  676.  696.  732.  767.  767.  689.  641.  624.  609.  610.  623.]\n",
      " [ 664.  690.  722.  766.  796.  809.  721.  684.  670.  654.  654.  675.]\n",
      " [ 700.  725.  748.  795.  821.  828.  753.  708.  690.  674.  669.  685.]\n",
      " [ 704.  730.  760.  807.  842.  838.  768.  726.  711.  693.  686.  698.]\n",
      " [ 720.  750.  770.  816.  855.  857.  786.  750.  735.  709.  700.  720.]\n",
      " [ 736.  768.  792.  836.  869.  871.  804.  768.  750.  733.  721.  737.]\n",
      " [ 789.  821.  844.  890.  924.  926.  853.  818.  801.  785.  774.  785.]\n",
      " [ 811.  838.  873.  913.  943.  948.  877.  839.  820.  795.  777.  790.]\n",
      " [ 806.  840.  867.  911.  939.  937.  865.  821.  795.  776.  771.  787.]\n",
      " [ 813.  845.  872.  915.  951.  960.  891.  851.  826.  797.  784.  798.]]\n"
     ]
    }
   ],
   "source": [
    "yearly = np.reshape(milk, (13, 12))\n",
    "print(yearly)"
   ]
  },
  {
   "cell_type": "markdown",
   "metadata": {},
   "source": [
    "I can get the shape of this new array and see that it is 2-D because the shape has 2 elements."
   ]
  },
  {
   "cell_type": "code",
   "execution_count": 14,
   "metadata": {
    "collapsed": false
   },
   "outputs": [
    {
     "data": {
      "text/plain": [
       "(13, 12)"
      ]
     },
     "execution_count": 14,
     "metadata": {},
     "output_type": "execute_result"
    }
   ],
   "source": [
    "yearly.shape"
   ]
  },
  {
   "cell_type": "markdown",
   "metadata": {},
   "source": [
    "If I wanted the values for February in the first year I could use a subscript to get it. The first number is the year index and the second is the month index."
   ]
  },
  {
   "cell_type": "code",
   "execution_count": 14,
   "metadata": {
    "collapsed": false
   },
   "outputs": [
    {
     "data": {
      "text/plain": [
       "609.0"
      ]
     },
     "execution_count": 14,
     "metadata": {},
     "output_type": "execute_result"
    }
   ],
   "source": [
    "yearly[0, 1]"
   ]
  },
  {
   "cell_type": "markdown",
   "metadata": {},
   "source": [
    "If I take the mean of a 2-D array I get a scalar (single number) just like I did for the 1-D array. Functions like mean apply to all the numbers in the array taken together."
   ]
  },
  {
   "cell_type": "code",
   "execution_count": 15,
   "metadata": {
    "collapsed": false
   },
   "outputs": [
    {
     "data": {
      "text/plain": [
       "746.04487179487182"
      ]
     },
     "execution_count": 15,
     "metadata": {},
     "output_type": "execute_result"
    }
   ],
   "source": [
    "np.mean(yearly)"
   ]
  },
  {
   "cell_type": "markdown",
   "metadata": {},
   "source": [
    "To get the mean per month, I use the **axis** argument to specify the dimension I want to work along. By specifying **axis=0** below I'm telling it to work along the first dimension which in this case is the column dimension. The result is 12 means, one for each month."
   ]
  },
  {
   "cell_type": "code",
   "execution_count": 16,
   "metadata": {
    "collapsed": false
   },
   "outputs": [
    {
     "data": {
      "text/plain": [
       "array([ 705.53846154,  735.        ,  760.61538462,  803.30769231,\n",
       "        838.76923077,  840.        ,  765.23076923,  725.07692308,\n",
       "        707.76923077,  689.69230769,  683.23076923,  698.30769231])"
      ]
     },
     "execution_count": 16,
     "metadata": {},
     "output_type": "execute_result"
    }
   ],
   "source": [
    "np.mean(yearly, axis=0)"
   ]
  },
  {
   "cell_type": "markdown",
   "metadata": {},
   "source": [
    "To get the yearly averages I use **axis=1**. This produces 13 means, one for each year."
   ]
  },
  {
   "cell_type": "code",
   "execution_count": 17,
   "metadata": {
    "collapsed": false
   },
   "outputs": [
    {
     "data": {
      "text/plain": [
       "array([ 615.83333333,  630.08333333,  656.91666667,  673.33333333,\n",
       "        708.75      ,  733.        ,  746.91666667,  764.        ,\n",
       "        782.08333333,  834.16666667,  852.        ,  842.91666667,\n",
       "        858.58333333])"
      ]
     },
     "execution_count": 17,
     "metadata": {},
     "output_type": "execute_result"
    }
   ],
   "source": [
    "np.mean(yearly, axis=1)"
   ]
  },
  {
   "cell_type": "markdown",
   "metadata": {},
   "source": [
    "Of course, I can use the values just like any other. For example, I can plot the monthly milk production. "
   ]
  },
  {
   "cell_type": "code",
   "execution_count": 18,
   "metadata": {
    "collapsed": false
   },
   "outputs": [
    {
     "data": {
      "text/plain": [
       "[<matplotlib.lines.Line2D at 0x7fa5dce59828>]"
      ]
     },
     "execution_count": 18,
     "metadata": {},
     "output_type": "execute_result"
    },
    {
     "data": {
      "image/png": "[encoded data removed]",
      "text/plain": [
       "<matplotlib.figure.Figure at 0x7fa5dcece2b0>"
      ]
     },
     "metadata": {},
     "output_type": "display_data"
    }
   ],
   "source": [
    "pylab.plot(np.mean(yearly, axis=0))"
   ]
  },
  {
   "cell_type": "markdown",
   "metadata": {},
   "source": [
    "Often we doing analysis, we want to subtract off the mean from data to get values centered around zero. It isn't surprising that we can subtract the scalar mean from the 2-D array of values."
   ]
  },
  {
   "cell_type": "code",
   "execution_count": 19,
   "metadata": {
    "collapsed": false
   },
   "outputs": [
    {
     "data": {
      "text/plain": [
       "array([[ -1.68044872e+02,  -1.37044872e+02,  -1.18044872e+02,\n",
       "         -8.10448718e+01,  -3.30448718e+01,  -3.90448718e+01,\n",
       "         -1.18044872e+02,  -1.58044872e+02,  -1.70044872e+02,\n",
       "         -1.80044872e+02,  -1.85044872e+02,  -1.75044872e+02],\n",
       "       [ -1.57044872e+02,  -1.31044872e+02,  -1.05044872e+02,\n",
       "         -6.40448718e+01,  -1.80448718e+01,  -2.00448718e+01,\n",
       "         -9.80448718e+01,  -1.41044872e+02,  -1.55044872e+02,\n",
       "         -1.70044872e+02,  -1.73044872e+02,  -1.59044872e+02],\n",
       "       [ -1.30044872e+02,  -9.80448718e+01,  -7.10448718e+01,\n",
       "         -3.10448718e+01,   9.95512821e+00,  -4.48717949e-02,\n",
       "         -8.10448718e+01,  -1.19044872e+02,  -1.34044872e+02,\n",
       "         -1.47044872e+02,  -1.44044872e+02,  -1.24044872e+02],\n",
       "       [ -1.00044872e+02,  -7.00448718e+01,  -5.00448718e+01,\n",
       "         -1.40448718e+01,   2.09551282e+01,   2.09551282e+01,\n",
       "         -5.70448718e+01,  -1.05044872e+02,  -1.22044872e+02,\n",
       "         -1.37044872e+02,  -1.36044872e+02,  -1.23044872e+02],\n",
       "       [ -8.20448718e+01,  -5.60448718e+01,  -2.40448718e+01,\n",
       "          1.99551282e+01,   4.99551282e+01,   6.29551282e+01,\n",
       "         -2.50448718e+01,  -6.20448718e+01,  -7.60448718e+01,\n",
       "         -9.20448718e+01,  -9.20448718e+01,  -7.10448718e+01],\n",
       "       [ -4.60448718e+01,  -2.10448718e+01,   1.95512821e+00,\n",
       "          4.89551282e+01,   7.49551282e+01,   8.19551282e+01,\n",
       "          6.95512821e+00,  -3.80448718e+01,  -5.60448718e+01,\n",
       "         -7.20448718e+01,  -7.70448718e+01,  -6.10448718e+01],\n",
       "       [ -4.20448718e+01,  -1.60448718e+01,   1.39551282e+01,\n",
       "          6.09551282e+01,   9.59551282e+01,   9.19551282e+01,\n",
       "          2.19551282e+01,  -2.00448718e+01,  -3.50448718e+01,\n",
       "         -5.30448718e+01,  -6.00448718e+01,  -4.80448718e+01],\n",
       "       [ -2.60448718e+01,   3.95512821e+00,   2.39551282e+01,\n",
       "          6.99551282e+01,   1.08955128e+02,   1.10955128e+02,\n",
       "          3.99551282e+01,   3.95512821e+00,  -1.10448718e+01,\n",
       "         -3.70448718e+01,  -4.60448718e+01,  -2.60448718e+01],\n",
       "       [ -1.00448718e+01,   2.19551282e+01,   4.59551282e+01,\n",
       "          8.99551282e+01,   1.22955128e+02,   1.24955128e+02,\n",
       "          5.79551282e+01,   2.19551282e+01,   3.95512821e+00,\n",
       "         -1.30448718e+01,  -2.50448718e+01,  -9.04487179e+00],\n",
       "       [  4.29551282e+01,   7.49551282e+01,   9.79551282e+01,\n",
       "          1.43955128e+02,   1.77955128e+02,   1.79955128e+02,\n",
       "          1.06955128e+02,   7.19551282e+01,   5.49551282e+01,\n",
       "          3.89551282e+01,   2.79551282e+01,   3.89551282e+01],\n",
       "       [  6.49551282e+01,   9.19551282e+01,   1.26955128e+02,\n",
       "          1.66955128e+02,   1.96955128e+02,   2.01955128e+02,\n",
       "          1.30955128e+02,   9.29551282e+01,   7.39551282e+01,\n",
       "          4.89551282e+01,   3.09551282e+01,   4.39551282e+01],\n",
       "       [  5.99551282e+01,   9.39551282e+01,   1.20955128e+02,\n",
       "          1.64955128e+02,   1.92955128e+02,   1.90955128e+02,\n",
       "          1.18955128e+02,   7.49551282e+01,   4.89551282e+01,\n",
       "          2.99551282e+01,   2.49551282e+01,   4.09551282e+01],\n",
       "       [  6.69551282e+01,   9.89551282e+01,   1.25955128e+02,\n",
       "          1.68955128e+02,   2.04955128e+02,   2.13955128e+02,\n",
       "          1.44955128e+02,   1.04955128e+02,   7.99551282e+01,\n",
       "          5.09551282e+01,   3.79551282e+01,   5.19551282e+01]])"
      ]
     },
     "execution_count": 19,
     "metadata": {},
     "output_type": "execute_result"
    }
   ],
   "source": [
    "yearly - np.mean(yearly)"
   ]
  },
  {
   "cell_type": "markdown",
   "metadata": {},
   "source": [
    "What you see above is a special case of what numpy calls **broadcasting**. Conceptually the scalar mean was replicated into a 13 by 12 array and then that array was combined subtracted from the 2-D array.\n",
    "\n",
    "**Broadcasting** is more general than simply expanding a single value. For example, I can subtract off the column means. Again, think of this as computing the 12 column means and then duplicating them 13 times into a 13 by 12 array which is then subtracted."
   ]
  },
  {
   "cell_type": "code",
   "execution_count": 20,
   "metadata": {
    "collapsed": false
   },
   "outputs": [
    {
     "data": {
      "text/plain": [
       "array([[-127.53846154, -126.        , -132.61538462, -138.30769231,\n",
       "        -125.76923077, -133.        , -137.23076923, -137.07692308,\n",
       "        -131.76923077, -123.69230769, -122.23076923, -127.30769231],\n",
       "       [-116.53846154, -120.        , -119.61538462, -121.30769231,\n",
       "        -110.76923077, -114.        , -117.23076923, -120.07692308,\n",
       "        -116.76923077, -113.69230769, -110.23076923, -111.30769231],\n",
       "       [ -89.53846154,  -87.        ,  -85.61538462,  -88.30769231,\n",
       "         -82.76923077,  -94.        , -100.23076923,  -98.07692308,\n",
       "         -95.76923077,  -90.69230769,  -81.23076923,  -76.30769231],\n",
       "       [ -59.53846154,  -59.        ,  -64.61538462,  -71.30769231,\n",
       "         -71.76923077,  -73.        ,  -76.23076923,  -84.07692308,\n",
       "         -83.76923077,  -80.69230769,  -73.23076923,  -75.30769231],\n",
       "       [ -41.53846154,  -45.        ,  -38.61538462,  -37.30769231,\n",
       "         -42.76923077,  -31.        ,  -44.23076923,  -41.07692308,\n",
       "         -37.76923077,  -35.69230769,  -29.23076923,  -23.30769231],\n",
       "       [  -5.53846154,  -10.        ,  -12.61538462,   -8.30769231,\n",
       "         -17.76923077,  -12.        ,  -12.23076923,  -17.07692308,\n",
       "         -17.76923077,  -15.69230769,  -14.23076923,  -13.30769231],\n",
       "       [  -1.53846154,   -5.        ,   -0.61538462,    3.69230769,\n",
       "           3.23076923,   -2.        ,    2.76923077,    0.92307692,\n",
       "           3.23076923,    3.30769231,    2.76923077,   -0.30769231],\n",
       "       [  14.46153846,   15.        ,    9.38461538,   12.69230769,\n",
       "          16.23076923,   17.        ,   20.76923077,   24.92307692,\n",
       "          27.23076923,   19.30769231,   16.76923077,   21.69230769],\n",
       "       [  30.46153846,   33.        ,   31.38461538,   32.69230769,\n",
       "          30.23076923,   31.        ,   38.76923077,   42.92307692,\n",
       "          42.23076923,   43.30769231,   37.76923077,   38.69230769],\n",
       "       [  83.46153846,   86.        ,   83.38461538,   86.69230769,\n",
       "          85.23076923,   86.        ,   87.76923077,   92.92307692,\n",
       "          93.23076923,   95.30769231,   90.76923077,   86.69230769],\n",
       "       [ 105.46153846,  103.        ,  112.38461538,  109.69230769,\n",
       "         104.23076923,  108.        ,  111.76923077,  113.92307692,\n",
       "         112.23076923,  105.30769231,   93.76923077,   91.69230769],\n",
       "       [ 100.46153846,  105.        ,  106.38461538,  107.69230769,\n",
       "         100.23076923,   97.        ,   99.76923077,   95.92307692,\n",
       "          87.23076923,   86.30769231,   87.76923077,   88.69230769],\n",
       "       [ 107.46153846,  110.        ,  111.38461538,  111.69230769,\n",
       "         112.23076923,  120.        ,  125.76923077,  125.92307692,\n",
       "         118.23076923,  107.30769231,  100.76923077,   99.69230769]])"
      ]
     },
     "execution_count": 20,
     "metadata": {},
     "output_type": "execute_result"
    }
   ],
   "source": [
    "yearly - np.mean(yearly, axis=0)"
   ]
  },
  {
   "cell_type": "markdown",
   "metadata": {},
   "source": [
    "I can name these intermediate values. Below, I see how many months are greater than the mean for their column. Note the layout of the True and False values is different from the result we got above."
   ]
  },
  {
   "cell_type": "code",
   "execution_count": 21,
   "metadata": {
    "collapsed": false
   },
   "outputs": [
    {
     "name": "stdout",
     "output_type": "stream",
     "text": [
      "[[False False False False False False False False False False False False]\n",
      " [False False False False False False False False False False False False]\n",
      " [False False False False False False False False False False False False]\n",
      " [False False False False False False False False False False False False]\n",
      " [False False False False False False False False False False False False]\n",
      " [False False False False False False False False False False False False]\n",
      " [False False False  True  True False  True  True  True  True  True False]\n",
      " [ True  True  True  True  True  True  True  True  True  True  True  True]\n",
      " [ True  True  True  True  True  True  True  True  True  True  True  True]\n",
      " [ True  True  True  True  True  True  True  True  True  True  True  True]\n",
      " [ True  True  True  True  True  True  True  True  True  True  True  True]\n",
      " [ True  True  True  True  True  True  True  True  True  True  True  True]\n",
      " [ True  True  True  True  True  True  True  True  True  True  True  True]]\n"
     ]
    }
   ],
   "source": [
    "monthlyMean = np.mean(yearly, axis=0)\n",
    "biggerThanMonthlyMean = yearly > monthlyMean\n",
    "print(biggerThanMonthlyMean)"
   ]
  },
  {
   "cell_type": "markdown",
   "metadata": {},
   "source": [
    "Here is the bug I was talking about above. Obviously, the count_nonzero function should take the axis argument so we could get the column sums. Unfortunately it simply ignores it. "
   ]
  },
  {
   "cell_type": "code",
   "execution_count": 22,
   "metadata": {
    "collapsed": false
   },
   "outputs": [
    {
     "data": {
      "text/plain": [
       "79"
      ]
     },
     "execution_count": 22,
     "metadata": {},
     "output_type": "execute_result"
    }
   ],
   "source": [
    "np.count_nonzero(biggerThanMonthlyMean, axis=0)"
   ]
  },
  {
   "cell_type": "markdown",
   "metadata": {},
   "source": [
    "The solution is to use the hack above and **sum** the values with an axis argument. I get 12 numbers which are the count of the number of times True occurs in each column in biggerThanMonthlyMean."
   ]
  },
  {
   "cell_type": "code",
   "execution_count": 23,
   "metadata": {
    "collapsed": false
   },
   "outputs": [
    {
     "data": {
      "text/plain": [
       "array([6, 6, 6, 7, 7, 6, 7, 7, 7, 7, 7, 6])"
      ]
     },
     "execution_count": 23,
     "metadata": {},
     "output_type": "execute_result"
    }
   ],
   "source": [
    "np.sum(biggerThanMonthlyMean, axis=0)"
   ]
  },
  {
   "cell_type": "markdown",
   "metadata": {},
   "source": [
    "I can get the yearly counts as well. "
   ]
  },
  {
   "cell_type": "code",
   "execution_count": 24,
   "metadata": {
    "collapsed": false
   },
   "outputs": [
    {
     "data": {
      "text/plain": [
       "array([ 0,  0,  0,  0,  0,  0,  7, 12, 12, 12, 12, 12, 12])"
      ]
     },
     "execution_count": 24,
     "metadata": {},
     "output_type": "execute_result"
    }
   ],
   "source": [
    "np.sum(biggerThanMonthlyMean, axis=1)"
   ]
  },
  {
   "cell_type": "code",
   "execution_count": null,
   "metadata": {
    "collapsed": true
   },
   "outputs": [],
   "source": []
  }
 ],
 "metadata": {
  "anaconda-cloud": {},
  "kernelspec": {
   "display_name": "Python [Root]",
   "language": "python",
   "name": "Python [Root]"
  },
  "language_info": {
   "codemirror_mode": {
    "name": "ipython",
    "version": 3
   },
   "file_extension": ".py",
   "mimetype": "text/x-python",
   "name": "python",
   "nbconvert_exporter": "python",
   "pygments_lexer": "ipython3",
   "version": "3.5.2"
  }
 },
 "nbformat": 4,
 "nbformat_minor": 1
}
