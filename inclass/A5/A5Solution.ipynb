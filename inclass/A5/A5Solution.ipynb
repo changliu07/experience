{
 "cells": [
  {
   "cell_type": "markdown",
   "metadata": {},
   "source": [
    "# Assignment 5: 311 Database\n",
    "\n",
    "**Due:** 30 November before 10pm\n",
    "\n",
    "These data were scraped from the 311 Service Request data available from the [New York City Open Data site](https://nycopendata.socrata.com/Social-Services/311-Service-Requests-from-2010-to-Present/erm2-nwe9). The data are presented to you in four arrays each with **N** rows representing service requests over a period of about 4 weeks of full days.\n",
    " \n",
    "**Times:** N by 3 integer array of the _Day_ (counting from 0), _Hour_ (0 to 23), and _Day of the Week_ (Monday is 0) the request was created.\n",
    " \n",
    "**Requests:** N by 2 string array of the _Complaint_ and the _Descriptor_ for the request.\n",
    " \n",
    "**Locations:** N by 2 string array of the _City_ and _[Borough](https://en.wikipedia.org/wiki/Borough)_ for the request.\n",
    " \n",
    "**Coordinates:** N by 2 float array of the _X_ and _Y_ coordinates of the request in the [State Plane Coordinate system](https://en.wikipedia.org/wiki/State_Plane_Coordinate_System). You won't need to know anything about the coordinate system, just that they are two orthogonal coordinates in the plane. \n",
    " \n",
    "Think of the 4 arrays as representing one large table with the **N** rows and 9 columns. "
   ]
  },
  {
   "cell_type": "code",
   "execution_count": 1,
   "metadata": {
    "collapsed": true
   },
   "outputs": [],
   "source": [
    "Author = 'youronyen' # not your pid, your onyen\n",
    "Collaborators = [ 'list', 'their', 'onyens' ]"
   ]
  },
  {
   "cell_type": "markdown",
   "metadata": {},
   "source": [
    "## Set up\n",
    "\n",
    "I will set up the environment for you here. Do not modify any of this."
   ]
  },
  {
   "cell_type": "code",
   "execution_count": 2,
   "metadata": {
    "collapsed": true
   },
   "outputs": [],
   "source": [
    "%matplotlib inline\n",
    "import numpy as np\n",
    "import pylab\n",
    "import comp116\n",
    "\n",
    "check, report = comp116.start('A5')\n",
    "\n",
    "# I'll load the data for you and make it unwriteable to protect you. \n",
    "# Don't change this!\n",
    "with np.load('311.npz') as data:\n",
    "    Times = data['Times']\n",
    "    Times.flags.writeable = False\n",
    "    Requests = data['Requests']\n",
    "    Requests.flags.writeable = False\n",
    "    Locations = data['Locations']\n",
    "    Locations.flags.writeable = False\n",
    "    Coordinates = data['Coordinates']\n",
    "    Coordinates.flags.writeable = False"
   ]
  },
  {
   "cell_type": "markdown",
   "metadata": {
    "collapsed": true
   },
   "source": [
    "## 1. How many requests do we have?\n",
    "\n",
    "I'm looking for **N** as in the description above."
   ]
  },
  {
   "cell_type": "code",
   "execution_count": 3,
   "metadata": {
    "collapsed": false
   },
   "outputs": [
    {
     "name": "stdout",
     "output_type": "stream",
     "text": [
      "Number of requests = 14204\n",
      "A1 recorded\n"
     ]
    }
   ],
   "source": [
    "#Write your code here\n",
    "A1 = 0\n",
    "#Solution\n",
    "A1 = len(Times)\n",
    "#End\n",
    "\n",
    "print('Number of requests =', A1)\n",
    "\n",
    "check('A1', A1, points=4)"
   ]
  },
  {
   "cell_type": "markdown",
   "metadata": {},
   "source": [
    "## 2. What was the average number of requests per hour?"
   ]
  },
  {
   "cell_type": "code",
   "execution_count": 4,
   "metadata": {
    "collapsed": false
   },
   "outputs": [
    {
     "name": "stdout",
     "output_type": "stream",
     "text": [
      "Requests/hour = 22.7628205128\n",
      "A2 recorded\n"
     ]
    }
   ],
   "source": [
    "#Write your code here\n",
    "A2 = 0.0\n",
    "#Solution\n",
    "ndays = Times[-1,0] + 1\n",
    "nhours = 24 * ndays\n",
    "A2 = len(Times) / nhours\n",
    "#End\n",
    "\n",
    "print('Requests/hour =', A2)\n",
    "check('A2', A2, points=4)"
   ]
  },
  {
   "cell_type": "markdown",
   "metadata": {},
   "source": [
    "## 3. Which cities are in the data?\n",
    "\n",
    "I want an alphabetized list of the different values in the city column of the locations. Each city name should be in the list only once."
   ]
  },
  {
   "cell_type": "code",
   "execution_count": 5,
   "metadata": {
    "collapsed": false
   },
   "outputs": [
    {
     "name": "stdout",
     "output_type": "stream",
     "text": [
      "Cities = ['Arverne', 'Astoria', 'Bayside', 'Bellerose', 'Bronx', 'Brooklyn', 'Cambria Heights', 'Central Park', 'College Point', 'Corona', 'East Elmhurst', 'Elmhurst', 'Far Rockaway', 'Floral Park', 'Flushing', 'Forest Hills', 'Fresh Meadows', 'Glen Oaks', 'Hollis', 'Howard Beach', 'Jackson Heights', 'Jamaica', 'Kew Gardens', 'Little Neck', 'Long Island City', 'Maspeth', 'Middle Village', 'New Hyde Park', 'New York', 'Oakland Gardens', 'Ozone Park', 'Queens', 'Queens Village', 'Rego Park', 'Richmond Hill', 'Ridgewood', 'Rockaway Park', 'Rosedale', 'Saint Albans', 'South Ozone Park', 'South Richmond Hill', 'Springfield Gardens', 'Staten Island', 'Sunnyside', 'Whitestone', 'Woodhaven', 'Woodside']\n",
      "A3 recorded\n"
     ]
    }
   ],
   "source": [
    "#Write your code here\n",
    "A3 = []\n",
    "#Solution\n",
    "A3 = sorted(np.unique(Locations[:,0]))\n",
    "#End\n",
    "\n",
    "print('Cities =', A3)\n",
    "check('A3', A3, points=4)"
   ]
  },
  {
   "cell_type": "markdown",
   "metadata": {},
   "source": [
    "## 4. Which complaints happened every day?\n",
    "\n",
    "Your result should be an alphabetical list of complaints that occur every day in the data. In other words, if there is even a single day without a particular complaint, that complaint should not be in your list. Each complaint should only be in the list once."
   ]
  },
  {
   "cell_type": "code",
   "execution_count": 6,
   "metadata": {
    "collapsed": false
   },
   "outputs": [
    {
     "name": "stdout",
     "output_type": "stream",
     "text": [
      "Complaints that happened every day ['Blocked Driveway', 'Derelict Vehicle', 'Illegal Parking', 'Noise - Commercial', 'Noise - Street/Sidewalk', 'Noise - Vehicle', 'Traffic', 'Vending']\n",
      "A4 recorded\n"
     ]
    }
   ],
   "source": [
    "#Write your code here\n",
    "A4 = [] # expecting a list of strings\n",
    "#Solution\n",
    "ndays = Times[-1,0] + 1\n",
    "reqs = [ set() for i in range(ndays) ]\n",
    "for i in range(len(Times)):\n",
    "    complaint, descriptor = Requests[i]\n",
    "    d, h, w = Times[i]\n",
    "    reqs[d].add(complaint)\n",
    "A4 = sorted(set.intersection(*reqs))\n",
    "#End\n",
    "\n",
    "print('Complaints that happened every day', A4)\n",
    "check('A4', A4, points=8)"
   ]
  },
  {
   "cell_type": "markdown",
   "metadata": {},
   "source": [
    "## 5. Which time had the most requests?\n",
    "\n",
    "Your result should be a two-element array of the day and hour of the time that had the most requests."
   ]
  },
  {
   "cell_type": "code",
   "execution_count": 7,
   "metadata": {
    "collapsed": false
   },
   "outputs": [
    {
     "name": "stdout",
     "output_type": "stream",
     "text": [
      "Most requests [Day Hour] = [13 23]\n",
      "A5 recorded\n"
     ]
    }
   ],
   "source": [
    "#Write your code here\n",
    "A5 = np.array([0, 0])\n",
    "#Solution\n",
    "def RequestsPerHour(t):\n",
    "    '''Return an array with the count of requests each hour'''\n",
    "    result = np.bincount(t[:,0]*24 + t[:,1])\n",
    "    return result\n",
    "\n",
    "rph = RequestsPerHour(Times)\n",
    "i = np.argmax(rph)\n",
    "A5 = np.array([i//24, i%24])\n",
    "#End\n",
    "\n",
    "print('Most requests [Day Hour] =', A5)\n",
    "check('A5', A5, points=8)"
   ]
  },
  {
   "cell_type": "markdown",
   "metadata": {},
   "source": [
    "## 6. Where are the parties?\n",
    "\n",
    "Which city has the most requests with descriptor 'Loud Music/Party'?"
   ]
  },
  {
   "cell_type": "code",
   "execution_count": 8,
   "metadata": {
    "collapsed": false
   },
   "outputs": [
    {
     "name": "stdout",
     "output_type": "stream",
     "text": [
      "Party city = New York\n",
      "A6 recorded\n"
     ]
    }
   ],
   "source": [
    "Descriptor = 'Loud Music/Party'\n",
    "\n",
    "#Write your code here\n",
    "A6 = ''\n",
    "\n",
    "#Solution\n",
    "isDescriptor = Requests[:,1] == Descriptor\n",
    "counts = {}\n",
    "for city in Locations[isDescriptor, 0]:\n",
    "    counts[city] = counts.get(city, 0) + 1\n",
    "most = 0\n",
    "for city, count in counts.items():\n",
    "    if count > most:\n",
    "        most = count\n",
    "        A6 = city\n",
    "#End\n",
    "\n",
    "print('Party city =', A6)\n",
    "check('A6', A6, points=8)"
   ]
  },
  {
   "cell_type": "markdown",
   "metadata": {},
   "source": [
    "## 7. Where are they drinking in the Bronx?\n",
    "\n",
    "Plot points at the coordinates of the requests with borough 'Bronx' and complaint 'Drinking'.\n",
    "\n",
    "Do **not** augment the plot in any way. No titles, etc. "
   ]
  },
  {
   "cell_type": "code",
   "execution_count": 9,
   "metadata": {
    "collapsed": false
   },
   "outputs": [
    {
     "name": "stdout",
     "output_type": "stream",
     "text": [
      "A7 recorded\n"
     ]
    },
    {
     "data": {
      "image/png": "[encoded data removed]",
      "text/plain": [
       "<matplotlib.figure.Figure at 0x7f12489c65c0>"
      ]
     },
     "metadata": {},
     "output_type": "display_data"
    }
   ],
   "source": [
    "Borough = 'Bronx'\n",
    "Complaint = 'Drinking'\n",
    "\n",
    "#Write your code here\n",
    "#Solution\n",
    "isBorough = Locations[:,1] == Borough\n",
    "isComplaint = Requests[:,0] == Complaint\n",
    "C = Coordinates[isBorough & isComplaint]\n",
    "pylab.plot(C[:,0], C[:,1], '.')\n",
    "#End\n",
    "\n",
    "#These lines format the graph to make it look nicer, no need to change them\n",
    "pylab.axes().set_aspect('equal', 'datalim')\n",
    "pylab.grid()\n",
    "\n",
    "check('A7', pylab.gcf(), points=8)"
   ]
  },
  {
   "cell_type": "markdown",
   "metadata": {},
   "source": [
    "## 8. Where is the most blocked driveway?\n",
    "\n",
    "I want the coordinate that has the most requests with complaint 'Blocked Driveway'? I'm expecting a two-element float array with the X/Y coordinate of the driveway with the most complaints."
   ]
  },
  {
   "cell_type": "code",
   "execution_count": 10,
   "metadata": {
    "collapsed": false
   },
   "outputs": [
    {
     "name": "stdout",
     "output_type": "stream",
     "text": [
      "1 [ 1008560.   248235.]\n",
      "1 [ 1029394.   264364.]\n",
      "1 [ 1010170.   193217.]\n",
      "1 [ 1004373.   170353.]\n",
      "1 [ 1021003.   238345.]\n",
      "1 [ 1012956.   171106.]\n",
      "3 [ 986006.  169650.]\n",
      "3 [ 1028693.   189853.]\n",
      "6 [ 985475.  189421.]\n",
      "7 [ 1026239.   224663.]\n",
      "8 [ 993508.  189621.]\n",
      "9 [ 1002442.   218986.]\n",
      "Most blocked coordinate = [ 1002442.   218986.]\n",
      "A8 recorded\n"
     ]
    }
   ],
   "source": [
    "Complaint = 'Blocked Driveway'\n",
    "\n",
    "# Write your code here\n",
    "A8 = np.zeros(2)\n",
    "#Solution\n",
    "isBlocked = Requests[:,0] == Complaint\n",
    "blocked = {}\n",
    "for X, Y in Coordinates[isBlocked]:\n",
    "    K = (X, Y)\n",
    "    blocked[K] = blocked.get(K, 0) + 1\n",
    "most = 0\n",
    "for K,N in blocked.items():\n",
    "    if N >= most:\n",
    "        most = N\n",
    "        A8 = np.array(K)\n",
    "        print(most, A8)\n",
    "#End\n",
    "\n",
    "print('Most blocked coordinate =', A8)\n",
    "check('A8', A8, points=8)"
   ]
  },
  {
   "cell_type": "markdown",
   "metadata": {},
   "source": [
    "## 9. How long can I sleep?\n",
    "\n",
    "What is the length the longest run of hours with no requests having the string 'Noise' anywhere in the complaint?"
   ]
  },
  {
   "cell_type": "code",
   "execution_count": 11,
   "metadata": {
    "collapsed": false
   },
   "outputs": [
    {
     "name": "stdout",
     "output_type": "stream",
     "text": [
      "Longest run of quiet hours = 6\n",
      "A9 recorded\n"
     ]
    }
   ],
   "source": [
    "Word = 'Noise' # anywhere in the Complaint\n",
    "\n",
    "# Write your code here\n",
    "A9 = 0\n",
    "#Solution\n",
    "isLoud = np.array([ Word in complaint for complaint, descriptor in Requests ])\n",
    "lrph = RequestsPerHour(Times[isLoud])\n",
    "run = 0\n",
    "for l in lrph:\n",
    "    if l == 0:\n",
    "        run += 1\n",
    "        if run > A9:\n",
    "            A9 = run\n",
    "    else:\n",
    "        run = 0\n",
    "#End\n",
    "\n",
    "print('Longest run of quiet hours =', A9)\n",
    "check('A9', A9, points=12)"
   ]
  },
  {
   "cell_type": "markdown",
   "metadata": {
    "collapsed": true
   },
   "source": [
    "## 10. What was the average number of parties for each day of the week?\n",
    "\n",
    "I want an array with 7 entries giving the average number of requests with descriptor 'Loud Music/Party' for each day of the week (Monday through Sunday). \n",
    "\n",
    "Note that the number of days **may not** be a multiple of 7 which means the divisor for each day of the week may be different. For example, there may be 4 Saturdays but only 3 Thursdays. You can't simply add up the number of requests for each day of the week. You'll need to compute the divisor for each day of the week because the dataset I use for grading may be different."
   ]
  },
  {
   "cell_type": "code",
   "execution_count": 12,
   "metadata": {
    "collapsed": false
   },
   "outputs": [
    {
     "name": "stdout",
     "output_type": "stream",
     "text": [
      "[280 234 325 252 270 810 830]\n",
      "[4, 4, 4, 3, 3, 4, 4]\n",
      "Average parties each day of the week = [  70.     58.5    81.25   84.     90.    202.5   207.5 ]\n",
      "A10 recorded\n"
     ]
    }
   ],
   "source": [
    "Descriptor = 'Loud Music/Party'\n",
    "\n",
    "# Write your code here\n",
    "A10 = np.zeros(7)\n",
    "#Solution\n",
    "isLoud = Requests[:,1] == Descriptor\n",
    "dailyevents = np.bincount(Times[isLoud,2])\n",
    "ndays = [ len(np.unique(Times[Times[:,2]==d, 0])) for d in range(7) ]\n",
    "print(dailyevents)\n",
    "print(ndays)\n",
    "A10 = dailyevents / ndays\n",
    "#End\n",
    "\n",
    "print('Average parties each day of the week =', A10)\n",
    "check('A10', A10, points=12)"
   ]
  },
  {
   "cell_type": "markdown",
   "metadata": {},
   "source": [
    "## 11. How far will an inspector have to travel?\n",
    "\n",
    "How far will an inspector have to travel to visit, in the order they occurred, all of the coordinates with complaint 'Derelict Vehicle' and city 'Astoria'? That is, compute the sum of the distances between consecutive coordinates of these requests. Your answer will have the same units as the coordinates."
   ]
  },
  {
   "cell_type": "code",
   "execution_count": 13,
   "metadata": {
    "collapsed": false
   },
   "outputs": [
    {
     "name": "stdout",
     "output_type": "stream",
     "text": [
      "Distance traveled = 76673.2982453\n",
      "A11 recorded\n"
     ]
    }
   ],
   "source": [
    "City = 'Astoria'\n",
    "Complaint = 'Derelict Vehicle'\n",
    "\n",
    "# Write your code here\n",
    "A11 = 0.0\n",
    "#Solution\n",
    "isCity = Locations[:,0] == City\n",
    "isComplaint = Requests[:,0] == Complaint\n",
    "Cs = Coordinates[isCity & isComplaint]\n",
    "#print(Cs)\n",
    "deltaC = np.diff(Cs, axis=0)\n",
    "#print(deltaC)\n",
    "dists = np.sqrt(np.sum(deltaC ** 2, axis=1))\n",
    "#print(dists)\n",
    "A11 = np.sum(dists)\n",
    "#End\n",
    "\n",
    "print('Distance traveled =', A11)\n",
    "check('A11', A11, points=12)\n"
   ]
  },
  {
   "cell_type": "markdown",
   "metadata": {},
   "source": [
    "## 12. Which descriptors only occur after office hours?\n",
    "\n",
    "The office opens at 8am and closes precisely at 5pm (17 in 24 hour time we are using), Monday through Friday. The office is closed at all other times.\n",
    "\n",
    "Which request descriptors came in while the office was closed but never while it was open? I'm looking for a list of different descriptors in alphabetical order. Each descriptor should be in the list only once."
   ]
  },
  {
   "cell_type": "code",
   "execution_count": 14,
   "metadata": {
    "collapsed": false
   },
   "outputs": [
    {
     "name": "stdout",
     "output_type": "stream",
     "text": [
      "After hours requests = ['After Hours - Licensed Est', 'Building', 'Nuisance/Truant']\n",
      "A12 recorded\n"
     ]
    }
   ],
   "source": [
    "# Write your code here\n",
    "A12 = []\n",
    "#Solution\n",
    "isOpen = (Times[:,1] >= 8) & (Times[:,1] < 17) & (Times[:,2] < 5)\n",
    "isClosed = ~isOpen\n",
    "closedRequests = set(Requests[isClosed, 1])\n",
    "openRequests = set(Requests[isOpen, 1])\n",
    "A12 = sorted(closedRequests - openRequests)\n",
    "#End\n",
    "\n",
    "print('After hours requests =', A12)\n",
    "check('A12', A12, points=12)"
   ]
  },
  {
   "cell_type": "code",
   "execution_count": 16,
   "metadata": {
    "collapsed": false
   },
   "outputs": [
    {
     "name": "stdout",
     "output_type": "stream",
     "text": [
      "12 problems for 100 points\n",
      "expected values dumped to A5.pickle\n"
     ]
    }
   ],
   "source": [
    "report(Author, Collaborators)"
   ]
  },
  {
   "cell_type": "code",
   "execution_count": null,
   "metadata": {
    "collapsed": true
   },
   "outputs": [],
   "source": []
  }
 ],
 "metadata": {
  "kernelspec": {
   "display_name": "Python 3",
   "language": "python",
   "name": "python3"
  },
  "language_info": {
   "codemirror_mode": {
    "name": "ipython",
    "version": 3
   },
   "file_extension": ".py",
   "mimetype": "text/x-python",
   "name": "python",
   "nbconvert_exporter": "python",
   "pygments_lexer": "ipython3",
   "version": "3.5.2"
  }
 },
 "nbformat": 4,
 "nbformat_minor": 0
}
