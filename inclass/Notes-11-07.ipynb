{
 "cells": [
  {
   "cell_type": "markdown",
   "metadata": {},
   "source": [
    "# Notes for 7 November\n",
    "\n",
    "Statistical significance."
   ]
  },
  {
   "cell_type": "code",
   "execution_count": 1,
   "metadata": {
    "collapsed": true
   },
   "outputs": [],
   "source": [
    "%matplotlib inline\n",
    "import numpy as np\n",
    "import pylab"
   ]
  },
  {
   "cell_type": "markdown",
   "metadata": {},
   "source": [
    "I prepared a dataset for today based on responses from students in a previous class. You can fetch it as shown below. It is a CSV with 3 columns which are:\n",
    "\n",
    "1 if the respondent preferred pronouns \"she,her,hers\" and 0 if they preferred \"he,him,his\".\n",
    "\n",
    "height in inches.\n",
    "\n",
    "month of birth."
   ]
  },
  {
   "cell_type": "code",
   "execution_count": 2,
   "metadata": {
    "collapsed": false
   },
   "outputs": [
    {
     "data": {
      "text/plain": [
       "array([[ 0, 72,  5],\n",
       "       [ 1, 62,  7],\n",
       "       [ 1, 62,  2],\n",
       "       [ 1, 65,  6],\n",
       "       [ 0, 70,  7]])"
      ]
     },
     "execution_count": 2,
     "metadata": {},
     "output_type": "execute_result"
    }
   ],
   "source": [
    "import urllib.request\n",
    "urllib.request.urlretrieve('https://goo.gl/oVG17f', 'survey.txt')\n",
    "\n",
    "survey = np.loadtxt('survey.txt', delimiter=',', dtype=int)\n",
    "# fields are She, Height, Month\n",
    "survey[:5]"
   ]
  },
  {
   "cell_type": "markdown",
   "metadata": {},
   "source": [
    "## Summarize the data\n",
    "\n",
    "The first step in analysis is often just taking a quick look at the data. We can get the min, max, mean pretty easily."
   ]
  },
  {
   "cell_type": "code",
   "execution_count": 3,
   "metadata": {
    "collapsed": false
   },
   "outputs": [
    {
     "name": "stdout",
     "output_type": "stream",
     "text": [
      "Number of She's 92\n",
      "Number of He's 70\n",
      "Mean height of everyone 67.3271604938\n",
      "Months of birth [ 0 10 18 21  8 15 14 18  9 11 16  9 13]\n"
     ]
    }
   ],
   "source": [
    "print(\"Number of She's\", np.count_nonzero(survey[:,0] == 1))\n",
    "print(\"Number of He's\", np.count_nonzero(survey[:,0] == 0))\n",
    "print(\"Mean height of everyone\", np.mean(survey[:,1]))\n",
    "print('Months of birth', np.bincount(survey[:,2]))"
   ]
  },
  {
   "cell_type": "markdown",
   "metadata": {},
   "source": [
    "Now let's get the mean height of two groups."
   ]
  },
  {
   "cell_type": "code",
   "execution_count": 4,
   "metadata": {
    "collapsed": false
   },
   "outputs": [
    {
     "name": "stdout",
     "output_type": "stream",
     "text": [
      "64.847826087 70.5857142857\n"
     ]
    }
   ],
   "source": [
    "def getMeanHeights(isGroup, heights):\n",
    "    # write code here\n",
    "    inHeight = np.mean(heights[isGroup])\n",
    "    outHeight = np.mean(heights[~isGroup])\n",
    "    return inHeight, outHeight\n",
    "\n",
    "smean, hmean = getMeanHeights(survey[:,0]==1, survey[:,1])\n",
    "print(smean, hmean)"
   ]
  },
  {
   "cell_type": "code",
   "execution_count": 5,
   "metadata": {
    "collapsed": false
   },
   "outputs": [
    {
     "name": "stdout",
     "output_type": "stream",
     "text": [
      "5.73788819876\n"
     ]
    }
   ],
   "source": [
    "delta = hmean - smean\n",
    "print(delta)"
   ]
  },
  {
   "cell_type": "code",
   "execution_count": 9,
   "metadata": {
    "collapsed": false
   },
   "outputs": [
    {
     "name": "stdout",
     "output_type": "stream",
     "text": [
      "0.0\n"
     ]
    }
   ],
   "source": [
    "N = 100000\n",
    "count = 0\n",
    "for i in range(N):\n",
    "    group = np.random.permutation(survey[:,0])\n",
    "    inmean, outmean = getMeanHeights(group, survey[:,1])\n",
    "    d = outmean - inmean\n",
    "    if (d > delta):\n",
    "        count = count + 1\n",
    "print(count/N)"
   ]
  },
  {
   "cell_type": "code",
   "execution_count": 13,
   "metadata": {
    "collapsed": false
   },
   "outputs": [],
   "source": [
    "lmean, emean = getMeanHeights(survey[:,2] > 6, survey[:,1])\n",
    "delta = emean - lmean"
   ]
  },
  {
   "cell_type": "code",
   "execution_count": 17,
   "metadata": {
    "collapsed": false
   },
   "outputs": [
    {
     "name": "stdout",
     "output_type": "stream",
     "text": [
      "0.3512\n"
     ]
    }
   ],
   "source": [
    "N = 10000\n",
    "count = 0\n",
    "for i in range(N):\n",
    "    group = np.random.permutation(survey[:,2]) > 6\n",
    "    inmean, outmean = getMeanHeights(group, survey[:,1])\n",
    "    d = outmean - inmean\n",
    "    if (d > delta):\n",
    "        count = count + 1\n",
    "print(count/N)"
   ]
  },
  {
   "cell_type": "code",
   "execution_count": null,
   "metadata": {
    "collapsed": true
   },
   "outputs": [],
   "source": []
  }
 ],
 "metadata": {
  "kernelspec": {
   "display_name": "Python [Root]",
   "language": "python",
   "name": "Python [Root]"
  },
  "language_info": {
   "codemirror_mode": {
    "name": "ipython",
    "version": 3
   },
   "file_extension": ".py",
   "mimetype": "text/x-python",
   "name": "python",
   "nbconvert_exporter": "python",
   "pygments_lexer": "ipython3",
   "version": "3.5.2"
  }
 },
 "nbformat": 4,
 "nbformat_minor": 0
}
