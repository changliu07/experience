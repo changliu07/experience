{
 "cells": [
  {
   "cell_type": "markdown",
   "metadata": {},
   "source": [
    "# Notes for 28 October\n",
    "\n",
    "Fun with Midterm2 data"
   ]
  },
  {
   "cell_type": "code",
   "execution_count": 1,
   "metadata": {
    "collapsed": false
   },
   "outputs": [
    {
     "data": {
      "text/plain": [
       "array([[21,  1,  1,  0,  3],\n",
       "       [18,  1,  1,  1,  3],\n",
       "       [ 0,  1,  1,  2,  3],\n",
       "       [ 0,  1,  1,  3,  3],\n",
       "       [ 0,  1,  1,  4,  3],\n",
       "       [ 0,  1,  1,  5,  3],\n",
       "       [ 3,  1,  1,  6,  3],\n",
       "       [12,  1,  1,  7,  3],\n",
       "       [ 4,  1,  1,  8,  3],\n",
       "       [11,  1,  1,  9,  3]])"
      ]
     },
     "execution_count": 1,
     "metadata": {},
     "output_type": "execute_result"
    }
   ],
   "source": [
    "%matplotlib inline\n",
    "import numpy as np\n",
    "import pylab\n",
    "import urllib\n",
    "\n",
    "# let's fetch the data\n",
    "urllib.request.urlretrieve('https://goo.gl/mjDtMB', 'hourly.pkl')\n",
    "\n",
    "import pickle\n",
    "hourly = pickle.load(open('hourly.pkl', 'rb'))\n",
    "hourly[:10]"
   ]
  },
  {
   "cell_type": "markdown",
   "metadata": {},
   "source": [
    "Now we can ask questions of these data. "
   ]
  },
  {
   "cell_type": "markdown",
   "metadata": {
    "collapsed": true
   },
   "source": [
    "What was the largest number books read in any hour?"
   ]
  },
  {
   "cell_type": "code",
   "execution_count": 2,
   "metadata": {
    "collapsed": false
   },
   "outputs": [
    {
     "data": {
      "text/plain": [
       "1632"
      ]
     },
     "execution_count": 2,
     "metadata": {},
     "output_type": "execute_result"
    }
   ],
   "source": [
    "np.max(hourly[:,0])"
   ]
  },
  {
   "cell_type": "markdown",
   "metadata": {},
   "source": [
    "What was the index of that maximum?"
   ]
  },
  {
   "cell_type": "code",
   "execution_count": 3,
   "metadata": {
    "collapsed": false
   },
   "outputs": [
    {
     "data": {
      "text/plain": [
       "2147"
      ]
     },
     "execution_count": 3,
     "metadata": {},
     "output_type": "execute_result"
    }
   ],
   "source": [
    "np.argmax(hourly[:,0])"
   ]
  },
  {
   "cell_type": "markdown",
   "metadata": {},
   "source": [
    "What monday, day and hour was that?"
   ]
  },
  {
   "cell_type": "code",
   "execution_count": 3,
   "metadata": {
    "collapsed": false
   },
   "outputs": [
    {
     "data": {
      "text/plain": [
       "array([ 3, 31, 11])"
      ]
     },
     "execution_count": 3,
     "metadata": {},
     "output_type": "execute_result"
    }
   ],
   "source": [
    "hourly[np.argmax(hourly[:,0]), 1:4]"
   ]
  },
  {
   "cell_type": "markdown",
   "metadata": {},
   "source": [
    "What was the average daily time of the maximum? This happens to work because the index for the rows is the same as the time."
   ]
  },
  {
   "cell_type": "code",
   "execution_count": 4,
   "metadata": {
    "collapsed": false
   },
   "outputs": [
    {
     "data": {
      "text/plain": [
       "13.117808219178082"
      ]
     },
     "execution_count": 4,
     "metadata": {},
     "output_type": "execute_result"
    }
   ],
   "source": [
    "def F3(A):\n",
    "    B = np.reshape(A[:,0], (-1, 24))\n",
    "    return np.mean(np.argmax(B, axis=1))\n",
    "F3(hourly)"
   ]
  },
  {
   "cell_type": "markdown",
   "metadata": {},
   "source": [
    "How many hours were no books read?"
   ]
  },
  {
   "cell_type": "code",
   "execution_count": 5,
   "metadata": {
    "collapsed": false
   },
   "outputs": [
    {
     "data": {
      "text/plain": [
       "47"
      ]
     },
     "execution_count": 5,
     "metadata": {},
     "output_type": "execute_result"
    }
   ],
   "source": [
    "def F4(A):\n",
    "    return np.count_nonzero(A[:,0] == 0)\n",
    "F4(hourly)"
   ]
  },
  {
   "cell_type": "markdown",
   "metadata": {},
   "source": [
    "We could solve that with a loop."
   ]
  },
  {
   "cell_type": "code",
   "execution_count": 6,
   "metadata": {
    "collapsed": false
   },
   "outputs": [
    {
     "data": {
      "text/plain": [
       "47"
      ]
     },
     "execution_count": 6,
     "metadata": {},
     "output_type": "execute_result"
    }
   ],
   "source": [
    "def F4loop(A):\n",
    "    cnt = 0\n",
    "    for i in range(len(A)):\n",
    "        if A[i,0] == 0:\n",
    "            cnt = cnt + 1\n",
    "    return cnt\n",
    "F4loop(hourly)"
   ]
  },
  {
   "cell_type": "markdown",
   "metadata": {},
   "source": [
    "What is the length of the longest run of hours with 0 books read?"
   ]
  },
  {
   "cell_type": "markdown",
   "metadata": {},
   "source": [
    "First we'll just get the run length. I'm decorating my function with a print so I can see what is happening. This doesn't work yet, I'm just doing part of the problem."
   ]
  },
  {
   "cell_type": "code",
   "execution_count": 8,
   "metadata": {
    "collapsed": false
   },
   "outputs": [
    {
     "name": "stdout",
     "output_type": "stream",
     "text": [
      "2 1\n",
      "3 2\n",
      "4 3\n",
      "5 4\n",
      "98 1\n",
      "221 1\n",
      "245 1\n",
      "246 2\n",
      "1586 1\n",
      "3914 1\n",
      "4059 1\n",
      "4338 1\n",
      "4339 2\n",
      "4340 3\n",
      "4341 4\n",
      "4342 5\n",
      "4343 6\n",
      "4344 7\n",
      "4345 8\n",
      "4346 9\n",
      "4347 10\n",
      "4348 11\n",
      "4349 12\n",
      "4350 13\n",
      "4583 1\n",
      "4900 1\n",
      "5429 1\n",
      "6435 1\n",
      "7613 1\n",
      "7877 1\n",
      "8450 1\n",
      "8473 1\n",
      "8475 1\n",
      "8477 1\n",
      "8572 1\n",
      "8574 1\n",
      "8576 1\n",
      "8592 1\n",
      "8597 1\n",
      "8598 2\n",
      "8599 3\n",
      "8642 1\n",
      "8644 1\n",
      "8668 1\n",
      "8713 1\n",
      "8741 1\n",
      "8742 2\n"
     ]
    }
   ],
   "source": [
    "def F5(A):\n",
    "    C = A[:,0] # isolate the counts\n",
    "    run = 0 # start with a run length of 0\n",
    "    for i in range(len(C)): # visit every count\n",
    "        if C[i] == 0: # if it is zero\n",
    "            run = run + 1 # increase the run length\n",
    "            print(i, run) # print so we can see what is happening\n",
    "        else: # if it isn't zero\n",
    "            run = 0 # reset the run length to 0\n",
    "F5(hourly)"
   ]
  },
  {
   "cell_type": "markdown",
   "metadata": {},
   "source": [
    "Now let's modify the code above to keep track of the longest run."
   ]
  },
  {
   "cell_type": "code",
   "execution_count": 7,
   "metadata": {
    "collapsed": false
   },
   "outputs": [
    {
     "name": "stdout",
     "output_type": "stream",
     "text": [
      "2 1\n",
      "3 2\n",
      "4 3\n",
      "5 4\n",
      "98 1\n",
      "221 1\n",
      "245 1\n",
      "246 2\n",
      "1586 1\n",
      "3914 1\n",
      "4059 1\n",
      "4338 1\n",
      "4339 2\n",
      "4340 3\n",
      "4341 4\n",
      "4342 5\n",
      "4343 6\n",
      "4344 7\n",
      "4345 8\n",
      "4346 9\n",
      "4347 10\n",
      "4348 11\n",
      "4349 12\n",
      "4350 13\n",
      "4583 1\n",
      "4900 1\n",
      "5429 1\n",
      "6435 1\n",
      "7613 1\n",
      "7877 1\n",
      "8450 1\n",
      "8473 1\n",
      "8475 1\n",
      "8477 1\n",
      "8572 1\n",
      "8574 1\n",
      "8576 1\n",
      "8592 1\n",
      "8597 1\n",
      "8598 2\n",
      "8599 3\n",
      "8642 1\n",
      "8644 1\n",
      "8668 1\n",
      "8713 1\n",
      "8741 1\n",
      "8742 2\n"
     ]
    },
    {
     "data": {
      "text/plain": [
       "13"
      ]
     },
     "execution_count": 7,
     "metadata": {},
     "output_type": "execute_result"
    }
   ],
   "source": [
    "def F5(A):\n",
    "    C = A[:,0]\n",
    "    run = 0\n",
    "    maxrun = 0\n",
    "    for i in range(len(C)):\n",
    "        if C[i] == 0:\n",
    "            run = run + 1\n",
    "            print(i, run)\n",
    "        else:\n",
    "            run = 0\n",
    "        if run > maxrun:\n",
    "            maxrun = run\n",
    "    return maxrun\n",
    "F5(hourly)"
   ]
  },
  {
   "cell_type": "markdown",
   "metadata": {},
   "source": [
    "I like this one a little better because it only checks for the max when it might have changed."
   ]
  },
  {
   "cell_type": "code",
   "execution_count": 8,
   "metadata": {
    "collapsed": false
   },
   "outputs": [
    {
     "name": "stdout",
     "output_type": "stream",
     "text": [
      "2 1\n",
      "3 2\n",
      "4 3\n",
      "5 4\n",
      "4342 5\n",
      "4343 6\n",
      "4344 7\n",
      "4345 8\n",
      "4346 9\n",
      "4347 10\n",
      "4348 11\n",
      "4349 12\n",
      "4350 13\n"
     ]
    },
    {
     "data": {
      "text/plain": [
       "13"
      ]
     },
     "execution_count": 8,
     "metadata": {},
     "output_type": "execute_result"
    }
   ],
   "source": [
    "def F5(A):\n",
    "    C = A[:,0]\n",
    "    run = 0\n",
    "    maxrun = 0\n",
    "    for i in range(len(C)):\n",
    "        if C[i] == 0:\n",
    "            run = run + 1\n",
    "            if run > maxrun:\n",
    "                maxrun = run\n",
    "        else:\n",
    "            run = 0\n",
    "    return maxrun\n",
    "F5(hourly)"
   ]
  },
  {
   "cell_type": "markdown",
   "metadata": {},
   "source": [
    "Let's check on that long run. Yes, I think we had the machine down that weekend for some power work."
   ]
  },
  {
   "cell_type": "code",
   "execution_count": 9,
   "metadata": {
    "collapsed": false
   },
   "outputs": [
    {
     "data": {
      "text/plain": [
       "array([[  1,   6,  30,  17,   1],\n",
       "       [  0,   6,  30,  18,   1],\n",
       "       [  0,   6,  30,  19,   1],\n",
       "       [  0,   6,  30,  20,   1],\n",
       "       [  0,   6,  30,  21,   1],\n",
       "       [  0,   6,  30,  22,   1],\n",
       "       [  0,   6,  30,  23,   1],\n",
       "       [  0,   7,   1,   0,   2],\n",
       "       [  0,   7,   1,   1,   2],\n",
       "       [  0,   7,   1,   2,   2],\n",
       "       [  0,   7,   1,   3,   2],\n",
       "       [  0,   7,   1,   4,   2],\n",
       "       [  0,   7,   1,   5,   2],\n",
       "       [  0,   7,   1,   6,   2],\n",
       "       [  7,   7,   1,   7,   2],\n",
       "       [ 68,   7,   1,   8,   2],\n",
       "       [163,   7,   1,   9,   2],\n",
       "       [460,   7,   1,  10,   2],\n",
       "       [111,   7,   1,  11,   2],\n",
       "       [214,   7,   1,  12,   2],\n",
       "       [114,   7,   1,  13,   2],\n",
       "       [ 80,   7,   1,  14,   2],\n",
       "       [ 68,   7,   1,  15,   2],\n",
       "       [ 56,   7,   1,  16,   2],\n",
       "       [ 78,   7,   1,  17,   2]])"
      ]
     },
     "execution_count": 9,
     "metadata": {},
     "output_type": "execute_result"
    }
   ],
   "source": [
    "hourly[4342-5:4342+20]"
   ]
  },
  {
   "cell_type": "code",
   "execution_count": null,
   "metadata": {
    "collapsed": true
   },
   "outputs": [],
   "source": []
  }
 ],
 "metadata": {
  "kernelspec": {
   "display_name": "Python [Root]",
   "language": "python",
   "name": "Python [Root]"
  },
  "language_info": {
   "codemirror_mode": {
    "name": "ipython",
    "version": 3
   },
   "file_extension": ".py",
   "mimetype": "text/x-python",
   "name": "python",
   "nbconvert_exporter": "python",
   "pygments_lexer": "ipython3",
   "version": "3.5.2"
  }
 },
 "nbformat": 4,
 "nbformat_minor": 1
}
