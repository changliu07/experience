{
 "cells": [
  {
   "cell_type": "markdown",
   "metadata": {},
   "source": [
    "# Notes for 19 October\n",
    "\n",
    "What does this code do? Hint: It accepts a mutable sequence (array or list) as its argument."
   ]
  },
  {
   "cell_type": "code",
   "execution_count": 2,
   "metadata": {
    "collapsed": false
   },
   "outputs": [],
   "source": [
    "import numpy as np"
   ]
  },
  {
   "cell_type": "markdown",
   "metadata": {},
   "source": [
    "What does this do?"
   ]
  },
  {
   "cell_type": "code",
   "execution_count": 3,
   "metadata": {
    "collapsed": false
   },
   "outputs": [],
   "source": [
    "def f1(A):\n",
    "    A = A.copy() # make a copy so we don't change the original\n",
    "    for i in range(1, len(A)):\n",
    "        for j in range(i, 0, -1):\n",
    "            if A[j-1] > A[j]:\n",
    "                A[j-1], A[j] = A[j], A[j-1]\n",
    "            else:\n",
    "                break\n",
    "    return A\n"
   ]
  },
  {
   "cell_type": "code",
   "execution_count": 4,
   "metadata": {
    "collapsed": false
   },
   "outputs": [
    {
     "data": {
      "text/plain": [
       "array([2, 3, 3, 5, 7])"
      ]
     },
     "execution_count": 4,
     "metadata": {},
     "output_type": "execute_result"
    }
   ],
   "source": [
    "f1(np.random.randint(0,10,5))"
   ]
  },
  {
   "cell_type": "markdown",
   "metadata": {},
   "source": [
    "We figured out that it sorts the input list.\n",
    "\n",
    "That tricky line\n",
    "\n",
    "    A[j-1], A[j] = A[j], A[j-1]\n",
    "    \n",
    "is equivalent to the 3 lines below."
   ]
  },
  {
   "cell_type": "code",
   "execution_count": 5,
   "metadata": {
    "collapsed": true
   },
   "outputs": [],
   "source": [
    "def f2(A):\n",
    "    A = A.copy() # make a copy so we don't change the original\n",
    "    for i in range(1, len(A)):\n",
    "        for j in range(i, 0, -1):\n",
    "            if A[j-1] > A[j]:\n",
    "                #A[j-1], A[j] = A[j], A[j-1]\n",
    "                t = A[j-1]\n",
    "                A[j-1] = A[j]\n",
    "                A[j] = t\n",
    "            else:\n",
    "                break\n",
    "    return A\n"
   ]
  },
  {
   "cell_type": "code",
   "execution_count": 6,
   "metadata": {
    "collapsed": false
   },
   "outputs": [
    {
     "name": "stdout",
     "output_type": "stream",
     "text": [
      "[9 9 9 2 0]\n",
      "[0 2 9 9 9]\n"
     ]
    }
   ],
   "source": [
    "A = np.random.randint(0,10,5)\n",
    "print(A)\n",
    "print(f2(A))"
   ]
  },
  {
   "cell_type": "markdown",
   "metadata": {},
   "source": [
    "A broken version so we can see why we need that variable `t` above."
   ]
  },
  {
   "cell_type": "code",
   "execution_count": 9,
   "metadata": {
    "collapsed": true
   },
   "outputs": [],
   "source": [
    "def f3(A):\n",
    "    A = A.copy() # make a copy so we don't change the original\n",
    "    for i in range(1, len(A)):\n",
    "        for j in range(i, 0, -1):\n",
    "            if A[j-1] > A[j]:\n",
    "                #A[j-1], A[j] = A[j], A[j-1]\n",
    "                # this is broken\n",
    "                A[j] = A[j-1]\n",
    "                A[j-1] = A[j]\n",
    "            else:\n",
    "                break\n",
    "    return A\n"
   ]
  },
  {
   "cell_type": "code",
   "execution_count": 10,
   "metadata": {
    "collapsed": false
   },
   "outputs": [
    {
     "name": "stdout",
     "output_type": "stream",
     "text": [
      "[8 5 4 4 7]\n",
      "[8 8 8 8 8]\n"
     ]
    }
   ],
   "source": [
    "A = np.random.randint(0,10,5)\n",
    "print(A)\n",
    "print(f3(A))"
   ]
  },
  {
   "cell_type": "markdown",
   "metadata": {},
   "source": [
    "Let's decorate our function with print calls so we can see what is happening."
   ]
  },
  {
   "cell_type": "code",
   "execution_count": 11,
   "metadata": {
    "collapsed": true
   },
   "outputs": [],
   "source": [
    "def f1p(A):\n",
    "    A = A.copy() # make a copy so we don't change the original\n",
    "    for i in range(1, len(A)):\n",
    "        print('i=', i)\n",
    "        for j in range(i, 0, -1):\n",
    "            print('j=', j)\n",
    "            if A[j-1] > A[j]:\n",
    "                print('swap', j-1, j)\n",
    "                A[j-1], A[j] = A[j], A[j-1]\n",
    "            else:\n",
    "                print('break')\n",
    "                break\n",
    "            print(A)\n",
    "    return A"
   ]
  },
  {
   "cell_type": "code",
   "execution_count": 12,
   "metadata": {
    "collapsed": false
   },
   "outputs": [
    {
     "name": "stdout",
     "output_type": "stream",
     "text": [
      "i= 1\n",
      "j= 1\n",
      "swap 0 1\n",
      "[3, 4, 2, 1]\n",
      "i= 2\n",
      "j= 2\n",
      "swap 1 2\n",
      "[3, 2, 4, 1]\n",
      "j= 1\n",
      "swap 0 1\n",
      "[2, 3, 4, 1]\n",
      "i= 3\n",
      "j= 3\n",
      "swap 2 3\n",
      "[2, 3, 1, 4]\n",
      "j= 2\n",
      "swap 1 2\n",
      "[2, 1, 3, 4]\n",
      "j= 1\n",
      "swap 0 1\n",
      "[1, 2, 3, 4]\n"
     ]
    },
    {
     "data": {
      "text/plain": [
       "[1, 2, 3, 4]"
      ]
     },
     "execution_count": 12,
     "metadata": {},
     "output_type": "execute_result"
    }
   ],
   "source": [
    "f1p([4,3,2,1])"
   ]
  },
  {
   "cell_type": "code",
   "execution_count": 13,
   "metadata": {
    "collapsed": false
   },
   "outputs": [
    {
     "name": "stdout",
     "output_type": "stream",
     "text": [
      "i= 1\n",
      "j= 1\n",
      "break\n",
      "i= 2\n",
      "j= 2\n",
      "break\n",
      "i= 3\n",
      "j= 3\n",
      "break\n"
     ]
    },
    {
     "data": {
      "text/plain": [
       "[1, 2, 3, 4]"
      ]
     },
     "execution_count": 13,
     "metadata": {},
     "output_type": "execute_result"
    }
   ],
   "source": [
    "f1p([1,2,3,4])"
   ]
  },
  {
   "cell_type": "code",
   "execution_count": null,
   "metadata": {
    "collapsed": true
   },
   "outputs": [],
   "source": []
  }
 ],
 "metadata": {
  "kernelspec": {
   "display_name": "Python [Root]",
   "language": "python",
   "name": "Python [Root]"
  },
  "language_info": {
   "codemirror_mode": {
    "name": "ipython",
    "version": 3
   },
   "file_extension": ".py",
   "mimetype": "text/x-python",
   "name": "python",
   "nbconvert_exporter": "python",
   "pygments_lexer": "ipython3",
   "version": "3.5.2"
  }
 },
 "nbformat": 4,
 "nbformat_minor": 1
}
