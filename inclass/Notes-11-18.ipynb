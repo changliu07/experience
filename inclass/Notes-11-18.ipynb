{
 "cells": [
  {
   "cell_type": "markdown",
   "metadata": {},
   "source": [
    "# Code to avoid"
   ]
  },
  {
   "cell_type": "code",
   "execution_count": null,
   "metadata": {
    "collapsed": true
   },
   "outputs": [],
   "source": [
    "def F9(A, a, b, c, d, e, f):\n",
    "    for i in range(len(A)):\n",
    "        if A[i,1] == a:\n",
    "            if A[i,2] == b:\n",
    "                if A[i,3] == c:\n",
    "                    if A[i,1] == d:\n",
    "                        if A["
   ]
  },
  {
   "cell_type": "code",
   "execution_count": null,
   "metadata": {
    "collapsed": true
   },
   "outputs": [],
   "source": [
    "def F9(A, a, b, c, d, e, f):\n",
    "    for i in range(len(A)):\n",
    "        if A[i,1] == a and A[i,2] == b and A[i,3] == c:"
   ]
  },
  {
   "cell_type": "code",
   "execution_count": null,
   "metadata": {
    "collapsed": true
   },
   "outputs": [],
   "source": []
  },
  {
   "cell_type": "markdown",
   "metadata": {},
   "source": [
    "Foo, bar hello. $A_i = A^j$"
   ]
  },
  {
   "cell_type": "markdown",
   "metadata": {},
   "source": [
    "# Notes for 18 November on fitting equations to data\n",
    "\n",
    "Suppose we have some data consisting of an independent variable x and a dependent variable y and we would like to understand the relationship between them. \n",
    "\n",
    "I'll fake up some data for us to explore. In a real experiment we'd get this data by running some experiment many times and making measurements that are likely corrupted by some noise."
   ]
  },
  {
   "cell_type": "code",
   "execution_count": 2,
   "metadata": {
    "collapsed": false
   },
   "outputs": [],
   "source": [
    "%matplotlib inline\n",
    "import numpy as np\n",
    "import pylab\n",
    "\n",
    "x = np.random.randint(0, 1000, 1000) / 100.0\n",
    "y = 50 + 10 * x + x**2 + 5 * np.random.randn(1000)"
   ]
  },
  {
   "cell_type": "markdown",
   "metadata": {},
   "source": [
    "The first thing I want to do it look at the data. One picture is worth 1000 words."
   ]
  },
  {
   "cell_type": "code",
   "execution_count": 3,
   "metadata": {
    "collapsed": false
   },
   "outputs": [
    {
     "data": {
      "text/plain": [
       "[<matplotlib.lines.Line2D at 0x7f9a39786dd8>]"
      ]
     },
     "execution_count": 3,
     "metadata": {},
     "output_type": "execute_result"
    },
    {
     "data": {
      "image/png": "[encoded data removed]",
      "text/plain": [
       "<matplotlib.figure.Figure at 0x7f9a39791e10>"
      ]
     },
     "metadata": {},
     "output_type": "display_data"
    }
   ],
   "source": [
    "pylab.plot(x, y, 'r.')"
   ]
  },
  {
   "cell_type": "markdown",
   "metadata": {},
   "source": [
    "I can immediately see that the range of x is about 0 to 10 and the range of y is about 50 to 250. It looks a bit like a line with positive slope. \n",
    "\n",
    "Let's find the line that best fits this data. We'll need to solve a system of simultaneous equations in two unknowns (intercept and slope). \n",
    "\n",
    "We can use a line equation of the form $y = a + b x$ where $a$ is the intercept and $b$ is the slope. Our system of equations will be like this:\n",
    "\n",
    "$$y_0 = a + b x_0$$\n",
    "$$y_1 = a + b x_1$$\n",
    "$$...$$\n",
    "$$y_n = a + b x_n$$\n",
    "\n",
    "It is more convenient to express this as a matrix equation:\n",
    "$$\\left[ \\begin{array}{c}\n",
    "y_0 \\\\\n",
    "y_1 \\\\\n",
    "... \\\\\n",
    "y_n \\end{array} \\right] = \\left[ \\begin{array}{cc}\n",
    "1 & x_0 \\\\\n",
    "1 & x_1 \\\\\n",
    "... \\\\\n",
    "1 & x_n \\end{array} \\right] \\cdot \\left[ \\begin{array}{c}\n",
    "a \\\\\n",
    "b \\end{array} \\right]\n",
    "$$ or more compactly as\n",
    "\n",
    "$$ Y = X \\cdot M $$\n",
    "\n",
    "Remember your linear algebra? How many solutions should we expect for a system of N equations in 2 unknowns where N > 2?"
   ]
  },
  {
   "cell_type": "markdown",
   "metadata": {},
   "source": [
    "Zero solutions, so we want least squares. "
   ]
  },
  {
   "cell_type": "markdown",
   "metadata": {},
   "source": [
    "Solving a matrix equation like this with numpy is made easy by the `lstsq` function in the `linalg` submodule. First we've got to massage our `x` data into a matrix with 2 columns and N rows."
   ]
  },
  {
   "cell_type": "code",
   "execution_count": 4,
   "metadata": {
    "collapsed": false
   },
   "outputs": [
    {
     "data": {
      "text/plain": [
       "array([1, 2, 3])"
      ]
     },
     "execution_count": 4,
     "metadata": {},
     "output_type": "execute_result"
    }
   ],
   "source": [
    "A = np.array([1,2,3])\n",
    "A"
   ]
  },
  {
   "cell_type": "code",
   "execution_count": 5,
   "metadata": {
    "collapsed": false
   },
   "outputs": [
    {
     "data": {
      "text/plain": [
       "array([[1, 2, 3]])"
      ]
     },
     "execution_count": 5,
     "metadata": {},
     "output_type": "execute_result"
    }
   ],
   "source": [
    "np.reshape(A, (1,3))"
   ]
  },
  {
   "cell_type": "code",
   "execution_count": 6,
   "metadata": {
    "collapsed": false
   },
   "outputs": [
    {
     "data": {
      "text/plain": [
       "array([[1],\n",
       "       [2],\n",
       "       [3]])"
      ]
     },
     "execution_count": 6,
     "metadata": {},
     "output_type": "execute_result"
    }
   ],
   "source": [
    "np.reshape(A, (3,1))"
   ]
  },
  {
   "cell_type": "code",
   "execution_count": 8,
   "metadata": {
    "collapsed": false
   },
   "outputs": [
    {
     "data": {
      "text/plain": [
       "array([[1, 2, 3],\n",
       "       [6, 5, 4],\n",
       "       [7, 8, 9]])"
      ]
     },
     "execution_count": 8,
     "metadata": {},
     "output_type": "execute_result"
    }
   ],
   "source": [
    "M = np.array([[1,2,3], [6,5,4], [7,8,9]])\n",
    "M"
   ]
  },
  {
   "cell_type": "markdown",
   "metadata": {},
   "source": [
    "Back to the problem at hand. Let's construct the matrix X above."
   ]
  },
  {
   "cell_type": "code",
   "execution_count": 10,
   "metadata": {
    "collapsed": false
   },
   "outputs": [
    {
     "name": "stdout",
     "output_type": "stream",
     "text": [
      "[[ 1.    8.56]\n",
      " [ 1.    6.35]\n",
      " [ 1.    9.8 ]\n",
      " ..., \n",
      " [ 1.    1.29]\n",
      " [ 1.    8.57]\n",
      " [ 1.    8.49]]\n",
      "(1000, 2)\n",
      "[[ 1.    8.56]\n",
      " [ 1.    6.35]\n",
      " [ 1.    9.8 ]]\n"
     ]
    }
   ],
   "source": [
    "X1 = np.array([np.ones_like(x), x])\n",
    "X1 = X1.T\n",
    "print(X1)\n",
    "print(X1.shape)\n",
    "print(X1[:3,:])"
   ]
  },
  {
   "cell_type": "markdown",
   "metadata": {},
   "source": [
    "Then we can call `np.linalg.lstsq` to get the least-squares solution to the system of equations. "
   ]
  },
  {
   "cell_type": "code",
   "execution_count": 12,
   "metadata": {
    "collapsed": false
   },
   "outputs": [
    {
     "data": {
      "text/plain": [
       "(array([ 33.76592012,  19.9117174 ]),\n",
       " array([ 81030.78395826]),\n",
       " 2,\n",
       " array([ 183.43454394,   15.66662979]))"
      ]
     },
     "execution_count": 12,
     "metadata": {},
     "output_type": "execute_result"
    }
   ],
   "source": [
    "M = np.linalg.lstsq(X1, y)\n",
    "M"
   ]
  },
  {
   "cell_type": "code",
   "execution_count": 13,
   "metadata": {
    "collapsed": false
   },
   "outputs": [
    {
     "data": {
      "text/plain": [
       "array([ 33.76592012,  19.9117174 ])"
      ]
     },
     "execution_count": 13,
     "metadata": {},
     "output_type": "execute_result"
    }
   ],
   "source": [
    "M[0]"
   ]
  },
  {
   "cell_type": "code",
   "execution_count": 16,
   "metadata": {
    "collapsed": false
   },
   "outputs": [
    {
     "data": {
      "text/plain": [
       "[<matplotlib.lines.Line2D at 0x7f9a396ffef0>]"
      ]
     },
     "execution_count": 16,
     "metadata": {},
     "output_type": "execute_result"
    },
    {
     "data": {
      "image/png": "[encoded data removed]",
      "text/plain": [
       "<matplotlib.figure.Figure at 0x7f9a39732c88>"
      ]
     },
     "metadata": {},
     "output_type": "display_data"
    }
   ],
   "source": [
    "yest = np.dot(X1, M[0])\n",
    "pylab.plot(x, y, 'r.')\n",
    "pylab.plot(x, yest, 'b.')"
   ]
  },
  {
   "cell_type": "markdown",
   "metadata": {},
   "source": [
    "We can extend the equations to quadratic or higher powers.\n",
    "\n",
    "$$y_0 = a + b x_0 + c x_0^2$$\n",
    "$$y_1 = a + b x_1 + c x_1^2$$\n",
    "$$...$$\n",
    "$$y_n = a + b x_n + c x_n^2$$\n",
    "\n",
    "It is more convenient to express this as a matrix equation:\n",
    "$$\\left[ \\begin{array}{c}\n",
    "y_0 \\\\\n",
    "y_1 \\\\\n",
    "... \\\\\n",
    "y_n \\end{array} \\right] = \\left[ \\begin{array}{cc}\n",
    "1 & x_0 & x_0^2\\\\\n",
    "1 & x_1 & x_1^2\\\\\n",
    "... \\\\\n",
    "1 & x_n & x_n^2\\end{array} \\right] \\cdot \\left[ \\begin{array}{c}\n",
    "a \\\\\n",
    "b \\\\\n",
    "c \\end{array} \\right]\n",
    "$$ or more compactly as\n",
    "\n",
    "$$ Y = X \\cdot M $$"
   ]
  },
  {
   "cell_type": "code",
   "execution_count": 17,
   "metadata": {
    "collapsed": true
   },
   "outputs": [],
   "source": [
    "X2 = np.array([np.ones_like(x), x, x**2])\n",
    "X2 = X2.T"
   ]
  },
  {
   "cell_type": "code",
   "execution_count": 18,
   "metadata": {
    "collapsed": false
   },
   "outputs": [
    {
     "data": {
      "text/plain": [
       "array([ 50.2438581 ,   9.96560924,   0.99983286])"
      ]
     },
     "execution_count": 18,
     "metadata": {},
     "output_type": "execute_result"
    }
   ],
   "source": [
    "M2 = np.linalg.lstsq(X2, y)\n",
    "M2[0]"
   ]
  },
  {
   "cell_type": "code",
   "execution_count": 19,
   "metadata": {
    "collapsed": false
   },
   "outputs": [
    {
     "data": {
      "text/plain": [
       "[<matplotlib.lines.Line2D at 0x7f9a396726a0>]"
      ]
     },
     "execution_count": 19,
     "metadata": {},
     "output_type": "execute_result"
    },
    {
     "data": {
      "image/png": "[encoded data removed]",
      "text/plain": [
       "<matplotlib.figure.Figure at 0x7f9a39672c18>"
      ]
     },
     "metadata": {},
     "output_type": "display_data"
    }
   ],
   "source": [
    "yest2 = np.dot(X2, M2[0])\n",
    "pylab.plot(x, y, 'r.')\n",
    "pylab.plot(x, yest2, 'b.')"
   ]
  },
  {
   "cell_type": "code",
   "execution_count": null,
   "metadata": {
    "collapsed": true
   },
   "outputs": [],
   "source": []
  },
  {
   "cell_type": "code",
   "execution_count": null,
   "metadata": {
    "collapsed": true
   },
   "outputs": [],
   "source": []
  },
  {
   "cell_type": "code",
   "execution_count": null,
   "metadata": {
    "collapsed": true
   },
   "outputs": [],
   "source": []
  },
  {
   "cell_type": "code",
   "execution_count": null,
   "metadata": {
    "collapsed": true
   },
   "outputs": [],
   "source": []
  },
  {
   "cell_type": "code",
   "execution_count": null,
   "metadata": {
    "collapsed": true
   },
   "outputs": [],
   "source": []
  },
  {
   "cell_type": "code",
   "execution_count": null,
   "metadata": {
    "collapsed": true
   },
   "outputs": [],
   "source": []
  },
  {
   "cell_type": "markdown",
   "metadata": {},
   "source": [
    "## Fitting other kinds of functions\n",
    "\n",
    "Suppose we know our model should be exponential of the form:\n",
    "\n",
    "$$ y = k b^x $$\n",
    "\n",
    "How can we determine the unknown parameters $k$ and $b$?"
   ]
  },
  {
   "cell_type": "markdown",
   "metadata": {},
   "source": [
    "If we take the $log$ of both sides of the equation we get\n",
    "\n",
    "$$ \\log y = \\log k + x \\log b$$\n",
    "\n",
    "Note that gets us back to an equation that is linear in $x$ and $\\log y$."
   ]
  },
  {
   "cell_type": "markdown",
   "metadata": {},
   "source": [
    "Likewise if our equation of of the form\n",
    "$$ y = k x^b $$\n",
    "\n",
    "we can take the log of both sides and get\n",
    "\n",
    "$$ \\log y = \\log k + b \\log x $$\n",
    "\n",
    "Again, we're back to an equation that is linear in the transformed variables."
   ]
  },
  {
   "cell_type": "code",
   "execution_count": 20,
   "metadata": {
    "collapsed": false
   },
   "outputs": [
    {
     "name": "stdout",
     "output_type": "stream",
     "text": [
      "[[1 2 3]] [[3]\n",
      " [4]\n",
      " [5]]\n"
     ]
    }
   ],
   "source": [
    "A = np.array([[1,2,3]])\n",
    "B = np.array([[3],[4],[5]])\n",
    "print(A, B)"
   ]
  },
  {
   "cell_type": "code",
   "execution_count": 21,
   "metadata": {
    "collapsed": false
   },
   "outputs": [
    {
     "data": {
      "text/plain": [
       "array([[26]])"
      ]
     },
     "execution_count": 21,
     "metadata": {},
     "output_type": "execute_result"
    }
   ],
   "source": [
    "np.dot(A,B)"
   ]
  },
  {
   "cell_type": "code",
   "execution_count": null,
   "metadata": {
    "collapsed": true
   },
   "outputs": [],
   "source": []
  }
 ],
 "metadata": {
  "kernelspec": {
   "display_name": "Python [Root]",
   "language": "python",
   "name": "Python [Root]"
  },
  "language_info": {
   "codemirror_mode": {
    "name": "ipython",
    "version": 3
   },
   "file_extension": ".py",
   "mimetype": "text/x-python",
   "name": "python",
   "nbconvert_exporter": "python",
   "pygments_lexer": "ipython3",
   "version": "3.5.2"
  }
 },
 "nbformat": 4,
 "nbformat_minor": 0
}
