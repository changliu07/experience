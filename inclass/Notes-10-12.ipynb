{
 "cells": [
  {
   "cell_type": "markdown",
   "metadata": {},
   "source": [
    "# Notes for 12 October\n",
    "\n",
    "More functions and loops. First we'll get some random numbers."
   ]
  },
  {
   "cell_type": "code",
   "execution_count": 1,
   "metadata": {
    "collapsed": false
   },
   "outputs": [
    {
     "data": {
      "text/plain": [
       "array([-20, -17, -17,  19, -11,  -1,   1,  16,   3, -14,   4,   4,  -8,\n",
       "       -19,  18,  19,   3,   4,  -3,  17])"
      ]
     },
     "execution_count": 1,
     "metadata": {},
     "output_type": "execute_result"
    }
   ],
   "source": [
    "import numpy as np\n",
    "\n",
    "np.random.seed(0)\n",
    "L = np.random.randint(-20, 20, 20)\n",
    "L"
   ]
  },
  {
   "cell_type": "markdown",
   "metadata": {},
   "source": [
    "Let's write a function to compute their sum. Of course we could do this with numpy.sum but we're practicing our loops here."
   ]
  },
  {
   "cell_type": "code",
   "execution_count": 2,
   "metadata": {
    "collapsed": false
   },
   "outputs": [
    {
     "data": {
      "text/plain": [
       "-2"
      ]
     },
     "execution_count": 2,
     "metadata": {},
     "output_type": "execute_result"
    }
   ],
   "source": [
    "def mysum(a):\n",
    "    result = 0\n",
    "    for i in range(len(a)):\n",
    "        result = result + a[i]\n",
    "    return result\n",
    "\n",
    "mysum(L)"
   ]
  },
  {
   "cell_type": "markdown",
   "metadata": {},
   "source": [
    "Now let's only add the positive ones by adding an if."
   ]
  },
  {
   "cell_type": "code",
   "execution_count": 3,
   "metadata": {
    "collapsed": false
   },
   "outputs": [
    {
     "data": {
      "text/plain": [
       "108"
      ]
     },
     "execution_count": 3,
     "metadata": {},
     "output_type": "execute_result"
    }
   ],
   "source": [
    "def mypositivesum(a):\n",
    "    result = 0\n",
    "    for i in range(len(a)):\n",
    "        if a[i] >= 0:\n",
    "            result = result + a[i]\n",
    "    return result\n",
    "\n",
    "mypositivesum(L)"
   ]
  },
  {
   "cell_type": "markdown",
   "metadata": {},
   "source": [
    "Let's accumulate the positive and negatives separately. "
   ]
  },
  {
   "cell_type": "code",
   "execution_count": 4,
   "metadata": {
    "collapsed": false
   },
   "outputs": [
    {
     "data": {
      "text/plain": [
       "(108, -110)"
      ]
     },
     "execution_count": 4,
     "metadata": {},
     "output_type": "execute_result"
    }
   ],
   "source": [
    "def mybothsum(a):\n",
    "    presult = 0\n",
    "    nresult = 0\n",
    "    for i in range(len(a)):\n",
    "        if a[i] > 0:\n",
    "            presult = presult + a[i]\n",
    "        else:\n",
    "            nresult = nresult + a[i]\n",
    "    return presult, nresult\n",
    "\n",
    "mybothsum(L)"
   ]
  },
  {
   "cell_type": "markdown",
   "metadata": {},
   "source": [
    "We spent some time talking about problems with putting the return in the wrong place. Think carefully about the difference between this and the last one."
   ]
  },
  {
   "cell_type": "code",
   "execution_count": 5,
   "metadata": {
    "collapsed": false
   },
   "outputs": [
    {
     "data": {
      "text/plain": [
       "(0, -20)"
      ]
     },
     "execution_count": 5,
     "metadata": {},
     "output_type": "execute_result"
    }
   ],
   "source": [
    "def mybothsum1(a):\n",
    "    presult = 0\n",
    "    nresult = 0\n",
    "    for i in range(len(a)):\n",
    "        if a[i] > 0:\n",
    "            presult = presult + a[i]\n",
    "        else:\n",
    "            nresult = nresult + a[i]\n",
    "        return presult, nresult\n",
    "\n",
    "mybothsum1(L)"
   ]
  },
  {
   "cell_type": "markdown",
   "metadata": {},
   "source": [
    "Yet another wrong place for the return. "
   ]
  },
  {
   "cell_type": "code",
   "execution_count": 1,
   "metadata": {
    "collapsed": false
   },
   "outputs": [
    {
     "ename": "NameError",
     "evalue": "name 'L' is not defined",
     "output_type": "error",
     "traceback": [
      "\u001b[0;31m---------------------------------------------------------------------------\u001b[0m",
      "\u001b[0;31mNameError\u001b[0m                                 Traceback (most recent call last)",
      "\u001b[0;32m<ipython-input-1-90d939cf7fc1>\u001b[0m in \u001b[0;36m<module>\u001b[0;34m()\u001b[0m\n\u001b[1;32m      9\u001b[0m             \u001b[0;32mreturn\u001b[0m \u001b[0mpresult\u001b[0m\u001b[0;34m,\u001b[0m \u001b[0mnresult\u001b[0m\u001b[0;34m\u001b[0m\u001b[0m\n\u001b[1;32m     10\u001b[0m \u001b[0;34m\u001b[0m\u001b[0m\n\u001b[0;32m---> 11\u001b[0;31m \u001b[0mmybothsum2\u001b[0m\u001b[0;34m(\u001b[0m\u001b[0mL\u001b[0m\u001b[0;34m)\u001b[0m\u001b[0;34m\u001b[0m\u001b[0m\n\u001b[0m",
      "\u001b[0;31mNameError\u001b[0m: name 'L' is not defined"
     ]
    }
   ],
   "source": [
    "def mybothsum2(a):\n",
    "    presult = 0\n",
    "    nresult = 0\n",
    "    for i in range(len(a)):\n",
    "        if a[i] > 0:\n",
    "            presult = presult + a[i]\n",
    "        else:\n",
    "            nresult = nresult + a[i]\n",
    "            return presult, nresult\n",
    "\n",
    "mybothsum2(L)"
   ]
  },
  {
   "cell_type": "code",
   "execution_count": 7,
   "metadata": {
    "collapsed": false
   },
   "outputs": [
    {
     "data": {
      "text/plain": [
       "(54, -19)"
      ]
     },
     "execution_count": 7,
     "metadata": {},
     "output_type": "execute_result"
    }
   ],
   "source": [
    "mybothsum2(-L)"
   ]
  },
  {
   "cell_type": "markdown",
   "metadata": {},
   "source": [
    "What happened below? Think long and hard about why we got no output. Ask questions!"
   ]
  },
  {
   "cell_type": "code",
   "execution_count": 9,
   "metadata": {
    "collapsed": true
   },
   "outputs": [],
   "source": [
    "mybothsum2([1,2,3])"
   ]
  },
  {
   "cell_type": "markdown",
   "metadata": {},
   "source": [
    "Now write a function that looks a neighbors."
   ]
  },
  {
   "cell_type": "code",
   "execution_count": 10,
   "metadata": {
    "collapsed": true
   },
   "outputs": [],
   "source": [
    "def greaterThanBefore(a):\n",
    "    '''Return a list of numbers that are greater than their immediate predecessor'''\n",
    "    result = []\n",
    "    "
   ]
  },
  {
   "cell_type": "markdown",
   "metadata": {},
   "source": [
    "This version has a subtle bug. Can you spot it?"
   ]
  },
  {
   "cell_type": "code",
   "execution_count": 11,
   "metadata": {
    "collapsed": false
   },
   "outputs": [
    {
     "data": {
      "text/plain": [
       "[-17, 19, -1, 1, 16, 4, 18, 19, 4, 17]"
      ]
     },
     "execution_count": 11,
     "metadata": {},
     "output_type": "execute_result"
    }
   ],
   "source": [
    "def biggerthan(a):\n",
    "    result = []\n",
    "    for i in range(len(a)):\n",
    "        if a[i]>a[i-1]:\n",
    "            result.append(a[i])\n",
    "    return result\n",
    "biggerthan(L)"
   ]
  },
  {
   "cell_type": "markdown",
   "metadata": {},
   "source": [
    "This version fixes the bug by adding a clause to the condition."
   ]
  },
  {
   "cell_type": "code",
   "execution_count": 12,
   "metadata": {
    "collapsed": false
   },
   "outputs": [
    {
     "data": {
      "text/plain": [
       "[-17, 19, -1, 1, 16, 4, 18, 19, 4, 17]"
      ]
     },
     "execution_count": 12,
     "metadata": {},
     "output_type": "execute_result"
    }
   ],
   "source": [
    "def biggerthan2(a):\n",
    "    result = []\n",
    "    for i in range(len(a)):\n",
    "        if i > 0 and a[i]>a[i-1]:\n",
    "            result.append(a[i])\n",
    "    return result\n",
    "biggerthan2(L)"
   ]
  },
  {
   "cell_type": "markdown",
   "metadata": {},
   "source": [
    "This version fixes the bug by changing the range."
   ]
  },
  {
   "cell_type": "code",
   "execution_count": 14,
   "metadata": {
    "collapsed": false
   },
   "outputs": [
    {
     "data": {
      "text/plain": [
       "[-17, 19, -1, 1, 16, 4, 18, 19, 4, 17]"
      ]
     },
     "execution_count": 14,
     "metadata": {},
     "output_type": "execute_result"
    }
   ],
   "source": [
    "def biggerthan3(a):\n",
    "    result = []\n",
    "    for i in range(1, len(a)):\n",
    "        if a[i]>a[i-1]:\n",
    "            result.append(a[i])\n",
    "    return result\n",
    "biggerthan3(L)"
   ]
  },
  {
   "cell_type": "code",
   "execution_count": null,
   "metadata": {
    "collapsed": true
   },
   "outputs": [],
   "source": []
  }
 ],
 "metadata": {
  "kernelspec": {
   "display_name": "Python [Root]",
   "language": "python",
   "name": "Python [Root]"
  },
  "language_info": {
   "codemirror_mode": {
    "name": "ipython",
    "version": 3
   },
   "file_extension": ".py",
   "mimetype": "text/x-python",
   "name": "python",
   "nbconvert_exporter": "python",
   "pygments_lexer": "ipython3",
   "version": "3.5.2"
  }
 },
 "nbformat": 4,
 "nbformat_minor": 1
}
