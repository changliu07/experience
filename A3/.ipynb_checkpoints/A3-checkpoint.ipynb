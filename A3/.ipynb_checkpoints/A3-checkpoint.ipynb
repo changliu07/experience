{
 "cells": [
  {
   "cell_type": "markdown",
   "metadata": {},
   "source": [
    "# Assignment 3 Protein Data Bank\n",
    "\n",
    "**Due 17 October by 10PM**\n",
    "\n",
    "A protein is a molecule that is a sequence of amino acid residues. The <a href=\"http://www.rcsb.org/pdb\"> Protein Data Bank</a> records the 3D structures known for protein molecules. Two examples are HIV Protease (<a href=\"http://www.rcsb.org/pdb/explore.do?structureId=7hvp\">7hvp</a> ), an important AIDS drug target (left below), and green fluorescent protein (<a href=\"http://www.pdb.org/pdb/explore.do?structureId=1GFL\">1gfl</a>), which earned its discoverers the <a href=\"http://nobelprize.org/nobel_prizes/chemistry/laureates/2008/speedread.html\">Nobel Prize</a> (right below).  Many types of information are stored in a PDB file; we will be interested only in lines that start with `ATOM  `, and only in certain columns of these lines.  Their format is described later.\n",
    "\n",
    "<img src=\"files/7HVP.jpg\" alt=\"7hvp\" title=\"7hvp\" width=\"200\" height=\"200\" /><img src=\"files/1GFL.jpg\" alt=\"1gfl\" title=\"1gfl\" width=\"200\" height=\"200\" />"
   ]
  },
  {
   "cell_type": "code",
   "execution_count": 2,
   "metadata": {
    "collapsed": false
   },
   "outputs": [],
   "source": [
    "# fill in your onyen (not PID) here\n",
    "Author = 'zewalker'\n",
    "Collaborators = []"
   ]
  },
  {
   "cell_type": "code",
   "execution_count": 3,
   "metadata": {
    "collapsed": false
   },
   "outputs": [],
   "source": [
    "%matplotlib inline\n",
    "import numpy as np\n",
    "import pylab\n",
    "from mpl_toolkits.mplot3d import Axes3D # for the 3D plots we'll make below\n",
    "import comp116\n",
    "\n",
    "check, report = comp116.start('A3')"
   ]
  },
  {
   "cell_type": "markdown",
   "metadata": {},
   "source": [
    "## 1. Read PDB files.\n",
    "\n",
    "Write a function `readPDBfile(filename)` that will read the atoms for a protein stored in pdb file whose name is given as the argument.  Your function should return a Python tuple containing 4 values: `(anum, aname, resno, coords)`.\n",
    "\n",
    "**anum** should be an array with the serial number for each atom.  \n",
    "**aname** should be an array of strings giving the 4-letter atom name for each atom.  The strings in aname should be in upper case.  \n",
    "**resno** array with a residue sequence number for each atom.  \n",
    "**coords** an nx3 array with xyz coordinates (in angstroms) for each atom.\n",
    "\n",
    "We have included a prototype for your function below. You are to write code in the area indicated."
   ]
  },
  {
   "cell_type": "code",
   "execution_count": 51,
   "metadata": {
    "collapsed": false
   },
   "outputs": [
    {
     "name": "stdout",
     "output_type": "stream",
     "text": [
      "Part 1 num appears correct\n",
      "Part 1 name appears correct\n",
      "Part 1 rn appears correct\n",
      "Part 1 c appears correct\n"
     ]
    }
   ],
   "source": [
    "def readPDBfile(filename):\n",
    "    anum= []\n",
    "    aname= []\n",
    "    resno= []\n",
    "    coordsx= []\n",
    "    coordsy= []\n",
    "    coordsz= []\n",
    "    '''read a PDB file, extract the ATOM lines, and return\n",
    "       atom number, atom name, residue number, and coords for each'''\n",
    "    for atom in open(filename, 'r'):\n",
    "        if atom[0:6]== 'ATOM  ':\n",
    "            anum.append(int(atom[6:11]))\n",
    "            aname.append(atom[12:16])\n",
    "            resno.append(int(atom[22:26]))\n",
    "            coordsx.append(float(atom[30:38]))\n",
    "            coordsy.append(float(atom[38:46]))\n",
    "            coordsz.append(float(atom[46:54]))\n",
    "\n",
    "    anum = np.array(anum)\n",
    "    aname = np.array(aname)\n",
    "    coordsx = np.array(coordsx)\n",
    "    coordsy = np.array(coordsy)\n",
    "    coordsz= np.array(coordsz)\n",
    "    coords= np.array([coordsx, coordsy, coordsz]).T\n",
    "    resno = np.array(resno)\n",
    "\n",
    "    return (anum, aname, resno, coords)\n",
    "\n",
    "# Now we will call your function to test it.\n",
    "# We also use these values for testing in the later parts\n",
    "num, name, rn, c = readPDBfile('7HVP.pdb')\n",
    "\n",
    "check(\"Part 1 num\", num, points=4)\n",
    "check(\"Part 1 name\", name, points=4)\n",
    "check(\"Part 1 rn\", rn, points=4)\n",
    "check(\"Part 1 c\", c, points=4)\n",
    "\n"
   ]
  },
  {
   "cell_type": "markdown",
   "metadata": {},
   "source": [
    "## 2. Draw a 3D graph of the Calpha backbone of the protein.\n",
    "\n",
    "Write a function <tt>drawCA(aname, coords)</tt> that uses <tt>Axes3d.plot</tt> to draw the Calpha backbone of the protein: it should connect atoms with name <tt> ' CA ' </tt> (that is SPACE C A SPACE) in sequence, and ignore all the other atoms.  Information about how to make the 3D plot is in the help section below."
   ]
  },
  {
   "cell_type": "code",
   "execution_count": 53,
   "metadata": {
    "collapsed": false
   },
   "outputs": [
    {
     "ename": "TypeError",
     "evalue": "object of type 'numpy.float64' has no len()",
     "output_type": "error",
     "traceback": [
      "\u001b[0;31m---------------------------------------------------------------------------\u001b[0m",
      "\u001b[0;31mTypeError\u001b[0m                                 Traceback (most recent call last)",
      "\u001b[0;32m<ipython-input-53-30b44314099f>\u001b[0m in \u001b[0;36m<module>\u001b[0;34m()\u001b[0m\n\u001b[1;32m     11\u001b[0m \u001b[0;34m\u001b[0m\u001b[0m\n\u001b[1;32m     12\u001b[0m \u001b[0;31m# test your functions\u001b[0m\u001b[0;34m\u001b[0m\u001b[0;34m\u001b[0m\u001b[0m\n\u001b[0;32m---> 13\u001b[0;31m \u001b[0mdrawCA\u001b[0m\u001b[0;34m(\u001b[0m\u001b[0mname\u001b[0m\u001b[0;34m,\u001b[0m \u001b[0mc\u001b[0m\u001b[0;34m)\u001b[0m\u001b[0;34m\u001b[0m\u001b[0m\n\u001b[0m\u001b[1;32m     14\u001b[0m \u001b[0;34m\u001b[0m\u001b[0m\n\u001b[1;32m     15\u001b[0m \u001b[0mcheck\u001b[0m\u001b[0;34m(\u001b[0m\u001b[0;34m'Part 2 fig'\u001b[0m\u001b[0;34m,\u001b[0m \u001b[0mpylab\u001b[0m\u001b[0;34m.\u001b[0m\u001b[0mgcf\u001b[0m\u001b[0;34m(\u001b[0m\u001b[0;34m)\u001b[0m\u001b[0;34m,\u001b[0m \u001b[0mpoints\u001b[0m\u001b[0;34m=\u001b[0m\u001b[0;36m14\u001b[0m\u001b[0;34m)\u001b[0m\u001b[0;34m\u001b[0m\u001b[0m\n",
      "\u001b[0;32m<ipython-input-53-30b44314099f>\u001b[0m in \u001b[0;36mdrawCA\u001b[0;34m(aname, coords)\u001b[0m\n\u001b[1;32m      5\u001b[0m     \u001b[0;32mfor\u001b[0m \u001b[0mi\u001b[0m \u001b[0;32min\u001b[0m \u001b[0mrange\u001b[0m\u001b[0;34m(\u001b[0m\u001b[0mlen\u001b[0m\u001b[0;34m(\u001b[0m\u001b[0maname\u001b[0m\u001b[0;34m)\u001b[0m\u001b[0;34m)\u001b[0m\u001b[0;34m:\u001b[0m\u001b[0;34m\u001b[0m\u001b[0m\n\u001b[1;32m      6\u001b[0m         \u001b[0;32mif\u001b[0m \u001b[0maname\u001b[0m\u001b[0;34m[\u001b[0m\u001b[0mi\u001b[0m\u001b[0;34m]\u001b[0m \u001b[0;34m==\u001b[0m \u001b[0;34m' CA '\u001b[0m\u001b[0;34m:\u001b[0m\u001b[0;34m\u001b[0m\u001b[0m\n\u001b[0;32m----> 7\u001b[0;31m             \u001b[0max\u001b[0m\u001b[0;34m.\u001b[0m\u001b[0mplot\u001b[0m\u001b[0;34m(\u001b[0m\u001b[0mcoords\u001b[0m\u001b[0;34m[\u001b[0m\u001b[0mi\u001b[0m\u001b[0;34m,\u001b[0m\u001b[0;36m0\u001b[0m\u001b[0;34m]\u001b[0m\u001b[0;34m,\u001b[0m \u001b[0mcoords\u001b[0m\u001b[0;34m[\u001b[0m\u001b[0mi\u001b[0m\u001b[0;34m,\u001b[0m\u001b[0;36m1\u001b[0m\u001b[0;34m]\u001b[0m\u001b[0;34m,\u001b[0m \u001b[0mcoords\u001b[0m\u001b[0;34m[\u001b[0m\u001b[0mi\u001b[0m\u001b[0;34m,\u001b[0m\u001b[0;36m2\u001b[0m\u001b[0;34m]\u001b[0m\u001b[0;34m)\u001b[0m\u001b[0;34m\u001b[0m\u001b[0m\n\u001b[0m\u001b[1;32m      8\u001b[0m \u001b[0;34m\u001b[0m\u001b[0m\n\u001b[1;32m      9\u001b[0m     \u001b[0;31m# your work goes here\u001b[0m\u001b[0;34m\u001b[0m\u001b[0;34m\u001b[0m\u001b[0m\n",
      "\u001b[0;32m/Users/zewalker/anaconda/lib/python3.5/site-packages/mpl_toolkits/mplot3d/axes3d.py\u001b[0m in \u001b[0;36mplot\u001b[0;34m(self, xs, ys, *args, **kwargs)\u001b[0m\n\u001b[1;32m   1537\u001b[0m         \u001b[0;31m# Match length\u001b[0m\u001b[0;34m\u001b[0m\u001b[0;34m\u001b[0m\u001b[0m\n\u001b[1;32m   1538\u001b[0m         \u001b[0;32mif\u001b[0m \u001b[0;32mnot\u001b[0m \u001b[0mcbook\u001b[0m\u001b[0;34m.\u001b[0m\u001b[0miterable\u001b[0m\u001b[0;34m(\u001b[0m\u001b[0mzs\u001b[0m\u001b[0;34m)\u001b[0m\u001b[0;34m:\u001b[0m\u001b[0;34m\u001b[0m\u001b[0m\n\u001b[0;32m-> 1539\u001b[0;31m             \u001b[0mzs\u001b[0m \u001b[0;34m=\u001b[0m \u001b[0mnp\u001b[0m\u001b[0;34m.\u001b[0m\u001b[0mones\u001b[0m\u001b[0;34m(\u001b[0m\u001b[0mlen\u001b[0m\u001b[0;34m(\u001b[0m\u001b[0mxs\u001b[0m\u001b[0;34m)\u001b[0m\u001b[0;34m)\u001b[0m \u001b[0;34m*\u001b[0m \u001b[0mzs\u001b[0m\u001b[0;34m\u001b[0m\u001b[0m\n\u001b[0m\u001b[1;32m   1540\u001b[0m \u001b[0;34m\u001b[0m\u001b[0m\n\u001b[1;32m   1541\u001b[0m         \u001b[0mlines\u001b[0m \u001b[0;34m=\u001b[0m \u001b[0mAxes\u001b[0m\u001b[0;34m.\u001b[0m\u001b[0mplot\u001b[0m\u001b[0;34m(\u001b[0m\u001b[0mself\u001b[0m\u001b[0;34m,\u001b[0m \u001b[0mxs\u001b[0m\u001b[0;34m,\u001b[0m \u001b[0mys\u001b[0m\u001b[0;34m,\u001b[0m \u001b[0;34m*\u001b[0m\u001b[0margs\u001b[0m\u001b[0;34m[\u001b[0m\u001b[0margsi\u001b[0m\u001b[0;34m:\u001b[0m\u001b[0;34m]\u001b[0m\u001b[0;34m,\u001b[0m \u001b[0;34m**\u001b[0m\u001b[0mkwargs\u001b[0m\u001b[0;34m)\u001b[0m\u001b[0;34m\u001b[0m\u001b[0m\n",
      "\u001b[0;31mTypeError\u001b[0m: object of type 'numpy.float64' has no len()"
     ]
    },
    {
     "data": {
      "image/png": "[encoded data removed]",
      "text/plain": [
       "<matplotlib.figure.Figure at 0x10ab43fd0>"
      ]
     },
     "metadata": {},
     "output_type": "display_data"
    }
   ],
   "source": [
    "def drawCA(aname, coords):\n",
    "    '''plot the Calpha backbone of an atom'''\n",
    "    fig = pylab.figure()\n",
    "    ax= Axes3D(fig)\n",
    "    for i in range(len(aname)):\n",
    "        if aname[i] == ' CA ':\n",
    "            ax.plot(coords[i,0], coords[i,1], coords[i,2])\n",
    "\n",
    "    # your work goes here\n",
    "    \n",
    "\n",
    "# test your functions\n",
    "drawCA(name, c)\n",
    "\n",
    "check('Part 2 fig', pylab.gcf(), points=14)\n"
   ]
  },
  {
   "cell_type": "markdown",
   "metadata": {},
   "source": [
    "## 3. List the Hbonds\n",
    "\n",
    "Write a function <tt>Hbonds(anum, aname, resno, coords)</tt> that looks for pairs with a Nitrogen (second letter of the name is 'N') and Oxygen (second letter is 'O') atoms whose distance is between 2.6 and 3.2 angstroms, inclusive. Such a pair is deemed to form a hydrogen bond if the residue sequence numbers of these atoms differ by at least 2. Return a list containing the pairs of atom numbers for hydrogen bonding pairs."
   ]
  },
  {
   "cell_type": "code",
   "execution_count": 77,
   "metadata": {
    "collapsed": false
   },
   "outputs": [
    {
     "ename": "IndexError",
     "evalue": "failed to coerce slice entry of type numpy.str_ to integer",
     "output_type": "error",
     "traceback": [
      "\u001b[0;31m---------------------------------------------------------------------------\u001b[0m",
      "\u001b[0;31mIndexError\u001b[0m                                Traceback (most recent call last)",
      "\u001b[0;32m<ipython-input-77-7592e4731197>\u001b[0m in \u001b[0;36m<module>\u001b[0;34m()\u001b[0m\n\u001b[1;32m     17\u001b[0m     \u001b[0;31m#your work goes here\u001b[0m\u001b[0;34m\u001b[0m\u001b[0;34m\u001b[0m\u001b[0m\n\u001b[1;32m     18\u001b[0m \u001b[0;31m# now we test your Hbonds function\u001b[0m\u001b[0;34m\u001b[0m\u001b[0;34m\u001b[0m\u001b[0m\n\u001b[0;32m---> 19\u001b[0;31m \u001b[0mpairs3\u001b[0m \u001b[0;34m=\u001b[0m \u001b[0mHbonds\u001b[0m\u001b[0;34m(\u001b[0m\u001b[0mnum\u001b[0m\u001b[0;34m,\u001b[0m \u001b[0mname\u001b[0m\u001b[0;34m,\u001b[0m \u001b[0mrn\u001b[0m\u001b[0;34m,\u001b[0m \u001b[0mc\u001b[0m\u001b[0;34m)\u001b[0m\u001b[0;34m\u001b[0m\u001b[0m\n\u001b[0m\u001b[1;32m     20\u001b[0m \u001b[0;34m\u001b[0m\u001b[0m\n\u001b[1;32m     21\u001b[0m \u001b[0mcheck\u001b[0m\u001b[0;34m(\u001b[0m\u001b[0;34m'Part 3 pairs'\u001b[0m\u001b[0;34m,\u001b[0m \u001b[0mnp\u001b[0m\u001b[0;34m.\u001b[0m\u001b[0marray\u001b[0m\u001b[0;34m(\u001b[0m\u001b[0msorted\u001b[0m\u001b[0;34m(\u001b[0m\u001b[0mpairs3\u001b[0m\u001b[0;34m)\u001b[0m\u001b[0;34m)\u001b[0m\u001b[0;34m,\u001b[0m \u001b[0mpoints\u001b[0m\u001b[0;34m=\u001b[0m\u001b[0;36m20\u001b[0m\u001b[0;34m)\u001b[0m\u001b[0;34m\u001b[0m\u001b[0m\n",
      "\u001b[0;32m<ipython-input-77-7592e4731197>\u001b[0m in \u001b[0;36mHbonds\u001b[0;34m(anum, aname, resno, coords)\u001b[0m\n\u001b[1;32m      7\u001b[0m             \u001b[0;32mfor\u001b[0m \u001b[0mj\u001b[0m \u001b[0;32min\u001b[0m \u001b[0maname\u001b[0m\u001b[0;34m:\u001b[0m\u001b[0;34m\u001b[0m\u001b[0m\n\u001b[1;32m      8\u001b[0m                 \u001b[0;32mif\u001b[0m \u001b[0mj\u001b[0m\u001b[0;34m[\u001b[0m\u001b[0;36m1\u001b[0m\u001b[0;34m]\u001b[0m \u001b[0;34m==\u001b[0m \u001b[0;34m'O'\u001b[0m\u001b[0;34m:\u001b[0m\u001b[0;34m\u001b[0m\u001b[0m\n\u001b[0;32m----> 9\u001b[0;31m                     \u001b[0;32mif\u001b[0m \u001b[0;36m2.6\u001b[0m \u001b[0;34m<\u001b[0m \u001b[0mnp\u001b[0m\u001b[0;34m.\u001b[0m\u001b[0msqrt\u001b[0m\u001b[0;34m(\u001b[0m\u001b[0mnp\u001b[0m\u001b[0;34m.\u001b[0m\u001b[0msum\u001b[0m\u001b[0;34m(\u001b[0m\u001b[0;34m(\u001b[0m\u001b[0mcoords\u001b[0m\u001b[0;34m[\u001b[0m\u001b[0mi\u001b[0m\u001b[0;34m:\u001b[0m\u001b[0;34m,\u001b[0m\u001b[0;34m:\u001b[0m\u001b[0;34m]\u001b[0m\u001b[0;34m-\u001b[0m \u001b[0mcoords\u001b[0m\u001b[0;34m[\u001b[0m\u001b[0mj\u001b[0m\u001b[0;34m:\u001b[0m\u001b[0;34m,\u001b[0m\u001b[0;34m:\u001b[0m\u001b[0;34m]\u001b[0m\u001b[0;34m)\u001b[0m\u001b[0;34m**\u001b[0m\u001b[0;36m2\u001b[0m\u001b[0;34m)\u001b[0m\u001b[0;34m)\u001b[0m \u001b[0;34m<\u001b[0m \u001b[0;36m3.2\u001b[0m\u001b[0;34m:\u001b[0m\u001b[0;34m\u001b[0m\u001b[0m\n\u001b[0m\u001b[1;32m     10\u001b[0m                         \u001b[0;32mif\u001b[0m \u001b[0mresno\u001b[0m\u001b[0;34m[\u001b[0m\u001b[0mi\u001b[0m\u001b[0;34m]\u001b[0m\u001b[0;34m-\u001b[0m\u001b[0mresno\u001b[0m\u001b[0;34m[\u001b[0m\u001b[0mj\u001b[0m\u001b[0;34m]\u001b[0m\u001b[0;34m>\u001b[0m \u001b[0;36m2\u001b[0m \u001b[0;34m|\u001b[0m \u001b[0mresno\u001b[0m\u001b[0;34m[\u001b[0m\u001b[0mj\u001b[0m\u001b[0;34m]\u001b[0m\u001b[0;34m-\u001b[0m\u001b[0mresno\u001b[0m\u001b[0;34m[\u001b[0m\u001b[0mi\u001b[0m\u001b[0;34m]\u001b[0m\u001b[0;34m>\u001b[0m \u001b[0;36m2\u001b[0m\u001b[0;34m:\u001b[0m\u001b[0;34m\u001b[0m\u001b[0m\n\u001b[1;32m     11\u001b[0m                             \u001b[0mpairs\u001b[0m\u001b[0;34m.\u001b[0m\u001b[0mappend\u001b[0m\u001b[0;34m(\u001b[0m\u001b[0;34m(\u001b[0m\u001b[0mi\u001b[0m\u001b[0;34m,\u001b[0m\u001b[0mj\u001b[0m\u001b[0;34m)\u001b[0m\u001b[0;34m)\u001b[0m\u001b[0;34m\u001b[0m\u001b[0m\n",
      "\u001b[0;31mIndexError\u001b[0m: failed to coerce slice entry of type numpy.str_ to integer"
     ]
    }
   ],
   "source": [
    "# this is the function you must write\n",
    "pairs= []\n",
    "def Hbonds(anum, aname, resno, coords):\n",
    "    '''Find hydrogen bonds'''\n",
    "    for i in aname:\n",
    "        if i[1] == 'N':\n",
    "            for j in aname:\n",
    "                if j[1] == 'O':\n",
    "                    if 2.6 < np.sqrt(np.sum((coords[i:,:]- coords[j:,:])**2)) < 3.2:\n",
    "                        if resno[i]-resno[j]> 2 | resno[j]-resno[i]> 2:\n",
    "                            pairs.append((i,j))\n",
    "    return(pairs)\n",
    "                        \n",
    "                    \n",
    "# build up the result in this list\n",
    "\n",
    "    #your work goes here\n",
    "# now we test your Hbonds function\n",
    "pairs3 = Hbonds(num, name, rn, c)\n",
    "\n",
    "check('Part 3 pairs', np.array(sorted(pairs3)), points=20)"
   ]
  },
  {
   "cell_type": "markdown",
   "metadata": {},
   "source": [
    "## 4. Now use your functions on the second protein. "
   ]
  },
  {
   "cell_type": "code",
   "execution_count": 6,
   "metadata": {
    "collapsed": false
   },
   "outputs": [],
   "source": [
    "# load the data\n",
    "num1GFL, name1GFL, rn1GFL, c1GFL = readPDBfile('1GFL.pdb')\n",
    "\n",
    "check(\"Part 4 num\", num1GFL, points=4)\n",
    "check(\"Part 4 name\", name1GFL, points=4)\n",
    "check(\"Part 4 rn\", rn1GFL, points=4)\n",
    "check(\"Part 4 c\", c1GFL, points=4)\n",
    "\n",
    "# draw the graph\n",
    "drawCA(name1GFL, c1GFL)\n",
    "\n",
    "check('Part 4 fig', pylab.gcf(), points=14)\n",
    "\n",
    "# list the Hbonds\n",
    "pairs1GFL = Hbonds(num1GFL, name1GFL, rn1GFL, c1GFL)\n",
    "\n",
    "check('Part 4 pairs', np.array(sorted(pairs1GFL)), points=20)\n"
   ]
  },
  {
   "cell_type": "markdown",
   "metadata": {},
   "source": [
    "# Helps\n",
    "\n",
    "## Opening and Reading files\n",
    "\n",
    "Reading a file such as `7hvp.pdb` (for HIV protease) is easy in Python. You can simply say:\n",
    "\n",
    "    for line in open('7hvp.pdb', 'r'):\n",
    "        # do something for every line\n",
    "            \n",
    "The first argument to the `open` function is a string giving the name of the file. The second argument to the `open` function is a string indicating the file mode. We're using `'r'` here because we are reading the file. Other possible values include `'w'` for creating a new file to write and `'a'` for appending to an existing file.\n",
    "\n",
    "If the first six characters of the line are `'ATOM  '` (2 spaces on the end) then that line has interesting information. The numbers and names occupy fixed positions on a line, so you can extract them with indexing and convert them from strings to numbers, if necessary, in your reader.\n"
   ]
  },
  {
   "cell_type": "markdown",
   "metadata": {},
   "source": [
    "## Format of ATOM records\n",
    "\n",
    "This is from the documentation of the PDB format on the rcsb web site.\n",
    "\n",
    "<pre>\n",
    "COLUMNS        DATA TYPE           CONTENTS\n",
    "--------------------------------------------------------------------------------\n",
    " 1- 6          Record name         \"ATOM  \"\n",
    " 7 - 11        Integer             Atom serial number.\n",
    "13 - 16        Atom                Atom name.\n",
    "17             Character           Alternate location indicator.\n",
    "18 - 20        Residue name        Residue name.\n",
    "22             Character           Chain identifier.\n",
    "23 - 26        Integer             Residue sequence number.\n",
    "27             AChar               Code for insertion of residues.\n",
    "31 - 38        Real(8.3)           Orthogonal coordinates for X in Angstroms.\n",
    "39 - 46        Real(8.3)           Orthogonal coordinates for Y in Angstroms.\n",
    "47 - 54        Real(8.3)           Orthogonal coordinates for Z in Angstroms.\n",
    "55 - 60        Real(6.2)           Occupancy.\n",
    "61 - 66        Real(6.2)           Temperature factor (Default = 0.0).\n",
    "73 - 76        LString(4)          Segment identifier, left-justified.\n",
    "77 - 78        LString(2)          Element symbol, right-justified.\n",
    "79 - 80        LString(2)          Charge on the atom.\n",
    "</pre>\n",
    "\n",
    "**Example:**\n",
    "\n",
    "<pre>\n",
    "         1         2         3         4         5         6         7         8\n",
    "12345678901234567890123456789012345678901234567890123456789012345678901234567890\n",
    "ATOM      1  N   PRO A   1      -3.260   7.392  33.952  1.00 24.47           N\n",
    "ATOM      2  CA  PRO A   1      -2.317   6.655  34.795  1.00 22.40           C\n",
    "ATOM      3  C   PRO A   1      -0.919   6.658  34.208  1.00 20.82           C\n",
    "ATOM      4  O   PRO A   1      -0.802   7.111  33.058  1.00 21.07           O\n",
    "ATOM      5  CB  PRO A   1      -2.897   5.256  34.804  1.00 23.12           C\n",
    "ATOM      6  CG  PRO A   1      -4.336   5.353  34.377  1.00 24.12           C\n",
    "ATOM      7  CD  PRO A   1      -4.607   6.783  33.948  1.00 24.43           C\n",
    "</pre>"
   ]
  },
  {
   "cell_type": "markdown",
   "metadata": {},
   "source": [
    "### Other hints\n",
    "\n",
    "1. Do **not** modify data files! Your readPDBfile should work on any of the files.\n",
    "2. Your reader returns many variables. To capture them all, you'll have to call it with a line something like this: `a, an, rn, c = readPDBfile('A4/7hvp.pdb')`. This is called an unpacking assignment, the thing on the right of the = operator is a sequence, so python knows to unpack it into the variables listed. The number of variables must match the length of the sequence or you'll get an error message.\n",
    "3. To plot the 3D line drawings requested use the Axes3D object like this:\n",
    "<pre>\n",
    "    fig = pylab.figure()\n",
    "    ax = Axes3D(fig)\n",
    "    ax.plot(x, y, z) # x, y, and z are 1D arrays\n",
    "</pre>    \n",
    "4. Compare strings with the usual comparison operators we used for numbers.\n",
    "5. Numpy arrays of strings are a bit strange. To get the second character of the name in order to determine its type, you'll need to subscript the array to get the string and then subscript the resulting string. You can't say `aname[3, 1]` to get the 2nd character of the 4th atom name. Instead you have to say `aname[3][1]`.\n",
    "6. Break the problems down into small tasks. When making your loops, think of what has to be done once (like opening the file) and what has to be done repeatedly (like processing the line.)\n"
   ]
  },
  {
   "cell_type": "code",
   "execution_count": 7,
   "metadata": {
    "collapsed": false
   },
   "outputs": [],
   "source": [
    "#more help in code form, nothing to do here\n",
    "\n",
    "#strings have several methods that you will find useful for this assignment\n",
    "s = 'aBc'\n",
    "t = s.upper() # make it all upper case\n",
    "u = t.lower() # make that all lower case\n",
    "print(s, t, u)\n",
    "\n",
    "# we can convert from strings to integers or floats\n",
    "s = '123'  # a string with the characters 1, 2, and 3\n",
    "i = int(s)  # now it is the number 123 (one hundred twenty three)\n",
    "\n",
    "# note that they look the same when we print them but their types are different\n",
    "print(s, i)\n",
    "print(type(s), type(i))\n",
    "\n",
    "t = '3.14'  # a string with characters 3, period, 1, and 4\n",
    "f = float(t)  # a floating point number 3.14\n",
    "\n",
    "print(t, f)\n",
    "print(type(t), type(f))"
   ]
  },
  {
   "cell_type": "markdown",
   "metadata": {},
   "source": [
    "## Done!\n",
    "\n",
    "Now get your report and submit your assignment."
   ]
  },
  {
   "cell_type": "code",
   "execution_count": 8,
   "metadata": {
    "collapsed": false
   },
   "outputs": [],
   "source": [
    "report(Author, Collaborators)"
   ]
  },
  {
   "cell_type": "code",
   "execution_count": null,
   "metadata": {
    "collapsed": false
   },
   "outputs": [],
   "source": []
  }
 ],
 "metadata": {
  "anaconda-cloud": {},
  "kernelspec": {
   "display_name": "Python [Root]",
   "language": "python",
   "name": "Python [Root]"
  },
  "language_info": {
   "codemirror_mode": {
    "name": "ipython",
    "version": 3
   },
   "file_extension": ".py",
   "mimetype": "text/x-python",
   "name": "python",
   "nbconvert_exporter": "python",
   "pygments_lexer": "ipython3",
   "version": "3.5.2"
  }
 },
 "nbformat": 4,
 "nbformat_minor": 0
}
