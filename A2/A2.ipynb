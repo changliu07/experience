{
 "cells": [
  {
   "cell_type": "markdown",
   "metadata": {},
   "source": [
    "# Assignment 2\n",
    "\n",
    "**Due 3 October 2016**\n",
    "\n",
    "**Note:** You do not need, nor should you use loops on this assignment. There are more hints down at the [bottom of this notebook](#Hints).\n",
    "\n",
    "**Remember** always start work at the top of the notebook and execute every cell."
   ]
  },
  {
   "cell_type": "code",
   "execution_count": 1,
   "metadata": {
    "collapsed": false
   },
   "outputs": [],
   "source": [
    "# Put your onyen between the quotes\n",
    "Author = 'zewalker'\n",
    "\n",
    "# If you have no collaborators then remove all the strings from this list\n",
    "# it should look like Collaborators = [ ]\n",
    "Collaborators = [ ]"
   ]
  },
  {
   "cell_type": "markdown",
   "metadata": {},
   "source": [
    "## Learning Objective\n",
    "\n",
    "In this assignment you'll define **functions** and then use them to define more advanced functions, and then use those for yet more advanced functions. You will apply functions multiple times (functional composition) and see the results.\n",
    "\n",
    "The problem domain of this assignment is binary images but **functions** are the subject. Don't worry about being asked on exams about image processing. \n",
    "\n",
    "Of course, you'll get further practice using the powerful array operations."
   ]
  },
  {
   "cell_type": "markdown",
   "metadata": {},
   "source": [
    "# Introduction\n",
    "\n",
    "In this assignment you will create new functions in Python for processing simple binary images with a single bright object in the foreground, and a dark background. The foreground has intensity 1, and the background intensity 0, so at times it is convenient to think of the image as an matrix of boolean (True/False) data. The images for this assignment came from the [Laboratory for Engineering Man/Machine Systems at Brown University](https://www.brown.edu/research/labs/engineering-man-machine-systems/systems/).\n",
    "\n",
    "Below left is a binary image that shows a bright square in the dark background.\n",
    "\n",
    "<img src=\"files/BinaryImages.png\" />\n",
    "\n",
    "## Part 1: Scrolling the Image\n",
    "\n",
    "Much of the animation in old video games, like Pacman and Super Mario Brothers, consists of a foreground image scrolling across a fixed background. Above right is what the box image looks like after scrolling left and right, respectively. You can make the foreground in a binary image scroll by clever array indexing.\n",
    "\n",
    "For this part of the assignment, you will create four different functions. Each function will take two parameters; the first is the binary image data, and the second is a number of pixels. Each function will return one value: the new binary image that is the same size as the input image. The names of the functions should be: scrollLeft, scrollRight, scrollUp, scrollDown and they should cause the foreground of the image parameter to move in the appropriate direction by the specified number of pixels. You may assume that the number of pixels specified in the second parameter is always smaller than the size of the image in the relevant direction. You should also assume that the background extends to infinity. When part of the image scrolls off of one side, you should create more 0s on the other side, so that the output image is the same size as the input image."
   ]
  },
  {
   "cell_type": "code",
   "execution_count": 1,
   "metadata": {
    "collapsed": false
   },
   "outputs": [
    {
     "data": {
      "text/plain": [
       "<matplotlib.text.Text at 0x10ca07be0>"
      ]
     },
     "execution_count": 1,
     "metadata": {},
     "output_type": "execute_result"
    },
    {
     "data": {
      "image/png": "[encoded data removed]",
      "text/plain": [
       "<matplotlib.figure.Figure at 0x10a5e3f60>"
      ]
     },
     "metadata": {},
     "output_type": "display_data"
    }
   ],
   "source": [
    "# first some setup code and a few helper functions\n",
    "\n",
    "# don't change anything in this cell\n",
    "\n",
    "%matplotlib inline\n",
    "import numpy as np\n",
    "import pylab\n",
    "\n",
    "# we use the comp116 module to provide feedback, you wouldn't use it in a real application\n",
    "import comp116\n",
    "\n",
    "check, report = comp116.start('A2')\n",
    "\n",
    "# This is a helper to load images\n",
    "# you won't need to modify it\n",
    "def load_binary_image(name):\n",
    "    '''Load a binary image from a file'''\n",
    "    im = pylab.imread(name)\n",
    "    if im.ndim == 3:\n",
    "        result = im[:, :, 0] != 0\n",
    "    elif im.ndim == 2:\n",
    "        result = im != 0\n",
    "    return result\n",
    "\n",
    "# and load and display the test image\n",
    "# don't change this\n",
    "test_image = load_binary_image('test.png')\n",
    "pylab.imshow(test_image, cmap=pylab.gray())\n",
    "pylab.title('Test image')"
   ]
  },
  {
   "cell_type": "markdown",
   "metadata": {},
   "source": [
    "Prototypes for the functions you are to write are included below. **You will add code in each of the functions.**\n",
    "\n",
    "**Important note** The code you write inside these functions should only refer to the parameters `img` and `amt`; _never_ to the global variable `test_image`."
   ]
  },
  {
   "cell_type": "code",
   "execution_count": 2,
   "metadata": {
    "collapsed": false
   },
   "outputs": [],
   "source": [
    "def scrollLeft(img, amt):\n",
    "    '''Return a new image that is the given image scrolled left by amt pixels'''\n",
    "    new = np.zeros_like(img)\n",
    "    new[:,:-amt]=img[:,amt:]\n",
    "    # do something to fill in values in new here\n",
    "\n",
    "    return new\n",
    "\n",
    "def scrollRight(img, amt):\n",
    "    '''Return a new image that is the given image scrolled right by amt pixels'''\n",
    "    new = np.zeros_like(img)\n",
    "    new[:,amt:]=img[:,0:-amt]\n",
    "    # do something to fill in values in new here\n",
    "\n",
    "    return new\n",
    "\n",
    "def scrollUp(img, amt):\n",
    "    '''Return a new image that is the given image scrolled up by amt pixels'''\n",
    "    new = np.zeros_like(img)\n",
    "    new[:-amt,:]=img[amt:,:]\n",
    "    # do something to fill in values in new here\n",
    "    \n",
    "    return new\n",
    "\n",
    "\n",
    "def scrollDown(img, amt):\n",
    "    '''Return a new image that is the given image scrolled down by amt pixels'''\n",
    "    new = np.zeros_like(img)\n",
    "    new[amt:,:]=img[0:-amt,:]\n",
    "    # do something to fill in values in new here\n",
    "\n",
    "    return new\n",
    "\n",
    "# This is a check to help prevent you from using global variables\n",
    "comp116.no_globals(scrollLeft, scrollRight, scrollUp, scrollDown)"
   ]
  },
  {
   "cell_type": "markdown",
   "metadata": {},
   "source": [
    "After writing your functions, test them on the image provided with the assignment.\n",
    "\n",
    "Use your functions to produce the following results. We show a small sample of how your image should appear over to the right.\n",
    "\n",
    "<img src=\"files/sample1A.png\" style=\"float: right; height: 150px\" />\n",
    "\n",
    "### 1A. Scroll the image up by 10 pixels."
   ]
  },
  {
   "cell_type": "code",
   "execution_count": 3,
   "metadata": {
    "collapsed": false
   },
   "outputs": [
    {
     "name": "stdout",
     "output_type": "stream",
     "text": [
      "Part 1A appears correct\n"
     ]
    },
    {
     "data": {
      "image/png": "[encoded data removed]",
      "text/plain": [
       "<matplotlib.figure.Figure at 0x10a615eb8>"
      ]
     },
     "metadata": {},
     "output_type": "display_data"
    }
   ],
   "source": [
    "# we provide the code for you this time, no need to change\n",
    "up10 = scrollUp(test_image, 10)\n",
    "\n",
    "# and display it so you can see your work\n",
    "pylab.imshow(up10, cmap=pylab.gray())\n",
    "\n",
    "# and call the checker to see if you got your function definition correct.\n",
    "check('Part 1A', up10, points=5)"
   ]
  },
  {
   "cell_type": "markdown",
   "metadata": {},
   "source": [
    "<img src=\"files/sample1B.png\" style=\"float: right; height: 150px\" />\n",
    "\n",
    "### 1B. Scroll the result of part A down by 10 pixels."
   ]
  },
  {
   "cell_type": "code",
   "execution_count": 4,
   "metadata": {
    "collapsed": false
   },
   "outputs": [
    {
     "name": "stdout",
     "output_type": "stream",
     "text": [
      "Part 1B appears correct\n"
     ]
    },
    {
     "data": {
      "image/png": "[encoded data removed]",
      "text/plain": [
       "<matplotlib.figure.Figure at 0x10cb0e0b8>"
      ]
     },
     "metadata": {},
     "output_type": "display_data"
    }
   ],
   "source": [
    "# again we do the test for you\n",
    "updown10 = scrollDown(up10, 10)\n",
    "\n",
    "# and display it so we can see our work\n",
    "pylab.imshow(updown10, cmap=pylab.gray())\n",
    "\n",
    "# and call the checker to see if you got this part correct.\n",
    "check('Part 1B', updown10, points=5)"
   ]
  },
  {
   "cell_type": "markdown",
   "metadata": {},
   "source": [
    "<img src=\"files/sample1C.png\" style=\"float: right; height: 150px\" />\n",
    "\n",
    "### 1C. Scroll the test image left by half of its width. \n",
    "\n",
    "**Note:** Do not hardcode the width, you must extract it from the test_image in your code. I will test your submission with an image having different dimensions."
   ]
  },
  {
   "cell_type": "code",
   "execution_count": 9,
   "metadata": {
    "collapsed": false
   },
   "outputs": [
    {
     "name": "stdout",
     "output_type": "stream",
     "text": [
      "Part 1C appears correct\n"
     ]
    },
    {
     "name": "stderr",
     "output_type": "stream",
     "text": [
      "/Users/zewalker/anaconda/lib/python3.5/site-packages/ipykernel/__main__.py:4: VisibleDeprecationWarning: using a non-integer number instead of an integer will result in an error in the future\n"
     ]
    },
    {
     "data": {
      "image/png": "[encoded data removed]",
      "text/plain": [
       "<matplotlib.figure.Figure at 0x10d1a9128>"
      ]
     },
     "metadata": {},
     "output_type": "display_data"
    }
   ],
   "source": [
    "# this time you get to write the code\n",
    "# put code here to shift test_image to the left by half of its width using your scrollLeft function.\n",
    "\n",
    "shape=np.shape(test_image)\n",
    "leftByHalf=scrollLeft(test_image, shape[1]/2) # replace this with a call to your scrollLeft\n",
    "\n",
    "# and display it so we can see our work\n",
    "pylab.imshow(leftByHalf, cmap=pylab.gray())\n",
    "\n",
    "# and call the checker to see if you got this part correct.\n",
    "check('Part 1C', leftByHalf, points=5)"
   ]
  },
  {
   "cell_type": "markdown",
   "metadata": {},
   "source": [
    "<img src=\"files/sample1D.png\" style=\"float: right; height: 150px\" />\n",
    "\n",
    "### 1D. Finally, scroll the result of the previous part back to the right by the same amount."
   ]
  },
  {
   "cell_type": "code",
   "execution_count": 10,
   "metadata": {
    "collapsed": false
   },
   "outputs": [
    {
     "name": "stdout",
     "output_type": "stream",
     "text": [
      "Part 1D appears correct\n"
     ]
    },
    {
     "name": "stderr",
     "output_type": "stream",
     "text": [
      "/Users/zewalker/anaconda/lib/python3.5/site-packages/ipykernel/__main__.py:12: VisibleDeprecationWarning: using a non-integer number instead of an integer will result in an error in the future\n"
     ]
    },
    {
     "data": {
      "image/png": "[encoded data removed]",
      "text/plain": [
       "<matplotlib.figure.Figure at 0x10d37fe48>"
      ]
     },
     "metadata": {},
     "output_type": "display_data"
    }
   ],
   "source": [
    "# put code here to shift the leftByHalf image produced above back to the right by the same amount \n",
    "# using your scrollRight function.\n",
    "\n",
    "rightByHalf = scrollRight(leftByHalf, shape[1]/2) # replace this with your code\n",
    "\n",
    "# and display it so we can see our work\n",
    "pylab.imshow(rightByHalf, cmap=pylab.gray())\n",
    "\n",
    "\n",
    "# and call the checker to see if you got this part correct.\n",
    "check('Part 1D', rightByHalf, points=5)\n"
   ]
  },
  {
   "cell_type": "markdown",
   "metadata": {},
   "source": [
    "# Part 2: Boundary Detector\n",
    "\n",
    "A common image-processing task is to identify the boundary (outline) of an object. Conceptually the boundary is the set of all pixels in the foreground that are adjacent to the background. Here is an image of a dachshund and another image of its boundary.\n",
    "\n",
    "<img src=\"files/BinaryBoundary.png\" />\n",
    "\n",
    "We can use the scrolling functions from the first part of this assignment to determine if a pixel is on the object boundary or not. Suppose that image is I, and LI is the result of the command:\n",
    "\n",
    "    LI = scrollLeft(I, 1).\n",
    "\n",
    "A pixel, [i,j] is on the right edge of the boundary if and only if I[i,j] is foreground and LI[i,j] is background. You can use the other scrolling functions from part 1 to identify the pixels on the other sides of the boundary. Combine these tests together with the correct logical operator, and you will be able to identify the entire boundary of the object. For this part of the assignment you will write one function that has one input parameter: a binary image, and returns a single value, a new binary image, where only the edge of the original object is in the foreground. (The boundary images you produce will have only black and white intensities.) You should name this function `findBoundary`.\n",
    "\n",
    "**Note:** Do not refer to the global variable `test_image` inside your function. You must only operate on the parameter `img`.\n",
    "\n",
    "**Hint:** Assume A and B are binary images (boolean arrays) with the same shape. The operation `A & B` produces `True` at pixels where both A and B are `True`. `A | B` produces `True` at pixels where either A or B are `True`. `~A` turns `True` into `False` and `False` into `True`.\n"
   ]
  },
  {
   "cell_type": "code",
   "execution_count": 13,
   "metadata": {
    "collapsed": false
   },
   "outputs": [],
   "source": [
    "def findBoundary(img):\n",
    "    rightboundary= ~scrollLeft(img, 1)&img\n",
    "    leftboundary= ~scrollRight(img, 1)&img\n",
    "    upperboundary= ~scrollDown(img, 1)&img\n",
    "    lowerboundary= ~scrollUp(img, 1)&img\n",
    "    objectboundary= (rightboundary | leftboundary | upperboundary | lowerboundary)\n",
    "    return objectboundary\n",
    "    '''Return an image that is one for boundary pixels and zero elsewhere'''\n",
    "\n",
    "# check to be sure you didn't use a global variable\n",
    "comp116.no_globals(findBoundary)"
   ]
  },
  {
   "cell_type": "markdown",
   "metadata": {},
   "source": [
    "<img src=\"files/sample2.png\" style=\"float: right; height: 150px\" />\n",
    "\n",
    "Now we can test your function. Your result should look like the sample to the right."
   ]
  },
  {
   "cell_type": "code",
   "execution_count": 14,
   "metadata": {
    "collapsed": false
   },
   "outputs": [
    {
     "name": "stdout",
     "output_type": "stream",
     "text": [
      "Part 2 appears correct\n"
     ]
    },
    {
     "data": {
      "image/png": "[encoded data removed]",
      "text/plain": [
       "<matplotlib.figure.Figure at 0x10d62c6a0>"
      ]
     },
     "metadata": {},
     "output_type": "display_data"
    }
   ],
   "source": [
    "# we'll call the function (no need to change this)\n",
    "boundary = findBoundary(test_image)\n",
    "# and display the result\n",
    "pylab.imshow(boundary, cmap=pylab.gray())\n",
    "\n",
    "\n",
    "check('Part 2', boundary, points=30)"
   ]
  },
  {
   "cell_type": "markdown",
   "metadata": {},
   "source": [
    "### Part 3: Dilate and Erode\n",
    "\n",
    "Two other famous image processing operations are dilate and erode. Dilate makes the foreground grow into the background, and erode makes the foreground shrink, as if the background were washing it away. Here is an example showing the dilation and erosion of an image of a robot. The original image in the center is from the collection at Brown. The eroded image is on the left, and the dilated image is on the right.\n",
    "\n",
    "<img src=\"files/BinaryDilateErode.png\" />\n",
    "\n",
    "It is easy to erode an image – just change the intensity of the boundary from 1 to 0. To dilate an image use a process similar to that you used to find the boundary to smear the image left, right, up, and down. For this problem you must write two, functions, each of which takes an image as an input, and returns a new image as its output. Name these functions `dilateImage` and `erodeImage`."
   ]
  },
  {
   "cell_type": "code",
   "execution_count": 10,
   "metadata": {
    "collapsed": false
   },
   "outputs": [],
   "source": [
    "# prototypes for your functions\n",
    "\n",
    "def dilateImage(img):\n",
    "    rightboundary= scrollLeft(img, 1)\n",
    "    leftboundary = scrollRight(img, 1)\n",
    "    upperboundary = scrollDown(img, 1)\n",
    "    lowerboundary = scrollUp (img, 1)\n",
    "    result = (rightboundary | leftboundary | upperboundary | lowerboundary | img)  # replace this with your code\n",
    "    # compute the dilation here and return it below\n",
    "\n",
    "    return result\n",
    "\n",
    "\n",
    "def erodeImage(img):\n",
    "    '''Return an image that is the erode of the input img'''\n",
    "    boundary= findBoundary(img)\n",
    "    result= img&~boundary\n",
    "     # replace this with your code\n",
    "    # compute the value of the erosion and return it below\n",
    "\n",
    "    return result\n",
    "\n",
    "comp116.no_globals(dilateImage, erodeImage)"
   ]
  },
  {
   "cell_type": "markdown",
   "metadata": {},
   "source": [
    "And we can test these two functions by applying them in several ways.\n",
    "\n",
    "<img src=\"files/sample3A.png\" style=\"float: right; height: 150px\" />\n",
    "\n",
    "**3A.** Dilate the original image, and then dilate that result, and then dilate that result as well. Display the final result.\n"
   ]
  },
  {
   "cell_type": "code",
   "execution_count": 11,
   "metadata": {
    "collapsed": false
   },
   "outputs": [
    {
     "name": "stdout",
     "output_type": "stream",
     "text": [
      "Part 3A appears correct\n"
     ]
    },
    {
     "data": {
      "image/png": "[encoded data removed]",
      "text/plain": [
       "<matplotlib.figure.Figure at 0x10d3ae2e8>"
      ]
     },
     "metadata": {},
     "output_type": "display_data"
    }
   ],
   "source": [
    "D3 = dilateImage(dilateImage(dilateImage(test_image)))\n",
    "pylab.imshow(D3, cmap=pylab.gray())\n",
    "\n",
    "check('Part 3A', D3, points=10)"
   ]
  },
  {
   "cell_type": "markdown",
   "metadata": {},
   "source": [
    "<img src=\"files/sample3B.png\" style=\"float: right; height: 150px\" />\n",
    "\n",
    "**3B.** Erode the original image, and then erode that result, and then erode that result also. Show the final result. \n",
    "\n",
    "This time you write the code below by replacing the `np.zeros_like(test_image)` with appropriate nested function calls as in the previous part."
   ]
  },
  {
   "cell_type": "code",
   "execution_count": 12,
   "metadata": {
    "collapsed": false
   },
   "outputs": [
    {
     "name": "stdout",
     "output_type": "stream",
     "text": [
      "Part 3B appears correct\n"
     ]
    },
    {
     "data": {
      "image/png": "[encoded data removed]",
      "text/plain": [
       "<matplotlib.figure.Figure at 0x10d4eff60>"
      ]
     },
     "metadata": {},
     "output_type": "display_data"
    }
   ],
   "source": [
    "E3 = erodeImage(erodeImage(erodeImage(test_image))) # replace this with your code\n",
    "pylab.imshow(E3, cmap=pylab.gray())\n",
    "\n",
    "check('Part 3B', E3, points=10)"
   ]
  },
  {
   "cell_type": "markdown",
   "metadata": {},
   "source": [
    "<img src=\"files/sample3C.png\" style=\"float: right; height: 150px\" />\n",
    "\n",
    "**3C.** Take the image you just produced – the result of three consecutive erosions. Now apply three consecutive dilations to it."
   ]
  },
  {
   "cell_type": "code",
   "execution_count": 13,
   "metadata": {
    "collapsed": false
   },
   "outputs": [
    {
     "name": "stdout",
     "output_type": "stream",
     "text": [
      "Part 3C appears correct\n"
     ]
    },
    {
     "data": {
      "image/png": "[encoded data removed]",
      "text/plain": [
       "<matplotlib.figure.Figure at 0x10d4d0198>"
      ]
     },
     "metadata": {},
     "output_type": "display_data"
    }
   ],
   "source": [
    "E3D3 = dilateImage(dilateImage(dilateImage(E3))) # replace this with your code\n",
    "pylab.imshow(E3D3, cmap=pylab.gray())\n",
    "\n",
    "check('Part 3C', E3D3, points=10)"
   ]
  },
  {
   "cell_type": "markdown",
   "metadata": {},
   "source": [
    "<img src=\"files/sample3D.png\" style=\"float: right; height: 150px\" />\n",
    "\n",
    "**3D.** Find the boundary of the original image, and then dilate the boundary image."
   ]
  },
  {
   "cell_type": "code",
   "execution_count": 14,
   "metadata": {
    "collapsed": false
   },
   "outputs": [
    {
     "name": "stdout",
     "output_type": "stream",
     "text": [
      "Part 3D appears correct\n"
     ]
    },
    {
     "data": {
      "image/png": "[encoded data removed]",
      "text/plain": [
       "<matplotlib.figure.Figure at 0x10d33f518>"
      ]
     },
     "metadata": {},
     "output_type": "display_data"
    }
   ],
   "source": [
    "DB = dilateImage(findBoundary(test_image)) # replace this\n",
    "pylab.imshow(DB, cmap=pylab.gray())\n",
    "check('Part 3D', DB, points=10)"
   ]
  },
  {
   "cell_type": "markdown",
   "metadata": {},
   "source": [
    "<img src=\"files/sample3E.png\" style=\"float: right; height: 150px\" />\n",
    "\n",
    "**3E.** Then take the original image, dilate it once, and then find its boundary."
   ]
  },
  {
   "cell_type": "code",
   "execution_count": 15,
   "metadata": {
    "collapsed": false
   },
   "outputs": [
    {
     "name": "stdout",
     "output_type": "stream",
     "text": [
      "Part 3E appears correct\n"
     ]
    },
    {
     "data": {
      "image/png": "[encoded data removed]",
      "text/plain": [
       "<matplotlib.figure.Figure at 0x10d504940>"
      ]
     },
     "metadata": {},
     "output_type": "display_data"
    }
   ],
   "source": [
    "BD = findBoundary(dilateImage(test_image)) # replace this\n",
    "pylab.imshow(BD, cmap=pylab.gray())\n",
    "\n",
    "check('Part 3E', BD, points=10)"
   ]
  },
  {
   "cell_type": "markdown",
   "metadata": {},
   "source": [
    "## Scoring and submission\n",
    "\n",
    "Run the cell below to get your score and to get the **Submit my notebook** button. We recommend that you run your entire notebook with the `Run all` item from the `Cell` menu above before you submit."
   ]
  },
  {
   "cell_type": "code",
   "execution_count": 141,
   "metadata": {
    "collapsed": false
   },
   "outputs": [
    {
     "name": "stdout",
     "output_type": "stream",
     "text": [
      "Part 1A appears correct\n",
      "Part 1B appears correct\n",
      "Part 1C appears correct\n",
      "Part 1D appears correct\n",
      "Part 2 appears correct\n",
      "Part 3A appears correct\n",
      "Part 3B appears correct\n",
      "Part 3C appears correct\n",
      "Part 3D appears correct\n",
      "Part 3E appears correct\n",
      "Report for zewalker\n",
      "  Collaborators: []\n",
      "  10.0 of 10 possibly correct for up to 100.0 of 100 points\n"
     ]
    },
    {
     "data": {
      "text/html": [
       "\n",
       "<p>Click the button below to submit your assignment. Watch for a confirmation message\n",
       "that your notebook was successfully uploaded. You may submit as often as you wish,\n",
       "only the last submission will count.</p>\n",
       "<button id=\"submitButton116\">Submit this notebook</button>\n",
       "<p id=\"submitResponse116\"></p>\n",
       "<script>\n",
       "var site = 'https://wwwx.cs.unc.edu/Courses/comp116-001-f16/';\n",
       "$('#submitButton116').on('click', function() {\n",
       "    var site = 'https://wwwx.cs.unc.edu/Courses/comp116-001-f16/',\n",
       "        $sresp = $('#submitResponse116'),\n",
       "        button = $('#submitButton116');\n",
       "    button.prop('disabled', true);\n",
       "    // wait until save is complete before pushing the notebook\n",
       "    $([IPython.events]).one('notebook_saved.Notebook', function() {\n",
       "        // get the token by logging in\n",
       "        $sresp.html('logging in');\n",
       "        $.ajax({\n",
       "            url: site + 'io/token/token.cgi',\n",
       "            dataType: 'jsonp'\n",
       "        }).done(function(data) {\n",
       "            var notebook = IPython.notebook.notebook_name,\n",
       "                uuid = data.token,\n",
       "                command = \"comp116.pushNotebook('\" + notebook + \"', '\" + uuid + \"')\",\n",
       "                kernel = IPython.notebook.kernel,\n",
       "                handler = function (out) {\n",
       "                    $('#comp116-stop-message').show();\n",
       "                    if (out.content.status == \"ok\") {\n",
       "                        $sresp.html(\"Successfully submitted \" + notebook);\n",
       "                        $('#comp116-stop-message').hide();\n",
       "                    } else if(out.content.status == \"error\") {\n",
       "                        $sresp.html(out.content.ename + \": \" + out.content.evalue);\n",
       "                    } else { // if output is something we haven't thought of\n",
       "                        $sresp.html(\"[out type not implemented]\")\n",
       "                    }\n",
       "                    button.prop('disabled', false);\n",
       "                };\n",
       "            $sresp.html('Submitting');\n",
       "            kernel.execute(command, {shell: { reply: handler }});\n",
       "        }).fail(function() {\n",
       "            $sresp.html('Login failed');\n",
       "            button.prop('disabled', false);\n",
       "        });\n",
       "    });\n",
       "    // trigger the save\n",
       "    $sresp.html('Saving');\n",
       "    IPython.notebook.save_notebook();\n",
       "});"
      ],
      "text/plain": [
       "<IPython.core.display.HTML object>"
      ]
     },
     "execution_count": 141,
     "metadata": {},
     "output_type": "execute_result"
    }
   ],
   "source": [
    "# don't change this, the values come from the first cell of this notebook.\n",
    "report(Author, Collaborators)"
   ]
  },
  {
   "cell_type": "markdown",
   "metadata": {},
   "source": [
    "## Hints\n",
    "\n",
    "1. **Global Variables.** Just say no to global variables. You should NOT be referring to test_image in your function bodies. You should only operate on img parameter in the function. If you use test_image in your function body you won't get the right answer when you try to apply it to other images. I've also seen this mistake with boundary; several of you are reusing it in your erode function. You have to compute the boundary of the img argument which will be different from test_image in later steps.\n",
    "2. **Comparisons to 1 or 0.** Don't compare these images to 0 or 1 like img == 1 or img != 0. There is no need. These things are already True or False.\n",
    "3. **Adding Images.** Don't combine images (boundaries for example) using addition. You must use the logical or operator \"|\" to combine them. Addition will look sort of like it works but it doesn't do the right thing.\n",
    "4. **Clearing Pixels.** The trick to clearing all the pixels on the boundary is to use logical and (&) with the complement of the boundary image."
   ]
  },
  {
   "cell_type": "code",
   "execution_count": null,
   "metadata": {
    "collapsed": true
   },
   "outputs": [],
   "source": []
  },
  {
   "cell_type": "code",
   "execution_count": null,
   "metadata": {
    "collapsed": true
   },
   "outputs": [],
   "source": []
  }
 ],
 "metadata": {
  "anaconda-cloud": {},
  "kernelspec": {
   "display_name": "Python [Root]",
   "language": "python",
   "name": "Python [Root]"
  },
  "language_info": {
   "codemirror_mode": {
    "name": "ipython",
    "version": 3
   },
   "file_extension": ".py",
   "mimetype": "text/x-python",
   "name": "python",
   "nbconvert_exporter": "python",
   "pygments_lexer": "ipython3",
   "version": "3.5.2"
  }
 },
 "nbformat": 4,
 "nbformat_minor": 0
}
