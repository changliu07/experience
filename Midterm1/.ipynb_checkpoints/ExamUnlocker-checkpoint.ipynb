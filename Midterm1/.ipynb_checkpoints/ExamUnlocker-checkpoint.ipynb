{
 "cells": [
  {
   "cell_type": "markdown",
   "metadata": {},
   "source": [
    "# Unlock your exam\n",
    "\n",
    "This notebook will unlock your exam which has been downloaded but is not yet accessible to you.\n",
    "\n",
    "You should fill in the **password** which will be revealed to you when you start the exam. You may **not** reveal the password to anyone else."
   ]
  },
  {
   "cell_type": "code",
   "execution_count": 1,
   "metadata": {
    "collapsed": false
   },
   "outputs": [
    {
     "name": "stdout",
     "output_type": "stream",
     "text": [
      "Unpacking Midterm1.ipynb\n",
      "Unpacking comp116.py\n",
      "Unpacking rain.txt\n",
      "Unpacking Midterm1.pickle\n"
     ]
    }
   ],
   "source": [
    "password = 'inside-active-radar'\n",
    "\n",
    "# Do not modify anything below this point. Simply enter the info above and then run this cell. \n",
    "# Then go back to your iPython Dashboard and you should see the exam listed there.\n",
    "from unlocker import unlock\n",
    "unlock('Midterm1.locked', password)\n"
   ]
  },
  {
   "cell_type": "code",
   "execution_count": null,
   "metadata": {
    "collapsed": true
   },
   "outputs": [],
   "source": []
  }
 ],
 "metadata": {
  "anaconda-cloud": {},
  "kernelspec": {
   "display_name": "Python [Root]",
   "language": "python",
   "name": "Python [Root]"
  },
  "language_info": {
   "codemirror_mode": {
    "name": "ipython",
    "version": 3
   },
   "file_extension": ".py",
   "mimetype": "text/x-python",
   "name": "python",
   "nbconvert_exporter": "python",
   "pygments_lexer": "ipython3",
   "version": "3.5.2"
  }
 },
 "nbformat": 4,
 "nbformat_minor": 0
}
