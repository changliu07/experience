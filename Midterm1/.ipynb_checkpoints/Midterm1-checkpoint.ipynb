{
 "cells": [
  {
   "cell_type": "markdown",
   "metadata": {},
   "source": [
    "# Midterm Exam 1\n",
    "\n",
    "**Don't Panic!**\n",
    "\n",
    "You **may not use** _loops_ or any other loop variants such as _list comprehensions_. Any numpy functions are OK.\n",
    "\n",
    "You **may not use the Internet** for anything except retrieving and submitting your exam. Any other use will be a violation of the Honor Code. \n",
    "\n",
    "You **must turn off wireless on your laptop** while you take the exam.\n",
    "\n",
    "You **may use** any resources that you have stored locally on your computer or any paper notes, books, etc.\n",
    "\n",
    "Of course you **may not** use phones, friends, etc.\n",
    "\n",
    "Enter your **onyen** below."
   ]
  },
  {
   "cell_type": "code",
   "execution_count": 101,
   "metadata": {
    "collapsed": true
   },
   "outputs": [],
   "source": [
    "Onyen = 'zewalker'"
   ]
  },
  {
   "cell_type": "markdown",
   "metadata": {},
   "source": [
    "## Honor Pledge\n",
    "\n",
    "I certify that no unauthorized assistance has been received or given in the completion of this work. \n",
    "\n",
    "Enter your full name as the value of the Pledge variable below."
   ]
  },
  {
   "cell_type": "code",
   "execution_count": 102,
   "metadata": {
    "collapsed": true
   },
   "outputs": [],
   "source": [
    "Pledge = 'Zachary Walker'"
   ]
  },
  {
   "cell_type": "markdown",
   "metadata": {},
   "source": [
    "## Setup\n",
    "\n",
    "I will setup the environment for you here. Do not modify any of this."
   ]
  },
  {
   "cell_type": "code",
   "execution_count": 2,
   "metadata": {
    "collapsed": false
   },
   "outputs": [],
   "source": [
    "%matplotlib inline\n",
    "import numpy as np\n",
    "import pylab\n",
    "import comp116\n",
    "\n",
    "check, report = comp116.start('Midterm1')"
   ]
  },
  {
   "cell_type": "markdown",
   "metadata": {},
   "source": [
    "## Data\n",
    "\n",
    "You are given a dataset consisting of measured rainfall in inches at several station scattered across North Carolina for many consecutive days. There is a column for each station and a row for each day. That is, a 10 by 4 array represents 10 days with data at 4 stations for each day.\n",
    "\n",
    "I am **not** telling you the number of stations or the number of days. You'll have to work those things out. Most importantly, you may **not assume** the dataset will be the same size when I do the grading. Your answer must work for any reasonable number of stations and days.\n",
    "\n",
    "I'll load the data for you here. Don't change any of this."
   ]
  },
  {
   "cell_type": "code",
   "execution_count": 3,
   "metadata": {
    "collapsed": true
   },
   "outputs": [],
   "source": [
    "rain = np.loadtxt('rain.txt')\n",
    "rain.setflags(write=False) # don't allow writing the array"
   ]
  },
  {
   "cell_type": "markdown",
   "metadata": {},
   "source": [
    "## Questions"
   ]
  },
  {
   "cell_type": "markdown",
   "metadata": {},
   "source": [
    "## 1. How many numbers are in the array?"
   ]
  },
  {
   "cell_type": "code",
   "execution_count": 105,
   "metadata": {
    "collapsed": false
   },
   "outputs": [
    {
     "name": "stdout",
     "output_type": "stream",
     "text": [
      "how_many_numbers = 640\n",
      "Q1. How many numbers appears correct\n"
     ]
    }
   ],
   "source": [
    "how_many_numbers = len(np.reshape(rain, (-1,1))) # replace the -1 with your code\n",
    "\n",
    "print('how_many_numbers =', how_many_numbers)\n",
    "check('Q1. How many numbers', how_many_numbers, points=5)"
   ]
  },
  {
   "cell_type": "markdown",
   "metadata": {},
   "source": [
    "## 2. What was the total rainfall at each station?"
   ]
  },
  {
   "cell_type": "code",
   "execution_count": 106,
   "metadata": {
    "collapsed": false
   },
   "outputs": [
    {
     "name": "stdout",
     "output_type": "stream",
     "text": [
      "total_rainfalls = [ 18.54  12.53  17.41  17.15  12.39]\n",
      "Q2. Total rainfalls appears correct\n"
     ]
    }
   ],
   "source": [
    "total_rainfalls = np.sum(rain, axis=0) # replace the np.array call with your code\n",
    "\n",
    "print('total_rainfalls =', total_rainfalls)\n",
    "check('Q2. Total rainfalls', total_rainfalls, points=10)"
   ]
  },
  {
   "cell_type": "markdown",
   "metadata": {},
   "source": [
    "## 3. Which station had the lowest total rainfall?"
   ]
  },
  {
   "cell_type": "code",
   "execution_count": 107,
   "metadata": {
    "collapsed": false
   },
   "outputs": [
    {
     "name": "stdout",
     "output_type": "stream",
     "text": [
      "station_lowest_total 4\n",
      "Q3. Station lowest total appears correct\n"
     ]
    }
   ],
   "source": [
    "station_lowest_total = np.argmin(np.sum(rain, axis=0)) # replace the -1 with your code\n",
    "\n",
    "print('station_lowest_total', station_lowest_total)\n",
    "check('Q3. Station lowest total', station_lowest_total, points=15)"
   ]
  },
  {
   "cell_type": "markdown",
   "metadata": {},
   "source": [
    "## 4. Which station had the highest rainfall on a single day?"
   ]
  },
  {
   "cell_type": "code",
   "execution_count": 26,
   "metadata": {
    "collapsed": false
   },
   "outputs": [
    {
     "name": "stdout",
     "output_type": "stream",
     "text": [
      "station_highest_single = 0\n",
      "Q4. Station highest single appears correct\n"
     ]
    }
   ],
   "source": [
    "station_highest_single = np.argmax(np.max(rain, axis=0)) # replace the -1 with your code\n",
    "\n",
    "print('station_highest_single =', station_highest_single)\n",
    "check('Q4. Station highest single', station_highest_single, points=15)"
   ]
  },
  {
   "cell_type": "markdown",
   "metadata": {},
   "source": [
    "## 5. Which rows have no stations reporting zero?\n",
    "\n",
    "Create a new array that only has data from rows of rain for which none of the stations are reporting zero. "
   ]
  },
  {
   "cell_type": "code",
   "execution_count": 109,
   "metadata": {
    "collapsed": false
   },
   "outputs": [
    {
     "name": "stdout",
     "output_type": "stream",
     "text": [
      "rows_without_zero =\n",
      "[[ 0.49  0.23  0.31  0.91  0.43]\n",
      " [ 0.19  0.96  0.16  0.74  0.3 ]\n",
      " [ 1.32  0.19  1.08  0.85  1.06]\n",
      " [ 0.65  0.31  0.13  0.59  0.32]\n",
      " [ 0.04  0.12  0.13  0.27  0.49]\n",
      " [ 0.48  0.74  1.3   0.97  1.21]\n",
      " [ 0.29  0.49  0.49  0.01  0.25]\n",
      " [ 0.03  0.19  0.15  0.49  0.08]\n",
      " [ 0.14  0.73  0.13  1.18  0.13]\n",
      " [ 0.63  0.94  0.67  0.04  0.13]]\n",
      "Q5. Rows without zero appears correct\n"
     ]
    }
   ],
   "source": [
    "rows_without_zero = rain[np.all(rain!=0, axis=1)] # replace the np.array call with your code\n",
    "\n",
    "print('rows_without_zero =')\n",
    "print(rows_without_zero)\n",
    "check('Q5. Rows without zero', rows_without_zero, points=15)"
   ]
  },
  {
   "cell_type": "markdown",
   "metadata": {},
   "source": [
    "## 6. Graph the rainfall at the first 2 stations for the last 30 days.\n",
    "\n",
    "Do not label the graph in any way."
   ]
  },
  {
   "cell_type": "code",
   "execution_count": 110,
   "metadata": {
    "collapsed": false
   },
   "outputs": [
    {
     "name": "stdout",
     "output_type": "stream",
     "text": [
      "Q6. Rainfall plot appears correct\n"
     ]
    },
    {
     "data": {
      "image/png": "[encoded data removed]",
      "text/plain": [
       "<matplotlib.figure.Figure at 0x10fe539e8>"
      ]
     },
     "metadata": {},
     "output_type": "display_data"
    }
   ],
   "source": [
    "pylab.plot(rain[np.shape(rain)[0]-30:,0:2])\n",
    "# write your code here\n",
    "\n",
    "check('Q6. Rainfall plot', pylab.gcf(), points=10)"
   ]
  },
  {
   "cell_type": "markdown",
   "metadata": {},
   "source": [
    "## 7. What are the rainfall amounts for all stations on the day with the highest total rainfall?\n",
    "\n",
    "I'm expecting a 1D array with the values for all stations on the day that the maximum occurred."
   ]
  },
  {
   "cell_type": "code",
   "execution_count": 111,
   "metadata": {
    "collapsed": false
   },
   "outputs": [
    {
     "name": "stdout",
     "output_type": "stream",
     "text": [
      "row_highest_total = [ 0.61  0.78  1.88  1.71  0.  ]\n",
      "Q7. Row highest total appears correct\n"
     ]
    }
   ],
   "source": [
    "row_highest_total = rain[np.sum(rain,axis=1)==np.max(np.sum(rain, axis=1))][0] # replace the np.array call with your code\n",
    "\n",
    "print('row_highest_total =', row_highest_total)\n",
    "check('Q7. Row highest total', row_highest_total, points=15)"
   ]
  },
  {
   "cell_type": "markdown",
   "metadata": {},
   "source": [
    "## 8. What was the total rainfall on even numbered days?\n",
    "\n",
    "Think of the rows as numbered by their row index starting at 0 (which is even)."
   ]
  },
  {
   "cell_type": "code",
   "execution_count": 114,
   "metadata": {
    "collapsed": false
   },
   "outputs": [
    {
     "name": "stdout",
     "output_type": "stream",
     "text": [
      "even_total = 37.42\n",
      "Q8. Total on even days appears correct\n"
     ]
    }
   ],
   "source": [
    "even_total = np.sum(rain[0::2]) # replace the 0.0 with your code\n",
    "\n",
    "print('even_total =', even_total)\n",
    "check('Q8. Total on even days', even_total, points=15)"
   ]
  },
  {
   "cell_type": "markdown",
   "metadata": {},
   "source": [
    "## Done!\n",
    "\n",
    "Now go back, restart the kernel (Kernel menu -> Restart), and then Shift-Enter your way through the notebook to run all the cells again so you an be sure all your code will work as you expect during grading."
   ]
  },
  {
   "cell_type": "code",
   "execution_count": 100,
   "metadata": {
    "collapsed": false
   },
   "outputs": [
    {
     "name": "stdout",
     "output_type": "stream",
     "text": [
      "Q1. How many numbers appears correct\n",
      "Q2. Total rainfalls appears correct\n",
      "Q3. Station lowest total appears correct\n",
      "Q4. Station highest single appears correct\n",
      "Q5. Rows without zero appears correct\n",
      "Q6. Rainfall plot appears correct\n",
      "Q7. Row highest total appears correct\n",
      "Q8. Total on even days appears correct\n",
      "Report for zewalker\n",
      "  Pledged on my honor: Zachary Walker\n",
      "    zewalker\n",
      "  8.0 of 8 possibly correct for up to 100.0 of 100 points\n"
     ]
    },
    {
     "data": {
      "text/html": [
       "\n",
       "<p>Click the button below to submit your notebook. Watch for a confirmation message\n",
       "that your notebook was successfully uploaded. You may submit as often as you wish,\n",
       "only the last submission will count.</p>\n",
       "<button id=\"submitButton116\">Submit this notebook</button>\n",
       "<p id=\"submitResponse116\"></p>\n",
       "<script>\n",
       "var site = 'https://wwwx.cs.unc.edu/Courses/comp116-001-f16/';\n",
       "$('#submitButton116').on('click', function() {\n",
       "    var site = 'https://wwwx.cs.unc.edu/Courses/comp116-001-f16/',\n",
       "        $sresp = $('#submitResponse116'),\n",
       "        button = $('#submitButton116');\n",
       "    button.prop('disabled', true);\n",
       "    // wait until save is complete before pushing the notebook\n",
       "    $([IPython.events]).one('notebook_saved.Notebook', function() {\n",
       "        // get the token by logging in\n",
       "        $sresp.html('logging in');\n",
       "        $.ajax({\n",
       "            url: site + 'io/token/token.cgi',\n",
       "            dataType: 'jsonp'\n",
       "        }).done(function(data) {\n",
       "            var notebook = IPython.notebook.notebook_name,\n",
       "                uuid = data.token,\n",
       "                command = \"comp116.pushNotebook('\" + notebook + \"', '\" + uuid + \"')\",\n",
       "                kernel = IPython.notebook.kernel,\n",
       "                handler = function (out) {\n",
       "                    $('#comp116-stop-message').show();\n",
       "                    if (out.content.status == \"ok\") {\n",
       "                        $sresp.html(\"Successfully submitted \" + notebook);\n",
       "                        $('#comp116-stop-message').hide();\n",
       "                    } else if(out.content.status == \"error\") {\n",
       "                        $sresp.html(out.content.ename + \": \" + out.content.evalue);\n",
       "                    } else { // if output is something we haven't thought of\n",
       "                        $sresp.html(\"[out type not implemented]\")\n",
       "                    }\n",
       "                    button.prop('disabled', false);\n",
       "                };\n",
       "            $sresp.html('Submitting');\n",
       "            kernel.execute(command, {shell: { reply: handler }});\n",
       "        }).fail(function() {\n",
       "            $sresp.html('Login failed');\n",
       "            button.prop('disabled', false);\n",
       "        });\n",
       "    });\n",
       "    // trigger the save\n",
       "    $sresp.html('Saving');\n",
       "    IPython.notebook.save_notebook();\n",
       "});"
      ],
      "text/plain": [
       "<IPython.core.display.HTML object>"
      ]
     },
     "execution_count": 100,
     "metadata": {},
     "output_type": "execute_result"
    }
   ],
   "source": [
    "# do NOT modify this\n",
    "report(Onyen, Pledge)"
   ]
  },
  {
   "cell_type": "code",
   "execution_count": null,
   "metadata": {
    "collapsed": true
   },
   "outputs": [],
   "source": []
  }
 ],
 "metadata": {
  "anaconda-cloud": {},
  "kernelspec": {
   "display_name": "Python [Root]",
   "language": "python",
   "name": "Python [Root]"
  },
  "language_info": {
   "codemirror_mode": {
    "name": "ipython",
    "version": 3
   },
   "file_extension": ".py",
   "mimetype": "text/x-python",
   "name": "python",
   "nbconvert_exporter": "python",
   "pygments_lexer": "ipython3",
   "version": "3.5.2"
  }
 },
 "nbformat": 4,
 "nbformat_minor": 1
}
