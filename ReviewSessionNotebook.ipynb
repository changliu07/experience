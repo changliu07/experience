{
 "cells": [
  {
   "cell_type": "code",
   "execution_count": 1,
   "metadata": {
    "collapsed": false
   },
   "outputs": [],
   "source": [
    "%matplotlib inline\n",
    "import numpy as np\n",
    "import pylab\n",
    "import comp116\n",
    "\n",
    "check, report = comp116.start('FEPreview')\n",
    "\n",
    "with np.load('weather.npz') as data:\n",
    "    temp = data['temp']\n",
    "    temp.flags.writeable = False\n",
    "    dewp = data['dewp']\n",
    "    dewp.flags.writeable = False\n",
    "    prcp = data['prcp']\n",
    "    prcp.flags.writeable = False\n",
    "    coords = data['coords']\n",
    "    coords.flags.writeable = False"
   ]
  },
  {
   "cell_type": "code",
   "execution_count": 2,
   "metadata": {
    "collapsed": false
   },
   "outputs": [
    {
     "name": "stdout",
     "output_type": "stream",
     "text": [
      "[[ 0.          2.27384973  1.8488515   3.80441868  1.17918567]\n",
      " [ 2.27384973  0.          3.20159452  1.61331592  1.33671122]\n",
      " [ 1.8488515   3.20159452  0.          4.79712935  2.74273524]\n",
      " [ 3.80441868  1.61331592  4.79712935  0.          2.70011274]\n",
      " [ 1.17918567  1.33671122  2.74273524  2.70011274  0.        ]]\n",
      "4.79712934993\n",
      "2 , 3\n"
     ]
    },
    {
     "data": {
      "text/plain": [
       "True"
      ]
     },
     "execution_count": 2,
     "metadata": {},
     "output_type": "execute_result"
    }
   ],
   "source": [
    "# Distance\n",
    "\n",
    "distances = np.zeros((5,5))\n",
    "\n",
    "for i in range(len(coords)):\n",
    "    for j in range(len(coords)):\n",
    "        distance = np.sqrt(np.sum((coords[i]-coords[j])**2))\n",
    "        distances[i,j] = distance\n",
    "        #distances[j,i] = distance\n",
    "        \n",
    "print(distances)\n",
    "\n",
    "argmax = (np.argmax(distances))\n",
    "\n",
    "print(np.max(distances))\n",
    "\n",
    "print( argmax//5, \",\", argmax%5)\n",
    "\n",
    "\n",
    "argmax//5 + (argmax%5)/5 == argmax/5"
   ]
  },
  {
   "cell_type": "code",
   "execution_count": 3,
   "metadata": {
    "collapsed": false
   },
   "outputs": [
    {
     "data": {
      "text/plain": [
       "(5, 365, 24)"
      ]
     },
     "execution_count": 3,
     "metadata": {},
     "output_type": "execute_result"
    }
   ],
   "source": [
    "np.max(temp, axis=2).shape # (5, 365)\n",
    "temp.shape"
   ]
  },
  {
   "cell_type": "code",
   "execution_count": 4,
   "metadata": {
    "collapsed": false
   },
   "outputs": [
    {
     "name": "stdout",
     "output_type": "stream",
     "text": [
      "2 3\n",
      "Distance: 4.79712934993\n"
     ]
    }
   ],
   "source": [
    "# distance between hottest station and coldest (mean daily temp)\n",
    "\n",
    "meanTemp = np.mean(temp, axis=2)\n",
    "\n",
    "stationMin = np.min(meanTemp, axis=1)\n",
    "minStationIndex = np.argmin(stationMin)\n",
    "\n",
    "stationMax = np.max(meanTemp, axis=1)\n",
    "maxStationIndex = np.argmax(stationMax)\n",
    "\n",
    "print(maxStationIndex, minStationIndex)\n",
    "\n",
    "print(\"Distance:\", np.sqrt(np.sum((coords[maxStationIndex]-coords[minStationIndex])**2)))"
   ]
  },
  {
   "cell_type": "code",
   "execution_count": 5,
   "metadata": {
    "collapsed": false
   },
   "outputs": [
    {
     "data": {
      "text/plain": [
       "5"
      ]
     },
     "execution_count": 5,
     "metadata": {},
     "output_type": "execute_result"
    }
   ],
   "source": [
    "len(temp)\n",
    "temp.shape[0]"
   ]
  },
  {
   "cell_type": "code",
   "execution_count": 6,
   "metadata": {
    "collapsed": false
   },
   "outputs": [
    {
     "name": "stdout",
     "output_type": "stream",
     "text": [
      "61.1633072529 61.1633072529\n",
      "Difference: 0.0907345386853\n"
     ]
    }
   ],
   "source": [
    "evenDays = temp[:,::2,:]\n",
    "oddDays = temp[:,1::2,:]\n",
    "\n",
    "dailyEvenMean = np.mean(evenDays, axis=2)\n",
    "stationMean = np.mean(dailyEvenMean, axis=1)\n",
    "evenMean = np.mean(stationMean)\n",
    "\n",
    "print(evenMean, np.mean(evenDays))\n",
    "\n",
    "oddMean = np.mean(oddDays)\n",
    "\n",
    "print(\"Difference:\", abs(oddMean - evenMean))"
   ]
  },
  {
   "cell_type": "code",
   "execution_count": 7,
   "metadata": {
    "collapsed": false
   },
   "outputs": [
    {
     "data": {
      "text/plain": [
       "array([[ 49.,  49.,  50., ...,  64.,  60.,  56.],\n",
       "       [ 44.,  46.,  45., ...,  52.,  50.,  53.],\n",
       "       [ 38.,  39.,  39., ...,  66.,  66.,  66.],\n",
       "       ..., \n",
       "       [ 67.,  66.,  65., ...,  47.,  47.,  46.],\n",
       "       [ 51.,  57.,  56., ...,  56.,  58.,  60.],\n",
       "       [ 62.,  63.,  63., ...,  52.,  50.,  49.]])"
      ]
     },
     "execution_count": 7,
     "metadata": {},
     "output_type": "execute_result"
    }
   ],
   "source": [
    "temp[np.mean(temp, axis=2) > 55]"
   ]
  },
  {
   "cell_type": "code",
   "execution_count": 8,
   "metadata": {
    "collapsed": false
   },
   "outputs": [
    {
     "data": {
      "image/png": "[encoded data removed]",
      "text/plain": [
       "<matplotlib.figure.Figure at 0x7fd4842430b8>"
      ]
     },
     "metadata": {},
     "output_type": "display_data"
    }
   ],
   "source": [
    "# Plot the daily max temp for each station\n",
    "\n",
    "dailyMax = np.max(temp, axis=2)\n",
    "\n",
    "for station in dailyMax:\n",
    "    pylab.plot(station)"
   ]
  },
  {
   "cell_type": "code",
   "execution_count": 9,
   "metadata": {
    "collapsed": false
   },
   "outputs": [
    {
     "data": {
      "text/plain": [
       "[<matplotlib.lines.Line2D at 0x7fd45e85dba8>]"
      ]
     },
     "execution_count": 9,
     "metadata": {},
     "output_type": "execute_result"
    },
    {
     "data": {
      "image/png": "[encoded data removed]",
      "text/plain": [
       "<matplotlib.figure.Figure at 0x7fd45ed739e8>"
      ]
     },
     "metadata": {},
     "output_type": "display_data"
    }
   ],
   "source": [
    "# Plot the daily mean across stations\n",
    "\n",
    "dailyMean = np.mean(np.mean(temp, axis=2), axis=0)\n",
    "\n",
    "pylab.plot(dailyMean)"
   ]
  },
  {
   "cell_type": "code",
   "execution_count": 10,
   "metadata": {
    "collapsed": false
   },
   "outputs": [
    {
     "data": {
      "text/plain": [
       "[<matplotlib.lines.Line2D at 0x7fd45e7c2c50>]"
      ]
     },
     "execution_count": 10,
     "metadata": {},
     "output_type": "execute_result"
    },
    {
     "data": {
      "image/png": "[encoded data removed]",
      "text/plain": [
       "<matplotlib.figure.Figure at 0x7fd45e8682b0>"
      ]
     },
     "metadata": {},
     "output_type": "display_data"
    }
   ],
   "source": [
    "# Plot the single max for each day\n",
    "\n",
    "dailyMax = np.max(np.max(temp, axis=2), axis=0)\n",
    "\n",
    "pylab.plot(dailyMax)"
   ]
  },
  {
   "cell_type": "code",
   "execution_count": 11,
   "metadata": {
    "collapsed": false
   },
   "outputs": [
    {
     "data": {
      "text/plain": [
       "array([ 35.4185, -82.5567])"
      ]
     },
     "execution_count": 11,
     "metadata": {},
     "output_type": "execute_result"
    }
   ],
   "source": [
    "# Function for station with lowest mean temp\n",
    "\n",
    "def F1(temp, coords):\n",
    "    \n",
    "    stationMean = np.mean(np.mean(temp, axis=2), axis=1)\n",
    "    \n",
    "    return coords[np.argmin(stationMean)]\n",
    "\n",
    "F1(temp, coords)"
   ]
  },
  {
   "cell_type": "code",
   "execution_count": 12,
   "metadata": {
    "collapsed": false
   },
   "outputs": [
    {
     "name": "stdout",
     "output_type": "stream",
     "text": [
      "[ 18.5         16.33333333  20.58333333  19.16666667  19.16666667]\n"
     ]
    }
   ],
   "source": [
    "# Max change in daily mean for each station\n",
    "\n",
    "dailyMean = np.mean(temp, axis=2)\n",
    "\n",
    "diff= np.diff(dailyMean, axis=1)\n",
    "\n",
    "maxChange = np.max(diff, axis=1)\n",
    "\n",
    "print(maxChange)"
   ]
  },
  {
   "cell_type": "code",
   "execution_count": 13,
   "metadata": {
    "collapsed": false
   },
   "outputs": [
    {
     "data": {
      "text/plain": [
       "array([ 61.4329096 ,  62.91735537,  64.29237159,  54.34884155,  60.28958333])"
      ]
     },
     "execution_count": 13,
     "metadata": {},
     "output_type": "execute_result"
    }
   ],
   "source": [
    "# average temp of each station of days without rain\n",
    "no_rain = np.zeros(len(temp))\n",
    "\n",
    "for s in range(len(temp)):\n",
    "    no_rain_temp = []\n",
    "    for d in range(len(temp[s])):\n",
    "        if np.all(prcp[s,d,:]==0):\n",
    "            no_rain_temp.append(np.mean(temp[s,d,:]))\n",
    "    no_rain[s] = np.mean(no_rain_temp)\n",
    "no_rain"
   ]
  },
  {
   "cell_type": "code",
   "execution_count": 14,
   "metadata": {
    "collapsed": false
   },
   "outputs": [
    {
     "data": {
      "text/plain": [
       "array([0, 1, 2, 3, 4, 5, 6, 7, 8, 9])"
      ]
     },
     "execution_count": 14,
     "metadata": {},
     "output_type": "execute_result"
    }
   ],
   "source": [
    "a = np.arange(10)\n",
    "a"
   ]
  },
  {
   "cell_type": "code",
   "execution_count": 15,
   "metadata": {
    "collapsed": false
   },
   "outputs": [
    {
     "data": {
      "text/plain": [
       "array([False, False, False, False, False, False,  True,  True,  True,  True], dtype=bool)"
      ]
     },
     "execution_count": 15,
     "metadata": {},
     "output_type": "execute_result"
    }
   ],
   "source": [
    "a>5"
   ]
  },
  {
   "cell_type": "code",
   "execution_count": 16,
   "metadata": {
    "collapsed": false
   },
   "outputs": [
    {
     "data": {
      "text/plain": [
       "False"
      ]
     },
     "execution_count": 16,
     "metadata": {},
     "output_type": "execute_result"
    }
   ],
   "source": [
    "np.all(a>5)"
   ]
  },
  {
   "cell_type": "code",
   "execution_count": 17,
   "metadata": {
    "collapsed": false
   },
   "outputs": [
    {
     "data": {
      "text/plain": [
       "7"
      ]
     },
     "execution_count": 17,
     "metadata": {},
     "output_type": "execute_result"
    }
   ],
   "source": [
    "# Given a start hour and end hour, find the longest run of days with mean total\n",
    "# precipitation across stations between those hours >= minPrecip\n",
    "\n",
    "def F3(start, end, minPrecip):\n",
    "\n",
    "    totalInHours = np.sum(prcp[:,:,start:end], axis=2)\n",
    "    dailyMean = np.mean(totalInHours, axis=0)\n",
    "\n",
    "    #print(dailyMean)\n",
    "\n",
    "    run = 0\n",
    "    maxrun = 0\n",
    "    for i in range(len(dailyMean)):\n",
    "        if dailyMean[i] >= minPrecip:\n",
    "            run += 1\n",
    "            if run > maxrun:\n",
    "                maxrun = run\n",
    "        else:\n",
    "            run = 0\n",
    "\n",
    "    return maxrun\n",
    "\n",
    "F3(6,18,.03)"
   ]
  },
  {
   "cell_type": "code",
   "execution_count": 18,
   "metadata": {
    "collapsed": false
   },
   "outputs": [
    {
     "name": "stdout",
     "output_type": "stream",
     "text": [
      "[ 38.66731141  40.0270793   45.0270793   34.86266925  37.50676983]\n",
      "[ 38.66731141  40.0270793   45.0270793   34.86266925  37.50676983]\n"
     ]
    }
   ],
   "source": [
    "# given a start and end day/hour, find the mean for each station in that range\n",
    "\n",
    "def F2(temp, startDay, startHour, endDay, endHour):\n",
    "    means = np.zeros(5)\n",
    "    startIndex = startDay * 24 + startHour\n",
    "    endIndex = endDay * 24 + endHour\n",
    "    for i in range(temp.shape[0]):\n",
    "        means[i] = np.mean(temp[i].flatten()[startIndex:endIndex+1])\n",
    "    return means\n",
    "\n",
    "def F2_2(temp, startDay, startHour, endDay, endHour):\n",
    "    sums = np.zeros(5)\n",
    "    counts = np.zeros(5)\n",
    "    for s in range(temp.shape[0]):\n",
    "        for d in range(temp.shape[1]):\n",
    "            for h in range(temp.shape[2]):\n",
    "                if (d==startDay and h>=startHour) or (startDay<d<endDay) or (d==endDay and h<=endHour):\n",
    "                    sums[s] += temp[s,d,h]\n",
    "                    counts[s] += 1\n",
    "    return sums/counts\n",
    "\n",
    "print(F2(temp, 5, 6, 26, 18))\n",
    "print(F2_2(temp, 5, 6, 26, 18))"
   ]
  },
  {
   "cell_type": "code",
   "execution_count": 19,
   "metadata": {
    "collapsed": false
   },
   "outputs": [
    {
     "data": {
      "text/plain": [
       "array([1, 2, 3, 4, 5, 6, 7, 8, 9])"
      ]
     },
     "execution_count": 19,
     "metadata": {},
     "output_type": "execute_result"
    }
   ],
   "source": [
    "a = np.array([[1,2,3],\n",
    "              [4,5,6],\n",
    "              [7,8,9]])\n",
    "\n",
    "a.flatten()"
   ]
  },
  {
   "cell_type": "code",
   "execution_count": 20,
   "metadata": {
    "collapsed": false
   },
   "outputs": [
    {
     "name": "stdout",
     "output_type": "stream",
     "text": [
      "False\n",
      "True\n",
      "[ True False False False]\n",
      "[ True  True  True False]\n",
      "{3, 4}\n",
      "{1, 2, 3, 4, 5, 6}\n"
     ]
    }
   ],
   "source": [
    "print(True and False)\n",
    "print(True or False)\n",
    "\n",
    "a = np.array([True, True, False, False])\n",
    "b = np.array([True, False, True, False])\n",
    "\n",
    "print(a & b) # element \n",
    "print(a | b)\n",
    "\n",
    "c = set([1,2,3,4])\n",
    "d = set([3,4,5,6])\n",
    "\n",
    "print(c & d) # intersection\n",
    "print(c | d) # union"
   ]
  },
  {
   "cell_type": "code",
   "execution_count": 21,
   "metadata": {
    "collapsed": false
   },
   "outputs": [
    {
     "data": {
      "text/plain": [
       "38.0"
      ]
     },
     "execution_count": 21,
     "metadata": {},
     "output_type": "execute_result"
    }
   ],
   "source": [
    "temp[0, 29, 3] # temperature at station #1 on day #30 at 3 AM"
   ]
  },
  {
   "cell_type": "code",
   "execution_count": 22,
   "metadata": {
    "collapsed": false
   },
   "outputs": [
    {
     "data": {
      "text/plain": [
       "array([129, 123, 142, 142, 125])"
      ]
     },
     "execution_count": 22,
     "metadata": {},
     "output_type": "execute_result"
    }
   ],
   "source": [
    "# How many days had rain at each station\n",
    "\n",
    "rainyDays = np.zeros(prcp.shape[0])\n",
    "\n",
    "# 5x365 boolean array, e.g. daysWithRain[2,4] is true if station #3 had rain during any hour on day #5\n",
    "daysWithRain = np.any(prcp>0, axis=2) \n",
    "\n",
    "np.sum(daysWithRain, axis=1)"
   ]
  },
  {
   "cell_type": "code",
   "execution_count": 23,
   "metadata": {
    "collapsed": false
   },
   "outputs": [
    {
     "name": "stdout",
     "output_type": "stream",
     "text": [
      "(5, 31, 24)\n",
      "(5, 28, 24)\n",
      "(5, 31, 24)\n",
      "(5, 30, 24)\n",
      "(5, 31, 24)\n",
      "(5, 30, 24)\n",
      "(5, 31, 24)\n",
      "(5, 31, 24)\n",
      "(5, 30, 24)\n",
      "(5, 31, 24)\n",
      "(5, 30, 24)\n",
      "(5, 31, 24)\n"
     ]
    }
   ],
   "source": [
    "# separate by month, might not be accurate b/c data isn't guaranteed to start on Jan 1.\n",
    "\n",
    "months = [] # list of arrays, 5xNx24, where N is number of days in that month\n",
    "monthLengths = [31,28,31,30,31,30,31,31,30,31,30,31]\n",
    "\n",
    "for m in range(12):\n",
    "    daysSoFar = sum(monthLengths[:m])\n",
    "    endOfMonth = daysSoFar + monthLengths[m]\n",
    "    months.append(temp[:,daysSoFar:endOfMonth,:])\n",
    "    \n",
    "for m in months:\n",
    "    print(m.shape)"
   ]
  },
  {
   "cell_type": "code",
   "execution_count": 24,
   "metadata": {
    "collapsed": false
   },
   "outputs": [
    {
     "data": {
      "text/plain": [
       "array([ 21.,  23.,  21.,  27.,  24.])"
      ]
     },
     "execution_count": 24,
     "metadata": {},
     "output_type": "execute_result"
    }
   ],
   "source": [
    "# Longest run of rainy hours at each station\n",
    "\n",
    "maxruns = np.zeros(prcp.shape[0]) # can use list or array\n",
    "for s in range(prcp.shape[0]):\n",
    "    run = 0\n",
    "    for d in range(prcp.shape[1]):\n",
    "        for h in range(prcp.shape[2]):\n",
    "            if prcp[s,d,h] > 0:\n",
    "                run += 1\n",
    "                if run > maxruns[s]:\n",
    "                    maxruns[s] = run # if you use an array, you assign maxrun to the appropriate position\n",
    "            else:\n",
    "                run = 0\n",
    "                \n",
    "maxruns"
   ]
  },
  {
   "cell_type": "code",
   "execution_count": 25,
   "metadata": {
    "collapsed": false
   },
   "outputs": [
    {
     "data": {
      "text/plain": [
       "[12, 10, 7, 11, 11]"
      ]
     },
     "execution_count": 25,
     "metadata": {},
     "output_type": "execute_result"
    }
   ],
   "source": [
    "#Longest run of rainy days at each station\n",
    "\n",
    "maxruns = [] # can use list or array\n",
    "for s in range(prcp.shape[0]):\n",
    "    maxrun = 0\n",
    "    run = 0\n",
    "    for d in range(prcp.shape[1]):\n",
    "        if np.any(prcp[s,d,:]):\n",
    "            run += 1\n",
    "            if run > maxrun:\n",
    "                maxrun = run\n",
    "        else:\n",
    "            run = 0\n",
    "    maxruns.append(maxrun) # if you use a list, you have to append the value\n",
    "    \n",
    "                \n",
    "maxruns"
   ]
  },
  {
   "cell_type": "code",
   "execution_count": 26,
   "metadata": {
    "collapsed": false
   },
   "outputs": [
    {
     "name": "stdout",
     "output_type": "stream",
     "text": [
      "[[ 0.          2.27384973  1.8488515   3.80441868  1.17918567]\n",
      " [ 2.27384973  0.          3.20159452  1.61331592  1.33671122]\n",
      " [ 1.8488515   3.20159452  0.          4.79712935  2.74273524]\n",
      " [ 3.80441868  1.61331592  4.79712935  0.          2.70011274]\n",
      " [ 1.17918567  1.33671122  2.74273524  2.70011274  0.        ]]\n",
      "Mean Distance: 2.54979045737\n"
     ]
    }
   ],
   "source": [
    "distances = np.zeros((prcp.shape[0],prcp.shape[0]))\n",
    "\n",
    "for i in range(len(coords)):\n",
    "    for j in range(len(coords)):\n",
    "        distance = np.sqrt(np.sum((coords[i]-coords[j])**2))\n",
    "        distances[i,j] = distance\n",
    "\n",
    "print(distances)        \n",
    "\n",
    "totalDistance = 0\n",
    "for i in range(prcp.shape[0]):\n",
    "    for j in range(prcp.shape[0]):\n",
    "        if i != j: #dont count distance between a station and itself\n",
    "            # we can count each distance twice b/c we divide by 20 even though there are only 10 unique distances\n",
    "            totalDistance += distances[i,j]\n",
    "\n",
    "# (-prcp.shape[0]) dont count distance between a station and itself\n",
    "print(\"Mean Distance:\", totalDistance/(distances.size-prcp.shape[0])) "
   ]
  },
  {
   "cell_type": "code",
   "execution_count": 27,
   "metadata": {
    "collapsed": false
   },
   "outputs": [
    {
     "data": {
      "text/plain": [
       "array([[ 0.,  0.,  0.,  0.,  0.],\n",
       "       [ 0.,  0.,  0.,  0.,  0.],\n",
       "       [ 0.,  0.,  0.,  0.,  0.],\n",
       "       [ 0.,  0.,  0.,  0.,  0.],\n",
       "       [ 0.,  0.,  0.,  0.,  0.]])"
      ]
     },
     "execution_count": 27,
     "metadata": {},
     "output_type": "execute_result"
    }
   ],
   "source": [
    "np.zeros((5,5))"
   ]
  },
  {
   "cell_type": "code",
   "execution_count": 28,
   "metadata": {
    "collapsed": true
   },
   "outputs": [],
   "source": [
    "a = 0\n",
    "a += 2  # a = a + 2\n",
    "a /= 2  # a = a / 2"
   ]
  },
  {
   "cell_type": "code",
   "execution_count": 29,
   "metadata": {
    "collapsed": false
   },
   "outputs": [
    {
     "name": "stdout",
     "output_type": "stream",
     "text": [
      "in\n",
      "not in\n"
     ]
    }
   ],
   "source": [
    "if \"abc\" in \"jhjkhweabcriouygi\":\n",
    "    print(\"in\")\n",
    "else:\n",
    "    print(\"not in\")\n",
    "    \n",
    "if \"abc\" not in [\"adh\", \"abcd\", \"lkjlkjd\"]:\n",
    "    print(\"not in\")\n",
    "else:\n",
    "    print(\"in\")"
   ]
  },
  {
   "cell_type": "code",
   "execution_count": 30,
   "metadata": {
    "collapsed": false
   },
   "outputs": [
    {
     "data": {
      "text/plain": [
       "array([ 35.4185, -82.5567])"
      ]
     },
     "execution_count": 30,
     "metadata": {},
     "output_type": "execute_result"
    }
   ],
   "source": [
    "meanTemp = np.mean(temp, axis=2)\n",
    "\n",
    "stationMin = np.min(meanTemp, axis=1)\n",
    "minStationIndex = np.argmin(stationMin)\n",
    "\n",
    "coords[minStationIndex]"
   ]
  },
  {
   "cell_type": "code",
   "execution_count": null,
   "metadata": {
    "collapsed": true
   },
   "outputs": [],
   "source": []
  }
 ],
 "metadata": {
  "anaconda-cloud": {},
  "kernelspec": {
   "display_name": "Python [Root]",
   "language": "python",
   "name": "Python [Root]"
  },
  "language_info": {
   "codemirror_mode": {
    "name": "ipython",
    "version": 3
   },
   "file_extension": ".py",
   "mimetype": "text/x-python",
   "name": "python",
   "nbconvert_exporter": "python",
   "pygments_lexer": "ipython3",
   "version": "3.5.2"
  }
 },
 "nbformat": 4,
 "nbformat_minor": 1
}
