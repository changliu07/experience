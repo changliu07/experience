{
 "cells": [
  {
   "cell_type": "markdown",
   "metadata": {},
   "source": [
    "# Assignment 4 Estimating Statistical Significance\n",
    "\n",
    "**Due 9 November at 10pm**\n",
    "\n",
    "This NASA post, <a href=\"http://www.nasa.gov/topics/earth/features/midweek_rainfall.html\">NASA Data Link Pollution to Rainy Summer Days in the Southeast</a>, claims that in the southeastern US it rains more Tuesday through Thursday than it does Saturday through Monday. The presence of a seven-day cycle in the weather is \"eerie\" evidence that human activity influences the weather.\n",
    "\n",
    "Your mission in this assignment is to see if you can validate their claim using data from the instruments at RDU airport. To quote from the article:\n",
    "\n",
    ">Rainfall measurements collected from ground-based gauges can vary from one gauge site to the next because of fickle weather patterns. So, to identify any kind of significant weekly rainfall trend, Bell and colleagues looked at the big picture from Earth's orbit.\n",
    "\n",
    "We are not really equipped to confirm or refute their claim but we're in the southeast, and have some data, let's see what we can do.\n",
    "\n",
    "I have collected 10 years of data into a single file, `krdu-2001-2010.csv`, in a format suitable for use with np.loadtxt(). These data have 4 columns; year, month, day, and rainfall in inches.\n",
    "\n",
    "First, you should read these posts by Allen Downey:\n",
    "\n",
    "1. <a href=\"http://allendowney.blogspot.com/2011/05/there-is-only-one-test.html\">There is only one test!</a>\n",
    "2. <a href=\"http://allendowney.blogspot.com/2011/06/more-hypotheses-less-trivia.html\">More hypotheses, less trivia.</a> Pay special attention to the paragraph <b>Permutation</b> under <b>Difference in means</b>. You shouldn't use his code; write your own.\n",
    "\n",
    "## Learning objectives\n",
    "\n",
    "The goal of this assignment is to give you more experience writing functions with loops and to expose you to an important use of computers in science.\n",
    "\n",
    "## What to do\n",
    "\n",
    "1. Read the data.\n",
    "2. Determine the days of the week from the dates. (You can't just slice the array)\n",
    "3. Write a function to get the average daily rainfall during midweek (Tuesday through Thursday) and weekend (Saturday through Monday).\n",
    "4. Report the average rainfall for midweek and weekend, and their difference (delta). I provide a check for this so you can be sure you're on the right track.\n",
    "5. Determine and report the p value (the likelihood that the effect is not real) by simulation. You'll need to first, compute the delta which in our case is the difference between the means for midweek and weekend. Then you'll run the function many times, each time permuting the day labels, and counting the number of times that the difference between the new means is greater than delta. Now divide that count by the number of trials you ran. That will be the p value. If count is 0, that means you didn't find even a single permutation that produced a greater difference in means; the effect is very likely real. On the other hand, if count is huge, then there were many permutations that produced greater differences, so the difference is likely just random.\n"
   ]
  },
  {
   "cell_type": "markdown",
   "metadata": {},
   "source": [
    "## Tips\n",
    "\n",
    "**1)** The <a href=\"https://docs.python.org/3.5/library/datetime.html#datetime.date.weekday\"><b>weekday</b></a> method of the <b>date</b> class from the <b>datetime</b> module will be useful for getting the day of the week from the date. **Note:** The `weekday()` method returns `0` for Monday.\n",
    "\n",
    "The date class knows nothing about numpy so you'll need to use a loop to process all the days. Also your data will be floats but the date function insists on ints; you'll need to use the int() function to convert them to int. \n",
    "\n",
    "You use it like this:\n"
   ]
  },
  {
   "cell_type": "code",
   "execution_count": 1,
   "metadata": {
    "collapsed": false
   },
   "outputs": [
    {
     "name": "stdout",
     "output_type": "stream",
     "text": [
      "2000-01-01 5 5\n"
     ]
    }
   ],
   "source": [
    "from datetime import date\n",
    "\n",
    "# later in your code when you want to determine the day of the week\n",
    "# you create a date object from a year, month, and day.\n",
    "# I'll fake up a year, month, and day so we can see it work\n",
    "year = 2000\n",
    "month = 1\n",
    "day = 1\n",
    "do = date(year, month, day)\n",
    "# and use its weekday method\n",
    "day1 = do.weekday()\n",
    "\n",
    "# or do it all in one step\n",
    "day2 = date(year, month, day).weekday()\n",
    "\n",
    "print(do, day1, day2)"
   ]
  },
  {
   "cell_type": "markdown",
   "metadata": {},
   "source": [
    "**2)** The <a href=\"http://docs.scipy.org/doc/numpy/reference/generated/numpy.random.permutation.html\"> `np.random.permutation`</a> function will be useful for permuting the data. You use it like this:"
   ]
  },
  {
   "cell_type": "code",
   "execution_count": 2,
   "metadata": {
    "collapsed": false
   },
   "outputs": [
    {
     "data": {
      "text/plain": [
       "array([5, 0, 8, 2, 3, 6, 7, 4, 1, 9])"
      ]
     },
     "execution_count": 2,
     "metadata": {},
     "output_type": "execute_result"
    }
   ],
   "source": [
    "# first I'll create some array I want to shuffle.\n",
    "import numpy as np\n",
    "A = np.arange(10)\n",
    "B = np.random.permutation(A)\n",
    "B"
   ]
  },
  {
   "cell_type": "markdown",
   "metadata": {},
   "source": [
    "**3)** You'll need to use a loop to run your simulation many times. I found that 1000 trials gives a faily stable result and doesn't require too long to run (good for debugging). Feel free to play with larger numbers but **I will time limit your submissions and assume they failed if they require more than 30 seconds to run on my computer**. "
   ]
  },
  {
   "cell_type": "markdown",
   "metadata": {},
   "source": [
    "**4)** I confirmed my intuition about how this should work by tweaking the data. For example, if I add 0.1 inches of rain to every Tuesday, the p value drops to zero (very significant) but if I replace the rainfall with random numbers it rises to near 0.5 (not significant at all)."
   ]
  },
  {
   "cell_type": "markdown",
   "metadata": {},
   "source": [
    "## Checks\n",
    "\n",
    "Since I'm not writing a lot of code for you, I can't give you the usual super structured checks.  I'm going to give you some very general ones to help keep you on track. You'll be responsible for making sure you put your various results into the correct variable names."
   ]
  },
  {
   "cell_type": "code",
   "execution_count": 3,
   "metadata": {
    "collapsed": false
   },
   "outputs": [],
   "source": [
    "# fill in your onyen (not PID) here\n",
    "Author = 'zewalker'\n",
    "Collaborators = []"
   ]
  },
  {
   "cell_type": "code",
   "execution_count": 4,
   "metadata": {
    "collapsed": false
   },
   "outputs": [],
   "source": [
    "# usual boilerplate\n",
    "%matplotlib inline\n",
    "import numpy as np\n",
    "import pylab\n",
    "from datetime import date\n",
    "import comp116\n",
    "check, report = comp116.start('A4')"
   ]
  },
  {
   "cell_type": "markdown",
   "metadata": {},
   "source": [
    "## Read the data\n",
    "\n",
    "First you should read the data. The delimiter is comma."
   ]
  },
  {
   "cell_type": "code",
   "execution_count": 5,
   "metadata": {
    "collapsed": false
   },
   "outputs": [
    {
     "name": "stdout",
     "output_type": "stream",
     "text": [
      "1: data appears correct\n"
     ]
    }
   ],
   "source": [
    "# leave your result in data # replace with your code\n",
    "data = np.loadtxt('krdu-2001-2010.csv', delimiter=',')\n",
    "\n",
    "check('1: data', data, points=10)"
   ]
  },
  {
   "cell_type": "markdown",
   "metadata": {},
   "source": [
    "## Compute the day of the week\n",
    "\n",
    "Then work out the day of the week for each date (0 is Monday)"
   ]
  },
  {
   "cell_type": "code",
   "execution_count": 6,
   "metadata": {
    "collapsed": false
   },
   "outputs": [
    {
     "name": "stdout",
     "output_type": "stream",
     "text": [
      "2: days of week appears correct\n"
     ]
    }
   ],
   "source": [
    "# leave your result in dayOfWe\n",
    "# put your code here\n",
    "\n",
    "dayOfWeek = []\n",
    "for i in range(len(data[:,0])):\n",
    "    day= date(int(data[i,0]), int(data[i,1]), int(data[i,2])).weekday()\n",
    "    dayOfWeek.append(day)\n",
    "dayOfWeek=np.asarray(dayOfWeek)\n",
    "\n",
    "\n",
    "\n",
    "check('2: days of week', dayOfWeek, points=20)"
   ]
  },
  {
   "cell_type": "markdown",
   "metadata": {},
   "source": [
    "## Compute rainfall amounts\n",
    "\n",
    "Write a function that takes two arguments, an array of day numbers and\n",
    "an array of rainfall amounts and returns the midweek and weekend rain as\n",
    "defined by the NASA researchers. Remember you can return multiple results\n",
    "by packing them into a tuple.\n",
    "\n",
    "I **strongly recommend** using numpy array functions to group your days\n",
    "into midweek and weekend; looping is likely to be too slow when you\n",
    "call your function thousands of times in the next part.\n"
   ]
  },
  {
   "cell_type": "code",
   "execution_count": 32,
   "metadata": {
    "collapsed": false
   },
   "outputs": [
    {
     "name": "stdout",
     "output_type": "stream",
     "text": [
      "It rained 0.12604408046 inches mid week\n",
      "It rained 0.106874507673 inches weekend\n",
      "Difference was 0.0191695727871 inches\n",
      "3: mid wk rain appears correct\n",
      "4: wk end rain appears correct\n",
      "5: difference appears correct\n"
     ]
    }
   ],
   "source": [
    "year = data[:,0]\n",
    "month= data[:,1]\n",
    "day = data[:,2]\n",
    "rainAmount=data[:,3]\n",
    "# now call your function and store the returned values in variables midwk\n",
    "# and wkend\n",
    "def rainByWeek(WeekDay, AmountOfRain):\n",
    "    ismidwk = (WeekDay>=1) & (WeekDay<=3)\n",
    "    iswkend = (WeekDay==0) | (WeekDay==5) | (WeekDay==6)\n",
    "    midwk = np.mean(AmountOfRain[ismidwk])\n",
    "    wkend = np.mean(AmountOfRain[iswkend])\n",
    "    delta = midwk - wkend\n",
    "    return (midwk, wkend, delta)\n",
    "\n",
    "print('It rained', midwk, 'inches mid week')\n",
    "print('It rained', wkend, 'inches weekend')\n",
    "print('Difference was', delta, 'inches')\n",
    "\n",
    "check('3: mid wk rain', midwk, points=15)\n",
    "check('4: wk end rain', wkend, points=15)\n",
    "check('5: difference', delta, points=15)\n"
   ]
  },
  {
   "cell_type": "markdown",
   "metadata": {},
   "source": [
    "## Test the null hypothesis\n",
    "\n",
    "Finally test the null hypothesis that the day labeling is random\n",
    "by running your function many times with different permutations of the days\n",
    "and counting how many times the difference between the means is greater than the delta\n",
    "you computed above."
   ]
  },
  {
   "cell_type": "code",
   "execution_count": 39,
   "metadata": {
    "collapsed": false
   },
   "outputs": [],
   "source": [
    "\n",
    "N = 100  # number of trials, you can experiment with this:\n",
    "    \n",
    "count = 0 # number of permutations that produced greater difference\n",
    "\n",
    "p = 0.0 # your code should compute the probability in this variable\n",
    "\n",
    "# let's fix the starting point for random numbers to try to reduce the\n",
    "# variability from run to run. Of course, in a real simulation you wouldn't\n",
    "# do this but it should make grading easier.\n",
    "np.random.seed(0)\n",
    "\n",
    "for i in range(N):\n",
    "    newdayOfWeek = []\n",
    "    newdata= np.random.permutation(data)\n",
    "    newyear = newdata[:,0]\n",
    "    newmonth= newdata[:,1]\n",
    "    newday = newdata[:,2]\n",
    "    newrainAmount=newdata[:,3]\n",
    "    for j in range(len(newdata[:,0])):\n",
    "        thenewday= date(int(newdata[j,0]), int(newdata[j,1]), int(newdata[j,2])).weekday()\n",
    "        newdayOfWeek.append(thenewday)\n",
    "    newdayOfWeek=np.asarray(newdayOfWeek)\n",
    "    newmidwk, newwkend, newdelta = rainByWeek(newdayOfWeek, newrainAmount)\n",
    "    if newdelta > delta:\n",
    "        count = count +1\n",
    "p=count/N"
   ]
  },
  {
   "cell_type": "code",
   "execution_count": 40,
   "metadata": {
    "collapsed": false
   },
   "outputs": [
    {
     "data": {
      "text/plain": [
       "0.27"
      ]
     },
     "execution_count": 40,
     "metadata": {},
     "output_type": "execute_result"
    }
   ],
   "source": [
    "p"
   ]
  },
  {
   "cell_type": "markdown",
   "metadata": {},
   "source": [
    "## Results\n",
    "\n",
    "100,000 reps gives me a p-value of 0.06 with about 55 seconds of computation. Not quite significant by the common standard of 0.05. As I said earlier, we don't have enough data to test the hypothesis; the NASA guys used the entire southeast. "
   ]
  },
  {
   "cell_type": "markdown",
   "metadata": {},
   "source": [
    "## Done!\n",
    "\n",
    "Now get your report and submit your assignment."
   ]
  },
  {
   "cell_type": "code",
   "execution_count": null,
   "metadata": {
    "collapsed": false
   },
   "outputs": [],
   "source": [
    "report(Author, Collaborators)"
   ]
  },
  {
   "cell_type": "code",
   "execution_count": null,
   "metadata": {
    "collapsed": true
   },
   "outputs": [],
   "source": []
  }
 ],
 "metadata": {
  "anaconda-cloud": {},
  "kernelspec": {
   "display_name": "Python [Root]",
   "language": "python",
   "name": "Python [Root]"
  },
  "language_info": {
   "codemirror_mode": {
    "name": "ipython",
    "version": 3
   },
   "file_extension": ".py",
   "mimetype": "text/x-python",
   "name": "python",
   "nbconvert_exporter": "python",
   "pygments_lexer": "ipython3",
   "version": "3.5.2"
  }
 },
 "nbformat": 4,
 "nbformat_minor": 0
}
