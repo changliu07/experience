{
 "cells": [
  {
   "cell_type": "code",
   "execution_count": 2,
   "metadata": {
    "collapsed": false
   },
   "outputs": [],
   "source": [
    "%matplotlib inline\n",
    "import numpy as np\n",
    "import pylab"
   ]
  },
  {
   "cell_type": "code",
   "execution_count": 3,
   "metadata": {
    "collapsed": true
   },
   "outputs": [],
   "source": [
    "milk = np.genfromtxt('http://goo.gl/0LcCWj')"
   ]
  },
  {
   "cell_type": "code",
   "execution_count": 4,
   "metadata": {
    "collapsed": false
   },
   "outputs": [
    {
     "data": {
      "text/plain": [
       "array([ 578.,  609.,  628.,  665.,  713.,  707.,  628.,  588.,  576.,\n",
       "        566.,  561.,  571.,  589.,  615.,  641.,  682.,  728.,  726.,\n",
       "        648.,  605.,  591.,  576.,  573.,  587.,  616.,  648.,  675.,\n",
       "        715.,  756.,  746.,  665.,  627.,  612.,  599.,  602.,  622.,\n",
       "        646.,  676.,  696.,  732.,  767.,  767.,  689.,  641.,  624.,\n",
       "        609.,  610.,  623.,  664.,  690.,  722.,  766.,  796.,  809.,\n",
       "        721.,  684.,  670.,  654.,  654.,  675.,  700.,  725.,  748.,\n",
       "        795.,  821.,  828.,  753.,  708.,  690.,  674.,  669.,  685.,\n",
       "        704.,  730.,  760.,  807.,  842.,  838.,  768.,  726.,  711.,\n",
       "        693.,  686.,  698.,  720.,  750.,  770.,  816.,  855.,  857.,\n",
       "        786.,  750.,  735.,  709.,  700.,  720.,  736.,  768.,  792.,\n",
       "        836.,  869.,  871.,  804.,  768.,  750.,  733.,  721.,  737.,\n",
       "        789.,  821.,  844.,  890.,  924.,  926.,  853.,  818.,  801.,\n",
       "        785.,  774.,  785.,  811.,  838.,  873.,  913.,  943.,  948.,\n",
       "        877.,  839.,  820.,  795.,  777.,  790.,  806.,  840.,  867.,\n",
       "        911.,  939.,  937.,  865.,  821.,  795.,  776.,  771.,  787.,\n",
       "        813.,  845.,  872.,  915.,  951.,  960.,  891.,  851.,  826.,\n",
       "        797.,  784.,  798.])"
      ]
     },
     "execution_count": 4,
     "metadata": {},
     "output_type": "execute_result"
    }
   ],
   "source": [
    "milk"
   ]
  },
  {
   "cell_type": "code",
   "execution_count": 6,
   "metadata": {
    "collapsed": false
   },
   "outputs": [
    {
     "data": {
      "text/plain": [
       "(156,)"
      ]
     },
     "execution_count": 6,
     "metadata": {},
     "output_type": "execute_result"
    }
   ],
   "source": [
    "milk.shape"
   ]
  },
  {
   "cell_type": "code",
   "execution_count": 7,
   "metadata": {
    "collapsed": false
   },
   "outputs": [
    {
     "data": {
      "text/plain": [
       "156"
      ]
     },
     "execution_count": 7,
     "metadata": {},
     "output_type": "execute_result"
    }
   ],
   "source": [
    "len(milk)"
   ]
  },
  {
   "cell_type": "code",
   "execution_count": 10,
   "metadata": {
    "collapsed": false
   },
   "outputs": [
    {
     "data": {
      "image/png": "[encoded data removed]",
      "text/plain": [
       "<matplotlib.figure.Figure at 0x10fb7aa90>"
      ]
     },
     "metadata": {},
     "output_type": "display_data"
    }
   ],
   "source": [
    "pylab.plot(milk)\n",
    "pylab.grid(True)"
   ]
  },
  {
   "cell_type": "code",
   "execution_count": 14,
   "metadata": {
    "collapsed": false
   },
   "outputs": [
    {
     "data": {
      "text/plain": [
       "960.0"
      ]
     },
     "execution_count": 14,
     "metadata": {},
     "output_type": "execute_result"
    }
   ],
   "source": [
    "np.max(milk)"
   ]
  },
  {
   "cell_type": "code",
   "execution_count": 15,
   "metadata": {
    "collapsed": false
   },
   "outputs": [
    {
     "data": {
      "text/plain": [
       "561.0"
      ]
     },
     "execution_count": 15,
     "metadata": {},
     "output_type": "execute_result"
    }
   ],
   "source": [
    "np.min(milk)"
   ]
  },
  {
   "cell_type": "code",
   "execution_count": 16,
   "metadata": {
    "collapsed": false
   },
   "outputs": [
    {
     "data": {
      "text/plain": [
       "746.04487179487182"
      ]
     },
     "execution_count": 16,
     "metadata": {},
     "output_type": "execute_result"
    }
   ],
   "source": [
    "np.mean(milk)"
   ]
  },
  {
   "cell_type": "code",
   "execution_count": 18,
   "metadata": {
    "collapsed": false
   },
   "outputs": [
    {
     "data": {
      "text/plain": [
       "98.260077642534441"
      ]
     },
     "execution_count": 18,
     "metadata": {},
     "output_type": "execute_result"
    }
   ],
   "source": [
    "np.std(milk)"
   ]
  },
  {
   "cell_type": "code",
   "execution_count": 19,
   "metadata": {
    "collapsed": true
   },
   "outputs": [],
   "source": [
    "biggerthanaverage =  milk > np.mean(milk)"
   ]
  },
  {
   "cell_type": "code",
   "execution_count": 20,
   "metadata": {
    "collapsed": false
   },
   "outputs": [
    {
     "data": {
      "text/plain": [
       "array([False, False, False, False, False, False, False, False, False,\n",
       "       False, False, False, False, False, False, False, False, False,\n",
       "       False, False, False, False, False, False, False, False, False,\n",
       "       False,  True, False, False, False, False, False, False, False,\n",
       "       False, False, False, False,  True,  True, False, False, False,\n",
       "       False, False, False, False, False, False,  True,  True,  True,\n",
       "       False, False, False, False, False, False, False, False,  True,\n",
       "        True,  True,  True,  True, False, False, False, False, False,\n",
       "       False, False,  True,  True,  True,  True,  True, False, False,\n",
       "       False, False, False, False,  True,  True,  True,  True,  True,\n",
       "        True,  True, False, False, False, False, False,  True,  True,\n",
       "        True,  True,  True,  True,  True,  True, False, False, False,\n",
       "        True,  True,  True,  True,  True,  True,  True,  True,  True,\n",
       "        True,  True,  True,  True,  True,  True,  True,  True,  True,\n",
       "        True,  True,  True,  True,  True,  True,  True,  True,  True,\n",
       "        True,  True,  True,  True,  True,  True,  True,  True,  True,\n",
       "        True,  True,  True,  True,  True,  True,  True,  True,  True,\n",
       "        True,  True,  True], dtype=bool)"
      ]
     },
     "execution_count": 20,
     "metadata": {},
     "output_type": "execute_result"
    }
   ],
   "source": [
    "biggerthanaverage"
   ]
  },
  {
   "cell_type": "code",
   "execution_count": 25,
   "metadata": {
    "collapsed": false
   },
   "outputs": [
    {
     "data": {
      "text/plain": [
       "79"
      ]
     },
     "execution_count": 25,
     "metadata": {},
     "output_type": "execute_result"
    }
   ],
   "source": [
    "len(milk[biggerthanaverage])"
   ]
  },
  {
   "cell_type": "code",
   "execution_count": 26,
   "metadata": {
    "collapsed": false
   },
   "outputs": [
    {
     "data": {
      "text/plain": [
       "79"
      ]
     },
     "execution_count": 26,
     "metadata": {},
     "output_type": "execute_result"
    }
   ],
   "source": [
    "np.count_nonzero(biggerthanaverage)"
   ]
  },
  {
   "cell_type": "code",
   "execution_count": 27,
   "metadata": {
    "collapsed": true
   },
   "outputs": [],
   "source": [
    "# true is 1, false is 0"
   ]
  },
  {
   "cell_type": "code",
   "execution_count": 28,
   "metadata": {
    "collapsed": false
   },
   "outputs": [
    {
     "data": {
      "text/plain": [
       "array([ 756.,  767.,  767.,  766.,  796.,  809.,  748.,  795.,  821.,\n",
       "        828.,  753.,  760.,  807.,  842.,  838.,  768.,  750.,  770.,\n",
       "        816.,  855.,  857.,  786.,  750.,  768.,  792.,  836.,  869.,\n",
       "        871.,  804.,  768.,  750.,  789.,  821.,  844.,  890.,  924.,\n",
       "        926.,  853.,  818.,  801.,  785.,  774.,  785.,  811.,  838.,\n",
       "        873.,  913.,  943.,  948.,  877.,  839.,  820.,  795.,  777.,\n",
       "        790.,  806.,  840.,  867.,  911.,  939.,  937.,  865.,  821.,\n",
       "        795.,  776.,  771.,  787.,  813.,  845.,  872.,  915.,  951.,\n",
       "        960.,  891.,  851.,  826.,  797.,  784.,  798.])"
      ]
     },
     "execution_count": 28,
     "metadata": {},
     "output_type": "execute_result"
    }
   ],
   "source": [
    "milk[biggerthanaverage]"
   ]
  },
  {
   "cell_type": "code",
   "execution_count": 30,
   "metadata": {
    "collapsed": false
   },
   "outputs": [
    {
     "data": {
      "text/plain": [
       "79"
      ]
     },
     "execution_count": 30,
     "metadata": {},
     "output_type": "execute_result"
    }
   ],
   "source": [
    "np.sum(biggerthanaverage)"
   ]
  },
  {
   "cell_type": "code",
   "execution_count": 31,
   "metadata": {
    "collapsed": false
   },
   "outputs": [
    {
     "name": "stdout",
     "output_type": "stream",
     "text": [
      "[[ 578.  609.  628.  665.  713.  707.  628.  588.  576.  566.  561.  571.]\n",
      " [ 589.  615.  641.  682.  728.  726.  648.  605.  591.  576.  573.  587.]\n",
      " [ 616.  648.  675.  715.  756.  746.  665.  627.  612.  599.  602.  622.]\n",
      " [ 646.  676.  696.  732.  767.  767.  689.  641.  624.  609.  610.  623.]\n",
      " [ 664.  690.  722.  766.  796.  809.  721.  684.  670.  654.  654.  675.]\n",
      " [ 700.  725.  748.  795.  821.  828.  753.  708.  690.  674.  669.  685.]\n",
      " [ 704.  730.  760.  807.  842.  838.  768.  726.  711.  693.  686.  698.]\n",
      " [ 720.  750.  770.  816.  855.  857.  786.  750.  735.  709.  700.  720.]\n",
      " [ 736.  768.  792.  836.  869.  871.  804.  768.  750.  733.  721.  737.]\n",
      " [ 789.  821.  844.  890.  924.  926.  853.  818.  801.  785.  774.  785.]\n",
      " [ 811.  838.  873.  913.  943.  948.  877.  839.  820.  795.  777.  790.]\n",
      " [ 806.  840.  867.  911.  939.  937.  865.  821.  795.  776.  771.  787.]\n",
      " [ 813.  845.  872.  915.  951.  960.  891.  851.  826.  797.  784.  798.]]\n"
     ]
    }
   ],
   "source": [
    "yearly = np.reshape(milk, (13,12))\n",
    "print(yearly)"
   ]
  },
  {
   "cell_type": "code",
   "execution_count": 32,
   "metadata": {
    "collapsed": false
   },
   "outputs": [
    {
     "data": {
      "text/plain": [
       "(13, 12)"
      ]
     },
     "execution_count": 32,
     "metadata": {},
     "output_type": "execute_result"
    }
   ],
   "source": [
    "yearly.shape"
   ]
  },
  {
   "cell_type": "code",
   "execution_count": 33,
   "metadata": {
    "collapsed": false
   },
   "outputs": [
    {
     "data": {
      "text/plain": [
       "746.04487179487182"
      ]
     },
     "execution_count": 33,
     "metadata": {},
     "output_type": "execute_result"
    }
   ],
   "source": [
    "np.mean(yearly)"
   ]
  },
  {
   "cell_type": "code",
   "execution_count": 34,
   "metadata": {
    "collapsed": false
   },
   "outputs": [
    {
     "data": {
      "text/plain": [
       "array([ 705.53846154,  735.        ,  760.61538462,  803.30769231,\n",
       "        838.76923077,  840.        ,  765.23076923,  725.07692308,\n",
       "        707.76923077,  689.69230769,  683.23076923,  698.30769231])"
      ]
     },
     "execution_count": 34,
     "metadata": {},
     "output_type": "execute_result"
    }
   ],
   "source": [
    "np.mean(yearly, axis= 0)"
   ]
  },
  {
   "cell_type": "code",
   "execution_count": 35,
   "metadata": {
    "collapsed": false
   },
   "outputs": [
    {
     "data": {
      "text/plain": [
       "array([ 615.83333333,  630.08333333,  656.91666667,  673.33333333,\n",
       "        708.75      ,  733.        ,  746.91666667,  764.        ,\n",
       "        782.08333333,  834.16666667,  852.        ,  842.91666667,\n",
       "        858.58333333])"
      ]
     },
     "execution_count": 35,
     "metadata": {},
     "output_type": "execute_result"
    }
   ],
   "source": [
    "np.mean(yearly, axis=1)"
   ]
  },
  {
   "cell_type": "code",
   "execution_count": null,
   "metadata": {
    "collapsed": true
   },
   "outputs": [],
   "source": []
  }
 ],
 "metadata": {
  "anaconda-cloud": {},
  "kernelspec": {
   "display_name": "Python [Root]",
   "language": "python",
   "name": "Python [Root]"
  },
  "language_info": {
   "codemirror_mode": {
    "name": "ipython",
    "version": 3
   },
   "file_extension": ".py",
   "mimetype": "text/x-python",
   "name": "python",
   "nbconvert_exporter": "python",
   "pygments_lexer": "ipython3",
   "version": "3.5.2"
  }
 },
 "nbformat": 4,
 "nbformat_minor": 0
}
