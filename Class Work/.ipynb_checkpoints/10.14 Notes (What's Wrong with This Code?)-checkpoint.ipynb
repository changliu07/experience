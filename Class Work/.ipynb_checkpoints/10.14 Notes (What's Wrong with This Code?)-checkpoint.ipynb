{
 "cells": [
  {
   "cell_type": "code",
   "execution_count": 5,
   "metadata": {
    "collapsed": false
   },
   "outputs": [
    {
     "data": {
      "text/plain": [
       "[3, 5, 6, 9, 10, 11, 15, 3, 5, 6, 9, 10, 11, 15]"
      ]
     },
     "execution_count": 5,
     "metadata": {},
     "output_type": "execute_result"
    }
   ],
   "source": [
    "L1 = [ 3, -4, 5, 6, -7, -8, 9, 10, 11, -12, -13, -14, 15 ]\n",
    "L2 = [ 42, 3, 7, 12, -6 ] \n",
    "\n",
    "#result = [] #global variable - should be inside list\n",
    "def f1(L):\n",
    "    '''Return a list of the positive numbers'''\n",
    "    for v in L:\n",
    "        if v >= 0:\n",
    "            result.append(v)\n",
    "    return result\n",
    "\n",
    "f1(L1)"
   ]
  },
  {
   "cell_type": "code",
   "execution_count": 7,
   "metadata": {
    "collapsed": false
   },
   "outputs": [
    {
     "data": {
      "text/plain": [
       "[3, 5, 6, 9, 10, 11, 15]"
      ]
     },
     "execution_count": 7,
     "metadata": {},
     "output_type": "execute_result"
    }
   ],
   "source": [
    "def f2(L):\n",
    "    '''Return a list of the positive numbers'''\n",
    "    result =[]\n",
    "    for v in L:\n",
    "        if v >= 0:\n",
    "            #result = result.append(v) does not work\n",
    "            result.append(v)\n",
    "    return result\n",
    "\n",
    "f2(L1)"
   ]
  },
  {
   "cell_type": "code",
   "execution_count": 19,
   "metadata": {
    "collapsed": false
   },
   "outputs": [
    {
     "data": {
      "text/plain": [
       "[[1, 2], []]"
      ]
     },
     "execution_count": 19,
     "metadata": {},
     "output_type": "execute_result"
    }
   ],
   "source": [
    "L3 = []\n",
    "L3.append([1,2])\n",
    "#L3.append(1,2) dosen't work becaue (1,2) is not a tuple\n",
    "\n",
    "L3.append([])\n",
    "L3"
   ]
  },
  {
   "cell_type": "code",
   "execution_count": 17,
   "metadata": {
    "collapsed": false
   },
   "outputs": [
    {
     "data": {
      "text/plain": [
       "[3, 3, 5, 6, 6, 6, 9, 10, 11, 11, 11, 11, 15]"
      ]
     },
     "execution_count": 17,
     "metadata": {},
     "output_type": "execute_result"
    }
   ],
   "source": [
    "def f3(L):\n",
    "    result =[L[0]]\n",
    "    currentMax = L[0]\n",
    "    for i in range(1, len(L)):\n",
    "        if L[i] > currentMax:\n",
    "            currentMax= L[i]\n",
    "            result.append(currentMax)\n",
    "        else:\n",
    "            result.append(currentMax)\n",
    "    return result\n",
    "f3(L1)"
   ]
  },
  {
   "cell_type": "code",
   "execution_count": 18,
   "metadata": {
    "collapsed": false
   },
   "outputs": [
    {
     "data": {
      "text/plain": [
       "[3, 3, 5, 6, 6, 6, 9, 10, 11, 11, 11, 11, 15]"
      ]
     },
     "execution_count": 18,
     "metadata": {},
     "output_type": "execute_result"
    }
   ],
   "source": [
    "def f4(L):\n",
    "    result = [ L[0] ]\n",
    "    for i in range(1, len(L)):\n",
    "        if L[i] >= result[-1]:\n",
    "            result.append(L[i])\n",
    "        else:\n",
    "            result.append(result[-1])\n",
    "    return result\n",
    "f4(L1)"
   ]
  },
  {
   "cell_type": "code",
   "execution_count": null,
   "metadata": {
    "collapsed": true
   },
   "outputs": [],
   "source": []
  }
 ],
 "metadata": {
  "anaconda-cloud": {},
  "kernelspec": {
   "display_name": "Python [Root]",
   "language": "python",
   "name": "Python [Root]"
  },
  "language_info": {
   "codemirror_mode": {
    "name": "ipython",
    "version": 3
   },
   "file_extension": ".py",
   "mimetype": "text/x-python",
   "name": "python",
   "nbconvert_exporter": "python",
   "pygments_lexer": "ipython3",
   "version": "3.5.2"
  }
 },
 "nbformat": 4,
 "nbformat_minor": 0
}
