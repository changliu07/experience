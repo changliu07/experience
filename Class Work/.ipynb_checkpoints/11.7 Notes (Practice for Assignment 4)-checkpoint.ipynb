{
 "cells": [
  {
   "cell_type": "code",
   "execution_count": 1,
   "metadata": {
    "collapsed": true
   },
   "outputs": [],
   "source": [
    "%matplotlib inline\n",
    "import numpy as np\n",
    "import pylab"
   ]
  },
  {
   "cell_type": "code",
   "execution_count": 2,
   "metadata": {
    "collapsed": false
   },
   "outputs": [
    {
     "data": {
      "text/plain": [
       "array([[ 0, 72,  5],\n",
       "       [ 1, 62,  7],\n",
       "       [ 1, 62,  2],\n",
       "       [ 1, 65,  6],\n",
       "       [ 0, 70,  7]])"
      ]
     },
     "execution_count": 2,
     "metadata": {},
     "output_type": "execute_result"
    }
   ],
   "source": [
    "import urllib.request\n",
    "urllib.request.urlretrieve('https://goo.gl/oVG17f', 'survey.txt')\n",
    "\n",
    "survey = np.loadtxt('survey.txt', delimiter=',', dtype=int)\n",
    "# fields are She, Height, Month\n",
    "survey[:5]"
   ]
  },
  {
   "cell_type": "code",
   "execution_count": 3,
   "metadata": {
    "collapsed": false
   },
   "outputs": [
    {
     "name": "stdout",
     "output_type": "stream",
     "text": [
      "64.847826087 70.5857142857\n"
     ]
    }
   ],
   "source": [
    "def getMeanHeights(isGroup, heights):\n",
    "    inHeight= np.mean(heights[isGroup])\n",
    "    outHeight = np.mean(heights[~isGroup])\n",
    "    return inHeight, outHeight\n",
    "smean, hmean = getMeanHeights(survey[:,0]==1, survey[:,1])\n",
    "print(smean, hmean)"
   ]
  },
  {
   "cell_type": "code",
   "execution_count": 4,
   "metadata": {
    "collapsed": false
   },
   "outputs": [
    {
     "name": "stdout",
     "output_type": "stream",
     "text": [
      "5.73788819876\n"
     ]
    }
   ],
   "source": [
    "delta = hmean - smean\n",
    "print(delta)"
   ]
  },
  {
   "cell_type": "code",
   "execution_count": 5,
   "metadata": {
    "collapsed": false
   },
   "outputs": [
    {
     "name": "stdout",
     "output_type": "stream",
     "text": [
      "0.0\n"
     ]
    }
   ],
   "source": [
    "delta = hmean - smean\n",
    "N = 1000\n",
    "count = 0\n",
    "for i in range(N):\n",
    "    group = np.random.permutation(survey[:,0]==1)\n",
    "    inmean, outmean = getMeanHeights(group, survey[:,1])\n",
    "    d = outmean - inmean\n",
    "    if (d > delta):\n",
    "        count = count + 1\n",
    "print(count/N)"
   ]
  },
  {
   "cell_type": "code",
   "execution_count": 6,
   "metadata": {
    "collapsed": false
   },
   "outputs": [
    {
     "data": {
      "text/plain": [
       "(67.184210526315795, 67.45348837209302)"
      ]
     },
     "execution_count": 6,
     "metadata": {},
     "output_type": "execute_result"
    }
   ],
   "source": [
    "getMeanHeights(survey[:,2] > 6, survey[:,1])"
   ]
  },
  {
   "cell_type": "code",
   "execution_count": 7,
   "metadata": {
    "collapsed": false
   },
   "outputs": [
    {
     "name": "stdout",
     "output_type": "stream",
     "text": [
      "0.359\n"
     ]
    }
   ],
   "source": [
    "lmean, emean = getMeanHeights(survey[:,2] > 6, survey[:,1])\n",
    "delta = emean - lmean\n",
    "N = 10000\n",
    "count = 0\n",
    "for i in range(N):\n",
    "    group = np.random.permutation(survey[:,2] > 6)\n",
    "    inmean, outmean = getMeanHeights(group, survey[:,1])\n",
    "    d = outmean - inmean\n",
    "    if (d > delta):\n",
    "        count = count+1\n",
    "print(count/N)"
   ]
  },
  {
   "cell_type": "code",
   "execution_count": null,
   "metadata": {
    "collapsed": true
   },
   "outputs": [],
   "source": []
  }
 ],
 "metadata": {
  "kernelspec": {
   "display_name": "Python [Root]",
   "language": "python",
   "name": "Python [Root]"
  },
  "language_info": {
   "codemirror_mode": {
    "name": "ipython",
    "version": 3
   },
   "file_extension": ".py",
   "mimetype": "text/x-python",
   "name": "python",
   "nbconvert_exporter": "python",
   "pygments_lexer": "ipython3",
   "version": "3.5.2"
  }
 },
 "nbformat": 4,
 "nbformat_minor": 0
}
