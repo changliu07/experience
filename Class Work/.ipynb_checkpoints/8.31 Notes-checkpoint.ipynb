{
 "cells": [
  {
   "cell_type": "code",
   "execution_count": 1,
   "metadata": {
    "collapsed": true
   },
   "outputs": [],
   "source": [
    "%matplotlib inline\n",
    "import numpy as np\n",
    "import pylab"
   ]
  },
  {
   "cell_type": "code",
   "execution_count": 2,
   "metadata": {
    "collapsed": false
   },
   "outputs": [
    {
     "data": {
      "image/png": "[encoded data removed]",
      "text/plain": [
       "<matplotlib.figure.Figure at 0x10a67db00>"
      ]
     },
     "metadata": {},
     "output_type": "display_data"
    }
   ],
   "source": [
    "x = np.linspace(0, 1, 101)  # step from 0 to 1 in 101 steps\n",
    "y = np.sin(4 * np.pi * x) * np.exp(-5 * x) # a damped sine\n",
    "\n",
    "pylab.plot(x, y)\n",
    "pylab.grid(True)"
   ]
  },
  {
   "cell_type": "code",
   "execution_count": 3,
   "metadata": {
    "collapsed": false
   },
   "outputs": [
    {
     "name": "stdout",
     "output_type": "stream",
     "text": [
      "[ 0.    0.01  0.02  0.03  0.04  0.05  0.06  0.07  0.08  0.09  0.1   0.11\n",
      "  0.12  0.13  0.14  0.15  0.16  0.17  0.18  0.19  0.2   0.21  0.22  0.23\n",
      "  0.24  0.25  0.26  0.27  0.28  0.29  0.3   0.31  0.32  0.33  0.34  0.35\n",
      "  0.36  0.37  0.38  0.39  0.4   0.41  0.42  0.43  0.44  0.45  0.46  0.47\n",
      "  0.48  0.49  0.5   0.51  0.52  0.53  0.54  0.55  0.56  0.57  0.58  0.59\n",
      "  0.6   0.61  0.62  0.63  0.64  0.65  0.66  0.67  0.68  0.69  0.7   0.71\n",
      "  0.72  0.73  0.74  0.75  0.76  0.77  0.78  0.79  0.8   0.81  0.82  0.83\n",
      "  0.84  0.85  0.86  0.87  0.88  0.89  0.9   0.91  0.92  0.93  0.94  0.95\n",
      "  0.96  0.97  0.98  0.99  1.  ]\n"
     ]
    }
   ],
   "source": [
    "print(x)"
   ]
  },
  {
   "cell_type": "code",
   "execution_count": 4,
   "metadata": {
    "collapsed": false
   },
   "outputs": [
    {
     "name": "stdout",
     "output_type": "stream",
     "text": [
      "[  0.00000000e+00   1.19220660e-01   2.25023915e-01   3.16847739e-01\n",
      "   3.94426548e-01   4.57767615e-01   5.07124969e-01   5.42971505e-01\n",
      "   5.65969934e-01   5.76943201e-01   5.76844936e-01   5.66730443e-01\n",
      "   5.47728682e-01   5.21015639e-01   4.87789413e-01   4.49247288e-01\n",
      "   4.06565002e-01   3.60878363e-01   3.13267307e-01   2.64742448e-01\n",
      "   2.16234110e-01   1.68583796e-01   1.22538019e-01   7.87443624e-02\n",
      "   3.77496445e-02   3.50867182e-17  -3.41572909e-02  -6.44704312e-02\n",
      "  -9.07783970e-02  -1.13005098e-01  -1.31152617e-01  -1.45293736e-01\n",
      "  -1.55563941e-01  -1.62153101e-01  -1.65296995e-01  -1.65268841e-01\n",
      "  -1.62370990e-01  -1.56926895e-01  -1.49273480e-01  -1.39754007e-01\n",
      "  -1.28711503e-01  -1.16482823e-01  -1.03393382e-01  -8.97525861e-02\n",
      "  -7.58499814e-02  -6.19521098e-02  -4.83000663e-02  -3.51077302e-02\n",
      "  -2.25606376e-02  -1.08154542e-02  -2.01050262e-17   9.78622768e-03\n",
      "   1.84710878e-02   2.60084462e-02   3.23765027e-02   3.75758540e-02\n",
      "   4.16273524e-02   4.45698153e-02   4.64576412e-02   4.73583819e-02\n",
      "   4.73503158e-02   4.65200676e-02   4.49603081e-02   4.27675680e-02\n",
      "   4.00401933e-02   3.68764630e-02   3.33728876e-02   2.96226999e-02\n",
      "   2.57145465e-02   2.17313835e-02   1.77495766e-02   1.38382007e-02\n",
      "   1.00585331e-02   6.46373088e-03   3.09867952e-03   8.64027966e-18\n",
      "  -2.80380117e-03  -5.29205525e-03  -7.45154460e-03  -9.27602332e-03\n",
      "  -1.07656624e-02  -1.19264361e-02  -1.27694659e-02  -1.33103371e-02\n",
      "  -1.35684036e-02  -1.35660926e-02  -1.33282225e-02  -1.28813439e-02\n",
      "  -1.22531134e-02  -1.14717074e-02  -1.05652835e-02  -9.56149240e-03\n",
      "  -8.48704562e-03  -7.36734091e-03  -6.22614562e-03  -5.08533885e-03\n",
      "  -3.96471088e-03  -2.88181798e-03  -1.85188990e-03  -8.87786546e-04\n",
      "  -3.30064209e-18]\n"
     ]
    }
   ],
   "source": [
    "print(y)"
   ]
  },
  {
   "cell_type": "code",
   "execution_count": 5,
   "metadata": {
    "collapsed": false
   },
   "outputs": [
    {
     "data": {
      "text/plain": [
       "0.57694320100128538"
      ]
     },
     "execution_count": 5,
     "metadata": {},
     "output_type": "execute_result"
    }
   ],
   "source": [
    "np.max(y)"
   ]
  },
  {
   "cell_type": "code",
   "execution_count": 6,
   "metadata": {
    "collapsed": false
   },
   "outputs": [
    {
     "data": {
      "text/plain": [
       "-0.16529699460274108"
      ]
     },
     "execution_count": 6,
     "metadata": {},
     "output_type": "execute_result"
    }
   ],
   "source": [
    "np.min(y)"
   ]
  },
  {
   "cell_type": "code",
   "execution_count": 7,
   "metadata": {
    "collapsed": false,
    "scrolled": true
   },
   "outputs": [
    {
     "name": "stdout",
     "output_type": "stream",
     "text": [
      "[[  0.00000000e+00   1.00000000e-02   2.00000000e-02   3.00000000e-02\n",
      "    4.00000000e-02   5.00000000e-02   6.00000000e-02   7.00000000e-02\n",
      "    8.00000000e-02   9.00000000e-02   1.00000000e-01   1.10000000e-01\n",
      "    1.20000000e-01   1.30000000e-01   1.40000000e-01   1.50000000e-01\n",
      "    1.60000000e-01   1.70000000e-01   1.80000000e-01   1.90000000e-01\n",
      "    2.00000000e-01   2.10000000e-01   2.20000000e-01   2.30000000e-01\n",
      "    2.40000000e-01   2.50000000e-01   2.60000000e-01   2.70000000e-01\n",
      "    2.80000000e-01   2.90000000e-01   3.00000000e-01   3.10000000e-01\n",
      "    3.20000000e-01   3.30000000e-01   3.40000000e-01   3.50000000e-01\n",
      "    3.60000000e-01   3.70000000e-01   3.80000000e-01   3.90000000e-01\n",
      "    4.00000000e-01   4.10000000e-01   4.20000000e-01   4.30000000e-01\n",
      "    4.40000000e-01   4.50000000e-01   4.60000000e-01   4.70000000e-01\n",
      "    4.80000000e-01   4.90000000e-01   5.00000000e-01   5.10000000e-01\n",
      "    5.20000000e-01   5.30000000e-01   5.40000000e-01   5.50000000e-01\n",
      "    5.60000000e-01   5.70000000e-01   5.80000000e-01   5.90000000e-01\n",
      "    6.00000000e-01   6.10000000e-01   6.20000000e-01   6.30000000e-01\n",
      "    6.40000000e-01   6.50000000e-01   6.60000000e-01   6.70000000e-01\n",
      "    6.80000000e-01   6.90000000e-01   7.00000000e-01   7.10000000e-01\n",
      "    7.20000000e-01   7.30000000e-01   7.40000000e-01   7.50000000e-01\n",
      "    7.60000000e-01   7.70000000e-01   7.80000000e-01   7.90000000e-01\n",
      "    8.00000000e-01   8.10000000e-01   8.20000000e-01   8.30000000e-01\n",
      "    8.40000000e-01   8.50000000e-01   8.60000000e-01   8.70000000e-01\n",
      "    8.80000000e-01   8.90000000e-01   9.00000000e-01   9.10000000e-01\n",
      "    9.20000000e-01   9.30000000e-01   9.40000000e-01   9.50000000e-01\n",
      "    9.60000000e-01   9.70000000e-01   9.80000000e-01   9.90000000e-01\n",
      "    1.00000000e+00]\n",
      " [  0.00000000e+00   1.19220660e-01   2.25023915e-01   3.16847739e-01\n",
      "    3.94426548e-01   4.57767615e-01   5.07124969e-01   5.42971505e-01\n",
      "    5.65969934e-01   5.76943201e-01   5.76844936e-01   5.66730443e-01\n",
      "    5.47728682e-01   5.21015639e-01   4.87789413e-01   4.49247288e-01\n",
      "    4.06565002e-01   3.60878363e-01   3.13267307e-01   2.64742448e-01\n",
      "    2.16234110e-01   1.68583796e-01   1.22538019e-01   7.87443624e-02\n",
      "    3.77496445e-02   3.50867182e-17  -3.41572909e-02  -6.44704312e-02\n",
      "   -9.07783970e-02  -1.13005098e-01  -1.31152617e-01  -1.45293736e-01\n",
      "   -1.55563941e-01  -1.62153101e-01  -1.65296995e-01  -1.65268841e-01\n",
      "   -1.62370990e-01  -1.56926895e-01  -1.49273480e-01  -1.39754007e-01\n",
      "   -1.28711503e-01  -1.16482823e-01  -1.03393382e-01  -8.97525861e-02\n",
      "   -7.58499814e-02  -6.19521098e-02  -4.83000663e-02  -3.51077302e-02\n",
      "   -2.25606376e-02  -1.08154542e-02  -2.01050262e-17   9.78622768e-03\n",
      "    1.84710878e-02   2.60084462e-02   3.23765027e-02   3.75758540e-02\n",
      "    4.16273524e-02   4.45698153e-02   4.64576412e-02   4.73583819e-02\n",
      "    4.73503158e-02   4.65200676e-02   4.49603081e-02   4.27675680e-02\n",
      "    4.00401933e-02   3.68764630e-02   3.33728876e-02   2.96226999e-02\n",
      "    2.57145465e-02   2.17313835e-02   1.77495766e-02   1.38382007e-02\n",
      "    1.00585331e-02   6.46373088e-03   3.09867952e-03   8.64027966e-18\n",
      "   -2.80380117e-03  -5.29205525e-03  -7.45154460e-03  -9.27602332e-03\n",
      "   -1.07656624e-02  -1.19264361e-02  -1.27694659e-02  -1.33103371e-02\n",
      "   -1.35684036e-02  -1.35660926e-02  -1.33282225e-02  -1.28813439e-02\n",
      "   -1.22531134e-02  -1.14717074e-02  -1.05652835e-02  -9.56149240e-03\n",
      "   -8.48704562e-03  -7.36734091e-03  -6.22614562e-03  -5.08533885e-03\n",
      "   -3.96471088e-03  -2.88181798e-03  -1.85188990e-03  -8.87786546e-04\n",
      "   -3.30064209e-18]]\n"
     ]
    }
   ],
   "source": [
    "xy = np.array([x,y])\n",
    "print(xy)"
   ]
  },
  {
   "cell_type": "code",
   "execution_count": 8,
   "metadata": {
    "collapsed": false
   },
   "outputs": [
    {
     "data": {
      "text/plain": [
       "array([[  0.00000000e+00,   0.00000000e+00],\n",
       "       [  1.00000000e-02,   1.19220660e-01],\n",
       "       [  2.00000000e-02,   2.25023915e-01],\n",
       "       [  3.00000000e-02,   3.16847739e-01],\n",
       "       [  4.00000000e-02,   3.94426548e-01],\n",
       "       [  5.00000000e-02,   4.57767615e-01],\n",
       "       [  6.00000000e-02,   5.07124969e-01],\n",
       "       [  7.00000000e-02,   5.42971505e-01],\n",
       "       [  8.00000000e-02,   5.65969934e-01],\n",
       "       [  9.00000000e-02,   5.76943201e-01],\n",
       "       [  1.00000000e-01,   5.76844936e-01],\n",
       "       [  1.10000000e-01,   5.66730443e-01],\n",
       "       [  1.20000000e-01,   5.47728682e-01],\n",
       "       [  1.30000000e-01,   5.21015639e-01],\n",
       "       [  1.40000000e-01,   4.87789413e-01],\n",
       "       [  1.50000000e-01,   4.49247288e-01],\n",
       "       [  1.60000000e-01,   4.06565002e-01],\n",
       "       [  1.70000000e-01,   3.60878363e-01],\n",
       "       [  1.80000000e-01,   3.13267307e-01],\n",
       "       [  1.90000000e-01,   2.64742448e-01],\n",
       "       [  2.00000000e-01,   2.16234110e-01],\n",
       "       [  2.10000000e-01,   1.68583796e-01],\n",
       "       [  2.20000000e-01,   1.22538019e-01],\n",
       "       [  2.30000000e-01,   7.87443624e-02],\n",
       "       [  2.40000000e-01,   3.77496445e-02],\n",
       "       [  2.50000000e-01,   3.50867182e-17],\n",
       "       [  2.60000000e-01,  -3.41572909e-02],\n",
       "       [  2.70000000e-01,  -6.44704312e-02],\n",
       "       [  2.80000000e-01,  -9.07783970e-02],\n",
       "       [  2.90000000e-01,  -1.13005098e-01],\n",
       "       [  3.00000000e-01,  -1.31152617e-01],\n",
       "       [  3.10000000e-01,  -1.45293736e-01],\n",
       "       [  3.20000000e-01,  -1.55563941e-01],\n",
       "       [  3.30000000e-01,  -1.62153101e-01],\n",
       "       [  3.40000000e-01,  -1.65296995e-01],\n",
       "       [  3.50000000e-01,  -1.65268841e-01],\n",
       "       [  3.60000000e-01,  -1.62370990e-01],\n",
       "       [  3.70000000e-01,  -1.56926895e-01],\n",
       "       [  3.80000000e-01,  -1.49273480e-01],\n",
       "       [  3.90000000e-01,  -1.39754007e-01],\n",
       "       [  4.00000000e-01,  -1.28711503e-01],\n",
       "       [  4.10000000e-01,  -1.16482823e-01],\n",
       "       [  4.20000000e-01,  -1.03393382e-01],\n",
       "       [  4.30000000e-01,  -8.97525861e-02],\n",
       "       [  4.40000000e-01,  -7.58499814e-02],\n",
       "       [  4.50000000e-01,  -6.19521098e-02],\n",
       "       [  4.60000000e-01,  -4.83000663e-02],\n",
       "       [  4.70000000e-01,  -3.51077302e-02],\n",
       "       [  4.80000000e-01,  -2.25606376e-02],\n",
       "       [  4.90000000e-01,  -1.08154542e-02],\n",
       "       [  5.00000000e-01,  -2.01050262e-17],\n",
       "       [  5.10000000e-01,   9.78622768e-03],\n",
       "       [  5.20000000e-01,   1.84710878e-02],\n",
       "       [  5.30000000e-01,   2.60084462e-02],\n",
       "       [  5.40000000e-01,   3.23765027e-02],\n",
       "       [  5.50000000e-01,   3.75758540e-02],\n",
       "       [  5.60000000e-01,   4.16273524e-02],\n",
       "       [  5.70000000e-01,   4.45698153e-02],\n",
       "       [  5.80000000e-01,   4.64576412e-02],\n",
       "       [  5.90000000e-01,   4.73583819e-02],\n",
       "       [  6.00000000e-01,   4.73503158e-02],\n",
       "       [  6.10000000e-01,   4.65200676e-02],\n",
       "       [  6.20000000e-01,   4.49603081e-02],\n",
       "       [  6.30000000e-01,   4.27675680e-02],\n",
       "       [  6.40000000e-01,   4.00401933e-02],\n",
       "       [  6.50000000e-01,   3.68764630e-02],\n",
       "       [  6.60000000e-01,   3.33728876e-02],\n",
       "       [  6.70000000e-01,   2.96226999e-02],\n",
       "       [  6.80000000e-01,   2.57145465e-02],\n",
       "       [  6.90000000e-01,   2.17313835e-02],\n",
       "       [  7.00000000e-01,   1.77495766e-02],\n",
       "       [  7.10000000e-01,   1.38382007e-02],\n",
       "       [  7.20000000e-01,   1.00585331e-02],\n",
       "       [  7.30000000e-01,   6.46373088e-03],\n",
       "       [  7.40000000e-01,   3.09867952e-03],\n",
       "       [  7.50000000e-01,   8.64027966e-18],\n",
       "       [  7.60000000e-01,  -2.80380117e-03],\n",
       "       [  7.70000000e-01,  -5.29205525e-03],\n",
       "       [  7.80000000e-01,  -7.45154460e-03],\n",
       "       [  7.90000000e-01,  -9.27602332e-03],\n",
       "       [  8.00000000e-01,  -1.07656624e-02],\n",
       "       [  8.10000000e-01,  -1.19264361e-02],\n",
       "       [  8.20000000e-01,  -1.27694659e-02],\n",
       "       [  8.30000000e-01,  -1.33103371e-02],\n",
       "       [  8.40000000e-01,  -1.35684036e-02],\n",
       "       [  8.50000000e-01,  -1.35660926e-02],\n",
       "       [  8.60000000e-01,  -1.33282225e-02],\n",
       "       [  8.70000000e-01,  -1.28813439e-02],\n",
       "       [  8.80000000e-01,  -1.22531134e-02],\n",
       "       [  8.90000000e-01,  -1.14717074e-02],\n",
       "       [  9.00000000e-01,  -1.05652835e-02],\n",
       "       [  9.10000000e-01,  -9.56149240e-03],\n",
       "       [  9.20000000e-01,  -8.48704562e-03],\n",
       "       [  9.30000000e-01,  -7.36734091e-03],\n",
       "       [  9.40000000e-01,  -6.22614562e-03],\n",
       "       [  9.50000000e-01,  -5.08533885e-03],\n",
       "       [  9.60000000e-01,  -3.96471088e-03],\n",
       "       [  9.70000000e-01,  -2.88181798e-03],\n",
       "       [  9.80000000e-01,  -1.85188990e-03],\n",
       "       [  9.90000000e-01,  -8.87786546e-04],\n",
       "       [  1.00000000e+00,  -3.30064209e-18]])"
      ]
     },
     "execution_count": 8,
     "metadata": {},
     "output_type": "execute_result"
    }
   ],
   "source": [
    "xy.T"
   ]
  },
  {
   "cell_type": "code",
   "execution_count": 9,
   "metadata": {
    "collapsed": false
   },
   "outputs": [
    {
     "data": {
      "text/plain": [
       "(2, 101)"
      ]
     },
     "execution_count": 9,
     "metadata": {},
     "output_type": "execute_result"
    }
   ],
   "source": [
    "xy.shape"
   ]
  },
  {
   "cell_type": "code",
   "execution_count": 10,
   "metadata": {
    "collapsed": false
   },
   "outputs": [
    {
     "data": {
      "text/plain": [
       "0.0"
      ]
     },
     "execution_count": 10,
     "metadata": {},
     "output_type": "execute_result"
    }
   ],
   "source": [
    "x[0]"
   ]
  },
  {
   "cell_type": "code",
   "execution_count": 11,
   "metadata": {
    "collapsed": false
   },
   "outputs": [
    {
     "data": {
      "text/plain": [
       "0.059999999999999998"
      ]
     },
     "execution_count": 11,
     "metadata": {},
     "output_type": "execute_result"
    }
   ],
   "source": [
    "x[6]"
   ]
  },
  {
   "cell_type": "code",
   "execution_count": 12,
   "metadata": {
    "collapsed": false
   },
   "outputs": [
    {
     "data": {
      "text/plain": [
       "array([ 0.  ,  0.01,  0.02,  0.03,  0.04,  0.05])"
      ]
     },
     "execution_count": 12,
     "metadata": {},
     "output_type": "execute_result"
    }
   ],
   "source": [
    "x[0:6]"
   ]
  },
  {
   "cell_type": "code",
   "execution_count": 13,
   "metadata": {
    "collapsed": false
   },
   "outputs": [
    {
     "data": {
      "text/plain": [
       "array([ 0.  ,  0.01,  0.02,  0.03,  0.04,  0.05,  0.06,  0.07,  0.08,\n",
       "        0.09,  0.1 ,  0.11,  0.12,  0.13,  0.14,  0.15,  0.16,  0.17,\n",
       "        0.18,  0.19,  0.2 ,  0.21,  0.22,  0.23,  0.24,  0.25,  0.26,\n",
       "        0.27,  0.28,  0.29,  0.3 ,  0.31,  0.32,  0.33,  0.34,  0.35,\n",
       "        0.36,  0.37,  0.38,  0.39,  0.4 ,  0.41,  0.42,  0.43,  0.44,\n",
       "        0.45,  0.46,  0.47,  0.48,  0.49,  0.5 ,  0.51,  0.52,  0.53,\n",
       "        0.54,  0.55,  0.56,  0.57,  0.58,  0.59,  0.6 ,  0.61,  0.62,\n",
       "        0.63,  0.64,  0.65,  0.66,  0.67,  0.68,  0.69,  0.7 ,  0.71,\n",
       "        0.72,  0.73,  0.74,  0.75,  0.76,  0.77,  0.78,  0.79,  0.8 ,\n",
       "        0.81,  0.82,  0.83,  0.84,  0.85,  0.86,  0.87,  0.88,  0.89,\n",
       "        0.9 ,  0.91,  0.92,  0.93,  0.94,  0.95,  0.96,  0.97,  0.98,\n",
       "        0.99,  1.  ])"
      ]
     },
     "execution_count": 13,
     "metadata": {},
     "output_type": "execute_result"
    }
   ],
   "source": [
    "xy[0]"
   ]
  },
  {
   "cell_type": "code",
   "execution_count": 14,
   "metadata": {
    "collapsed": false
   },
   "outputs": [
    {
     "data": {
      "text/plain": [
       "0.31684773881360873"
      ]
     },
     "execution_count": 14,
     "metadata": {},
     "output_type": "execute_result"
    }
   ],
   "source": [
    "xy[1,3]"
   ]
  },
  {
   "cell_type": "code",
   "execution_count": 15,
   "metadata": {
    "collapsed": false
   },
   "outputs": [
    {
     "data": {
      "text/plain": [
       "0.31684773881360873"
      ]
     },
     "execution_count": 15,
     "metadata": {},
     "output_type": "execute_result"
    }
   ],
   "source": [
    "y[3]"
   ]
  },
  {
   "cell_type": "code",
   "execution_count": 16,
   "metadata": {
    "collapsed": false
   },
   "outputs": [
    {
     "data": {
      "text/plain": [
       "array([[42, 17,  6],\n",
       "       [ 3,  4,  5]])"
      ]
     },
     "execution_count": 16,
     "metadata": {},
     "output_type": "execute_result"
    }
   ],
   "source": [
    "a = np.array([[42,17,6],[3,4,5]])\n",
    "a"
   ]
  },
  {
   "cell_type": "code",
   "execution_count": 17,
   "metadata": {
    "collapsed": false
   },
   "outputs": [
    {
     "data": {
      "text/plain": [
       "array([42, 17,  6])"
      ]
     },
     "execution_count": 17,
     "metadata": {},
     "output_type": "execute_result"
    }
   ],
   "source": [
    "a[0]"
   ]
  },
  {
   "cell_type": "code",
   "execution_count": 18,
   "metadata": {
    "collapsed": false
   },
   "outputs": [
    {
     "data": {
      "text/plain": [
       "array([42,  3])"
      ]
     },
     "execution_count": 18,
     "metadata": {},
     "output_type": "execute_result"
    }
   ],
   "source": [
    "a[:,0]"
   ]
  },
  {
   "cell_type": "code",
   "execution_count": 19,
   "metadata": {
    "collapsed": false
   },
   "outputs": [
    {
     "data": {
      "text/plain": [
       "array([], shape=(0, 3), dtype=int64)"
      ]
     },
     "execution_count": 19,
     "metadata": {},
     "output_type": "execute_result"
    }
   ],
   "source": [
    "a[:0]"
   ]
  },
  {
   "cell_type": "code",
   "execution_count": 20,
   "metadata": {
    "collapsed": false
   },
   "outputs": [
    {
     "data": {
      "text/plain": [
       "array([[3, 4, 5]])"
      ]
     },
     "execution_count": 20,
     "metadata": {},
     "output_type": "execute_result"
    }
   ],
   "source": [
    "a[1:2]"
   ]
  },
  {
   "cell_type": "code",
   "execution_count": 23,
   "metadata": {
    "collapsed": false
   },
   "outputs": [],
   "source": [
    "m = np.array([x, x**2, x**3])"
   ]
  },
  {
   "cell_type": "code",
   "execution_count": 26,
   "metadata": {
    "collapsed": false
   },
   "outputs": [
    {
     "data": {
      "text/plain": [
       "array([[  0.00000000e+00,   0.00000000e+00,   0.00000000e+00],\n",
       "       [  1.00000000e-02,   1.00000000e-04,   1.00000000e-06],\n",
       "       [  2.00000000e-02,   4.00000000e-04,   8.00000000e-06],\n",
       "       [  3.00000000e-02,   9.00000000e-04,   2.70000000e-05],\n",
       "       [  4.00000000e-02,   1.60000000e-03,   6.40000000e-05],\n",
       "       [  5.00000000e-02,   2.50000000e-03,   1.25000000e-04],\n",
       "       [  6.00000000e-02,   3.60000000e-03,   2.16000000e-04],\n",
       "       [  7.00000000e-02,   4.90000000e-03,   3.43000000e-04],\n",
       "       [  8.00000000e-02,   6.40000000e-03,   5.12000000e-04],\n",
       "       [  9.00000000e-02,   8.10000000e-03,   7.29000000e-04],\n",
       "       [  1.00000000e-01,   1.00000000e-02,   1.00000000e-03],\n",
       "       [  1.10000000e-01,   1.21000000e-02,   1.33100000e-03],\n",
       "       [  1.20000000e-01,   1.44000000e-02,   1.72800000e-03],\n",
       "       [  1.30000000e-01,   1.69000000e-02,   2.19700000e-03],\n",
       "       [  1.40000000e-01,   1.96000000e-02,   2.74400000e-03],\n",
       "       [  1.50000000e-01,   2.25000000e-02,   3.37500000e-03],\n",
       "       [  1.60000000e-01,   2.56000000e-02,   4.09600000e-03],\n",
       "       [  1.70000000e-01,   2.89000000e-02,   4.91300000e-03],\n",
       "       [  1.80000000e-01,   3.24000000e-02,   5.83200000e-03],\n",
       "       [  1.90000000e-01,   3.61000000e-02,   6.85900000e-03],\n",
       "       [  2.00000000e-01,   4.00000000e-02,   8.00000000e-03],\n",
       "       [  2.10000000e-01,   4.41000000e-02,   9.26100000e-03],\n",
       "       [  2.20000000e-01,   4.84000000e-02,   1.06480000e-02],\n",
       "       [  2.30000000e-01,   5.29000000e-02,   1.21670000e-02],\n",
       "       [  2.40000000e-01,   5.76000000e-02,   1.38240000e-02],\n",
       "       [  2.50000000e-01,   6.25000000e-02,   1.56250000e-02],\n",
       "       [  2.60000000e-01,   6.76000000e-02,   1.75760000e-02],\n",
       "       [  2.70000000e-01,   7.29000000e-02,   1.96830000e-02],\n",
       "       [  2.80000000e-01,   7.84000000e-02,   2.19520000e-02],\n",
       "       [  2.90000000e-01,   8.41000000e-02,   2.43890000e-02],\n",
       "       [  3.00000000e-01,   9.00000000e-02,   2.70000000e-02],\n",
       "       [  3.10000000e-01,   9.61000000e-02,   2.97910000e-02],\n",
       "       [  3.20000000e-01,   1.02400000e-01,   3.27680000e-02],\n",
       "       [  3.30000000e-01,   1.08900000e-01,   3.59370000e-02],\n",
       "       [  3.40000000e-01,   1.15600000e-01,   3.93040000e-02],\n",
       "       [  3.50000000e-01,   1.22500000e-01,   4.28750000e-02],\n",
       "       [  3.60000000e-01,   1.29600000e-01,   4.66560000e-02],\n",
       "       [  3.70000000e-01,   1.36900000e-01,   5.06530000e-02],\n",
       "       [  3.80000000e-01,   1.44400000e-01,   5.48720000e-02],\n",
       "       [  3.90000000e-01,   1.52100000e-01,   5.93190000e-02],\n",
       "       [  4.00000000e-01,   1.60000000e-01,   6.40000000e-02],\n",
       "       [  4.10000000e-01,   1.68100000e-01,   6.89210000e-02],\n",
       "       [  4.20000000e-01,   1.76400000e-01,   7.40880000e-02],\n",
       "       [  4.30000000e-01,   1.84900000e-01,   7.95070000e-02],\n",
       "       [  4.40000000e-01,   1.93600000e-01,   8.51840000e-02],\n",
       "       [  4.50000000e-01,   2.02500000e-01,   9.11250000e-02],\n",
       "       [  4.60000000e-01,   2.11600000e-01,   9.73360000e-02],\n",
       "       [  4.70000000e-01,   2.20900000e-01,   1.03823000e-01],\n",
       "       [  4.80000000e-01,   2.30400000e-01,   1.10592000e-01],\n",
       "       [  4.90000000e-01,   2.40100000e-01,   1.17649000e-01],\n",
       "       [  5.00000000e-01,   2.50000000e-01,   1.25000000e-01],\n",
       "       [  5.10000000e-01,   2.60100000e-01,   1.32651000e-01],\n",
       "       [  5.20000000e-01,   2.70400000e-01,   1.40608000e-01],\n",
       "       [  5.30000000e-01,   2.80900000e-01,   1.48877000e-01],\n",
       "       [  5.40000000e-01,   2.91600000e-01,   1.57464000e-01],\n",
       "       [  5.50000000e-01,   3.02500000e-01,   1.66375000e-01],\n",
       "       [  5.60000000e-01,   3.13600000e-01,   1.75616000e-01],\n",
       "       [  5.70000000e-01,   3.24900000e-01,   1.85193000e-01],\n",
       "       [  5.80000000e-01,   3.36400000e-01,   1.95112000e-01],\n",
       "       [  5.90000000e-01,   3.48100000e-01,   2.05379000e-01],\n",
       "       [  6.00000000e-01,   3.60000000e-01,   2.16000000e-01],\n",
       "       [  6.10000000e-01,   3.72100000e-01,   2.26981000e-01],\n",
       "       [  6.20000000e-01,   3.84400000e-01,   2.38328000e-01],\n",
       "       [  6.30000000e-01,   3.96900000e-01,   2.50047000e-01],\n",
       "       [  6.40000000e-01,   4.09600000e-01,   2.62144000e-01],\n",
       "       [  6.50000000e-01,   4.22500000e-01,   2.74625000e-01],\n",
       "       [  6.60000000e-01,   4.35600000e-01,   2.87496000e-01],\n",
       "       [  6.70000000e-01,   4.48900000e-01,   3.00763000e-01],\n",
       "       [  6.80000000e-01,   4.62400000e-01,   3.14432000e-01],\n",
       "       [  6.90000000e-01,   4.76100000e-01,   3.28509000e-01],\n",
       "       [  7.00000000e-01,   4.90000000e-01,   3.43000000e-01],\n",
       "       [  7.10000000e-01,   5.04100000e-01,   3.57911000e-01],\n",
       "       [  7.20000000e-01,   5.18400000e-01,   3.73248000e-01],\n",
       "       [  7.30000000e-01,   5.32900000e-01,   3.89017000e-01],\n",
       "       [  7.40000000e-01,   5.47600000e-01,   4.05224000e-01],\n",
       "       [  7.50000000e-01,   5.62500000e-01,   4.21875000e-01],\n",
       "       [  7.60000000e-01,   5.77600000e-01,   4.38976000e-01],\n",
       "       [  7.70000000e-01,   5.92900000e-01,   4.56533000e-01],\n",
       "       [  7.80000000e-01,   6.08400000e-01,   4.74552000e-01],\n",
       "       [  7.90000000e-01,   6.24100000e-01,   4.93039000e-01],\n",
       "       [  8.00000000e-01,   6.40000000e-01,   5.12000000e-01],\n",
       "       [  8.10000000e-01,   6.56100000e-01,   5.31441000e-01],\n",
       "       [  8.20000000e-01,   6.72400000e-01,   5.51368000e-01],\n",
       "       [  8.30000000e-01,   6.88900000e-01,   5.71787000e-01],\n",
       "       [  8.40000000e-01,   7.05600000e-01,   5.92704000e-01],\n",
       "       [  8.50000000e-01,   7.22500000e-01,   6.14125000e-01],\n",
       "       [  8.60000000e-01,   7.39600000e-01,   6.36056000e-01],\n",
       "       [  8.70000000e-01,   7.56900000e-01,   6.58503000e-01],\n",
       "       [  8.80000000e-01,   7.74400000e-01,   6.81472000e-01],\n",
       "       [  8.90000000e-01,   7.92100000e-01,   7.04969000e-01],\n",
       "       [  9.00000000e-01,   8.10000000e-01,   7.29000000e-01],\n",
       "       [  9.10000000e-01,   8.28100000e-01,   7.53571000e-01],\n",
       "       [  9.20000000e-01,   8.46400000e-01,   7.78688000e-01],\n",
       "       [  9.30000000e-01,   8.64900000e-01,   8.04357000e-01],\n",
       "       [  9.40000000e-01,   8.83600000e-01,   8.30584000e-01],\n",
       "       [  9.50000000e-01,   9.02500000e-01,   8.57375000e-01],\n",
       "       [  9.60000000e-01,   9.21600000e-01,   8.84736000e-01],\n",
       "       [  9.70000000e-01,   9.40900000e-01,   9.12673000e-01],\n",
       "       [  9.80000000e-01,   9.60400000e-01,   9.41192000e-01],\n",
       "       [  9.90000000e-01,   9.80100000e-01,   9.70299000e-01],\n",
       "       [  1.00000000e+00,   1.00000000e+00,   1.00000000e+00]])"
      ]
     },
     "execution_count": 26,
     "metadata": {},
     "output_type": "execute_result"
    }
   ],
   "source": [
    "m.T"
   ]
  },
  {
   "cell_type": "code",
   "execution_count": 27,
   "metadata": {
    "collapsed": false
   },
   "outputs": [
    {
     "data": {
      "text/plain": [
       "[<matplotlib.lines.Line2D at 0x10d0d0a90>,\n",
       " <matplotlib.lines.Line2D at 0x10d0d0c18>,\n",
       " <matplotlib.lines.Line2D at 0x10d0d0eb8>]"
      ]
     },
     "execution_count": 27,
     "metadata": {},
     "output_type": "execute_result"
    },
    {
     "data": {
      "image/png": "[encoded data removed]",
      "text/plain": [
       "<matplotlib.figure.Figure at 0x10cb73550>"
      ]
     },
     "metadata": {},
     "output_type": "display_data"
    }
   ],
   "source": [
    "pylab.plot (x,m.T)"
   ]
  },
  {
   "cell_type": "code",
   "execution_count": 28,
   "metadata": {
    "collapsed": false
   },
   "outputs": [
    {
     "data": {
      "text/plain": [
       "array([[42, 17,  6],\n",
       "       [ 3,  4,  5]])"
      ]
     },
     "execution_count": 28,
     "metadata": {},
     "output_type": "execute_result"
    }
   ],
   "source": [
    "a"
   ]
  },
  {
   "cell_type": "code",
   "execution_count": 29,
   "metadata": {
    "collapsed": false
   },
   "outputs": [
    {
     "data": {
      "text/plain": [
       "array([[42,  3],\n",
       "       [17,  4],\n",
       "       [ 6,  5]])"
      ]
     },
     "execution_count": 29,
     "metadata": {},
     "output_type": "execute_result"
    }
   ],
   "source": [
    "a.T"
   ]
  },
  {
   "cell_type": "code",
   "execution_count": 31,
   "metadata": {
    "collapsed": false
   },
   "outputs": [
    {
     "data": {
      "text/plain": [
       "array([[42,  6],\n",
       "       [ 3,  5]])"
      ]
     },
     "execution_count": 31,
     "metadata": {},
     "output_type": "execute_result"
    }
   ],
   "source": [
    "a[:,0::2]"
   ]
  },
  {
   "cell_type": "code",
   "execution_count": 32,
   "metadata": {
    "collapsed": false
   },
   "outputs": [
    {
     "data": {
      "text/plain": [
       "array([[42],\n",
       "       [17],\n",
       "       [ 6]])"
      ]
     },
     "execution_count": 32,
     "metadata": {},
     "output_type": "execute_result"
    }
   ],
   "source": [
    "a.T[:,0::2]"
   ]
  },
  {
   "cell_type": "code",
   "execution_count": null,
   "metadata": {
    "collapsed": true
   },
   "outputs": [],
   "source": []
  }
 ],
 "metadata": {
  "anaconda-cloud": {},
  "kernelspec": {
   "display_name": "Python [Root]",
   "language": "python",
   "name": "Python [Root]"
  },
  "language_info": {
   "codemirror_mode": {
    "name": "ipython",
    "version": 3
   },
   "file_extension": ".py",
   "mimetype": "text/x-python",
   "name": "python",
   "nbconvert_exporter": "python",
   "pygments_lexer": "ipython3",
   "version": "3.5.2"
  }
 },
 "nbformat": 4,
 "nbformat_minor": 0
}
