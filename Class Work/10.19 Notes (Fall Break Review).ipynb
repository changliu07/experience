{
 "cells": [
  {
   "cell_type": "code",
   "execution_count": 37,
   "metadata": {
    "collapsed": false
   },
   "outputs": [
    {
     "data": {
      "text/plain": [
       "[1, 1, 2, 3, 3, 3, 3, 4, 4, 5, 5, 5, 5, 6, 6, 6, 7, 7, 8, 8, 9]"
      ]
     },
     "execution_count": 37,
     "metadata": {},
     "output_type": "execute_result"
    }
   ],
   "source": [
    "import numpy as np\n",
    "def f1(A):\n",
    "    A=A.copy() # make a copy so we don't change the original\n",
    "    for i in range(1, len(A)):\n",
    "        for j in range(i,0,-1):\n",
    "            if A[j-1] > A[j]:\n",
    "                A[j-1], A[j] = A[j], A[j-1]\n",
    "            else:\n",
    "                break\n",
    "    return A\n",
    "A=[1,3,4,6,7,5,3,8,5,9,6,7,5,3,4,1,5,3,6,2,8]\n",
    "f1(A)"
   ]
  },
  {
   "cell_type": "code",
   "execution_count": 38,
   "metadata": {
    "collapsed": false
   },
   "outputs": [
    {
     "name": "stdout",
     "output_type": "stream",
     "text": [
      "[1, 3, 4, 6, 7, 5, 3, 8, 5, 9, 6, 7, 5, 3, 4, 1, 5, 3, 6, 2, 8]\n"
     ]
    }
   ],
   "source": [
    "print(A)"
   ]
  },
  {
   "cell_type": "code",
   "execution_count": 26,
   "metadata": {
    "collapsed": false
   },
   "outputs": [
    {
     "data": {
      "text/plain": [
       "[1, 1, 2, 3, 3, 3, 3, 4, 4, 5, 5, 5, 5, 6, 6, 6, 7, 7, 8, 8, 9]"
      ]
     },
     "execution_count": 26,
     "metadata": {},
     "output_type": "execute_result"
    }
   ],
   "source": [
    "# import numpy as np\n",
    "def f2(A):\n",
    "    A=A.copy() # make a copy so we don't change the original\n",
    "    for i in range(1, len(A)):\n",
    "        for j in range(i,0,-1):\n",
    "            if A[j-1] > A[j]:\n",
    "                B= A[j-1]\n",
    "                A[j-1]=A[j]\n",
    "                A[j]=B\n",
    "            else:\n",
    "                break\n",
    "    return A\n",
    "A=[1,3,4,6,7,5,3,8,5,9,6,7,5,3,4,1,5,3,6,2,8]\n",
    "f1(A)"
   ]
  },
  {
   "cell_type": "code",
   "execution_count": 29,
   "metadata": {
    "collapsed": false
   },
   "outputs": [
    {
     "data": {
      "text/plain": [
       "[1, 3, 4, 6, 7, 7, 7, 8, 8, 9, 9, 9, 9, 9, 9, 9, 9, 9, 9, 9, 9]"
      ]
     },
     "execution_count": 29,
     "metadata": {},
     "output_type": "execute_result"
    }
   ],
   "source": [
    "import numpy as np\n",
    "def f3(A):\n",
    "    A=A.copy() # make a copy so we don't change the original\n",
    "    for i in range(1, len(A)):\n",
    "        for j in range(i,0,-1):\n",
    "            if A[j-1] > A[j]:\n",
    "                A[j]= A[j-1]\n",
    "                A[j-1]=A[j] #this is a common mistake, A[j] is lost\n",
    "            else:\n",
    "                break\n",
    "    return A\n",
    "f3(A)"
   ]
  },
  {
   "cell_type": "code",
   "execution_count": 32,
   "metadata": {
    "collapsed": false
   },
   "outputs": [
    {
     "name": "stdout",
     "output_type": "stream",
     "text": [
      "i= 1\n",
      "j= 1\n",
      "swap 0 1\n",
      "[3, 4, 2, 1]\n",
      "i= 2\n",
      "j= 2\n",
      "swap 1 2\n",
      "[3, 2, 4, 1]\n",
      "j= 1\n",
      "swap 0 1\n",
      "[2, 3, 4, 1]\n",
      "i= 3\n",
      "j= 3\n",
      "swap 2 3\n",
      "[2, 3, 1, 4]\n",
      "j= 2\n",
      "swap 1 2\n",
      "[2, 1, 3, 4]\n",
      "j= 1\n",
      "swap 0 1\n",
      "[1, 2, 3, 4]\n"
     ]
    },
    {
     "data": {
      "text/plain": [
       "[1, 2, 3, 4]"
      ]
     },
     "execution_count": 32,
     "metadata": {},
     "output_type": "execute_result"
    }
   ],
   "source": [
    "def f1p(A):\n",
    "    A = A.copy() # make a copy so we don't change the original\n",
    "    for i in range(1, len(A)):\n",
    "        print('i=', i)\n",
    "        for j in range(i, 0, -1):\n",
    "            print('j=', j)\n",
    "            if A[j-1] > A[j]:\n",
    "                print('swap', j-1, j)\n",
    "                A[j-1], A[j] = A[j], A[j-1]\n",
    "            else:\n",
    "                print('break')\n",
    "                break\n",
    "            print(A)\n",
    "    return A\n",
    "f1p([4,3,2,1])"
   ]
  },
  {
   "cell_type": "code",
   "execution_count": 36,
   "metadata": {
    "collapsed": false
   },
   "outputs": [
    {
     "name": "stdout",
     "output_type": "stream",
     "text": [
      "i= 1\n",
      "j= 1\n",
      "break\n",
      "i= 2\n",
      "j= 2\n",
      "break\n",
      "i= 3\n",
      "j= 3\n",
      "break\n"
     ]
    },
    {
     "data": {
      "text/plain": [
       "[1, 2, 3, 4]"
      ]
     },
     "execution_count": 36,
     "metadata": {},
     "output_type": "execute_result"
    }
   ],
   "source": [
    "f1p([1,2,3,4])"
   ]
  },
  {
   "cell_type": "code",
   "execution_count": null,
   "metadata": {
    "collapsed": true
   },
   "outputs": [],
   "source": []
  }
 ],
 "metadata": {
  "anaconda-cloud": {},
  "kernelspec": {
   "display_name": "Python [Root]",
   "language": "python",
   "name": "Python [Root]"
  },
  "language_info": {
   "codemirror_mode": {
    "name": "ipython",
    "version": 3
   },
   "file_extension": ".py",
   "mimetype": "text/x-python",
   "name": "python",
   "nbconvert_exporter": "python",
   "pygments_lexer": "ipython3",
   "version": "3.5.2"
  }
 },
 "nbformat": 4,
 "nbformat_minor": 0
}
