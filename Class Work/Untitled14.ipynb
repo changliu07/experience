{
 "cells": [
  {
   "cell_type": "code",
   "execution_count": 6,
   "metadata": {
    "collapsed": false
   },
   "outputs": [
    {
     "data": {
      "text/plain": [
       "array([-20, -17, -17,  19, -11,  -1,   1,  16,   3, -14,   4,   4,  -8,\n",
       "       -19,  18,  19,   3,   4,  -3,  17])"
      ]
     },
     "execution_count": 6,
     "metadata": {},
     "output_type": "execute_result"
    }
   ],
   "source": [
    "import numpy as np\n",
    "\n",
    "np.random.seed(0)\n",
    "L=np.random.randint(-20, 20, 20)\n",
    "L"
   ]
  },
  {
   "cell_type": "code",
   "execution_count": 7,
   "metadata": {
    "collapsed": false
   },
   "outputs": [
    {
     "data": {
      "text/plain": [
       "-2"
      ]
     },
     "execution_count": 7,
     "metadata": {},
     "output_type": "execute_result"
    }
   ],
   "source": [
    "def mySum(A):\n",
    "    value=0\n",
    "    for i in range(len(A)):\n",
    "        new= A[i]\n",
    "        value= value + new\n",
    "    return value\n",
    "mysum(L)"
   ]
  },
  {
   "cell_type": "code",
   "execution_count": 9,
   "metadata": {
    "collapsed": false
   },
   "outputs": [
    {
     "data": {
      "text/plain": [
       "108"
      ]
     },
     "execution_count": 9,
     "metadata": {},
     "output_type": "execute_result"
    }
   ],
   "source": [
    "def myPositiveSum(A):\n",
    "    value=0\n",
    "    for i in range(len(A)):\n",
    "        if A[i]>0:\n",
    "            new=A[i]\n",
    "            value= value+new\n",
    "    return value\n",
    "myPositiveSum(L)"
   ]
  },
  {
   "cell_type": "code",
   "execution_count": 16,
   "metadata": {
    "collapsed": false
   },
   "outputs": [
    {
     "data": {
      "text/plain": [
       "(108, -110)"
      ]
     },
     "execution_count": 16,
     "metadata": {},
     "output_type": "execute_result"
    }
   ],
   "source": [
    "def myBothSum(A):\n",
    "    presult= 0\n",
    "    nresult= 0\n",
    "    for i in range(len(A)):\n",
    "        if A[i]>0:\n",
    "            presult= A[i] + presult\n",
    "        else:\n",
    "            nresult= nresult + A[i]\n",
    "    return(presult, nresult)\n",
    "myBothSum(L)"
   ]
  },
  {
   "cell_type": "code",
   "execution_count": 19,
   "metadata": {
    "collapsed": false
   },
   "outputs": [
    {
     "data": {
      "text/plain": [
       "[3, 5, 6, 7, 5, 8, 9]"
      ]
     },
     "execution_count": 19,
     "metadata": {},
     "output_type": "execute_result"
    }
   ],
   "source": [
    "def greaterThanBefore(A):\n",
    "    newA = []\n",
    "    originalA= A[0]\n",
    "    for i in range(len(A)):\n",
    "        if A[i] > originalA:\n",
    "            newA.append(A[i])\n",
    "        originalA= A[i]\n",
    "    return newA\n",
    "\n",
    "P= [1,3,5,4,6,5,7,4,5,8,6,9]\n",
    "greaterThanBefore(P)"
   ]
  },
  {
   "cell_type": "code",
   "execution_count": 20,
   "metadata": {
    "collapsed": false
   },
   "outputs": [
    {
     "data": {
      "text/plain": [
       "[3, 5, 6, 7, 5, 8, 9]"
      ]
     },
     "execution_count": 20,
     "metadata": {},
     "output_type": "execute_result"
    }
   ],
   "source": [
    "def greaterThanBefore2(A):\n",
    "    result = []\n",
    "    for i in range(1, len(A)):\n",
    "        if A[i]>A[i-1]:\n",
    "            result.append(A[i])\n",
    "    return result\n",
    "greaterThanBefore2(P)"
   ]
  },
  {
   "cell_type": "code",
   "execution_count": null,
   "metadata": {
    "collapsed": true
   },
   "outputs": [],
   "source": []
  }
 ],
 "metadata": {
  "kernelspec": {
   "display_name": "Python [Root]",
   "language": "python",
   "name": "Python [Root]"
  },
  "language_info": {
   "codemirror_mode": {
    "name": "ipython",
    "version": 3
   },
   "file_extension": ".py",
   "mimetype": "text/x-python",
   "name": "python",
   "nbconvert_exporter": "python",
   "pygments_lexer": "ipython3",
   "version": "3.5.2"
  }
 },
 "nbformat": 4,
 "nbformat_minor": 0
}
