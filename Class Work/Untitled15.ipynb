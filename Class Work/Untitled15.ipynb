{
 "cells": [
  {
   "cell_type": "code",
   "execution_count": 1,
   "metadata": {
    "collapsed": false
   },
   "outputs": [
    {
     "data": {
      "text/plain": [
       "array([[21,  1,  1,  0,  3],\n",
       "       [18,  1,  1,  1,  3],\n",
       "       [ 0,  1,  1,  2,  3],\n",
       "       [ 0,  1,  1,  3,  3],\n",
       "       [ 0,  1,  1,  4,  3],\n",
       "       [ 0,  1,  1,  5,  3],\n",
       "       [ 3,  1,  1,  6,  3],\n",
       "       [12,  1,  1,  7,  3],\n",
       "       [ 4,  1,  1,  8,  3],\n",
       "       [11,  1,  1,  9,  3]])"
      ]
     },
     "execution_count": 1,
     "metadata": {},
     "output_type": "execute_result"
    }
   ],
   "source": [
    "%matplotlib inline\n",
    "import numpy as np\n",
    "import pylab\n",
    "import urllib\n",
    "\n",
    "# let's fetch the data\n",
    "# urllib.request.urlretrieve('https://goo.gl/mjDtMB', 'hourly.pkl')\n",
    "\n",
    "import pickle\n",
    "hourly = pickle.load(open('hourly.pkl', 'rb'))\n",
    "hourly[:10]"
   ]
  },
  {
   "cell_type": "code",
   "execution_count": 5,
   "metadata": {
    "collapsed": false
   },
   "outputs": [
    {
     "data": {
      "text/plain": [
       "array([ 3, 31, 11])"
      ]
     },
     "execution_count": 5,
     "metadata": {},
     "output_type": "execute_result"
    }
   ],
   "source": [
    "hourly[np.argmax(hourly[:,0]), 1:4]"
   ]
  },
  {
   "cell_type": "code",
   "execution_count": 9,
   "metadata": {
    "collapsed": false
   },
   "outputs": [
    {
     "data": {
      "text/plain": [
       "13.117808219178082"
      ]
     },
     "execution_count": 9,
     "metadata": {},
     "output_type": "execute_result"
    }
   ],
   "source": [
    "def F3(A):\n",
    "    B = np.reshape(A[:,0], (-1, 24))\n",
    "    return np.mean(np.argmax(B, axis=1))\n",
    "F3(hourly)"
   ]
  },
  {
   "cell_type": "code",
   "execution_count": 10,
   "metadata": {
    "collapsed": false
   },
   "outputs": [
    {
     "data": {
      "text/plain": [
       "47"
      ]
     },
     "execution_count": 10,
     "metadata": {},
     "output_type": "execute_result"
    }
   ],
   "source": [
    "np.sum(hourly[:,0]==0)"
   ]
  },
  {
   "cell_type": "code",
   "execution_count": 18,
   "metadata": {
    "collapsed": false
   },
   "outputs": [
    {
     "data": {
      "text/plain": [
       "13"
      ]
     },
     "execution_count": 18,
     "metadata": {},
     "output_type": "execute_result"
    }
   ],
   "source": [
    "def F1(A):\n",
    "    Run = 0\n",
    "    B = A[:,0]\n",
    "    maxrun = 0\n",
    "    for i in range(len(B)):\n",
    "        if B[i]==0:\n",
    "            Run = Run + 1\n",
    "            if Run > maxrun:\n",
    "                maxrun =Run\n",
    "        else:\n",
    "            Run = 0\n",
    "    return maxrun\n",
    "F1(hourly)"
   ]
  },
  {
   "cell_type": "code",
   "execution_count": null,
   "metadata": {
    "collapsed": true
   },
   "outputs": [],
   "source": []
  }
 ],
 "metadata": {
  "kernelspec": {
   "display_name": "Python [Root]",
   "language": "python",
   "name": "Python [Root]"
  },
  "language_info": {
   "codemirror_mode": {
    "name": "ipython",
    "version": 3
   },
   "file_extension": ".py",
   "mimetype": "text/x-python",
   "name": "python",
   "nbconvert_exporter": "python",
   "pygments_lexer": "ipython3",
   "version": "3.5.2"
  }
 },
 "nbformat": 4,
 "nbformat_minor": 0
}
