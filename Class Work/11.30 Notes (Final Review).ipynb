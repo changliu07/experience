{
 "cells": [
  {
   "cell_type": "code",
   "execution_count": 2,
   "metadata": {
    "collapsed": true
   },
   "outputs": [],
   "source": [
    "import urllib.request\n",
    "urllib.request.urlretrieve('https://goo.gl/LgTRrB', 'weather.npz')\n",
    "\n",
    "%matplotlib inline\n",
    "import numpy as np\n",
    "import pylab\n",
    "\n",
    "with np.load('weather.npz') as data:\n",
    "    temp = data['temp']\n",
    "    dewp = data['dewp']\n",
    "    prcp = data['prcp']\n",
    "    coords = data['coords']"
   ]
  },
  {
   "cell_type": "code",
   "execution_count": 4,
   "metadata": {
    "collapsed": false
   },
   "outputs": [
    {
     "data": {
      "text/plain": [
       "80.086550435865504"
      ]
     },
     "execution_count": 4,
     "metadata": {},
     "output_type": "execute_result"
    }
   ],
   "source": [
    "isMuggy = dewp > 70\n",
    "np.mean(temp[isMuggy])"
   ]
  },
  {
   "cell_type": "code",
   "execution_count": 8,
   "metadata": {
    "collapsed": false
   },
   "outputs": [
    {
     "data": {
      "text/plain": [
       "(4818,)"
      ]
     },
     "execution_count": 8,
     "metadata": {},
     "output_type": "execute_result"
    }
   ],
   "source": [
    "temp[isMuggy].shape"
   ]
  },
  {
   "cell_type": "code",
   "execution_count": 11,
   "metadata": {
    "collapsed": false
   },
   "outputs": [
    {
     "name": "stdout",
     "output_type": "stream",
     "text": [
      "0 80.2084148728\n",
      "1 81.1413678065\n",
      "2 79.3906999041\n"
     ]
    }
   ],
   "source": [
    "for i in range(len(isMuggy)):\n",
    "    print (i, np.mean(temp[i][isMuggy[i]]))"
   ]
  },
  {
   "cell_type": "code",
   "execution_count": 23,
   "metadata": {
    "collapsed": false
   },
   "outputs": [
    {
     "name": "stdout",
     "output_type": "stream",
     "text": [
      "0 76.8768472906\n",
      "1 76.5670103093\n",
      "2 76.4438502674\n",
      "3 76.2628571429\n",
      "4 76.0479041916\n",
      "5 76.043715847\n",
      "6 77.5707317073\n",
      "7 79.4680365297\n",
      "8 81.5972222222\n",
      "9 82.953271028\n",
      "10 83.9538834951\n",
      "11 84.4090909091\n",
      "12 84.47\n",
      "13 84.7908163265\n",
      "14 84.2176165803\n",
      "15 83.5360824742\n",
      "16 82.8265306122\n",
      "17 81.6650246305\n",
      "18 80.5046728972\n",
      "19 79.2181818182\n",
      "20 78.6558139535\n",
      "21 77.9420289855\n",
      "22 77.6383495146\n",
      "23 77.152173913\n"
     ]
    }
   ],
   "source": [
    "for i in range(isMuggy.shape[2]):\n",
    "    print(i, np.mean(temp[:,:,i][isMuggy[:,:,i]]))"
   ]
  },
  {
   "cell_type": "code",
   "execution_count": 24,
   "metadata": {
    "collapsed": false
   },
   "outputs": [
    {
     "data": {
      "text/plain": [
       "84.929336734693877"
      ]
     },
     "execution_count": 24,
     "metadata": {},
     "output_type": "execute_result"
    }
   ],
   "source": [
    "isHot = temp > 80\n",
    "isHotAndMuggy = isHot & isMuggy\n",
    "np.mean(temp[isHotAndMuggy])"
   ]
  },
  {
   "cell_type": "code",
   "execution_count": 25,
   "metadata": {
    "collapsed": false
   },
   "outputs": [
    {
     "data": {
      "text/plain": [
       "array([14, 42])"
      ]
     },
     "execution_count": 25,
     "metadata": {},
     "output_type": "execute_result"
    }
   ],
   "source": [
    "A = np.array([1, 14, 42, 7])\n",
    "B = np.array([False, True, True, False])\n",
    "A[B]"
   ]
  },
  {
   "cell_type": "code",
   "execution_count": 26,
   "metadata": {
    "collapsed": false
   },
   "outputs": [
    {
     "data": {
      "text/plain": [
       "array([[[ 30.,  29.,  29., ...,  44.,  44.,  46.],\n",
       "        [ 51.,  51.,  51., ...,  65.,  67.,  68.],\n",
       "        [ 65.,  62.,  61., ...,  37.,  37.,  37.],\n",
       "        ..., \n",
       "        [ 64.,  64.,  64., ...,  70.,  69.,  68.],\n",
       "        [ 63.,  66.,  72., ...,  70.,  70.,  71.],\n",
       "        [ 65.,  66.,  66., ...,  64.,  62.,  60.]],\n",
       "\n",
       "       [[ 31.,  30.,  30., ...,  46.,  47.,  47.],\n",
       "        [ 50.,  50.,  50., ...,  54.,  55.,  55.],\n",
       "        [ 60.,  58.,  54., ...,  37.,  35.,  35.],\n",
       "        ..., \n",
       "        [ 65.,  67.,  68., ...,  69.,  68.,  68.],\n",
       "        [ 65.,  66.,  67., ...,  72.,  70.,  69.],\n",
       "        [ 66.,  66.,  66., ...,  62.,  61.,  61.]],\n",
       "\n",
       "       [[ 41.,  41.,  41., ...,  47.,  47.,  47.],\n",
       "        [ 50.,  50.,  50., ...,  67.,  67.,  68.],\n",
       "        [ 64.,  63.,  63., ...,  46.,  45.,  44.],\n",
       "        ..., \n",
       "        [ 63.,  60.,  62., ...,  71.,  71.,  70.],\n",
       "        [ 73.,  74.,  74., ...,  72.,  72.,  71.],\n",
       "        [ 68.,  68.,  68., ...,  60.,  60.,  60.]]])"
      ]
     },
     "execution_count": 26,
     "metadata": {},
     "output_type": "execute_result"
    }
   ],
   "source": [
    "temp[:, ::2, :]"
   ]
  },
  {
   "cell_type": "code",
   "execution_count": 28,
   "metadata": {
    "collapsed": false
   },
   "outputs": [
    {
     "name": "stdout",
     "output_type": "stream",
     "text": [
      "0 [ 74.  78.  79. ...,  77.  78.  76.]\n",
      "1 [ 75.  77.  76. ...,  78.  75.  75.]\n",
      "2 [ 75.  76.  75. ...,  74.  74.  74.]\n"
     ]
    }
   ],
   "source": [
    "for i in range(len(isMuggy)):\n",
    "    print(i, temp[i, isMuggy[i]])"
   ]
  },
  {
   "cell_type": "code",
   "execution_count": 30,
   "metadata": {
    "collapsed": false
   },
   "outputs": [
    {
     "name": "stdout",
     "output_type": "stream",
     "text": [
      "0 1533\n",
      "1 1199\n",
      "2 2086\n"
     ]
    }
   ],
   "source": [
    "for i in range(len(isMuggy)):\n",
    "    print(i, np.size(temp[i, isMuggy[i]]))"
   ]
  },
  {
   "cell_type": "code",
   "execution_count": null,
   "metadata": {
    "collapsed": true
   },
   "outputs": [],
   "source": [
    "for s in range(temp.shape[0]):\n",
    "    for d in range(temp.shape[1]):\n",
    "        isBeautiful = True\n",
    "        for h in range(temp.shape[2]):\n",
    "            "
   ]
  }
 ],
 "metadata": {
  "kernelspec": {
   "display_name": "Python [Root]",
   "language": "python",
   "name": "Python [Root]"
  },
  "language_info": {
   "codemirror_mode": {
    "name": "ipython",
    "version": 3
   },
   "file_extension": ".py",
   "mimetype": "text/x-python",
   "name": "python",
   "nbconvert_exporter": "python",
   "pygments_lexer": "ipython3",
   "version": "3.5.2"
  }
 },
 "nbformat": 4,
 "nbformat_minor": 0
}
