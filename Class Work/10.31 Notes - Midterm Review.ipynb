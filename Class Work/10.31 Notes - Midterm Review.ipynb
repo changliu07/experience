{
 "cells": [
  {
   "cell_type": "code",
   "execution_count": 1,
   "metadata": {
    "collapsed": false
   },
   "outputs": [
    {
     "data": {
      "text/plain": [
       "array([[21,  1,  1,  0,  3],\n",
       "       [18,  1,  1,  1,  3],\n",
       "       [ 0,  1,  1,  2,  3],\n",
       "       [ 0,  1,  1,  3,  3],\n",
       "       [ 0,  1,  1,  4,  3],\n",
       "       [ 0,  1,  1,  5,  3],\n",
       "       [ 3,  1,  1,  6,  3],\n",
       "       [12,  1,  1,  7,  3],\n",
       "       [ 4,  1,  1,  8,  3],\n",
       "       [11,  1,  1,  9,  3]])"
      ]
     },
     "execution_count": 1,
     "metadata": {},
     "output_type": "execute_result"
    }
   ],
   "source": [
    "%matplotlib inline\n",
    "import numpy as np\n",
    "import pylab\n",
    "import urllib\n",
    "\n",
    "# let's fetch the data\n",
    "urllib.request.urlretrieve('https://goo.gl/mjDtMB', 'hourly.pkl')\n",
    "\n",
    "import pickle\n",
    "hourly = pickle.load(open('hourly.pkl', 'rb'))\n",
    "hourly[:10]"
   ]
  },
  {
   "cell_type": "code",
   "execution_count": 23,
   "metadata": {
    "collapsed": false
   },
   "outputs": [
    {
     "data": {
      "text/plain": [
       "15"
      ]
     },
     "execution_count": 23,
     "metadata": {},
     "output_type": "execute_result"
    }
   ],
   "source": [
    "def f1(A, N): #longest run in A with less than N books read \n",
    "    run= 0\n",
    "    runs= []\n",
    "    for i in range(len(A[:,0])):\n",
    "        if A[i,0] < N:\n",
    "            run = run +1\n",
    "            runs.append(run)\n",
    "        else: \n",
    "            run =0\n",
    "    return np.max(runs)\n",
    "F1(hourly, 10)"
   ]
  },
  {
   "cell_type": "code",
   "execution_count": 24,
   "metadata": {
    "collapsed": false
   },
   "outputs": [
    {
     "data": {
      "text/plain": [
       "15"
      ]
     },
     "execution_count": 24,
     "metadata": {},
     "output_type": "execute_result"
    }
   ],
   "source": [
    "def f2(A, N): #longest run in A with less than N books read \n",
    "    run= 0\n",
    "    maxrun = 0\n",
    "    for i in range(len(A[:,0])):\n",
    "        if A[i,0] < N:\n",
    "            run = run +1\n",
    "            if run > maxrun:\n",
    "                maxrun = run\n",
    "        else: \n",
    "            run =0\n",
    "    return maxrun\n",
    "F1(hourly, 10)"
   ]
  },
  {
   "cell_type": "code",
   "execution_count": 28,
   "metadata": {
    "collapsed": false
   },
   "outputs": [
    {
     "data": {
      "text/plain": [
       "array([4, 0, 0, 1, 1, 0, 0, 0, 0, 0, 0, 1, 1, 0, 0, 0, 0, 0, 1, 0, 0, 1])"
      ]
     },
     "execution_count": 28,
     "metadata": {},
     "output_type": "execute_result"
    }
   ],
   "source": [
    "def f3(A): #essentially the np.bincount function\n",
    "    R = np.zeros(np.max(A+1), dtype=int)\n",
    "    for i in range(len(A)):\n",
    "        R[A[i]] = R[A[i]]+1\n",
    "    return R\n",
    "f3(hourly[:10,0])"
   ]
  },
  {
   "cell_type": "code",
   "execution_count": 39,
   "metadata": {
    "collapsed": false
   },
   "outputs": [
    {
     "data": {
      "text/plain": [
       "9"
      ]
     },
     "execution_count": 39,
     "metadata": {},
     "output_type": "execute_result"
    }
   ],
   "source": [
    "def f4(A): #returns the length of the longest run of increasing numbers (not including first number in run)\n",
    "    run=0\n",
    "    maxrun= 0\n",
    "    B=A[:,0]\n",
    "    for i in range(len(B)):\n",
    "        if i > 0:\n",
    "            if B[i]> B[i-1]:\n",
    "                run= run +1\n",
    "                if run >maxrun:\n",
    "                    maxrun = run\n",
    "            else: run =0\n",
    "    return maxrun\n",
    "f4(hourly)"
   ]
  },
  {
   "cell_type": "code",
   "execution_count": 45,
   "metadata": {
    "collapsed": false
   },
   "outputs": [
    {
     "data": {
      "text/plain": [
       "array([  5,   7,  10,  14,  74, 224, 348, 604, 697, 862])"
      ]
     },
     "execution_count": 45,
     "metadata": {},
     "output_type": "execute_result"
    }
   ],
   "source": [
    "def f5(A): #returns the longest run of increasing numbers\n",
    "    run = 0\n",
    "    maxrun = 0\n",
    "    maxindex = 0\n",
    "    for i in range(1, len(A)):\n",
    "        if A[i,0] > A[i-1,0]:\n",
    "            run = run + 1\n",
    "            if run > maxrun:\n",
    "                maxrun = run\n",
    "                maxindex = i\n",
    "            #print(i, run)\n",
    "        else:\n",
    "            run = 0\n",
    "    return A[maxindex-maxrun:maxindex+1,0]\n",
    "f5(hourly) "
   ]
  },
  {
   "cell_type": "code",
   "execution_count": null,
   "metadata": {
    "collapsed": true
   },
   "outputs": [],
   "source": []
  },
  {
   "cell_type": "code",
   "execution_count": null,
   "metadata": {
    "collapsed": true
   },
   "outputs": [],
   "source": []
  }
 ],
 "metadata": {
  "kernelspec": {
   "display_name": "Python [Root]",
   "language": "python",
   "name": "Python [Root]"
  },
  "language_info": {
   "codemirror_mode": {
    "name": "ipython",
    "version": 3
   },
   "file_extension": ".py",
   "mimetype": "text/x-python",
   "name": "python",
   "nbconvert_exporter": "python",
   "pygments_lexer": "ipython3",
   "version": "3.5.2"
  }
 },
 "nbformat": 4,
 "nbformat_minor": 0
}
