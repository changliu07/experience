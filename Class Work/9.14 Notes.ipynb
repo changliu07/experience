{
 "cells": [
  {
   "cell_type": "code",
   "execution_count": 3,
   "metadata": {
    "collapsed": false
   },
   "outputs": [],
   "source": [
    "%matplotlib inline\n",
    "import numpy as np\n",
    "import pylab"
   ]
  },
  {
   "cell_type": "code",
   "execution_count": 7,
   "metadata": {
    "collapsed": false
   },
   "outputs": [
    {
     "data": {
      "text/plain": [
       "array([ 0,  1,  2,  3,  4,  5,  6,  7,  8,  9, 10, 11])"
      ]
     },
     "execution_count": 7,
     "metadata": {},
     "output_type": "execute_result"
    }
   ],
   "source": [
    "A = np.arange(12)\n",
    "A"
   ]
  },
  {
   "cell_type": "code",
   "execution_count": 11,
   "metadata": {
    "collapsed": false
   },
   "outputs": [
    {
     "data": {
      "text/plain": [
       "array([[ 0,  1,  2,  3],\n",
       "       [ 4,  5,  6,  7],\n",
       "       [ 8,  9, 10, 11]])"
      ]
     },
     "execution_count": 11,
     "metadata": {},
     "output_type": "execute_result"
    }
   ],
   "source": [
    "B =np.reshape(A, (3,4))\n",
    "B"
   ]
  },
  {
   "cell_type": "code",
   "execution_count": 17,
   "metadata": {
    "collapsed": false
   },
   "outputs": [],
   "source": [
    "A = np.array([0.0, -9.8]) # acceleration due to gravity\n",
    "V0 = np.array([90, 50.0]) # initial velocity\n",
    "P0 = np.array([0.0, 2.0]) # initial position"
   ]
  },
  {
   "cell_type": "code",
   "execution_count": 21,
   "metadata": {
    "collapsed": false
   },
   "outputs": [],
   "source": [
    "# time in steps of 0.01 seconds starting at 0 and going to 15 seconds.\n",
    "t = np.arange(0, 15, 0.01)\n",
    "\n",
    "# I want a column vector. By that I mean a 2D object with N rows and 1 column. The function above gave me a 1D object with N elements.\n",
    "# I'll use reshape. Note the use of -1. That is a signal for the function to figure out the number of rows given that there is 1 column.\n",
    "\n",
    "t = np.reshape(t, (-1,1)) # I have to reshape t into a column vector\n",
    "t\n",
    "# now I can evaluate the position over time by writing out the last equation above.\n",
    "p = 0.5*A*t**2 + V0*t + P0"
   ]
  },
  {
   "cell_type": "code",
   "execution_count": 27,
   "metadata": {
    "collapsed": false
   },
   "outputs": [
    {
     "data": {
      "text/plain": [
       "array([[ 0.     ,  2.     ],\n",
       "       [ 0.9    ,  2.49951],\n",
       "       [ 1.8    ,  2.99804],\n",
       "       [ 2.7    ,  3.49559],\n",
       "       [ 3.6    ,  3.99216]])"
      ]
     },
     "execution_count": 27,
     "metadata": {},
     "output_type": "execute_result"
    }
   ],
   "source": [
    "p[:5]"
   ]
  },
  {
   "cell_type": "code",
   "execution_count": 28,
   "metadata": {
    "collapsed": false
   },
   "outputs": [
    {
     "data": {
      "text/plain": [
       "[<matplotlib.lines.Line2D at 0x10d519b38>]"
      ]
     },
     "execution_count": 28,
     "metadata": {},
     "output_type": "execute_result"
    },
    {
     "data": {
      "image/png": "[encoded data removed]",
      "text/plain": [
       "<matplotlib.figure.Figure at 0x10d21aac8>"
      ]
     },
     "metadata": {},
     "output_type": "display_data"
    }
   ],
   "source": [
    "pylab.plot(p[:,0], p[:,1])"
   ]
  },
  {
   "cell_type": "code",
   "execution_count": 29,
   "metadata": {
    "collapsed": true
   },
   "outputs": [],
   "source": [
    "def solve_quadratic(a,b,c):\n",
    "    disc = b**2 - 4*a*c\n",
    "    sqr_disc = np.sqrt(disc)\n",
    "    plus = (-b + sqr_disc)/(2*a)\n",
    "    minus = (-b - sqr_disc)/(2*a)\n",
    "    return max(plus, minus)"
   ]
  },
  {
   "cell_type": "code",
   "execution_count": 33,
   "metadata": {
    "collapsed": false
   },
   "outputs": [],
   "source": [
    "max_t= solve_quadratic(.5*A[1], V0[1], P0[1])"
   ]
  },
  {
   "cell_type": "code",
   "execution_count": 36,
   "metadata": {
    "collapsed": false
   },
   "outputs": [
    {
     "data": {
      "text/plain": [
       "array([ 2.7    ,  3.49559])"
      ]
     },
     "execution_count": 36,
     "metadata": {},
     "output_type": "execute_result"
    }
   ],
   "source": [
    "t = np.arange(0, max_t, 0.01)\n",
    "\n",
    "# I want a column vector. By that I mean a 2D object with N rows and 1 column. The function above gave me a 1D object with N elements.\n",
    "# I'll use reshape. Note the use of -1. That is a signal for the function to figure out the number of rows given that there is 1 column.\n",
    "\n",
    "t = np.reshape(t, (-1,1)) # I have to reshape t into a column vector\n",
    "t\n",
    "# now I can evaluate the position over time by writing out the last equation above.\n",
    "p = 0.5*A*t**2 + V0*t + P0\n"
   ]
  },
  {
   "cell_type": "code",
   "execution_count": 35,
   "metadata": {
    "collapsed": false
   },
   "outputs": [
    {
     "data": {
      "text/plain": [
       "[<matplotlib.lines.Line2D at 0x10d656940>]"
      ]
     },
     "execution_count": 35,
     "metadata": {},
     "output_type": "execute_result"
    },
    {
     "data": {
      "image/png": "[encoded data removed]",
      "text/plain": [
       "<matplotlib.figure.Figure at 0x10d5364a8>"
      ]
     },
     "metadata": {},
     "output_type": "display_data"
    }
   ],
   "source": [
    "pylab.plot(p[:,0], p[:,1])"
   ]
  },
  {
   "cell_type": "code",
   "execution_count": 42,
   "metadata": {
    "collapsed": true
   },
   "outputs": [],
   "source": [
    "def shoot(A, V0, P0):\n",
    "    max_t = solve_quadratic(0.5 * A[1], V0[1], P0[1])\n",
    "    t = np.arange(0, max_t, 0.01)\n",
    "    t = np.reshape(t, (-1,1))\n",
    "    p = 0.5*A*t**2 + V0*t + P0\n",
    "    pylab.plot(p[:,0], p[:, 1])\n",
    "   "
   ]
  },
  {
   "cell_type": "code",
   "execution_count": 44,
   "metadata": {
    "collapsed": false
   },
   "outputs": [
    {
     "data": {
      "image/png": "[encoded data removed]",
      "text/plain": [
       "<matplotlib.figure.Figure at 0x10d8c2c18>"
      ]
     },
     "metadata": {},
     "output_type": "display_data"
    }
   ],
   "source": [
    "shoot (A, np.array([78,40]), P0)"
   ]
  },
  {
   "cell_type": "code",
   "execution_count": null,
   "metadata": {
    "collapsed": true
   },
   "outputs": [],
   "source": []
  }
 ],
 "metadata": {
  "kernelspec": {
   "display_name": "Python [Root]",
   "language": "python",
   "name": "Python [Root]"
  },
  "language_info": {
   "codemirror_mode": {
    "name": "ipython",
    "version": 3
   },
   "file_extension": ".py",
   "mimetype": "text/x-python",
   "name": "python",
   "nbconvert_exporter": "python",
   "pygments_lexer": "ipython3",
   "version": "3.5.2"
  }
 },
 "nbformat": 4,
 "nbformat_minor": 0
}
