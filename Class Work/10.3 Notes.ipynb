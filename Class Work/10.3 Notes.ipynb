{
 "cells": [
  {
   "cell_type": "code",
   "execution_count": 1,
   "metadata": {
    "collapsed": true
   },
   "outputs": [],
   "source": [
    "%matplotlib inline\n",
    "import numpy as np\n",
    "import pylab"
   ]
  },
  {
   "cell_type": "code",
   "execution_count": 2,
   "metadata": {
    "collapsed": false
   },
   "outputs": [
    {
     "data": {
      "text/plain": [
       "('sometext.txt', <http.client.HTTPMessage at 0x10a71e048>)"
      ]
     },
     "execution_count": 2,
     "metadata": {},
     "output_type": "execute_result"
    }
   ],
   "source": [
    "import urllib.request\n",
    "url = 'http://goo.gl/UG0JBi'\n",
    "urllib.request.urlretrieve(url, 'sometext.txt')"
   ]
  },
  {
   "cell_type": "code",
   "execution_count": 3,
   "metadata": {
    "collapsed": true
   },
   "outputs": [],
   "source": [
    "fp = open('sometext.txt', 'r')"
   ]
  },
  {
   "cell_type": "code",
   "execution_count": 4,
   "metadata": {
    "collapsed": false
   },
   "outputs": [
    {
     "data": {
      "text/plain": [
       "<_io.TextIOWrapper name='sometext.txt' mode='r' encoding='UTF-8'>"
      ]
     },
     "execution_count": 4,
     "metadata": {},
     "output_type": "execute_result"
    }
   ],
   "source": [
    "fp"
   ]
  },
  {
   "cell_type": "code",
   "execution_count": 5,
   "metadata": {
    "collapsed": false
   },
   "outputs": [
    {
     "data": {
      "text/plain": [
       "'This is a file\\n'"
      ]
     },
     "execution_count": 5,
     "metadata": {},
     "output_type": "execute_result"
    }
   ],
   "source": [
    "fp.readline()"
   ]
  },
  {
   "cell_type": "code",
   "execution_count": 6,
   "metadata": {
    "collapsed": false
   },
   "outputs": [
    {
     "data": {
      "text/plain": [
       "'with several lines\\n'"
      ]
     },
     "execution_count": 6,
     "metadata": {},
     "output_type": "execute_result"
    }
   ],
   "source": [
    "fp.readline()"
   ]
  },
  {
   "cell_type": "code",
   "execution_count": 7,
   "metadata": {
    "collapsed": false
   },
   "outputs": [
    {
     "data": {
      "text/plain": [
       "'of text.\\n'"
      ]
     },
     "execution_count": 7,
     "metadata": {},
     "output_type": "execute_result"
    }
   ],
   "source": [
    "fp.readline()"
   ]
  },
  {
   "cell_type": "code",
   "execution_count": 8,
   "metadata": {
    "collapsed": false
   },
   "outputs": [
    {
     "data": {
      "text/plain": [
       "'In Python we can access\\n'"
      ]
     },
     "execution_count": 8,
     "metadata": {},
     "output_type": "execute_result"
    }
   ],
   "source": [
    "fp.readline()"
   ]
  },
  {
   "cell_type": "code",
   "execution_count": 9,
   "metadata": {
    "collapsed": false
   },
   "outputs": [
    {
     "data": {
      "text/plain": [
       "'it as a sequence of lines\\n'"
      ]
     },
     "execution_count": 9,
     "metadata": {},
     "output_type": "execute_result"
    }
   ],
   "source": [
    "fp.readline()"
   ]
  },
  {
   "cell_type": "code",
   "execution_count": 10,
   "metadata": {
    "collapsed": false
   },
   "outputs": [
    {
     "data": {
      "text/plain": [
       "'using the open function.\\n'"
      ]
     },
     "execution_count": 10,
     "metadata": {},
     "output_type": "execute_result"
    }
   ],
   "source": [
    "fp.readline()"
   ]
  },
  {
   "cell_type": "code",
   "execution_count": 11,
   "metadata": {
    "collapsed": false
   },
   "outputs": [
    {
     "data": {
      "text/plain": [
       "''"
      ]
     },
     "execution_count": 11,
     "metadata": {},
     "output_type": "execute_result"
    }
   ],
   "source": [
    "fp.readline()"
   ]
  },
  {
   "cell_type": "code",
   "execution_count": 13,
   "metadata": {
    "collapsed": true
   },
   "outputs": [],
   "source": [
    "fp = open('sometext.txt', 'r')\n",
    "line0= fp.readline()\n",
    "line1= fp.readline()\n",
    "line2= fp.readline()\n",
    "line3= fp.readline()\n",
    "line4= fp.readline()\n",
    "line5= fp.readline()"
   ]
  },
  {
   "cell_type": "code",
   "execution_count": 14,
   "metadata": {
    "collapsed": false
   },
   "outputs": [
    {
     "name": "stdout",
     "output_type": "stream",
     "text": [
      "This is a file\n",
      " with several lines\n",
      " of text.\n",
      " In Python we can access\n",
      " it as a sequence of lines\n",
      " using the open function.\n",
      "\n"
     ]
    }
   ],
   "source": [
    "print(line0,line1,line2,line3,line4,line5)"
   ]
  },
  {
   "cell_type": "code",
   "execution_count": 15,
   "metadata": {
    "collapsed": false
   },
   "outputs": [
    {
     "name": "stdout",
     "output_type": "stream",
     "text": [
      "['This is a file\\n', 'with several lines\\n', 'of text.\\n', 'In Python we can access\\n', 'it as a sequence of lines\\n', 'using the open function.\\n']\n"
     ]
    }
   ],
   "source": [
    "lines = []\n",
    "for line in open('sometext.txt', 'r'):\n",
    "    lines.append(line)\n",
    "print(lines)"
   ]
  },
  {
   "cell_type": "code",
   "execution_count": 17,
   "metadata": {
    "collapsed": false
   },
   "outputs": [
    {
     "name": "stdout",
     "output_type": "stream",
     "text": [
      "['foo']\n"
     ]
    }
   ],
   "source": [
    "L= []\n",
    "L.append('foo')\n",
    "print(L)"
   ]
  },
  {
   "cell_type": "code",
   "execution_count": 18,
   "metadata": {
    "collapsed": false
   },
   "outputs": [
    {
     "name": "stdout",
     "output_type": "stream",
     "text": [
      "['foo', 'bar']\n"
     ]
    }
   ],
   "source": [
    "L.append('bar')\n",
    "print(L)"
   ]
  },
  {
   "cell_type": "code",
   "execution_count": 30,
   "metadata": {
    "collapsed": false
   },
   "outputs": [
    {
     "data": {
      "text/plain": [
       "['this', 'is', 'a', 'string']"
      ]
     },
     "execution_count": 30,
     "metadata": {},
     "output_type": "execute_result"
    }
   ],
   "source": [
    "'this is a string'.split()"
   ]
  },
  {
   "cell_type": "code",
   "execution_count": 38,
   "metadata": {
    "collapsed": false
   },
   "outputs": [
    {
     "name": "stdout",
     "output_type": "stream",
     "text": [
      "lines= This is a file\n",
      "\n",
      "linewords= ['This', 'is', 'a', 'file']\n",
      "word= This\n",
      "word= is\n",
      "word= a\n",
      "word= file\n",
      "lines= with several lines\n",
      "\n",
      "linewords= ['with', 'several', 'lines']\n",
      "word= with\n",
      "word= several\n",
      "word= lines\n",
      "lines= of text.\n",
      "\n",
      "linewords= ['of', 'text.']\n",
      "word= of\n",
      "word= text.\n",
      "lines= In Python we can access\n",
      "\n",
      "linewords= ['In', 'Python', 'we', 'can', 'access']\n",
      "word= In\n",
      "word= Python\n",
      "word= we\n",
      "word= can\n",
      "word= access\n",
      "lines= it as a sequence of lines\n",
      "\n",
      "linewords= ['it', 'as', 'a', 'sequence', 'of', 'lines']\n",
      "word= it\n",
      "word= as\n",
      "word= a\n",
      "word= sequence\n",
      "word= of\n",
      "word= lines\n",
      "lines= using the open function.\n",
      "\n",
      "linewords= ['using', 'the', 'open', 'function.']\n",
      "word= using\n",
      "word= the\n",
      "word= open\n",
      "word= function.\n",
      "['This', 'is', 'a', 'file', 'with', 'several', 'lines', 'of', 'text.', 'In', 'Python', 'we', 'can', 'access', 'it', 'as', 'a', 'sequence', 'of', 'lines', 'using', 'the', 'open', 'function.']\n"
     ]
    }
   ],
   "source": [
    "words = [] #why do u put line????\n",
    "for line in open('sometext.txt', 'r'):\n",
    "    print('lines=', line)\n",
    "    linewords = line.strip().split() \n",
    "    print('linewords=', linewords)\n",
    "    for word in linewords:\n",
    "        print('word=', word)\n",
    "        words.append(word)\n",
    "print(words)"
   ]
  },
  {
   "cell_type": "code",
   "execution_count": 40,
   "metadata": {
    "collapsed": false
   },
   "outputs": [
    {
     "name": "stdout",
     "output_type": "stream",
     "text": [
      "lines= This is a file\n",
      "\n",
      "linewords= ['This', 'is', 'a', 'file']\n",
      "word= This\n",
      "words= ['This']\n",
      "word= is\n",
      "words= ['This', 'is']\n",
      "word= a\n",
      "words= ['This', 'is', 'a']\n",
      "word= file\n",
      "words= ['This', 'is', 'a', 'file']\n",
      "lines= with several lines\n",
      "\n",
      "linewords= ['with', 'several', 'lines']\n",
      "word= with\n",
      "words= ['This', 'is', 'a', 'file', 'with']\n",
      "word= several\n",
      "words= ['This', 'is', 'a', 'file', 'with', 'several']\n",
      "word= lines\n",
      "words= ['This', 'is', 'a', 'file', 'with', 'several', 'lines']\n",
      "lines= of text.\n",
      "\n",
      "linewords= ['of', 'text.']\n",
      "word= of\n",
      "words= ['This', 'is', 'a', 'file', 'with', 'several', 'lines', 'of']\n",
      "word= text.\n",
      "words= ['This', 'is', 'a', 'file', 'with', 'several', 'lines', 'of', 'text.']\n",
      "lines= In Python we can access\n",
      "\n",
      "linewords= ['In', 'Python', 'we', 'can', 'access']\n",
      "word= In\n",
      "words= ['This', 'is', 'a', 'file', 'with', 'several', 'lines', 'of', 'text.', 'In']\n",
      "word= Python\n",
      "words= ['This', 'is', 'a', 'file', 'with', 'several', 'lines', 'of', 'text.', 'In', 'Python']\n",
      "word= we\n",
      "words= ['This', 'is', 'a', 'file', 'with', 'several', 'lines', 'of', 'text.', 'In', 'Python', 'we']\n",
      "word= can\n",
      "words= ['This', 'is', 'a', 'file', 'with', 'several', 'lines', 'of', 'text.', 'In', 'Python', 'we', 'can']\n",
      "word= access\n",
      "words= ['This', 'is', 'a', 'file', 'with', 'several', 'lines', 'of', 'text.', 'In', 'Python', 'we', 'can', 'access']\n",
      "lines= it as a sequence of lines\n",
      "\n",
      "linewords= ['it', 'as', 'a', 'sequence', 'of', 'lines']\n",
      "word= it\n",
      "words= ['This', 'is', 'a', 'file', 'with', 'several', 'lines', 'of', 'text.', 'In', 'Python', 'we', 'can', 'access', 'it']\n",
      "word= as\n",
      "words= ['This', 'is', 'a', 'file', 'with', 'several', 'lines', 'of', 'text.', 'In', 'Python', 'we', 'can', 'access', 'it', 'as']\n",
      "word= a\n",
      "words= ['This', 'is', 'a', 'file', 'with', 'several', 'lines', 'of', 'text.', 'In', 'Python', 'we', 'can', 'access', 'it', 'as', 'a']\n",
      "word= sequence\n",
      "words= ['This', 'is', 'a', 'file', 'with', 'several', 'lines', 'of', 'text.', 'In', 'Python', 'we', 'can', 'access', 'it', 'as', 'a', 'sequence']\n",
      "word= of\n",
      "words= ['This', 'is', 'a', 'file', 'with', 'several', 'lines', 'of', 'text.', 'In', 'Python', 'we', 'can', 'access', 'it', 'as', 'a', 'sequence', 'of']\n",
      "word= lines\n",
      "words= ['This', 'is', 'a', 'file', 'with', 'several', 'lines', 'of', 'text.', 'In', 'Python', 'we', 'can', 'access', 'it', 'as', 'a', 'sequence', 'of', 'lines']\n",
      "lines= using the open function.\n",
      "\n",
      "linewords= ['using', 'the', 'open', 'function.']\n",
      "word= using\n",
      "words= ['This', 'is', 'a', 'file', 'with', 'several', 'lines', 'of', 'text.', 'In', 'Python', 'we', 'can', 'access', 'it', 'as', 'a', 'sequence', 'of', 'lines', 'using']\n",
      "word= the\n",
      "words= ['This', 'is', 'a', 'file', 'with', 'several', 'lines', 'of', 'text.', 'In', 'Python', 'we', 'can', 'access', 'it', 'as', 'a', 'sequence', 'of', 'lines', 'using', 'the']\n",
      "word= open\n",
      "words= ['This', 'is', 'a', 'file', 'with', 'several', 'lines', 'of', 'text.', 'In', 'Python', 'we', 'can', 'access', 'it', 'as', 'a', 'sequence', 'of', 'lines', 'using', 'the', 'open']\n",
      "word= function.\n",
      "words= ['This', 'is', 'a', 'file', 'with', 'several', 'lines', 'of', 'text.', 'In', 'Python', 'we', 'can', 'access', 'it', 'as', 'a', 'sequence', 'of', 'lines', 'using', 'the', 'open', 'function.']\n",
      "['This', 'is', 'a', 'file', 'with', 'several', 'lines', 'of', 'text.', 'In', 'Python', 'we', 'can', 'access', 'it', 'as', 'a', 'sequence', 'of', 'lines', 'using', 'the', 'open', 'function.']\n"
     ]
    }
   ],
   "source": [
    "words = [] #why do u put line????\n",
    "for line in open('sometext.txt', 'r'):\n",
    "    print('lines=', line)\n",
    "    linewords = line.strip().split() \n",
    "    print('linewords=', linewords)\n",
    "    for word in linewords:\n",
    "        print('word=', word)\n",
    "        words.append(word)\n",
    "        print('words=', words)\n",
    "print(words)"
   ]
  },
  {
   "cell_type": "code",
   "execution_count": 41,
   "metadata": {
    "collapsed": false
   },
   "outputs": [
    {
     "name": "stdout",
     "output_type": "stream",
     "text": [
      "['This', 'In', 'Python']\n"
     ]
    }
   ],
   "source": [
    "words = []\n",
    "for line in open('sometext.txt', 'r'):\n",
    "    linewords = line.strip().split() \n",
    "    for word in linewords:\n",
    "        if word[0].isupper():\n",
    "            words.append(word)\n",
    "print(words)"
   ]
  },
  {
   "cell_type": "code",
   "execution_count": 48,
   "metadata": {
    "collapsed": false
   },
   "outputs": [
    {
     "name": "stdout",
     "output_type": "stream",
     "text": [
      "['This', 'file', 'with', 'several', 'lines', 'text.', 'Python', 'access', 'sequence', 'lines', 'using', 'open', 'function.']\n"
     ]
    }
   ],
   "source": [
    "words = []\n",
    "for line in open('sometext.txt', 'r'):\n",
    "    linewords = line.strip().split() \n",
    "    for word in linewords:\n",
    "        if len(word)>= 4:\n",
    "            words.append(word)\n",
    "print(words)"
   ]
  },
  {
   "cell_type": "code",
   "execution_count": null,
   "metadata": {
    "collapsed": true
   },
   "outputs": [],
   "source": []
  }
 ],
 "metadata": {
  "anaconda-cloud": {},
  "kernelspec": {
   "display_name": "Python [Root]",
   "language": "python",
   "name": "Python [Root]"
  },
  "language_info": {
   "codemirror_mode": {
    "name": "ipython",
    "version": 3
   },
   "file_extension": ".py",
   "mimetype": "text/x-python",
   "name": "python",
   "nbconvert_exporter": "python",
   "pygments_lexer": "ipython3",
   "version": "3.5.2"
  }
 },
 "nbformat": 4,
 "nbformat_minor": 0
}
