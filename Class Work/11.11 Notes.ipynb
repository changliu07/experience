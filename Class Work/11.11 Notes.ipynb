{
 "cells": [
  {
   "cell_type": "code",
   "execution_count": 1,
   "metadata": {
    "collapsed": true
   },
   "outputs": [],
   "source": [
    "import numpy as np\n",
    "\n",
    "#load the list of the first million primes\n",
    "primes = np.genfromtxt(\"http://wwwx.cs.unc.edu/Courses/comp116-001-f16/media/primes.txt\",\n",
    "                      dtype=int)"
   ]
  },
  {
   "cell_type": "code",
   "execution_count": 2,
   "metadata": {
    "collapsed": false
   },
   "outputs": [
    {
     "data": {
      "text/plain": [
       "1000000"
      ]
     },
     "execution_count": 2,
     "metadata": {},
     "output_type": "execute_result"
    }
   ],
   "source": [
    "len(primes)"
   ]
  },
  {
   "cell_type": "code",
   "execution_count": 3,
   "metadata": {
    "collapsed": false
   },
   "outputs": [
    {
     "data": {
      "text/plain": [
       "array([ 2,  3,  5,  7, 11, 13, 17, 19, 23, 29, 31, 37, 41, 43, 47, 53, 59,\n",
       "       61, 67, 71])"
      ]
     },
     "execution_count": 3,
     "metadata": {},
     "output_type": "execute_result"
    }
   ],
   "source": [
    "primes[:20]"
   ]
  },
  {
   "cell_type": "code",
   "execution_count": 4,
   "metadata": {
    "collapsed": false
   },
   "outputs": [
    {
     "data": {
      "text/plain": [
       "array([15485837, 15485843, 15485849, 15485857, 15485863])"
      ]
     },
     "execution_count": 4,
     "metadata": {},
     "output_type": "execute_result"
    }
   ],
   "source": [
    "primes[-5:]"
   ]
  },
  {
   "cell_type": "code",
   "execution_count": 12,
   "metadata": {
    "collapsed": false
   },
   "outputs": [
    {
     "data": {
      "text/plain": [
       "array([     0, 249934,      1, 250110,      0,      1,      0, 250014,\n",
       "            0, 249940])"
      ]
     },
     "execution_count": 12,
     "metadata": {},
     "output_type": "execute_result"
    }
   ],
   "source": [
    "np.bincount(primes % 10)"
   ]
  },
  {
   "cell_type": "code",
   "execution_count": 8,
   "metadata": {
    "collapsed": false
   },
   "outputs": [
    {
     "data": {
      "text/plain": [
       "array([     0, 249934,      1, 250110,      0,      1,      0, 250014,\n",
       "            0, 249940])"
      ]
     },
     "execution_count": 8,
     "metadata": {},
     "output_type": "execute_result"
    }
   ],
   "source": [
    "LastDigit(10, primes)"
   ]
  },
  {
   "cell_type": "code",
   "execution_count": 19,
   "metadata": {
    "collapsed": false
   },
   "outputs": [
    {
     "data": {
      "text/plain": [
       "{1: 249934, 2: 1, 3: 250110, 5: 1, 7: 250014, 9: 249940}"
      ]
     },
     "execution_count": 19,
     "metadata": {},
     "output_type": "execute_result"
    }
   ],
   "source": [
    "B =10\n",
    "DC = {}\n",
    "for i in range(len(primes)):\n",
    "    ld = primes[i] % B\n",
    "    DC[ld]= DC.get(ld,0)+1\n",
    "DC"
   ]
  },
  {
   "cell_type": "code",
   "execution_count": 24,
   "metadata": {
    "collapsed": false
   },
   "outputs": [
    {
     "data": {
      "text/plain": [
       "{(1, 1): 42853,\n",
       " (1, 3): 77475,\n",
       " (1, 7): 79453,\n",
       " (1, 9): 50153,\n",
       " (2, 3): 1,\n",
       " (3, 1): 58255,\n",
       " (3, 3): 39668,\n",
       " (3, 5): 1,\n",
       " (3, 7): 72827,\n",
       " (3, 9): 79358,\n",
       " (5, 7): 1,\n",
       " (7, 1): 64230,\n",
       " (7, 3): 68595,\n",
       " (7, 7): 39603,\n",
       " (7, 9): 77586,\n",
       " (9, 1): 84596,\n",
       " (9, 3): 64371,\n",
       " (9, 7): 58130,\n",
       " (9, 9): 42843}"
      ]
     },
     "execution_count": 24,
     "metadata": {},
     "output_type": "execute_result"
    }
   ],
   "source": [
    "PC = {}\n",
    "for i in range(1, len(primes)):\n",
    "    ld1 = primes[i-1] % B\n",
    "    ld2 = primes[i] % B\n",
    "    key = (ld1, ld2)\n",
    "    PC[key] = PC.get(key, 0) + 1\n",
    "    \n",
    "PC"
   ]
  },
  {
   "cell_type": "code",
   "execution_count": 28,
   "metadata": {
    "collapsed": false
   },
   "outputs": [
    {
     "data": {
      "text/plain": [
       "{11: 42853,\n",
       " 13: 77475,\n",
       " 17: 79453,\n",
       " 19: 50153,\n",
       " 23: 1,\n",
       " 31: 58255,\n",
       " 33: 39668,\n",
       " 35: 1,\n",
       " 37: 72827,\n",
       " 39: 79358,\n",
       " 57: 1,\n",
       " 71: 64230,\n",
       " 73: 68595,\n",
       " 77: 39603,\n",
       " 79: 77586,\n",
       " 91: 84596,\n",
       " 93: 64371,\n",
       " 97: 58130,\n",
       " 99: 42843}"
      ]
     },
     "execution_count": 28,
     "metadata": {},
     "output_type": "execute_result"
    }
   ],
   "source": [
    "PC = {}\n",
    "for i in range(1, len(primes)):\n",
    "    ld1 = primes[i-1] % B\n",
    "    ld2 = primes[i] % B\n",
    "    key = ld1*B + ld2\n",
    "    PC[key] = PC.get(key, 0) + 1\n",
    "    \n",
    "PC"
   ]
  },
  {
   "cell_type": "code",
   "execution_count": 30,
   "metadata": {
    "collapsed": false
   },
   "outputs": [
    {
     "data": {
      "text/plain": [
       "array([[    0,     0,     0,     0,     0,     0,     0,     0,     0,\n",
       "            0],\n",
       "       [    0, 42853,     0, 77475,     0,     0,     0, 79453,     0,\n",
       "        50153],\n",
       "       [    0,     0,     0,     1,     0,     0,     0,     0,     0,\n",
       "            0],\n",
       "       [    0, 58255,     0, 39668,     0,     1,     0, 72827,     0,\n",
       "        79358],\n",
       "       [    0,     0,     0,     0,     0,     0,     0,     0,     0,\n",
       "            0],\n",
       "       [    0,     0,     0,     0,     0,     0,     0,     1,     0,\n",
       "            0],\n",
       "       [    0,     0,     0,     0,     0,     0,     0,     0,     0,\n",
       "            0],\n",
       "       [    0, 64230,     0, 68595,     0,     0,     0, 39603,     0,\n",
       "        77586],\n",
       "       [    0,     0,     0,     0,     0,     0,     0,     0,     0,\n",
       "            0],\n",
       "       [    0, 84596,     0, 64371,     0,     0,     0, 58130,     0,\n",
       "        42843]])"
      ]
     },
     "execution_count": 30,
     "metadata": {},
     "output_type": "execute_result"
    }
   ],
   "source": [
    "B = 10\n",
    "PC = np.zeros((B, B), dtype=int)\n",
    "for i in range(1, len(primes)):\n",
    "    ld1 = primes[i-1] % B\n",
    "    ld2 = primes[i] % B\n",
    "    PC[ld1, ld2] += 1\n",
    "    \n",
    "PC"
   ]
  },
  {
   "cell_type": "code",
   "execution_count": null,
   "metadata": {
    "collapsed": true
   },
   "outputs": [],
   "source": []
  }
 ],
 "metadata": {
  "anaconda-cloud": {},
  "kernelspec": {
   "display_name": "Python [Root]",
   "language": "python",
   "name": "Python [Root]"
  },
  "language_info": {
   "codemirror_mode": {
    "name": "ipython",
    "version": 3
   },
   "file_extension": ".py",
   "mimetype": "text/x-python",
   "name": "python",
   "nbconvert_exporter": "python",
   "pygments_lexer": "ipython3",
   "version": "3.5.2"
  }
 },
 "nbformat": 4,
 "nbformat_minor": 0
}
