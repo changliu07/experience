{
 "cells": [
  {
   "cell_type": "code",
   "execution_count": 1,
   "metadata": {
    "collapsed": false
   },
   "outputs": [
    {
     "data": {
      "text/plain": [
       "array([0, 0, 2, 1, 1, 1])"
      ]
     },
     "execution_count": 1,
     "metadata": {},
     "output_type": "execute_result"
    }
   ],
   "source": [
    "import numpy as np\n",
    "def CountInt(A):\n",
    "    result = []\n",
    "    for i in range(6):\n",
    "        result.append(np.count_nonzero(A==i))\n",
    "    return np.array(result)\n",
    "CountInt(np.array([3,2,4,5,2]))"
   ]
  },
  {
   "cell_type": "code",
   "execution_count": 2,
   "metadata": {
    "collapsed": false
   },
   "outputs": [
    {
     "data": {
      "text/plain": [
       "array([3, 1, 1, 1, 1, 0, 1, 0, 0, 1, 1, 0, 0, 0, 0, 3, 1, 0, 0, 3, 2, 2, 1,\n",
       "       1, 1, 1, 2, 1, 1, 1, 0, 1, 1, 1, 1, 0, 1, 1, 0, 2, 2, 0, 0, 1, 3, 3,\n",
       "       0, 1, 1, 0, 1, 1, 2, 1, 0, 0, 3, 1, 2, 1, 2, 1, 2, 2, 0, 2, 1, 0, 2,\n",
       "       1, 0, 0, 0, 2, 0, 2, 1, 0, 0, 3, 0, 1, 1, 1, 0, 1, 1, 1, 1, 0, 3, 3,\n",
       "       0, 0, 1, 1, 2, 0, 1])"
      ]
     },
     "execution_count": 2,
     "metadata": {},
     "output_type": "execute_result"
    }
   ],
   "source": [
    "def CountInt2(A):\n",
    "    result= []\n",
    "    for i in range(np.max(A)+1):\n",
    "        result.append(np.count_nonzero(A==i))\n",
    "    return np.array(result)\n",
    "CountInt2(np.random.randint(0,100,100))"
   ]
  },
  {
   "cell_type": "code",
   "execution_count": 6,
   "metadata": {
    "collapsed": false
   },
   "outputs": [
    {
     "data": {
      "text/plain": [
       "array([ 1.,  1.,  3.,  1.,  2.,  1.,  4.,  1.,  1.,  0.,  1.,  0.,  0.,\n",
       "        2.,  1.,  0.,  1.,  2.,  1.,  2.,  0.,  0.,  1.,  2.,  0.,  0.,\n",
       "        0.,  2.,  0.,  1.,  3.,  1.,  0.,  0.,  1.,  0.,  1.,  2.,  1.,\n",
       "        3.,  3.,  1.,  1.,  0.,  0.,  1.,  1.,  3.,  0.,  1.,  1.,  0.,\n",
       "        0.,  0.,  0.,  0.,  3.,  1.,  3.,  0.,  1.,  1.,  0.,  1.,  2.,\n",
       "        1.,  0.,  0.,  0.,  1.,  2.,  3.,  2.,  1.,  0.,  0.,  1.,  2.,\n",
       "        2.,  1.,  3.,  0.,  1.,  0.,  1.,  1.,  0.,  2.,  0.,  0.,  1.,\n",
       "        0.,  1.,  1.,  2.,  0.,  0.,  0.,  4.])"
      ]
     },
     "execution_count": 6,
     "metadata": {},
     "output_type": "execute_result"
    }
   ],
   "source": [
    "def CountInt3(A):\n",
    "    N = np.max(A)+1\n",
    "    time= np.zeros(N)\n",
    "    for i in range(len(A)):\n",
    "        v=A[i]\n",
    "        time[v]=time[v]+1\n",
    "    return time\n",
    "CountInt3(np.random.randint(0,100,100))"
   ]
  },
  {
   "cell_type": "code",
   "execution_count": null,
   "metadata": {
    "collapsed": true
   },
   "outputs": [],
   "source": []
  }
 ],
 "metadata": {
  "kernelspec": {
   "display_name": "Python [Root]",
   "language": "python",
   "name": "Python [Root]"
  },
  "language_info": {
   "codemirror_mode": {
    "name": "ipython",
    "version": 3
   },
   "file_extension": ".py",
   "mimetype": "text/x-python",
   "name": "python",
   "nbconvert_exporter": "python",
   "pygments_lexer": "ipython3",
   "version": "3.5.2"
  }
 },
 "nbformat": 4,
 "nbformat_minor": 0
}
