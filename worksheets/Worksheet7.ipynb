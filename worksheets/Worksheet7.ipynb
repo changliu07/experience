{
 "cells": [
  {
   "cell_type": "markdown",
   "metadata": {},
   "source": [
    "# Worksheet 7"
   ]
  },
  {
   "cell_type": "code",
   "execution_count": 4,
   "metadata": {
    "collapsed": true
   },
   "outputs": [],
   "source": [
    "import numpy as np\n",
    "\n",
    "# I'll create an array to use below\n",
    "A = np.random.randint(100, size=(10, 4))"
   ]
  },
  {
   "cell_type": "markdown",
   "metadata": {
    "collapsed": true
   },
   "source": [
    " # 1. Write a function that takes an array and returns the column sums of this array.\n",
    " \n",
    " Hint: use \"axis = \" argument would make things much easier"
   ]
  },
  {
   "cell_type": "code",
   "execution_count": 5,
   "metadata": {
    "collapsed": false
   },
   "outputs": [],
   "source": [
    "def getSum(array):\n",
    "    return np.sum(array, axis=0)"
   ]
  },
  {
   "cell_type": "code",
   "execution_count": 6,
   "metadata": {
    "collapsed": false
   },
   "outputs": [
    {
     "name": "stdout",
     "output_type": "stream",
     "text": [
      "[455 597 455 353]\n"
     ]
    }
   ],
   "source": [
    "# you could print out the result of getSum(A)\n",
    "print(getSum(A))"
   ]
  },
  {
   "cell_type": "markdown",
   "metadata": {},
   "source": [
    "You can check your result by printing out A : print(A)"
   ]
  },
  {
   "cell_type": "markdown",
   "metadata": {},
   "source": [
    "# 3. Now use your function to get the column sums of this array.\n",
    "\n",
    "You should not have to modify your function."
   ]
  },
  {
   "cell_type": "code",
   "execution_count": 7,
   "metadata": {
    "collapsed": false
   },
   "outputs": [],
   "source": [
    "B = np.array(      [ [13, 92, 23, 25, 77, 11],\n",
    "                     [28, 15, 18, 56, 45, 51],\n",
    "                     [10, 83, 33, 30, 49, 74],\n",
    "                     [33, 49, 76, 44, 48, 75],\n",
    "                     [24, 18, 29, 28, 82, 77],\n",
    "                     [14, 22, 83, 52, 66, 85],\n",
    "                     [89, 37, 71, 73, 83, 28]]     )"
   ]
  },
  {
   "cell_type": "markdown",
   "metadata": {},
   "source": [
    "What are the column sums of this array?"
   ]
  },
  {
   "cell_type": "code",
   "execution_count": 8,
   "metadata": {
    "collapsed": false
   },
   "outputs": [
    {
     "data": {
      "text/plain": [
       "array([211, 316, 333, 308, 450, 401])"
      ]
     },
     "execution_count": 8,
     "metadata": {},
     "output_type": "execute_result"
    }
   ],
   "source": [
    "getSum(B)"
   ]
  },
  {
   "cell_type": "markdown",
   "metadata": {},
   "source": [
    "The result I get is [211 316 333 308 450 401]."
   ]
  },
  {
   "cell_type": "markdown",
   "metadata": {},
   "source": [
    "# 4. Now write a function that determines what fraction of the given data set is above its mean. \n",
    "\n",
    "Again, your function should work for any array, not just the one given below."
   ]
  },
  {
   "cell_type": "code",
   "execution_count": 17,
   "metadata": {
    "collapsed": false
   },
   "outputs": [],
   "source": [
    "def aboveMean(data):\n",
    "    return np.sum(data>np.mean(data))/len(data)"
   ]
  },
  {
   "cell_type": "code",
   "execution_count": 18,
   "metadata": {
    "collapsed": false
   },
   "outputs": [
    {
     "name": "stdout",
     "output_type": "stream",
     "text": [
      "0.32\n"
     ]
    }
   ],
   "source": [
    "C = np.array([42,100,131,8,3,2,12,10,9,5,12,20,13,4,1,11,9,5,88,30,124,66,34,78,20])\n",
    "\n",
    "print(aboveMean(C))"
   ]
  },
  {
   "cell_type": "markdown",
   "metadata": {},
   "source": [
    "I have 0.32"
   ]
  },
  {
   "cell_type": "code",
   "execution_count": 19,
   "metadata": {
    "collapsed": false
   },
   "outputs": [
    {
     "data": {
      "text/html": [
       "\n",
       "<p>Click the button below to submit your assignment. Watch for a confirmation message\n",
       "that your notebook was successfully uploaded. You may submit as often as you wish,\n",
       "only the last submission will count.</p>\n",
       "<button id=\"submitButton116\">Submit this notebook</button>\n",
       "<p id=\"submitResponse116\"></p>\n",
       "<script>\n",
       "var site = 'https://wwwx.cs.unc.edu/Courses/comp116-001-f16/';\n",
       "$('#submitButton116').on('click', function() {\n",
       "    var site = 'https://wwwx.cs.unc.edu/Courses/comp116-001-f16/',\n",
       "        $sresp = $('#submitResponse116'),\n",
       "        button = $('#submitButton116');\n",
       "    button.prop('disabled', true);\n",
       "    // wait until save is complete before pushing the notebook\n",
       "    $([IPython.events]).one('notebook_saved.Notebook', function() {\n",
       "        // get the token by logging in\n",
       "        $sresp.html('logging in');\n",
       "        $.ajax({\n",
       "            url: site + 'io/token/token.cgi',\n",
       "            dataType: 'jsonp'\n",
       "        }).done(function(data) {\n",
       "            var notebook = IPython.notebook.notebook_name,\n",
       "                uuid = data.token,\n",
       "                command = \"comp116.pushNotebook('\" + notebook + \"', '\" + uuid + \"')\",\n",
       "                kernel = IPython.notebook.kernel,\n",
       "                handler = function (out) {\n",
       "                    $('#comp116-stop-message').show();\n",
       "                    if (out.content.status == \"ok\") {\n",
       "                        $sresp.html(\"Successfully submitted \" + notebook);\n",
       "                        $('#comp116-stop-message').hide();\n",
       "                    } else if(out.content.status == \"error\") {\n",
       "                        $sresp.html(out.content.ename + \": \" + out.content.evalue);\n",
       "                    } else { // if output is something we haven't thought of\n",
       "                        $sresp.html(\"[out type not implemented]\")\n",
       "                    }\n",
       "                    button.prop('disabled', false);\n",
       "                };\n",
       "            $sresp.html('Submitting');\n",
       "            kernel.execute(command, {shell: { reply: handler }});\n",
       "        }).fail(function() {\n",
       "            $sresp.html('Login failed');\n",
       "            button.prop('disabled', false);\n",
       "        });\n",
       "    });\n",
       "    // trigger the save\n",
       "    $sresp.html('Saving');\n",
       "    IPython.notebook.save_notebook();\n",
       "});"
      ],
      "text/plain": [
       "<IPython.core.display.HTML object>"
      ]
     },
     "execution_count": 19,
     "metadata": {},
     "output_type": "execute_result"
    }
   ],
   "source": [
    "import comp116\n",
    "comp116.submit('ws7')"
   ]
  },
  {
   "cell_type": "code",
   "execution_count": null,
   "metadata": {
    "collapsed": true
   },
   "outputs": [],
   "source": []
  }
 ],
 "metadata": {
  "anaconda-cloud": {},
  "kernelspec": {
   "display_name": "Python [Root]",
   "language": "python",
   "name": "Python [Root]"
  },
  "language_info": {
   "codemirror_mode": {
    "name": "ipython",
    "version": 3
   },
   "file_extension": ".py",
   "mimetype": "text/x-python",
   "name": "python",
   "nbconvert_exporter": "python",
   "pygments_lexer": "ipython3",
   "version": "3.5.2"
  }
 },
 "nbformat": 4,
 "nbformat_minor": 0
}
