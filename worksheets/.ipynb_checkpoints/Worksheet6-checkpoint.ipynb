{
 "cells": [
  {
   "cell_type": "markdown",
   "metadata": {},
   "source": [
    "# Worksheet #6\n",
    "\n",
    "A1 and Functions"
   ]
  },
  {
   "cell_type": "code",
   "execution_count": 1,
   "metadata": {
    "collapsed": true
   },
   "outputs": [],
   "source": [
    "# the usual necessities\n",
    "\n",
    "%matplotlib inline\n",
    "import numpy as np\n",
    "import pylab"
   ]
  },
  {
   "cell_type": "markdown",
   "metadata": {
    "collapsed": true
   },
   "source": [
    "Each value in the array below (ages) represents individuals in line for the DMV. \n",
    "\n",
    "Groceries is a list of grocery prices at different stores. Each row is an item and each column is a different store. "
   ]
  },
  {
   "cell_type": "code",
   "execution_count": 2,
   "metadata": {
    "collapsed": false
   },
   "outputs": [],
   "source": [
    "dmvline = np.array([79, 92, 12, 25, 37, 62,\n",
    "                      28, 15, 18, 56, 45, 51,\n",
    "                      39, 83, 42, 30, 49, 74,\n",
    "                      33, 49, 21, 44, 48, 88,\n",
    "                      24, 18, 29, 28, 82, 77,\n",
    "                      26, 22, 83, 52, 66, 85,\n",
    "                      55, 37, 71, 73, 83, 35])\n",
    "\n",
    "groceries = np.array([[1.65, 1.83, 1.94, 2.21, 1.58, 2.04, 2.95],\n",
    "                     [4.59, 5.69, 4.12, 5.92, 3.99, 4.12, 4.83],\n",
    "                     [10.5, 10.58, 11.38, 11.85, 10.64, 12.24, 12.00],\n",
    "                     [0.5, 0.28, 0.49, 0.38, 0.94, 0.72, 1.48],\n",
    "                     [15.39, 20.38, 18.93, 24.26, 15.36, 14.99, 15.72],\n",
    "                     [8.28, 7.17, 8.88, 7.27, 7.12, 6.81, 8.00]])"
   ]
  },
  {
   "cell_type": "markdown",
   "metadata": {},
   "source": [
    "# 1. What is the the maximum increase in age between two consecutive people in line at the DMV?"
   ]
  },
  {
   "cell_type": "code",
   "execution_count": 4,
   "metadata": {
    "collapsed": false
   },
   "outputs": [
    {
     "data": {
      "text/plain": [
       "61"
      ]
     },
     "execution_count": 4,
     "metadata": {},
     "output_type": "execute_result"
    }
   ],
   "source": [
    "np.max(np.diff(dmvline))"
   ]
  },
  {
   "cell_type": "markdown",
   "metadata": {},
   "source": [
    "I got 61 for the max"
   ]
  },
  {
   "cell_type": "markdown",
   "metadata": {},
   "source": [
    "# 2. What is the greatest amount of money someone could spend if they are buying one of each of these items at one store?"
   ]
  },
  {
   "cell_type": "code",
   "execution_count": null,
   "metadata": {
    "collapsed": false
   },
   "outputs": [],
   "source": [
    "np.max(groceries, axis=)"
   ]
  },
  {
   "cell_type": "markdown",
   "metadata": {},
   "source": [
    "I got 51.89"
   ]
  },
  {
   "cell_type": "markdown",
   "metadata": {
    "collapsed": false
   },
   "source": [
    "# Functions"
   ]
  },
  {
   "cell_type": "markdown",
   "metadata": {},
   "source": [
    "# 3. Create a function called area that takes a width and height and returns the area"
   ]
  },
  {
   "cell_type": "code",
   "execution_count": null,
   "metadata": {
    "collapsed": false
   },
   "outputs": [],
   "source": [
    "def area(w, h):\n",
    "    return #replace this with some expression\n",
    "area(6, 5)"
   ]
  },
  {
   "cell_type": "markdown",
   "metadata": {},
   "source": [
    "I got 30"
   ]
  },
  {
   "cell_type": "markdown",
   "metadata": {},
   "source": [
    "# 4. Create a function called square that takes a number as an argument/parameter and returns the square of that number. Ex: square(5)=25 "
   ]
  },
  {
   "cell_type": "code",
   "execution_count": null,
   "metadata": {
    "collapsed": false
   },
   "outputs": [],
   "source": [
    "def square(x):\n",
    "    return #replace this with some expression\n",
    "square(6)"
   ]
  },
  {
   "cell_type": "markdown",
   "metadata": {
    "collapsed": false
   },
   "source": [
    "I got 36"
   ]
  },
  {
   "cell_type": "markdown",
   "metadata": {},
   "source": [
    "# 5. Create a function called fun that takes in an array as a parameter/argument then finds the largest element and smallest element then squares each element (use the function you wrote about) and subtracts the smaller number from the larger number. We will test it with DMV line. "
   ]
  },
  {
   "cell_type": "code",
   "execution_count": null,
   "metadata": {
    "collapsed": false
   },
   "outputs": [],
   "source": [
    "#Write your function here\n",
    "\n",
    "#This statement will test your code do not delete it\n",
    "fun(dmvline)    "
   ]
  },
  {
   "cell_type": "markdown",
   "metadata": {},
   "source": [
    "I got 8320"
   ]
  },
  {
   "cell_type": "markdown",
   "metadata": {},
   "source": [
    "# 6. Create a function called transformtime that takes in a number of days until an event and returns the number of hours until the event and the minutes until the event. Ex: transformtime(2) = (48, 2880)\n",
    "Hint: to return two things simply separate them with a comma after the return statement (ex: return x,y)"
   ]
  },
  {
   "cell_type": "code",
   "execution_count": null,
   "metadata": {
    "collapsed": false
   },
   "outputs": [],
   "source": [
    "#Write your function here \n",
    "\n",
    "#This statement will test your code do not delete it\n",
    "transformtime(5)"
   ]
  },
  {
   "cell_type": "markdown",
   "metadata": {
    "collapsed": true
   },
   "source": [
    "I got (120, 7200)"
   ]
  },
  {
   "cell_type": "markdown",
   "metadata": {},
   "source": [
    "Submit your notebook below"
   ]
  },
  {
   "cell_type": "code",
   "execution_count": null,
   "metadata": {
    "collapsed": false
   },
   "outputs": [],
   "source": [
    "import comp116\n",
    "comp116.submit('ws6')"
   ]
  },
  {
   "cell_type": "code",
   "execution_count": null,
   "metadata": {
    "collapsed": true
   },
   "outputs": [],
   "source": []
  }
 ],
 "metadata": {
  "anaconda-cloud": {},
  "kernelspec": {
   "display_name": "Python [Root]",
   "language": "python",
   "name": "Python [Root]"
  },
  "language_info": {
   "codemirror_mode": {
    "name": "ipython",
    "version": 3
   },
   "file_extension": ".py",
   "mimetype": "text/x-python",
   "name": "python",
   "nbconvert_exporter": "python",
   "pygments_lexer": "ipython3",
   "version": "3.5.2"
  }
 },
 "nbformat": 4,
 "nbformat_minor": 0
}
