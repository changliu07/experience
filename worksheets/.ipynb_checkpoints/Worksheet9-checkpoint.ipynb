{
 "cells": [
  {
   "cell_type": "markdown",
   "metadata": {},
   "source": [
    "## Let's read in some text and learn about tools available for working with strings\n",
    "(these are some choice quotes from [Rear Admiral Grace Hopper](https://en.wikipedia.org/wiki/Grace_Hopper) -- inventor of the first compiler)"
   ]
  },
  {
   "cell_type": "code",
   "execution_count": 1,
   "metadata": {
    "collapsed": false
   },
   "outputs": [
    {
     "name": "stdout",
     "output_type": "stream",
     "text": [
      "From then on, when anything went wrong with a computer, we said it had bugs in it.\n",
      "\n",
      "If it's a good idea, go ahead and do it. It's much easier to apologize than it is to get permission.\n",
      "\n",
      "It is often easier to ask for forgiveness than to ask for permission.\n",
      "\n",
      "The most dangerous phrase in the language is, \"We have always done it this way.\"\n",
      "\n",
      "Humans are allergic to change. They love to say, \"We have always done it this way.\" I try to fight that. That's why I have a clock on my wall that runs counter-clockwise.\n",
      "\n",
      "A ship in port is safe, but that is not what ships are for. Sail out to sea and do new things.\n",
      "\n",
      "You don't manage people, you manage things. You lead people.\n",
      "\n",
      "Leadership is a two-way street, loyalty up and loyalty down. Respect for one's superiors; care for one's crew.\n",
      "\n",
      "One accurate measurement is worth a thousand expert opinions.\n",
      "\n",
      "I have always objected to doing anything over again if I had already done it once. \n",
      "\n",
      "Some day, on the corporate balance sheet, there will be an entry which reads, \"Information\"; for in most cases, the information is more valuable than the hardware which processes it.\n",
      "\n",
      "We are flooding people with information. We need to feed it through a processor. A human must turn information into intelligence or knowledge. We have tended to forget that no computer will ever ask a new question.\n",
      "\n",
      "There sat that beautiful big machine whose sole job was to copy things and do addition. Why not make the computer do it? That's why I sat down and wrote the first compiler. It was very stupid. What I did was watch myself put together a program and make the computer do what I did. \n",
      "\n",
      "To me programming is more than an important practical art. It is also a gigantic undertaking in the foundations of knowledge.\n",
      "\n",
      "They told me computers could only do arithmetic.\n",
      "\n",
      "In pioneer days they used oxen for heavy pulling, and when one ox couldn't budge a log, they didn't try to grow a larger ox. We shouldn't be trying for bigger computers, but for more systems of computers.\n",
      "\n"
     ]
    }
   ],
   "source": [
    "# First lets observe how we can loop through each line of the file\n",
    "filename = 'gracehopperquotes.txt'\n",
    "for line in open(filename, 'r'):\n",
    "    print(line)\n"
   ]
  },
  {
   "cell_type": "markdown",
   "metadata": {},
   "source": [
    "## We can make a list out of the file using a loop too"
   ]
  },
  {
   "cell_type": "code",
   "execution_count": null,
   "metadata": {
    "collapsed": false
   },
   "outputs": [],
   "source": [
    "text = []\n",
    "for line in open(filename, 'r'):\n",
    "    text.append(line) # this appends each line in the text to the end of the text list\n",
    "print(text)"
   ]
  },
  {
   "cell_type": "markdown",
   "metadata": {},
   "source": [
    "## But now it has all those pesky '\\n' characters in there! \n",
    "Those are new line characters that tell the computer a new line is starting. \n",
    "\n",
    "How can we get those out?"
   ]
  },
  {
   "cell_type": "code",
   "execution_count": null,
   "metadata": {
    "collapsed": false
   },
   "outputs": [],
   "source": [
    "# loop through the items in the list\n",
    "for i in range(len(text)):\n",
    "    # i will loop through a list of numbers exactly as long as the number of items in text\n",
    "    # so we can access each line by subscripting text with i\n",
    "    # then we can use a string method replace('thing I want to get rid of;, 'thing I want to put in its place')\n",
    "    # I could use .strip() here as well\n",
    "    text[i] = text[i].replace('\\n', '')\n",
    "print(text)"
   ]
  },
  {
   "cell_type": "markdown",
   "metadata": {},
   "source": [
    "# More string methods\n",
    "\n",
    "Some more methods that come in handy are upper(), and lower()\n",
    "One reason you might want to use them is it helps find things \n",
    "no matter how they are capitalized\n",
    "\n"
   ]
  },
  {
   "cell_type": "code",
   "execution_count": null,
   "metadata": {
    "collapsed": false
   },
   "outputs": [],
   "source": [
    "for i in range(len(text)):\n",
    "    if 'bug' in text[i].lower():\n",
    "        print(text[i])"
   ]
  },
  {
   "cell_type": "markdown",
   "metadata": {},
   "source": [
    "## Make some lists of your own\n",
    "### 1) Make 1 list with all the quotes with the word \"programming\""
   ]
  },
  {
   "cell_type": "code",
   "execution_count": null,
   "metadata": {
    "collapsed": true
   },
   "outputs": [],
   "source": [
    "programming = []\n",
    "# now use a loop to go through and test each line if the word you want is in it, then append it to your list"
   ]
  },
  {
   "cell_type": "markdown",
   "metadata": {},
   "source": [
    " I only found one quote! What about you?\n",
    " \n",
    "### 2) Now make a list with all the quotes that have 'humans' or 'people' or 'everyone' to get all of Grace's thoughts on people"
   ]
  },
  {
   "cell_type": "code",
   "execution_count": null,
   "metadata": {
    "collapsed": true
   },
   "outputs": [],
   "source": [
    "people = []\n",
    "# now use a loop to go through and test each line if the word you want is in it, then append it to your list"
   ]
  },
  {
   "cell_type": "markdown",
   "metadata": {},
   "source": [
    "Now I got 3 quotes! (Hint: use len() to find out how many)\n",
    "\n",
    "### Make a few more lists of your own!"
   ]
  },
  {
   "cell_type": "markdown",
   "metadata": {},
   "source": [
    "### Now lets look at another file that has some numbers and text\n",
    "#### This is a shopping list that is set up like this:\n",
    "#### Item Number Price/each\n",
    "* Item is a string\n",
    "* Number is an integer\n",
    "* Price/each is a float"
   ]
  },
  {
   "cell_type": "code",
   "execution_count": null,
   "metadata": {
    "collapsed": false
   },
   "outputs": [],
   "source": [
    "filename = 'shoppinglist.txt'\n",
    "for line in open(filename, 'r'):\n",
    "    print(line)"
   ]
  },
  {
   "cell_type": "markdown",
   "metadata": {},
   "source": [
    "## Now lets fill up three different lists with each of these pieces of information"
   ]
  },
  {
   "cell_type": "code",
   "execution_count": null,
   "metadata": {
    "collapsed": false,
    "scrolled": true
   },
   "outputs": [],
   "source": [
    "# Heres some hints before we work on that\n",
    "five = '5' # this is a string!\n",
    "print(five + five) # addition doesnt work! because these are strings + just pushes these two strings together"
   ]
  },
  {
   "cell_type": "code",
   "execution_count": null,
   "metadata": {
    "collapsed": false,
    "scrolled": false
   },
   "outputs": [],
   "source": [
    "# We can \"cast\" a type onto a variable and convert it into the type we want\n",
    "reallyfive = int(five)\n",
    "print(reallyfive + reallyfive)"
   ]
  },
  {
   "cell_type": "code",
   "execution_count": null,
   "metadata": {
    "collapsed": true
   },
   "outputs": [],
   "source": [
    "# some more type casting\n",
    "notafloat = '256.3'\n",
    "reallyafloat = float(notafloat)"
   ]
  },
  {
   "cell_type": "code",
   "execution_count": null,
   "metadata": {
    "collapsed": false
   },
   "outputs": [],
   "source": [
    "# A useful method for strings is split(). If you give it no arguments it splits on the whitespace\n",
    "alongstring = 'This string has several words and a number 7'\n",
    "alist = alongstring.split()\n",
    "print(alist)"
   ]
  },
  {
   "cell_type": "code",
   "execution_count": null,
   "metadata": {
    "collapsed": false
   },
   "outputs": [],
   "source": [
    "#Now we can subscript to get individual items, and then cast them to a different type!\n",
    "seven = int(alist[-1])\n",
    "print(seven*seven)"
   ]
  },
  {
   "cell_type": "code",
   "execution_count": null,
   "metadata": {
    "collapsed": false
   },
   "outputs": [],
   "source": [
    "items = []\n",
    "numtoget = []\n",
    "price = []\n",
    "for line in open(filename, 'r'):\n",
    "       # Your code goes here\n",
    "        \n"
   ]
  },
  {
   "cell_type": "markdown",
   "metadata": {},
   "source": [
    "## Make decisions and calculations\n",
    "\n",
    "### So say I want to go buy everything EXCEPT the tarantulas and the peanuts. \n",
    "### How much is that all going to cost me? \n",
    "*(who put the tarantulas on the list anway?)*"
   ]
  },
  {
   "cell_type": "code",
   "execution_count": null,
   "metadata": {
    "collapsed": false
   },
   "outputs": [],
   "source": [
    "total = 0\n",
    "for i in range(len(items)):\n",
    "    thing = items[i].lower()\n",
    "    if thing != 'tarantulas':\n",
    "        if thing != 'peanuts':\n",
    "            #calculate the cost of getting the number of things at this index times the price/each"
   ]
  },
  {
   "cell_type": "markdown",
   "metadata": {},
   "source": [
    "I got 2,755$ bucks!\n",
    "\n",
    "## Geez, that's way too much. What if I only want at most 25 of any single item?\n",
    "(still no peanuts or tarantuals please)\n",
    "\n",
    "*(So go through and test for the tarantuals and peanuts again, then test the numtoget[i] and if it is over 25, only get 25, otherwise just get the number asked for.)*"
   ]
  },
  {
   "cell_type": "code",
   "execution_count": null,
   "metadata": {
    "collapsed": true
   },
   "outputs": [],
   "source": [
    "# your code goes here"
   ]
  },
  {
   "cell_type": "markdown",
   "metadata": {},
   "source": [
    "505$ That's still alot, but it's more reasonable. I guess I'll go with that.\n",
    "\n"
   ]
  },
  {
   "cell_type": "code",
   "execution_count": null,
   "metadata": {
    "collapsed": true
   },
   "outputs": [],
   "source": [
    "# All done!\n",
    "import comp116\n",
    "comp116.submit('ws9')"
   ]
  }
 ],
 "metadata": {
  "anaconda-cloud": {},
  "kernelspec": {
   "display_name": "Python [Root]",
   "language": "python",
   "name": "Python [Root]"
  },
  "language_info": {
   "codemirror_mode": {
    "name": "ipython",
    "version": 3
   },
   "file_extension": ".py",
   "mimetype": "text/x-python",
   "name": "python",
   "nbconvert_exporter": "python",
   "pygments_lexer": "ipython3",
   "version": "3.5.2"
  }
 },
 "nbformat": 4,
 "nbformat_minor": 1
}
