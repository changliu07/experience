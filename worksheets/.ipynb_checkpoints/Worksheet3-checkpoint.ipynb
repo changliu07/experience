{
 "cells": [
  {
   "cell_type": "markdown",
   "metadata": {},
   "source": [
    "# Worksheet #3"
   ]
  },
  {
   "cell_type": "markdown",
   "metadata": {},
   "source": [
    "### Lets read in some data from the Durham Public Library from 2001...\n"
   ]
  },
  {
   "cell_type": "code",
   "execution_count": null,
   "metadata": {
    "collapsed": false
   },
   "outputs": [],
   "source": [
    "# Here we import the numpy module and pylab and get access to all those great tools\n",
    "%matplotlib inline\n",
    "import comp116\n",
    "import numpy as np\n",
    "import pylab\n",
    "# First we are going to read in some data from a file\n",
    "csv = np.genfromtxt('library-borrowers-by-type.csv', delimiter=',')"
   ]
  },
  {
   "cell_type": "markdown",
   "metadata": {},
   "source": [
    "The columns of this csv file represent the following values:\n",
    "\n",
    "        Month\t    Adult_Patrons\t    Child_Patrons     \tComputer_Uses\t   Non_Resident_Patrons\t \n",
    "      "
   ]
  },
  {
   "cell_type": "code",
   "execution_count": null,
   "metadata": {
    "collapsed": false
   },
   "outputs": [],
   "source": [
    "# To make things easier we will split this up into seperate arrays with each type of data\n",
    "# We can do this by slicing the csv array\n",
    "months = csv[:, 0]\n",
    "# That took the first element (remember we start counting at 0 in python) from all the rows\n",
    "# I'll do one more as an example\n",
    "adults = csv[:, 1]"
   ]
  },
  {
   "cell_type": "markdown",
   "metadata": {
    "collapsed": false
   },
   "source": [
    "## Can you make the rest of the arrays?\n",
    "i.e. Make three more arrays called:\n",
    "\n",
    "\"children\" for the child patron data,\n",
    "\n",
    "\"comp_uses\" for the computer uses data,\n",
    "\n",
    "and \"non_res\" for the non-resident patron data \n",
    "\n",
    "by slicing the csv array appropriatly\n",
    "like we did for the adults and children\n"
   ]
  },
  {
   "cell_type": "code",
   "execution_count": null,
   "metadata": {
    "collapsed": false
   },
   "outputs": [],
   "source": [
    "# your code goes here\n",
    "children = csv[:,2]\n",
    "C"
   ]
  },
  {
   "cell_type": "markdown",
   "metadata": {},
   "source": [
    "### Okay, now lets find out which month  is most popular for kids\n",
    "\n",
    "In a sense we can think about the numpy \"methods\" like functions in math.\n",
    "\n",
    "So say there is a function $f(x)$ that takes in an array and returns the *index* of the maximum value...\n",
    "\n",
    "That could be useful!\n",
    "\n",
    "And there is, and we can call it by typing: **np.argmax(*name of your array here*)**"
   ]
  },
  {
   "cell_type": "code",
   "execution_count": null,
   "metadata": {
    "collapsed": false,
    "scrolled": true
   },
   "outputs": [],
   "source": [
    "# I am going to find out the month where there were the most children counted\n",
    "# Run this cell to see the answer\n",
    "# You will have needed to name your array for the child patrons data 'children'\n",
    "\n",
    "mostPopupularKidMonth = months[np.argmax(children)]\n",
    "print(mostPopupularKidMonth)"
   ]
  },
  {
   "cell_type": "markdown",
   "metadata": {},
   "source": [
    "Looks like the fifth month, May, was the winner!\n",
    "\n",
    "Similarly there is a method called np.argmin()\n",
    "\n",
    "### Can you find out which month had the least number of computer uses?"
   ]
  },
  {
   "cell_type": "code",
   "execution_count": null,
   "metadata": {
    "collapsed": false
   },
   "outputs": [],
   "source": [
    "#your code goes here\n"
   ]
  },
  {
   "cell_type": "markdown",
   "metadata": {},
   "source": [
    "I got the 12th month, December, is that what you got?\n",
    "\n",
    "Okay, now exactly how many visits did children make to the library in the most popular month?\n",
    "\n",
    "Maybe you can use **np.max()**\n",
    "\n",
    "*np.max(x) returns the maximum value in the array x*"
   ]
  },
  {
   "cell_type": "code",
   "execution_count": null,
   "metadata": {
    "collapsed": false
   },
   "outputs": [],
   "source": []
  },
  {
   "cell_type": "markdown",
   "metadata": {},
   "source": [
    "I got 50,312. Is that what you got?\n",
    "\n",
    "### So how many total children and adults went to the library in March?\n",
    "\n",
    "*Remember while march is the 3rd month, it's index is 2 since we count from 0 in python!*"
   ]
  },
  {
   "cell_type": "code",
   "execution_count": null,
   "metadata": {
    "collapsed": false
   },
   "outputs": [],
   "source": []
  },
  {
   "cell_type": "markdown",
   "metadata": {},
   "source": [
    "I got 179,794. What about you?"
   ]
  },
  {
   "cell_type": "markdown",
   "metadata": {},
   "source": [
    "## Numpy has some more useful functions\n",
    "\n",
    "Let's try np.max(). Say you had an array x, you can sum up all the elements in that array and assign it to a varaible called total_x and then print it out by doing this:\n",
    "```\n",
    "total_x = np.sum(x)\n",
    "print(total_x)\n",
    "```\n",
    "### So how many total visits did adults and children make to the library during 2001?"
   ]
  },
  {
   "cell_type": "code",
   "execution_count": null,
   "metadata": {
    "collapsed": false
   },
   "outputs": [],
   "source": []
  },
  {
   "cell_type": "markdown",
   "metadata": {},
   "source": [
    "I got 212,6261. What about you?"
   ]
  },
  {
   "cell_type": "markdown",
   "metadata": {},
   "source": [
    "## Now lets make some graphs. \n",
    "##### Here is a graph with green dots of the child patrons per month:"
   ]
  },
  {
   "cell_type": "code",
   "execution_count": null,
   "metadata": {
    "collapsed": false
   },
   "outputs": [],
   "source": [
    "# Run this cell to see the graph\n",
    "# You will have needed to name your array for the child patrons data 'children'\n",
    "pylab.plot(children, '.g')"
   ]
  },
  {
   "cell_type": "markdown",
   "metadata": {
    "collapsed": false
   },
   "source": [
    "# Now you try\n",
    "\n",
    "Here is a website that tells you about differnt markers you can use:\n",
    "http://matplotlib.org/api/markers_api.html\n",
    "\n",
    "Try graphing some of the other data!"
   ]
  },
  {
   "cell_type": "code",
   "execution_count": null,
   "metadata": {
    "collapsed": false
   },
   "outputs": [],
   "source": [
    "# Your code goes here. You can insert as many cells as you would like to graph different things!"
   ]
  },
  {
   "cell_type": "code",
   "execution_count": null,
   "metadata": {
    "collapsed": false
   },
   "outputs": [],
   "source": []
  },
  {
   "cell_type": "markdown",
   "metadata": {},
   "source": [
    "### You can submit your code by running the cell below"
   ]
  },
  {
   "cell_type": "code",
   "execution_count": null,
   "metadata": {
    "collapsed": true
   },
   "outputs": [],
   "source": [
    "# do not change the code below\n",
    "comp116.submit('ws3')"
   ]
  }
 ],
 "metadata": {
  "anaconda-cloud": {},
  "kernelspec": {
   "display_name": "Python [Root]",
   "language": "python",
   "name": "Python [Root]"
  },
  "language_info": {
   "codemirror_mode": {
    "name": "ipython",
    "version": 3
   },
   "file_extension": ".py",
   "mimetype": "text/x-python",
   "name": "python",
   "nbconvert_exporter": "python",
   "pygments_lexer": "ipython3",
   "version": "3.5.2"
  }
 },
 "nbformat": 4,
 "nbformat_minor": 1
}
