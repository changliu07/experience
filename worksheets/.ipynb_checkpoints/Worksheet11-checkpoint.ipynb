{
 "cells": [
  {
   "cell_type": "markdown",
   "metadata": {},
   "source": [
    "# Worksheet  11 #\n",
    "Midterm 1 with emphasis on functions"
   ]
  },
  {
   "cell_type": "code",
   "execution_count": 1,
   "metadata": {
    "collapsed": false
   },
   "outputs": [],
   "source": [
    "%matplotlib inline\n",
    "import numpy as np\n",
    "import pylab"
   ]
  },
  {
   "cell_type": "markdown",
   "metadata": {},
   "source": [
    "# Data\n",
    "You are given two datasets consisting of measured rainfall in inches at several stations scattered across North Carolina. There is a column for each station and a row for each day. That is, a 10 by 4 array represents 10 days with data at 4 stations for each day."
   ]
  },
  {
   "cell_type": "code",
   "execution_count": 2,
   "metadata": {
    "collapsed": false
   },
   "outputs": [],
   "source": [
    "site1 = np.array([ [ 35.3,  55. ,  93. ,   9.9],\n",
    "                   [ 13.9,  34.9,  49.3,  37.7],\n",
    "                   [ 47.2,   2.2,  15.7,  96.2],\n",
    "                   [  8.9,  91.7,  12.3,  86. ],\n",
    "                   [ 32.4,   6.7,  53.1,  93.3]  ])\n",
    "\n",
    "site2 = np.array([ [ 24. ,  67.9,  16.7,   9.7,  18.8],\n",
    "                   [ 60.4,  47.3,  44.2,  57. ,  47. ],\n",
    "                   [ 50.4,  38.6,  60. ,  42.9,  69.2],\n",
    "                   [ 63.4,  35.5,  10.9,   4. ,  28. ],\n",
    "                   [  7.4,  42.6,  62.6,  39.1,   0.9],\n",
    "                   [ 57.6,  13.8,  25.2,  27. ,  34.5]])"
   ]
  },
  {
   "cell_type": "markdown",
   "metadata": {},
   "source": [
    "## Questions\n",
    "You must create functions for each question that will analyze site1 and site2. They have a different number of days and stations. Thus, you will not be able to assume the number of stations or days in your code. "
   ]
  },
  {
   "cell_type": "markdown",
   "metadata": {},
   "source": [
    "## 1. How many numbers are in the arrays?\n",
    "Create a funciton called \"f1\" that will return the amount of numbers in an array. I will show you number 1 as a guide for the other questions."
   ]
  },
  {
   "cell_type": "code",
   "execution_count": 3,
   "metadata": {
    "collapsed": false
   },
   "outputs": [
    {
     "name": "stdout",
     "output_type": "stream",
     "text": [
      "20\n",
      "30\n"
     ]
    }
   ],
   "source": [
    "#You don't have to change anything in this cell. It's just to show you how it's done. \n",
    "\n",
    "#Define f1 here \n",
    "\n",
    "def f1(dataSet):\n",
    "    '''Finds the amound of numbers in a data set'''\n",
    "    return np.product(dataSet.shape)\n",
    "\n",
    "#I will call the funciton on both sites\n",
    "print(str(f1(site1)) + \"\\n\" + str(f1(site2)))"
   ]
  },
  {
   "cell_type": "markdown",
   "metadata": {},
   "source": [
    "I got 20 and 30 respectively"
   ]
  },
  {
   "cell_type": "markdown",
   "metadata": {},
   "source": [
    "## 2. What was the total rainfall for each day?\n",
    "Create a function called \"f2\" that will return an array representing the total rainfall for each day."
   ]
  },
  {
   "cell_type": "code",
   "execution_count": 4,
   "metadata": {
    "collapsed": false
   },
   "outputs": [
    {
     "name": "stdout",
     "output_type": "stream",
     "text": [
      "[ 193.2  135.8  161.3  198.9  185.5]\n",
      "[ 137.1  255.9  261.1  141.8  152.6  158.1]\n"
     ]
    }
   ],
   "source": [
    "def f2(A):\n",
    "    return np.sum(A, axis=1)#Define f2 here\n",
    "\n",
    "\n",
    "\n",
    "\n",
    "#I will call the funciton on both sites\n",
    "print(str(f2(site1)) + \"\\n\" + str(f2(site2)))"
   ]
  },
  {
   "cell_type": "markdown",
   "metadata": {},
   "source": [
    "I got [ 193.2,   135.8,   161.3,   198.9,   185.5] and [ 137.1,  255.9,  261.1,  141.8,  152.6,  158.1] respectively"
   ]
  },
  {
   "cell_type": "markdown",
   "metadata": {},
   "source": [
    "## 3. Which station had the highest total rainfall?\n",
    "Create a funciton called \"f3\" that will return the number of the station with the highest total rainfall."
   ]
  },
  {
   "cell_type": "code",
   "execution_count": null,
   "metadata": {
    "collapsed": false
   },
   "outputs": [],
   "source": [
    "#Define f3 here\n",
    "\n",
    "\n",
    "\n",
    "\n",
    "#I will call the funciton on both sites\n",
    "print(str(f3(site1)) + \"\\n\" + str(f3(site2)))"
   ]
  },
  {
   "cell_type": "markdown",
   "metadata": {},
   "source": [
    "I got station 3 and station 0 respectively"
   ]
  },
  {
   "cell_type": "markdown",
   "metadata": {},
   "source": [
    "## 4. Which station had the lowest rainfall on a single day?\n",
    "Create a funciton called \"f4\" that will return the number of the station with the lowest rainfall on a single day."
   ]
  },
  {
   "cell_type": "code",
   "execution_count": null,
   "metadata": {
    "collapsed": false
   },
   "outputs": [],
   "source": [
    "#Define f4 here\n",
    "\n",
    "\n",
    "\n",
    "\n",
    "#I will call the funciton on both sites\n",
    "print(str(f4(site1)) + \"\\n\" + str(f4(site2)))"
   ]
  },
  {
   "cell_type": "markdown",
   "metadata": {},
   "source": [
    "I got station 1 and station 4 respectively"
   ]
  },
  {
   "cell_type": "markdown",
   "metadata": {},
   "source": [
    "## 5. Which rows have a total rainfall above 190?\n",
    "Create a function called \"f5\" that returns a new array. This array will only have data from rows of rain for where the total is above 190. "
   ]
  },
  {
   "cell_type": "code",
   "execution_count": null,
   "metadata": {
    "collapsed": false
   },
   "outputs": [],
   "source": [
    "#Define f5 here\n",
    "\n",
    "\n",
    "\n",
    "\n",
    "#I will call the funciton on both sites\n",
    "print(str(f5(site1)) + \"\\n\\n\" + str(f5(site2)))"
   ]
  },
  {
   "cell_type": "markdown",
   "metadata": {},
   "source": [
    "I got [[ 35.3,  55. ,  93. ,   9.9],  [  8.9,  91.7,  12.3,  86. ]] for site1 and [[ 60.4,  47.3,  44.2,  57.,   47.],[ 50.4,  38.6,  60.,   42.9,  69.2]] for site2"
   ]
  },
  {
   "cell_type": "markdown",
   "metadata": {},
   "source": [
    "## 6. What are the rainfall amounts for all stations on the day with the lowest total rainfall?\n",
    "Create a function called \"f6\" that returns a 1D array with the values for all stations on the day that the minimum occurred."
   ]
  },
  {
   "cell_type": "code",
   "execution_count": null,
   "metadata": {
    "collapsed": false
   },
   "outputs": [],
   "source": [
    "#Define f6 here\n",
    "\n",
    "\n",
    "\n",
    "\n",
    "#I will call the funciton on both sites\n",
    "print(str(f6(site1)) + \"\\n\" + str(f6(site2)))"
   ]
  },
  {
   "cell_type": "markdown",
   "metadata": {},
   "source": [
    "I got [ 13.9,  34.9,  49.3,  37.7] and [ 24.,   67.9,  16.7,   9.7,  18.8] respectively"
   ]
  },
  {
   "cell_type": "markdown",
   "metadata": {},
   "source": [
    "## 7. What was the total rainfall on odd numbered days?\n",
    "Create a funciton called \"f7\" that returns the total rainfall of the odd numbered days."
   ]
  },
  {
   "cell_type": "code",
   "execution_count": null,
   "metadata": {
    "collapsed": false
   },
   "outputs": [],
   "source": [
    "#Define f7 here\n",
    "\n",
    "\n",
    "\n",
    "\n",
    "#I will call the funciton on both sites\n",
    "print(str(f7(site1)) + \"\\n\" + str(f7(site2)))"
   ]
  },
  {
   "cell_type": "markdown",
   "metadata": {},
   "source": [
    "I got 334.7 and 555.8 respectively"
   ]
  },
  {
   "cell_type": "markdown",
   "metadata": {},
   "source": [
    "## Done!"
   ]
  },
  {
   "cell_type": "code",
   "execution_count": null,
   "metadata": {
    "collapsed": true
   },
   "outputs": [],
   "source": [
    "import comp116\n",
    "comp116.submit('ws11')"
   ]
  },
  {
   "cell_type": "code",
   "execution_count": null,
   "metadata": {
    "collapsed": true
   },
   "outputs": [],
   "source": []
  }
 ],
 "metadata": {
  "kernelspec": {
   "display_name": "Python [Root]",
   "language": "python",
   "name": "Python [Root]"
  },
  "language_info": {
   "codemirror_mode": {
    "name": "ipython",
    "version": 3
   },
   "file_extension": ".py",
   "mimetype": "text/x-python",
   "name": "python",
   "nbconvert_exporter": "python",
   "pygments_lexer": "ipython3",
   "version": "3.5.2"
  }
 },
 "nbformat": 4,
 "nbformat_minor": 0
}
