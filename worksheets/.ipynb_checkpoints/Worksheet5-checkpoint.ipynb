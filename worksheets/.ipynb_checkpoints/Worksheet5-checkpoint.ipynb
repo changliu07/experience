{
 "cells": [
  {
   "cell_type": "markdown",
   "metadata": {},
   "source": [
    "# Worksheet #5\n",
    "\n",
    "More Operations on Arrays\n"
   ]
  },
  {
   "cell_type": "code",
   "execution_count": 1,
   "metadata": {
    "collapsed": true
   },
   "outputs": [],
   "source": [
    "# the usual necessities\n",
    "\n",
    "%matplotlib inline\n",
    "import numpy as np\n",
    "import pylab"
   ]
  },
  {
   "cell_type": "markdown",
   "metadata": {
    "collapsed": true
   },
   "source": [
    "Each value in the array below (pictures) represents the number of pictures an individual who went on a three week trip to Japan took during the duration of that trip."
   ]
  },
  {
   "cell_type": "code",
   "execution_count": 2,
   "metadata": {
    "collapsed": false
   },
   "outputs": [
    {
     "data": {
      "text/plain": [
       "array([233, 689, 382, 561,  65, 920, 318, 596, 256, 500, 638, 881, 753,\n",
       "       902, 256, 857,  32, 645, 348, 994, 183, 728, 507, 231, 238, 581,\n",
       "       700, 762, 984, 428, 253, 329, 417, 662, 994, 450,  34, 657, 202,\n",
       "       805, 732, 744, 856, 758, 664, 670, 570, 444, 489, 451, 369, 461,\n",
       "       685, 494, 332, 939, 843, 410, 749, 949,  29, 145, 561, 783, 309,\n",
       "       406, 435,  63,  50, 936, 779, 426, 110, 155, 211, 764,  53,  35,\n",
       "       207, 798, 214, 501, 513, 773, 178, 659, 186, 274, 721, 731, 757,\n",
       "        94, 847, 155, 510, 763, 243, 430, 406, 220, 757, 338, 410, 537,\n",
       "       553, 973, 446, 436, 220, 231, 835, 814, 865, 965, 978,  17, 324,\n",
       "       406, 264, 532, 835, 438,   5, 271, 852,  61, 366, 954, 719, 839,\n",
       "       832,  50, 459, 277, 940, 962, 196, 153, 881, 179, 568, 919, 496,\n",
       "       928, 954, 923, 992, 519, 465, 784, 113,  19, 505, 842, 299,  38,\n",
       "       971, 521, 169, 563, 373, 278, 786, 510, 433, 844, 303, 327, 116,\n",
       "       684, 356, 608, 185, 763, 447, 329, 291, 825,  18,  94, 831, 780,\n",
       "       661, 628, 751, 960, 628,  40, 122, 962, 418, 340, 455, 578, 807,\n",
       "       451, 544, 636, 124, 434, 450,  24, 787, 983, 742, 501, 565, 419,\n",
       "       665, 454, 110, 202, 639, 869, 873, 659, 892, 149, 640, 429, 664,\n",
       "       125, 884, 408, 994,  72, 575, 546, 702, 338, 759, 177, 930, 452,\n",
       "       357, 610,  52, 848, 122, 900])"
      ]
     },
     "execution_count": 2,
     "metadata": {},
     "output_type": "execute_result"
    }
   ],
   "source": [
    "pictures = np.array([233, 689, 382, 561,  65, 920, 318, 596, 256, 500, 638, 881, 753,\n",
    "       902, 256, 857,  32, 645, 348, 994, 183, 728, 507, 231, 238, 581,\n",
    "       700, 762, 984, 428, 253, 329, 417, 662, 994, 450,  34, 657, 202,\n",
    "       805, 732, 744, 856, 758, 664, 670, 570, 444, 489, 451, 369, 461,\n",
    "       685, 494, 332, 939, 843, 410, 749, 949,  29, 145, 561, 783, 309,\n",
    "       406, 435,  63,  50, 936, 779, 426, 110, 155, 211, 764,  53,  35,\n",
    "       207, 798, 214, 501, 513, 773, 178, 659, 186, 274, 721, 731, 757,\n",
    "        94, 847, 155, 510, 763, 243, 430, 406, 220, 757, 338, 410, 537,\n",
    "       553, 973, 446, 436, 220, 231, 835, 814, 865, 965, 978,  17, 324,\n",
    "       406, 264, 532, 835, 438,   5, 271, 852,  61, 366, 954, 719, 839,\n",
    "       832,  50, 459, 277, 940, 962, 196, 153, 881, 179, 568, 919, 496,\n",
    "       928, 954, 923, 992, 519, 465, 784, 113,  19, 505, 842, 299,  38,\n",
    "       971, 521, 169, 563, 373, 278, 786, 510, 433, 844, 303, 327, 116,\n",
    "       684, 356, 608, 185, 763, 447, 329, 291, 825,  18,  94, 831, 780,\n",
    "       661, 628, 751, 960, 628,  40, 122, 962, 418, 340, 455, 578, 807,\n",
    "       451, 544, 636, 124, 434, 450,  24, 787, 983, 742, 501, 565, 419,\n",
    "       665, 454, 110, 202, 639, 869, 873, 659, 892, 149, 640, 429, 664,\n",
    "       125, 884, 408, 994,  72, 575, 546, 702, 338, 759, 177, 930, 452,\n",
    "       357, 610,  52, 848, 122, 900])\n",
    "pictures"
   ]
  },
  {
   "cell_type": "markdown",
   "metadata": {},
   "source": [
    "# 1. How many people took more than 300 photos during their trip?"
   ]
  },
  {
   "cell_type": "code",
   "execution_count": 4,
   "metadata": {
    "collapsed": false
   },
   "outputs": [
    {
     "data": {
      "text/plain": [
       "176"
      ]
     },
     "execution_count": 4,
     "metadata": {},
     "output_type": "execute_result"
    }
   ],
   "source": [
    "np.count_nonzero(pictures > 300)"
   ]
  },
  {
   "cell_type": "markdown",
   "metadata": {},
   "source": [
    "I got 176."
   ]
  },
  {
   "cell_type": "markdown",
   "metadata": {},
   "source": [
    "# 2. How many people took less photos than the average?"
   ]
  },
  {
   "cell_type": "code",
   "execution_count": 5,
   "metadata": {
    "collapsed": false
   },
   "outputs": [
    {
     "data": {
      "text/plain": [
       "124"
      ]
     },
     "execution_count": 5,
     "metadata": {},
     "output_type": "execute_result"
    }
   ],
   "source": [
    "AveragePictures = np.mean(pictures)\n",
    "np.count_nonzero(pictures < AveragePictures)"
   ]
  },
  {
   "cell_type": "markdown",
   "metadata": {},
   "source": [
    "I got 124."
   ]
  },
  {
   "cell_type": "markdown",
   "metadata": {
    "collapsed": false
   },
   "source": [
    "# 3. In actuality, each set of 20 people was in a tour bus group during the trip.  Convert this array into a 2D array where each row is the tour group that person was in and each column is the seat that person sat in on the tour bus. To check, how many tour groups were there?"
   ]
  },
  {
   "cell_type": "code",
   "execution_count": 18,
   "metadata": {
    "collapsed": false
   },
   "outputs": [
    {
     "data": {
      "text/plain": [
       "(12, 20)"
      ]
     },
     "execution_count": 18,
     "metadata": {},
     "output_type": "execute_result"
    }
   ],
   "source": [
    "TourGroups= np.reshape(pictures,(12,20))\n",
    "TourGroups.shape"
   ]
  },
  {
   "cell_type": "markdown",
   "metadata": {
    "collapsed": false
   },
   "source": [
    "I got 12 tour groups. Make sure you actually change the shape of your array to be two dimensional. (12,20)"
   ]
  },
  {
   "cell_type": "markdown",
   "metadata": {},
   "source": [
    "# 4. What was the greatest number of photos taken by any one group?"
   ]
  },
  {
   "cell_type": "code",
   "execution_count": 19,
   "metadata": {
    "collapsed": false
   },
   "outputs": [
    {
     "data": {
      "text/plain": [
       "12609"
      ]
     },
     "execution_count": 19,
     "metadata": {},
     "output_type": "execute_result"
    }
   ],
   "source": [
    "np.max(np.sum(TourGroups, axis=1))"
   ]
  },
  {
   "cell_type": "markdown",
   "metadata": {
    "collapsed": false
   },
   "source": [
    "I got 12609."
   ]
  },
  {
   "cell_type": "markdown",
   "metadata": {},
   "source": [
    "# 5. What was the average number of photos taken by people sitting in the third seat of the tour bus?"
   ]
  },
  {
   "cell_type": "code",
   "execution_count": 20,
   "metadata": {
    "collapsed": false
   },
   "outputs": [
    {
     "data": {
      "text/plain": [
       "570.66666666666663"
      ]
     },
     "execution_count": 20,
     "metadata": {},
     "output_type": "execute_result"
    }
   ],
   "source": [
    "np.mean(TourGroups[:,2])"
   ]
  },
  {
   "cell_type": "markdown",
   "metadata": {},
   "source": [
    "I got about 571. Hint: Remember that python arrays start indexing at 0 and not 1!"
   ]
  },
  {
   "cell_type": "markdown",
   "metadata": {},
   "source": [
    "# 6. How many groups took more than 10,000 photos?"
   ]
  },
  {
   "cell_type": "code",
   "execution_count": 21,
   "metadata": {
    "collapsed": false
   },
   "outputs": [
    {
     "data": {
      "text/plain": [
       "9"
      ]
     },
     "execution_count": 21,
     "metadata": {},
     "output_type": "execute_result"
    }
   ],
   "source": [
    "LotsOfPictures = np.sum(TourGroups, axis=1)> 10000\n",
    "len(TourGroups[LotsOfPictures])"
   ]
  },
  {
   "cell_type": "markdown",
   "metadata": {
    "collapsed": true
   },
   "source": [
    "I got 9 groups."
   ]
  },
  {
   "cell_type": "markdown",
   "metadata": {},
   "source": [
    "Submit your notebook below"
   ]
  },
  {
   "cell_type": "code",
   "execution_count": 22,
   "metadata": {
    "collapsed": false
   },
   "outputs": [
    {
     "data": {
      "text/html": [
       "\n",
       "<p>Click the button below to submit your assignment. Watch for a confirmation message\n",
       "that your notebook was successfully uploaded. You may submit as often as you wish,\n",
       "only the last submission will count.</p>\n",
       "<button id=\"submitButton116\">Submit this notebook</button>\n",
       "<p id=\"submitResponse116\"></p>\n",
       "<script>\n",
       "var site = 'https://wwwx.cs.unc.edu/Courses/comp116-001-f16/';\n",
       "$('#submitButton116').on('click', function() {\n",
       "    var site = 'https://wwwx.cs.unc.edu/Courses/comp116-001-f16/',\n",
       "        $sresp = $('#submitResponse116'),\n",
       "        button = $('#submitButton116');\n",
       "    button.prop('disabled', true);\n",
       "    // wait until save is complete before pushing the notebook\n",
       "    $([IPython.events]).one('notebook_saved.Notebook', function() {\n",
       "        // get the token by logging in\n",
       "        $sresp.html('logging in');\n",
       "        $.ajax({\n",
       "            url: site + 'io/token/token.cgi',\n",
       "            dataType: 'jsonp'\n",
       "        }).done(function(data) {\n",
       "            var notebook = IPython.notebook.notebook_name,\n",
       "                uuid = data.token,\n",
       "                command = \"comp116.pushNotebook('\" + notebook + \"', '\" + uuid + \"')\",\n",
       "                kernel = IPython.notebook.kernel,\n",
       "                handler = function (out) {\n",
       "                    $('#comp116-stop-message').show();\n",
       "                    if (out.content.status == \"ok\") {\n",
       "                        $sresp.html(\"Successfully submitted \" + notebook);\n",
       "                        $('#comp116-stop-message').hide();\n",
       "                    } else if(out.content.status == \"error\") {\n",
       "                        $sresp.html(out.content.ename + \": \" + out.content.evalue);\n",
       "                    } else { // if output is something we haven't thought of\n",
       "                        $sresp.html(\"[out type not implemented]\")\n",
       "                    }\n",
       "                    button.prop('disabled', false);\n",
       "                };\n",
       "            $sresp.html('Submitting');\n",
       "            kernel.execute(command, {shell: { reply: handler }});\n",
       "        }).fail(function() {\n",
       "            $sresp.html('Login failed');\n",
       "            button.prop('disabled', false);\n",
       "        });\n",
       "    });\n",
       "    // trigger the save\n",
       "    $sresp.html('Saving');\n",
       "    IPython.notebook.save_notebook();\n",
       "});"
      ],
      "text/plain": [
       "<IPython.core.display.HTML object>"
      ]
     },
     "execution_count": 22,
     "metadata": {},
     "output_type": "execute_result"
    }
   ],
   "source": [
    "import comp116\n",
    "comp116.submit('ws5')"
   ]
  },
  {
   "cell_type": "code",
   "execution_count": null,
   "metadata": {
    "collapsed": true
   },
   "outputs": [],
   "source": []
  }
 ],
 "metadata": {
  "anaconda-cloud": {},
  "kernelspec": {
   "display_name": "Python [Root]",
   "language": "python",
   "name": "Python [Root]"
  },
  "language_info": {
   "codemirror_mode": {
    "name": "ipython",
    "version": 3
   },
   "file_extension": ".py",
   "mimetype": "text/x-python",
   "name": "python",
   "nbconvert_exporter": "python",
   "pygments_lexer": "ipython3",
   "version": "3.5.2"
  }
 },
 "nbformat": 4,
 "nbformat_minor": 0
}
