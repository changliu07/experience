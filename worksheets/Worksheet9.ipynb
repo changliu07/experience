{
 "cells": [
  {
   "cell_type": "markdown",
   "metadata": {},
   "source": [
    "## Let's read in some text and learn about tools available for working with strings\n",
    "(these are some choice quotes from [Rear Admiral Grace Hopper](https://en.wikipedia.org/wiki/Grace_Hopper) -- inventor of the first compiler)"
   ]
  },
  {
   "cell_type": "code",
   "execution_count": 1,
   "metadata": {
    "collapsed": false
   },
   "outputs": [
    {
     "name": "stdout",
     "output_type": "stream",
     "text": [
      "From then on, when anything went wrong with a computer, we said it had bugs in it.\n",
      "\n",
      "If it's a good idea, go ahead and do it. It's much easier to apologize than it is to get permission.\n",
      "\n",
      "It is often easier to ask for forgiveness than to ask for permission.\n",
      "\n",
      "The most dangerous phrase in the language is, \"We have always done it this way.\"\n",
      "\n",
      "Humans are allergic to change. They love to say, \"We have always done it this way.\" I try to fight that. That's why I have a clock on my wall that runs counter-clockwise.\n",
      "\n",
      "A ship in port is safe, but that is not what ships are for. Sail out to sea and do new things.\n",
      "\n",
      "You don't manage people, you manage things. You lead people.\n",
      "\n",
      "Leadership is a two-way street, loyalty up and loyalty down. Respect for one's superiors; care for one's crew.\n",
      "\n",
      "One accurate measurement is worth a thousand expert opinions.\n",
      "\n",
      "I have always objected to doing anything over again if I had already done it once. \n",
      "\n",
      "Some day, on the corporate balance sheet, there will be an entry which reads, \"Information\"; for in most cases, the information is more valuable than the hardware which processes it.\n",
      "\n",
      "We are flooding people with information. We need to feed it through a processor. A human must turn information into intelligence or knowledge. We have tended to forget that no computer will ever ask a new question.\n",
      "\n",
      "There sat that beautiful big machine whose sole job was to copy things and do addition. Why not make the computer do it? That's why I sat down and wrote the first compiler. It was very stupid. What I did was watch myself put together a program and make the computer do what I did. \n",
      "\n",
      "To me programming is more than an important practical art. It is also a gigantic undertaking in the foundations of knowledge.\n",
      "\n",
      "They told me computers could only do arithmetic.\n",
      "\n",
      "In pioneer days they used oxen for heavy pulling, and when one ox couldn't budge a log, they didn't try to grow a larger ox. We shouldn't be trying for bigger computers, but for more systems of computers.\n",
      "\n"
     ]
    }
   ],
   "source": [
    "# First lets observe how we can loop through each line of the file\n",
    "filename = 'gracehopperquotes.txt'\n",
    "for line in open(filename, 'r'):\n",
    "    print(line)\n"
   ]
  },
  {
   "cell_type": "markdown",
   "metadata": {},
   "source": [
    "## We can make a list out of the file using a loop too"
   ]
  },
  {
   "cell_type": "code",
   "execution_count": 2,
   "metadata": {
    "collapsed": false
   },
   "outputs": [
    {
     "name": "stdout",
     "output_type": "stream",
     "text": [
      "['From then on, when anything went wrong with a computer, we said it had bugs in it.\\n', \"If it's a good idea, go ahead and do it. It's much easier to apologize than it is to get permission.\\n\", 'It is often easier to ask for forgiveness than to ask for permission.\\n', 'The most dangerous phrase in the language is, \"We have always done it this way.\"\\n', 'Humans are allergic to change. They love to say, \"We have always done it this way.\" I try to fight that. That\\'s why I have a clock on my wall that runs counter-clockwise.\\n', 'A ship in port is safe, but that is not what ships are for. Sail out to sea and do new things.\\n', \"You don't manage people, you manage things. You lead people.\\n\", \"Leadership is a two-way street, loyalty up and loyalty down. Respect for one's superiors; care for one's crew.\\n\", 'One accurate measurement is worth a thousand expert opinions.\\n', 'I have always objected to doing anything over again if I had already done it once. \\n', 'Some day, on the corporate balance sheet, there will be an entry which reads, \"Information\"; for in most cases, the information is more valuable than the hardware which processes it.\\n', 'We are flooding people with information. We need to feed it through a processor. A human must turn information into intelligence or knowledge. We have tended to forget that no computer will ever ask a new question.\\n', \"There sat that beautiful big machine whose sole job was to copy things and do addition. Why not make the computer do it? That's why I sat down and wrote the first compiler. It was very stupid. What I did was watch myself put together a program and make the computer do what I did. \\n\", 'To me programming is more than an important practical art. It is also a gigantic undertaking in the foundations of knowledge.\\n', 'They told me computers could only do arithmetic.\\n', \"In pioneer days they used oxen for heavy pulling, and when one ox couldn't budge a log, they didn't try to grow a larger ox. We shouldn't be trying for bigger computers, but for more systems of computers.\\n\"]\n"
     ]
    }
   ],
   "source": [
    "text = []\n",
    "for line in open(filename, 'r'):\n",
    "    text.append(line) # this appends each line in the text to the end of the text list\n",
    "print(text)"
   ]
  },
  {
   "cell_type": "markdown",
   "metadata": {},
   "source": [
    "## But now it has all those pesky '\\n' characters in there! \n",
    "Those are new line characters that tell the computer a new line is starting. \n",
    "\n",
    "How can we get those out?"
   ]
  },
  {
   "cell_type": "code",
   "execution_count": 3,
   "metadata": {
    "collapsed": false
   },
   "outputs": [
    {
     "name": "stdout",
     "output_type": "stream",
     "text": [
      "['From then on, when anything went wrong with a computer, we said it had bugs in it.', \"If it's a good idea, go ahead and do it. It's much easier to apologize than it is to get permission.\", 'It is often easier to ask for forgiveness than to ask for permission.', 'The most dangerous phrase in the language is, \"We have always done it this way.\"', 'Humans are allergic to change. They love to say, \"We have always done it this way.\" I try to fight that. That\\'s why I have a clock on my wall that runs counter-clockwise.', 'A ship in port is safe, but that is not what ships are for. Sail out to sea and do new things.', \"You don't manage people, you manage things. You lead people.\", \"Leadership is a two-way street, loyalty up and loyalty down. Respect for one's superiors; care for one's crew.\", 'One accurate measurement is worth a thousand expert opinions.', 'I have always objected to doing anything over again if I had already done it once. ', 'Some day, on the corporate balance sheet, there will be an entry which reads, \"Information\"; for in most cases, the information is more valuable than the hardware which processes it.', 'We are flooding people with information. We need to feed it through a processor. A human must turn information into intelligence or knowledge. We have tended to forget that no computer will ever ask a new question.', \"There sat that beautiful big machine whose sole job was to copy things and do addition. Why not make the computer do it? That's why I sat down and wrote the first compiler. It was very stupid. What I did was watch myself put together a program and make the computer do what I did. \", 'To me programming is more than an important practical art. It is also a gigantic undertaking in the foundations of knowledge.', 'They told me computers could only do arithmetic.', \"In pioneer days they used oxen for heavy pulling, and when one ox couldn't budge a log, they didn't try to grow a larger ox. We shouldn't be trying for bigger computers, but for more systems of computers.\"]\n"
     ]
    }
   ],
   "source": [
    "# loop through the items in the list\n",
    "for i in range(len(text)):\n",
    "    # i will loop through a list of numbers exactly as long as the number of items in text\n",
    "    # so we can access each line by subscripting text with i\n",
    "    # then we can use a string method replace('thing I want to get rid of;, 'thing I want to put in its place')\n",
    "    # I could use .strip() here as well\n",
    "    text[i] = text[i].replace('\\n', '')\n",
    "print(text)"
   ]
  },
  {
   "cell_type": "markdown",
   "metadata": {},
   "source": [
    "# More string methods\n",
    "\n",
    "Some more methods that come in handy are upper(), and lower()\n",
    "One reason you might want to use them is it helps find things \n",
    "no matter how they are capitalized\n",
    "\n"
   ]
  },
  {
   "cell_type": "code",
   "execution_count": 4,
   "metadata": {
    "collapsed": false
   },
   "outputs": [
    {
     "name": "stdout",
     "output_type": "stream",
     "text": [
      "From then on, when anything went wrong with a computer, we said it had bugs in it.\n"
     ]
    }
   ],
   "source": [
    "for i in range(len(text)):\n",
    "    if 'bug' in text[i].lower():\n",
    "        print(text[i])"
   ]
  },
  {
   "cell_type": "markdown",
   "metadata": {},
   "source": [
    "## Make some lists of your own\n",
    "### 1) Make 1 list with all the quotes with the word \"programming\""
   ]
  },
  {
   "cell_type": "code",
   "execution_count": 6,
   "metadata": {
    "collapsed": false
   },
   "outputs": [
    {
     "name": "stdout",
     "output_type": "stream",
     "text": [
      "['To me programming is more than an important practical art. It is also a gigantic undertaking in the foundations of knowledge.']\n"
     ]
    }
   ],
   "source": [
    "programming = []\n",
    "for i in range(len(text)):\n",
    "    if 'programming' in text[i].lower():\n",
    "        programming.append(text[i])\n",
    "print(programming)\n",
    "# now use a loop to go through and test each line if the word you want is in it, then append it to your list"
   ]
  },
  {
   "cell_type": "markdown",
   "metadata": {},
   "source": [
    " I only found one quote! What about you?\n",
    " \n",
    "### 2) Now make a list with all the quotes that have 'humans' or 'people' or 'everyone' to get all of Grace's thoughts on people"
   ]
  },
  {
   "cell_type": "code",
   "execution_count": 13,
   "metadata": {
    "collapsed": false
   },
   "outputs": [
    {
     "data": {
      "text/plain": [
       "3"
      ]
     },
     "execution_count": 13,
     "metadata": {},
     "output_type": "execute_result"
    }
   ],
   "source": [
    "people = []\n",
    "for i in range(len(text)):\n",
    "    if 'humans' in text[i].lower():\n",
    "        people.append(text[i])\n",
    "    elif 'people' in text[i].lower():\n",
    "        people.append(text[i])\n",
    "    elif 'everyone' in text[i].lower():\n",
    "        people.append(text[i])\n",
    "len(people)\n",
    "# now use a loop to go through and test each line if the word you want is in it, then append it to your list"
   ]
  },
  {
   "cell_type": "markdown",
   "metadata": {},
   "source": [
    "Now I got 3 quotes! (Hint: use len() to find out how many)\n",
    "\n",
    "### Make a few more lists of your own!"
   ]
  },
  {
   "cell_type": "markdown",
   "metadata": {},
   "source": [
    "### Now lets look at another file that has some numbers and text\n",
    "#### This is a shopping list that is set up like this:\n",
    "#### Item Number Price/each\n",
    "* Item is a string\n",
    "* Number is an integer\n",
    "* Price/each is a float"
   ]
  },
  {
   "cell_type": "code",
   "execution_count": 14,
   "metadata": {
    "collapsed": false
   },
   "outputs": [
    {
     "name": "stdout",
     "output_type": "stream",
     "text": [
      "Apples     100 2.0\n",
      "\n",
      "Oranges    20  4.0\n",
      "\n",
      "Kale       500 4.0\n",
      "\n",
      "Oatmeal    25  1.0\n",
      "\n",
      "Chicken    10  5.0\n",
      "\n",
      "Honey      50  8.0\n",
      "\n",
      "Tarantulas 2   3.0\n",
      "\n",
      "Peanuts    300 0.5\n",
      "\n"
     ]
    }
   ],
   "source": [
    "filename = 'shoppinglist.txt'\n",
    "for line in open(filename, 'r'):\n",
    "    print(line)"
   ]
  },
  {
   "cell_type": "markdown",
   "metadata": {},
   "source": [
    "## Now lets fill up three different lists with each of these pieces of information"
   ]
  },
  {
   "cell_type": "code",
   "execution_count": 15,
   "metadata": {
    "collapsed": false,
    "scrolled": true
   },
   "outputs": [
    {
     "name": "stdout",
     "output_type": "stream",
     "text": [
      "55\n"
     ]
    }
   ],
   "source": [
    "# Heres some hints before we work on that\n",
    "five = '5' # this is a string!\n",
    "print(five + five) # addition doesnt work! because these are strings + just pushes these two strings together"
   ]
  },
  {
   "cell_type": "code",
   "execution_count": 16,
   "metadata": {
    "collapsed": false,
    "scrolled": false
   },
   "outputs": [
    {
     "name": "stdout",
     "output_type": "stream",
     "text": [
      "10\n"
     ]
    }
   ],
   "source": [
    "# We can \"cast\" a type onto a variable and convert it into the type we want\n",
    "reallyfive = int(five)\n",
    "print(reallyfive + reallyfive)"
   ]
  },
  {
   "cell_type": "code",
   "execution_count": 18,
   "metadata": {
    "collapsed": false
   },
   "outputs": [
    {
     "data": {
      "text/plain": [
       "256.3"
      ]
     },
     "execution_count": 18,
     "metadata": {},
     "output_type": "execute_result"
    }
   ],
   "source": [
    "# some more type casting\n",
    "notafloat = '256.3'\n",
    "reallyafloat = float(notafloat)\n",
    "reallyafloat"
   ]
  },
  {
   "cell_type": "code",
   "execution_count": 19,
   "metadata": {
    "collapsed": false
   },
   "outputs": [
    {
     "name": "stdout",
     "output_type": "stream",
     "text": [
      "['This', 'string', 'has', 'several', 'words', 'and', 'a', 'number', '7']\n"
     ]
    }
   ],
   "source": [
    "# A useful method for strings is split(). If you give it no arguments it splits on the whitespace\n",
    "alongstring = 'This string has several words and a number 7'\n",
    "alist = alongstring.split()\n",
    "print(alist)"
   ]
  },
  {
   "cell_type": "code",
   "execution_count": 20,
   "metadata": {
    "collapsed": false
   },
   "outputs": [
    {
     "name": "stdout",
     "output_type": "stream",
     "text": [
      "49\n"
     ]
    }
   ],
   "source": [
    "#Now we can subscript to get individual items, and then cast them to a different type!\n",
    "seven = int(alist[-1])\n",
    "print(seven*seven)"
   ]
  },
  {
   "cell_type": "code",
   "execution_count": 22,
   "metadata": {
    "collapsed": false
   },
   "outputs": [
    {
     "name": "stdout",
     "output_type": "stream",
     "text": [
      "['Apples', 'Oranges', 'Kale', 'Oatmeal', 'Chicken', 'Honey', 'Tarantulas', 'Peanuts'] ['100', '20', '500', '25', '10', '50', '2', '300'] ['2.0', '4.0', '4.0', '1.0', '5.0', '8.0', '3.0', '0.5']\n"
     ]
    }
   ],
   "source": [
    "items = []\n",
    "numtoget = []\n",
    "price = []\n",
    "for line in open(filename, 'r'):\n",
    "    linelist= line.split()\n",
    "    items.append(linelist[0])\n",
    "    numtoget.append(linelist[1])\n",
    "    price.append(linelist[2])\n",
    "print(items, numtoget, price)\n",
    "       # Your code goes here\n",
    "        \n"
   ]
  },
  {
   "cell_type": "markdown",
   "metadata": {},
   "source": [
    "## Make decisions and calculations\n",
    "\n",
    "### So say I want to go buy everything EXCEPT the tarantulas and the peanuts. \n",
    "### How much is that all going to cost me? \n",
    "*(who put the tarantulas on the list anway?)*"
   ]
  },
  {
   "cell_type": "code",
   "execution_count": 25,
   "metadata": {
    "collapsed": false
   },
   "outputs": [
    {
     "data": {
      "text/plain": [
       "2755.0"
      ]
     },
     "execution_count": 25,
     "metadata": {},
     "output_type": "execute_result"
    }
   ],
   "source": [
    "total = 0\n",
    "for i in range(len(items)):\n",
    "    thing = items[i].lower()\n",
    "    if thing != 'tarantulas':\n",
    "        if thing != 'peanuts':\n",
    "            total= total + int(numtoget[i])*float(price[i])\n",
    "total\n",
    "            #calculate the cost of getting the number of things at this index times the price/each"
   ]
  },
  {
   "cell_type": "markdown",
   "metadata": {},
   "source": [
    "I got 2,755$ bucks!\n",
    "\n",
    "## Geez, that's way too much. What if I only want at most 25 of any single item?\n",
    "(still no peanuts or tarantuals please)\n",
    "\n",
    "*(So go through and test for the tarantuals and peanuts again, then test the numtoget[i] and if it is over 25, only get 25, otherwise just get the number asked for.)*"
   ]
  },
  {
   "cell_type": "code",
   "execution_count": 29,
   "metadata": {
    "collapsed": false
   },
   "outputs": [
    {
     "data": {
      "text/plain": [
       "505.0"
      ]
     },
     "execution_count": 29,
     "metadata": {},
     "output_type": "execute_result"
    }
   ],
   "source": [
    "total = 0\n",
    "for i in range(len(items)):\n",
    "    thing = items[i].lower()\n",
    "    if thing != 'tarantulas':\n",
    "        if thing != 'peanuts':\n",
    "            if int(numtoget[i]) <= 25:\n",
    "                total= total + int(numtoget[i])*float(price[i])\n",
    "            else:\n",
    "                total= total+ 25*float(price[i])\n",
    "total\n",
    "# your code goes here"
   ]
  },
  {
   "cell_type": "markdown",
   "metadata": {},
   "source": [
    "505$ That's still alot, but it's more reasonable. I guess I'll go with that.\n",
    "\n"
   ]
  },
  {
   "cell_type": "code",
   "execution_count": 30,
   "metadata": {
    "collapsed": false
   },
   "outputs": [
    {
     "data": {
      "text/html": [
       "\n",
       "<p>Click the button below to submit your assignment. Watch for a confirmation message\n",
       "that your notebook was successfully uploaded. You may submit as often as you wish,\n",
       "only the last submission will count.</p>\n",
       "<button id=\"submitButton116\">Submit this notebook</button>\n",
       "<p id=\"submitResponse116\"></p>\n",
       "<script>\n",
       "var site = 'https://wwwx.cs.unc.edu/Courses/comp116-001-f16/';\n",
       "$('#submitButton116').on('click', function() {\n",
       "    var site = 'https://wwwx.cs.unc.edu/Courses/comp116-001-f16/',\n",
       "        $sresp = $('#submitResponse116'),\n",
       "        button = $('#submitButton116');\n",
       "    button.prop('disabled', true);\n",
       "    // wait until save is complete before pushing the notebook\n",
       "    $([IPython.events]).one('notebook_saved.Notebook', function() {\n",
       "        // get the token by logging in\n",
       "        $sresp.html('logging in');\n",
       "        $.ajax({\n",
       "            url: site + 'io/token/token.cgi',\n",
       "            dataType: 'jsonp'\n",
       "        }).done(function(data) {\n",
       "            var notebook = IPython.notebook.notebook_name,\n",
       "                uuid = data.token,\n",
       "                command = \"comp116.pushNotebook('\" + notebook + \"', '\" + uuid + \"')\",\n",
       "                kernel = IPython.notebook.kernel,\n",
       "                handler = function (out) {\n",
       "                    $('#comp116-stop-message').show();\n",
       "                    if (out.content.status == \"ok\") {\n",
       "                        $sresp.html(\"Successfully submitted \" + notebook);\n",
       "                        $('#comp116-stop-message').hide();\n",
       "                    } else if(out.content.status == \"error\") {\n",
       "                        $sresp.html(out.content.ename + \": \" + out.content.evalue);\n",
       "                    } else { // if output is something we haven't thought of\n",
       "                        $sresp.html(\"[out type not implemented]\")\n",
       "                    }\n",
       "                    button.prop('disabled', false);\n",
       "                };\n",
       "            $sresp.html('Submitting');\n",
       "            kernel.execute(command, {shell: { reply: handler }});\n",
       "        }).fail(function() {\n",
       "            $sresp.html('Login failed');\n",
       "            button.prop('disabled', false);\n",
       "        });\n",
       "    });\n",
       "    // trigger the save\n",
       "    $sresp.html('Saving');\n",
       "    IPython.notebook.save_notebook();\n",
       "});"
      ],
      "text/plain": [
       "<IPython.core.display.HTML object>"
      ]
     },
     "execution_count": 30,
     "metadata": {},
     "output_type": "execute_result"
    }
   ],
   "source": [
    "# All done!\n",
    "import comp116\n",
    "comp116.submit('ws9')"
   ]
  },
  {
   "cell_type": "code",
   "execution_count": null,
   "metadata": {
    "collapsed": true
   },
   "outputs": [],
   "source": []
  }
 ],
 "metadata": {
  "anaconda-cloud": {},
  "kernelspec": {
   "display_name": "Python [Root]",
   "language": "python",
   "name": "Python [Root]"
  },
  "language_info": {
   "codemirror_mode": {
    "name": "ipython",
    "version": 3
   },
   "file_extension": ".py",
   "mimetype": "text/x-python",
   "name": "python",
   "nbconvert_exporter": "python",
   "pygments_lexer": "ipython3",
   "version": "3.5.2"
  }
 },
 "nbformat": 4,
 "nbformat_minor": 1
}
